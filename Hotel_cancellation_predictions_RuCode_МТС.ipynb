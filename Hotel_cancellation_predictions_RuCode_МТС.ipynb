{
 "cells": [
  {
   "cell_type": "markdown",
   "id": "830cd723",
   "metadata": {
    "id": "830cd723"
   },
   "source": [
    "# Импорты библиотек"
   ]
  },
  {
   "cell_type": "code",
   "execution_count": 1,
   "id": "9605b33c",
   "metadata": {
    "id": "9605b33c"
   },
   "outputs": [],
   "source": [
    "import warnings\n",
    "\n",
    "import matplotlib.pyplot as plt\n",
    "import numpy as np\n",
    "import optuna\n",
    "import pandas as pd\n",
    "import seaborn as sns\n",
    "import xgboost as xgb\n",
    "from prettytable import PrettyTable\n",
    "from scipy.stats import fisher_exact\n",
    "from scipy.stats.contingency import relative_risk\n",
    "from sklearn.metrics import f1_score\n",
    "from sklearn.model_selection import ShuffleSplit, cross_val_score, train_test_split\n",
    "\n",
    "warnings.filterwarnings(\"ignore\")\n",
    "\n",
    "pd.set_option(\"display.float_format\", \"{:.2f}\".format)"
   ]
  },
  {
   "cell_type": "markdown",
   "id": "b32b0b92",
   "metadata": {
    "id": "b32b0b92"
   },
   "source": [
    "# Описание данных"
   ]
  },
  {
   "cell_type": "markdown",
   "id": "caf19fa9",
   "metadata": {
    "id": "caf19fa9"
   },
   "source": [
    "**Описание задачи**\n",
    "\n",
    "Отелям важно понимать, какое из бронирований может быть отменено пользователем. Возможные плюсы для отеля:\n",
    "\n",
    "- **Оптимизация управления номерами**: Зная вероятность отмены бронирования заранее, отель может эффективнее управлять доступностью номеров. Например, можно предоставлять только часть номеров для онлайн-бронирований, чтобы минимизировать потери от отмены.\n",
    "- **Планирование ресурсов**: Зная, что определенное количество бронирований скорее всего будет отменено, отель может более точно планировать свои ресурсы, включая персонал, инвентарь и питание.\n",
    "- **Улучшение сервиса**: Предсказание отмены бронирования позволяет отелю своевременно связаться с гостем и предложить альтернативные варианты или скидки для удержания клиента. Это может помочь улучшить обслуживание и удовлетворенность клиентов."
   ]
  },
  {
   "cell_type": "markdown",
   "id": "0c640aa7",
   "metadata": {
    "id": "0c640aa7"
   },
   "source": [
    "**Задание**\n",
    "\n",
    "Используя данные о бронированиях и отелях, требуется построить модель классификации, предсказывающую отмену бронирования."
   ]
  },
  {
   "cell_type": "markdown",
   "id": "976722fe",
   "metadata": {
    "id": "976722fe"
   },
   "source": [
    "| Название столбца | Данные в столбце |\n",
    "| --- | --- |\n",
    "| service\\_id | Id бронирования |\n",
    "| service\\_date | Дата заказа бронирования |\n",
    "| service\\_checkin | Дата заезда в объект |\n",
    "| service\\_checkout | Дата выезда |\n",
    "| service\\_price | Стоимость бронирования |\n",
    "| service\\_child\\_cnt | Количество детей в бронировании |\n",
    "| service\\_people\\_cnt | Количество гостей (дети + взрослые) |\n",
    "| client\\_id | Id клиента |\n",
    "| client\\_segment | Сегмент клиента |\n",
    "| hotel\\_id | Id объекта |\n",
    "| country\\_name | Страна расположения объекта |\n",
    "| city\\_name | Город расположения объекта |\n",
    "| category\\_star | Количество звезд объекта (при наличии) |\n",
    "| hotel\\_type | Тип объекта |\n",
    "| hotel\\_seasonal | Флаг сезонности объекта |\n",
    "| room\\_category | Категория номера |\n",
    "| service\\_status | Последний статус бронирования: 0 - для выполненных заказов, 1 - для отмененных. |"
   ]
  },
  {
   "cell_type": "markdown",
   "id": "9b1a3b3d",
   "metadata": {
    "id": "9b1a3b3d"
   },
   "source": [
    "# Загрузка данных"
   ]
  },
  {
   "cell_type": "code",
   "execution_count": 2,
   "id": "8bf3bfb6",
   "metadata": {
    "id": "8bf3bfb6"
   },
   "outputs": [],
   "source": [
    "train = pd.read_csv(\"data/train.csv\")\n",
    "public_test = pd.read_csv(\"data/public_test.csv\")\n",
    "private_test = pd.read_csv(\"data/private_test.csv\")"
   ]
  },
  {
   "cell_type": "code",
   "execution_count": 3,
   "id": "e15ce6dd",
   "metadata": {
    "colab": {
     "base_uri": "https://localhost:8080/",
     "height": 244
    },
    "id": "e15ce6dd",
    "outputId": "b51e2552-bbc2-47f3-8433-b666461ed6b4"
   },
   "outputs": [
    {
     "data": {
      "text/html": [
       "<div>\n",
       "<style scoped>\n",
       "    .dataframe tbody tr th:only-of-type {\n",
       "        vertical-align: middle;\n",
       "    }\n",
       "\n",
       "    .dataframe tbody tr th {\n",
       "        vertical-align: top;\n",
       "    }\n",
       "\n",
       "    .dataframe thead th {\n",
       "        text-align: right;\n",
       "    }\n",
       "</style>\n",
       "<table border=\"1\" class=\"dataframe\">\n",
       "  <thead>\n",
       "    <tr style=\"text-align: right;\">\n",
       "      <th></th>\n",
       "      <th>service_id</th>\n",
       "      <th>service_date</th>\n",
       "      <th>service_checkin</th>\n",
       "      <th>service_checkout</th>\n",
       "      <th>service_price</th>\n",
       "      <th>service_child_cnt</th>\n",
       "      <th>service_people_cnt</th>\n",
       "      <th>client_id</th>\n",
       "      <th>client_segment</th>\n",
       "      <th>hotel_id</th>\n",
       "      <th>country_name</th>\n",
       "      <th>city_name</th>\n",
       "      <th>category_star</th>\n",
       "      <th>hotel_type</th>\n",
       "      <th>hotel_seasonal</th>\n",
       "      <th>room_category</th>\n",
       "      <th>service_status</th>\n",
       "    </tr>\n",
       "  </thead>\n",
       "  <tbody>\n",
       "    <tr>\n",
       "      <th>0</th>\n",
       "      <td>12528130</td>\n",
       "      <td>2016-12-28</td>\n",
       "      <td>2017-01-13</td>\n",
       "      <td>2017-01-20</td>\n",
       "      <td>78457.60</td>\n",
       "      <td>0.00</td>\n",
       "      <td>2.00</td>\n",
       "      <td>215314</td>\n",
       "      <td>b2bBusinessTravel</td>\n",
       "      <td>3538</td>\n",
       "      <td>Россия</td>\n",
       "      <td>NaN</td>\n",
       "      <td>5.00</td>\n",
       "      <td>hotel</td>\n",
       "      <td>0</td>\n",
       "      <td>70</td>\n",
       "      <td>0</td>\n",
       "    </tr>\n",
       "    <tr>\n",
       "      <th>1</th>\n",
       "      <td>12528139</td>\n",
       "      <td>2016-12-28</td>\n",
       "      <td>2017-01-16</td>\n",
       "      <td>2017-01-17</td>\n",
       "      <td>2395.80</td>\n",
       "      <td>0.00</td>\n",
       "      <td>1.00</td>\n",
       "      <td>210509</td>\n",
       "      <td>b2b2c</td>\n",
       "      <td>7695</td>\n",
       "      <td>Россия</td>\n",
       "      <td>Реутов</td>\n",
       "      <td>0.00</td>\n",
       "      <td>hotel</td>\n",
       "      <td>0</td>\n",
       "      <td>20</td>\n",
       "      <td>1</td>\n",
       "    </tr>\n",
       "    <tr>\n",
       "      <th>2</th>\n",
       "      <td>12528148</td>\n",
       "      <td>2016-12-28</td>\n",
       "      <td>2017-01-19</td>\n",
       "      <td>2017-01-23</td>\n",
       "      <td>10062.36</td>\n",
       "      <td>0.00</td>\n",
       "      <td>2.00</td>\n",
       "      <td>210509</td>\n",
       "      <td>b2b2c</td>\n",
       "      <td>36934</td>\n",
       "      <td>Россия</td>\n",
       "      <td>Санкт-Петербург</td>\n",
       "      <td>3.00</td>\n",
       "      <td>mini-hotel</td>\n",
       "      <td>0</td>\n",
       "      <td>50</td>\n",
       "      <td>0</td>\n",
       "    </tr>\n",
       "    <tr>\n",
       "      <th>3</th>\n",
       "      <td>12528157</td>\n",
       "      <td>2016-12-28</td>\n",
       "      <td>2016-12-31</td>\n",
       "      <td>2017-01-01</td>\n",
       "      <td>2332.00</td>\n",
       "      <td>0.00</td>\n",
       "      <td>2.00</td>\n",
       "      <td>213592</td>\n",
       "      <td>b2b2c</td>\n",
       "      <td>7107</td>\n",
       "      <td>Россия</td>\n",
       "      <td>Биробиджан</td>\n",
       "      <td>3.00</td>\n",
       "      <td>hotel</td>\n",
       "      <td>0</td>\n",
       "      <td>30</td>\n",
       "      <td>0</td>\n",
       "    </tr>\n",
       "    <tr>\n",
       "      <th>4</th>\n",
       "      <td>12528166</td>\n",
       "      <td>2016-12-28</td>\n",
       "      <td>2016-12-29</td>\n",
       "      <td>2016-12-30</td>\n",
       "      <td>2259.92</td>\n",
       "      <td>0.00</td>\n",
       "      <td>1.00</td>\n",
       "      <td>224181</td>\n",
       "      <td>b2bBusinessTravel</td>\n",
       "      <td>3966</td>\n",
       "      <td>Россия</td>\n",
       "      <td>Владивосток</td>\n",
       "      <td>0.00</td>\n",
       "      <td>hotel</td>\n",
       "      <td>0</td>\n",
       "      <td>30</td>\n",
       "      <td>0</td>\n",
       "    </tr>\n",
       "  </tbody>\n",
       "</table>\n",
       "</div>"
      ],
      "text/plain": [
       "   service_id service_date service_checkin service_checkout  service_price  \\\n",
       "0    12528130   2016-12-28      2017-01-13       2017-01-20       78457.60   \n",
       "1    12528139   2016-12-28      2017-01-16       2017-01-17        2395.80   \n",
       "2    12528148   2016-12-28      2017-01-19       2017-01-23       10062.36   \n",
       "3    12528157   2016-12-28      2016-12-31       2017-01-01        2332.00   \n",
       "4    12528166   2016-12-28      2016-12-29       2016-12-30        2259.92   \n",
       "\n",
       "   service_child_cnt  service_people_cnt  client_id     client_segment  \\\n",
       "0               0.00                2.00     215314  b2bBusinessTravel   \n",
       "1               0.00                1.00     210509              b2b2c   \n",
       "2               0.00                2.00     210509              b2b2c   \n",
       "3               0.00                2.00     213592              b2b2c   \n",
       "4               0.00                1.00     224181  b2bBusinessTravel   \n",
       "\n",
       "   hotel_id country_name        city_name  category_star  hotel_type  \\\n",
       "0      3538       Россия              NaN           5.00       hotel   \n",
       "1      7695       Россия           Реутов           0.00       hotel   \n",
       "2     36934       Россия  Санкт-Петербург           3.00  mini-hotel   \n",
       "3      7107       Россия       Биробиджан           3.00       hotel   \n",
       "4      3966       Россия      Владивосток           0.00       hotel   \n",
       "\n",
       "   hotel_seasonal  room_category  service_status  \n",
       "0               0             70               0  \n",
       "1               0             20               1  \n",
       "2               0             50               0  \n",
       "3               0             30               0  \n",
       "4               0             30               0  "
      ]
     },
     "execution_count": 3,
     "metadata": {},
     "output_type": "execute_result"
    }
   ],
   "source": [
    "train.head()"
   ]
  },
  {
   "cell_type": "code",
   "execution_count": 4,
   "id": "73c4e45c",
   "metadata": {
    "colab": {
     "base_uri": "https://localhost:8080/",
     "height": 206
    },
    "id": "73c4e45c",
    "outputId": "ca04e3d4-486f-4900-8697-e7181c01ed65"
   },
   "outputs": [
    {
     "data": {
      "text/html": [
       "<div>\n",
       "<style scoped>\n",
       "    .dataframe tbody tr th:only-of-type {\n",
       "        vertical-align: middle;\n",
       "    }\n",
       "\n",
       "    .dataframe tbody tr th {\n",
       "        vertical-align: top;\n",
       "    }\n",
       "\n",
       "    .dataframe thead th {\n",
       "        text-align: right;\n",
       "    }\n",
       "</style>\n",
       "<table border=\"1\" class=\"dataframe\">\n",
       "  <thead>\n",
       "    <tr style=\"text-align: right;\">\n",
       "      <th></th>\n",
       "      <th>service_id</th>\n",
       "      <th>service_date</th>\n",
       "      <th>service_checkin</th>\n",
       "      <th>service_checkout</th>\n",
       "      <th>service_price</th>\n",
       "      <th>service_child_cnt</th>\n",
       "      <th>service_people_cnt</th>\n",
       "      <th>client_id</th>\n",
       "      <th>client_segment</th>\n",
       "      <th>hotel_id</th>\n",
       "      <th>country_name</th>\n",
       "      <th>city_name</th>\n",
       "      <th>category_star</th>\n",
       "      <th>hotel_type</th>\n",
       "      <th>hotel_seasonal</th>\n",
       "      <th>room_category</th>\n",
       "    </tr>\n",
       "  </thead>\n",
       "  <tbody>\n",
       "    <tr>\n",
       "      <th>0</th>\n",
       "      <td>31793052</td>\n",
       "      <td>2019-07-20</td>\n",
       "      <td>2019-07-21</td>\n",
       "      <td>2019-07-22</td>\n",
       "      <td>4473.87</td>\n",
       "      <td>0.00</td>\n",
       "      <td>2.00</td>\n",
       "      <td>291090</td>\n",
       "      <td>b2b2c</td>\n",
       "      <td>55696</td>\n",
       "      <td>Россия</td>\n",
       "      <td>Белоозерский</td>\n",
       "      <td>4.00</td>\n",
       "      <td>hotel</td>\n",
       "      <td>0</td>\n",
       "      <td>50</td>\n",
       "    </tr>\n",
       "    <tr>\n",
       "      <th>1</th>\n",
       "      <td>31793057</td>\n",
       "      <td>2019-07-20</td>\n",
       "      <td>2019-08-01</td>\n",
       "      <td>2019-08-02</td>\n",
       "      <td>8000.00</td>\n",
       "      <td>0.00</td>\n",
       "      <td>2.00</td>\n",
       "      <td>275640</td>\n",
       "      <td>b2b2c</td>\n",
       "      <td>303839</td>\n",
       "      <td>Россия</td>\n",
       "      <td>Артыбаш</td>\n",
       "      <td>4.00</td>\n",
       "      <td>mini-hotel</td>\n",
       "      <td>0</td>\n",
       "      <td>30</td>\n",
       "    </tr>\n",
       "    <tr>\n",
       "      <th>2</th>\n",
       "      <td>31793062</td>\n",
       "      <td>2019-07-20</td>\n",
       "      <td>2019-07-23</td>\n",
       "      <td>2019-07-24</td>\n",
       "      <td>3360.00</td>\n",
       "      <td>0.00</td>\n",
       "      <td>2.00</td>\n",
       "      <td>1183838</td>\n",
       "      <td>b2c</td>\n",
       "      <td>301189</td>\n",
       "      <td>Россия</td>\n",
       "      <td>Кемерово</td>\n",
       "      <td>3.00</td>\n",
       "      <td>hotel</td>\n",
       "      <td>0</td>\n",
       "      <td>40</td>\n",
       "    </tr>\n",
       "    <tr>\n",
       "      <th>3</th>\n",
       "      <td>31793067</td>\n",
       "      <td>2019-07-20</td>\n",
       "      <td>2019-07-20</td>\n",
       "      <td>2019-07-21</td>\n",
       "      <td>1596.87</td>\n",
       "      <td>0.00</td>\n",
       "      <td>2.00</td>\n",
       "      <td>291090</td>\n",
       "      <td>b2b2c</td>\n",
       "      <td>13935</td>\n",
       "      <td>Россия</td>\n",
       "      <td>Уфа</td>\n",
       "      <td>0.00</td>\n",
       "      <td>hostel</td>\n",
       "      <td>0</td>\n",
       "      <td>20</td>\n",
       "    </tr>\n",
       "    <tr>\n",
       "      <th>4</th>\n",
       "      <td>31793072</td>\n",
       "      <td>2019-07-20</td>\n",
       "      <td>2019-07-20</td>\n",
       "      <td>2019-07-21</td>\n",
       "      <td>3300.00</td>\n",
       "      <td>2.00</td>\n",
       "      <td>6.00</td>\n",
       "      <td>275640</td>\n",
       "      <td>b2b2c</td>\n",
       "      <td>135769</td>\n",
       "      <td>Россия</td>\n",
       "      <td>Пролетарск</td>\n",
       "      <td>2.00</td>\n",
       "      <td>mini-hotel</td>\n",
       "      <td>0</td>\n",
       "      <td>40</td>\n",
       "    </tr>\n",
       "  </tbody>\n",
       "</table>\n",
       "</div>"
      ],
      "text/plain": [
       "   service_id service_date service_checkin service_checkout  service_price  \\\n",
       "0    31793052   2019-07-20      2019-07-21       2019-07-22        4473.87   \n",
       "1    31793057   2019-07-20      2019-08-01       2019-08-02        8000.00   \n",
       "2    31793062   2019-07-20      2019-07-23       2019-07-24        3360.00   \n",
       "3    31793067   2019-07-20      2019-07-20       2019-07-21        1596.87   \n",
       "4    31793072   2019-07-20      2019-07-20       2019-07-21        3300.00   \n",
       "\n",
       "   service_child_cnt  service_people_cnt  client_id client_segment  hotel_id  \\\n",
       "0               0.00                2.00     291090          b2b2c     55696   \n",
       "1               0.00                2.00     275640          b2b2c    303839   \n",
       "2               0.00                2.00    1183838            b2c    301189   \n",
       "3               0.00                2.00     291090          b2b2c     13935   \n",
       "4               2.00                6.00     275640          b2b2c    135769   \n",
       "\n",
       "  country_name     city_name  category_star  hotel_type  hotel_seasonal  \\\n",
       "0       Россия  Белоозерский           4.00       hotel               0   \n",
       "1       Россия       Артыбаш           4.00  mini-hotel               0   \n",
       "2       Россия      Кемерово           3.00       hotel               0   \n",
       "3       Россия           Уфа           0.00      hostel               0   \n",
       "4       Россия    Пролетарск           2.00  mini-hotel               0   \n",
       "\n",
       "   room_category  \n",
       "0             50  \n",
       "1             30  \n",
       "2             40  \n",
       "3             20  \n",
       "4             40  "
      ]
     },
     "execution_count": 4,
     "metadata": {},
     "output_type": "execute_result"
    }
   ],
   "source": [
    "public_test.head()"
   ]
  },
  {
   "cell_type": "code",
   "execution_count": 5,
   "id": "1a164ad0",
   "metadata": {},
   "outputs": [
    {
     "data": {
      "text/html": [
       "<div>\n",
       "<style scoped>\n",
       "    .dataframe tbody tr th:only-of-type {\n",
       "        vertical-align: middle;\n",
       "    }\n",
       "\n",
       "    .dataframe tbody tr th {\n",
       "        vertical-align: top;\n",
       "    }\n",
       "\n",
       "    .dataframe thead th {\n",
       "        text-align: right;\n",
       "    }\n",
       "</style>\n",
       "<table border=\"1\" class=\"dataframe\">\n",
       "  <thead>\n",
       "    <tr style=\"text-align: right;\">\n",
       "      <th></th>\n",
       "      <th>service_id</th>\n",
       "      <th>service_date</th>\n",
       "      <th>service_checkin</th>\n",
       "      <th>service_checkout</th>\n",
       "      <th>service_price</th>\n",
       "      <th>service_child_cnt</th>\n",
       "      <th>service_people_cnt</th>\n",
       "      <th>client_id</th>\n",
       "      <th>client_segment</th>\n",
       "      <th>hotel_id</th>\n",
       "      <th>country_name</th>\n",
       "      <th>city_name</th>\n",
       "      <th>category_star</th>\n",
       "      <th>hotel_type</th>\n",
       "      <th>hotel_seasonal</th>\n",
       "      <th>room_category</th>\n",
       "    </tr>\n",
       "  </thead>\n",
       "  <tbody>\n",
       "    <tr>\n",
       "      <th>0</th>\n",
       "      <td>34987577</td>\n",
       "      <td>2019-11-20</td>\n",
       "      <td>2019-12-09</td>\n",
       "      <td>2019-12-11</td>\n",
       "      <td>6148.00</td>\n",
       "      <td>0.00</td>\n",
       "      <td>1.00</td>\n",
       "      <td>248088</td>\n",
       "      <td>b2bBusinessTravel</td>\n",
       "      <td>6732</td>\n",
       "      <td>Россия</td>\n",
       "      <td>Воронеж</td>\n",
       "      <td>4.00</td>\n",
       "      <td>hotel</td>\n",
       "      <td>0</td>\n",
       "      <td>30</td>\n",
       "    </tr>\n",
       "    <tr>\n",
       "      <th>1</th>\n",
       "      <td>34987582</td>\n",
       "      <td>2019-11-20</td>\n",
       "      <td>2019-11-23</td>\n",
       "      <td>2019-11-27</td>\n",
       "      <td>12545.00</td>\n",
       "      <td>0.00</td>\n",
       "      <td>1.00</td>\n",
       "      <td>293169</td>\n",
       "      <td>b2bBusinessTravel</td>\n",
       "      <td>10528</td>\n",
       "      <td>Россия</td>\n",
       "      <td>Нижний Новгород</td>\n",
       "      <td>3.00</td>\n",
       "      <td>hotel</td>\n",
       "      <td>0</td>\n",
       "      <td>50</td>\n",
       "    </tr>\n",
       "    <tr>\n",
       "      <th>2</th>\n",
       "      <td>34987587</td>\n",
       "      <td>2019-11-20</td>\n",
       "      <td>2020-01-08</td>\n",
       "      <td>2020-01-09</td>\n",
       "      <td>2531.00</td>\n",
       "      <td>0.00</td>\n",
       "      <td>1.00</td>\n",
       "      <td>1004251</td>\n",
       "      <td>b2b2c</td>\n",
       "      <td>3819</td>\n",
       "      <td>Россия</td>\n",
       "      <td>Минеральные Воды</td>\n",
       "      <td>3.00</td>\n",
       "      <td>hotel</td>\n",
       "      <td>0</td>\n",
       "      <td>30</td>\n",
       "    </tr>\n",
       "    <tr>\n",
       "      <th>3</th>\n",
       "      <td>34987592</td>\n",
       "      <td>2019-11-20</td>\n",
       "      <td>2019-12-06</td>\n",
       "      <td>2019-12-18</td>\n",
       "      <td>31130.40</td>\n",
       "      <td>0.00</td>\n",
       "      <td>1.00</td>\n",
       "      <td>215314</td>\n",
       "      <td>b2bBusinessTravel</td>\n",
       "      <td>2317</td>\n",
       "      <td>Россия</td>\n",
       "      <td>Арсеньев</td>\n",
       "      <td>3.00</td>\n",
       "      <td>hotel</td>\n",
       "      <td>0</td>\n",
       "      <td>30</td>\n",
       "    </tr>\n",
       "    <tr>\n",
       "      <th>4</th>\n",
       "      <td>34987597</td>\n",
       "      <td>2019-11-20</td>\n",
       "      <td>2019-11-23</td>\n",
       "      <td>2019-11-26</td>\n",
       "      <td>8056.11</td>\n",
       "      <td>0.00</td>\n",
       "      <td>1.00</td>\n",
       "      <td>291090</td>\n",
       "      <td>b2b2c</td>\n",
       "      <td>16538</td>\n",
       "      <td>Россия</td>\n",
       "      <td>Смоленск</td>\n",
       "      <td>4.00</td>\n",
       "      <td>hotel</td>\n",
       "      <td>0</td>\n",
       "      <td>40</td>\n",
       "    </tr>\n",
       "  </tbody>\n",
       "</table>\n",
       "</div>"
      ],
      "text/plain": [
       "   service_id service_date service_checkin service_checkout  service_price  \\\n",
       "0    34987577   2019-11-20      2019-12-09       2019-12-11        6148.00   \n",
       "1    34987582   2019-11-20      2019-11-23       2019-11-27       12545.00   \n",
       "2    34987587   2019-11-20      2020-01-08       2020-01-09        2531.00   \n",
       "3    34987592   2019-11-20      2019-12-06       2019-12-18       31130.40   \n",
       "4    34987597   2019-11-20      2019-11-23       2019-11-26        8056.11   \n",
       "\n",
       "   service_child_cnt  service_people_cnt  client_id     client_segment  \\\n",
       "0               0.00                1.00     248088  b2bBusinessTravel   \n",
       "1               0.00                1.00     293169  b2bBusinessTravel   \n",
       "2               0.00                1.00    1004251              b2b2c   \n",
       "3               0.00                1.00     215314  b2bBusinessTravel   \n",
       "4               0.00                1.00     291090              b2b2c   \n",
       "\n",
       "   hotel_id country_name         city_name  category_star hotel_type  \\\n",
       "0      6732       Россия           Воронеж           4.00      hotel   \n",
       "1     10528       Россия   Нижний Новгород           3.00      hotel   \n",
       "2      3819       Россия  Минеральные Воды           3.00      hotel   \n",
       "3      2317       Россия          Арсеньев           3.00      hotel   \n",
       "4     16538       Россия          Смоленск           4.00      hotel   \n",
       "\n",
       "   hotel_seasonal  room_category  \n",
       "0               0             30  \n",
       "1               0             50  \n",
       "2               0             30  \n",
       "3               0             30  \n",
       "4               0             40  "
      ]
     },
     "execution_count": 5,
     "metadata": {},
     "output_type": "execute_result"
    }
   ],
   "source": [
    "private_test.head()"
   ]
  },
  {
   "cell_type": "markdown",
   "id": "22b19273",
   "metadata": {
    "id": "22b19273"
   },
   "source": [
    "# Поиск и обработка выбросов"
   ]
  },
  {
   "cell_type": "markdown",
   "id": "25c9776e",
   "metadata": {
    "id": "25c9776e"
   },
   "source": [
    "## Столбцы с датами"
   ]
  },
  {
   "cell_type": "markdown",
   "id": "912ec989",
   "metadata": {
    "id": "912ec989"
   },
   "source": [
    "Преобразуем данные в столбцах *service_date*, *service_checkin*, *service_checkout* к типу Timestamp"
   ]
  },
  {
   "cell_type": "code",
   "execution_count": 6,
   "id": "897a8823",
   "metadata": {
    "id": "897a8823"
   },
   "outputs": [],
   "source": [
    "dataframes = [train, public_test, private_test]\n",
    "columns_to_convert = [\"service_date\", \"service_checkin\", \"service_checkout\"]\n",
    "\n",
    "for df in dataframes:\n",
    "    df[columns_to_convert] = df[columns_to_convert].apply(pd.to_datetime)"
   ]
  },
  {
   "cell_type": "markdown",
   "id": "83637a01",
   "metadata": {
    "id": "83637a01"
   },
   "source": [
    "Исправим ошибки: дата бронирования позже даты заезда."
   ]
  },
  {
   "cell_type": "code",
   "execution_count": 7,
   "id": "48b8a9da",
   "metadata": {
    "id": "48b8a9da"
   },
   "outputs": [],
   "source": [
    "for df in dataframes:\n",
    "    df.loc[(df[\"service_date\"] > df[\"service_checkin\"]), \"service_date\"] = df[\n",
    "        \"service_checkin\"\n",
    "    ]"
   ]
  },
  {
   "cell_type": "markdown",
   "id": "f3b2c7fa",
   "metadata": {
    "id": "f3b2c7fa"
   },
   "source": [
    "Добавим несколько новых признаков: *length_of_stay*, *days_until_checkin*"
   ]
  },
  {
   "cell_type": "code",
   "execution_count": 8,
   "id": "b29179b6",
   "metadata": {
    "id": "b29179b6"
   },
   "outputs": [],
   "source": [
    "for df in dataframes:\n",
    "    df[\"length_of_stay\"] = (df[\"service_checkout\"] - df[\"service_checkin\"]).dt.days\n",
    "    df.loc[df[\"length_of_stay\"] == 0, \"length_of_stay\"] = 1\n",
    "    df[\"days_until_checkin\"] = (df[\"service_checkin\"] - df[\"service_date\"]).dt.days"
   ]
  },
  {
   "cell_type": "markdown",
   "id": "baf02fb7",
   "metadata": {
    "id": "baf02fb7"
   },
   "source": [
    "## Столбец *service_price*"
   ]
  },
  {
   "cell_type": "code",
   "execution_count": 9,
   "id": "1d2d297f",
   "metadata": {
    "colab": {
     "base_uri": "https://localhost:8080/"
    },
    "id": "1d2d297f",
    "outputId": "b7997483-3e49-447b-e5b5-dd00ea60f53b"
   },
   "outputs": [
    {
     "data": {
      "text/plain": [
       "count   2832810.00\n",
       "mean       9568.75\n",
       "std       13483.32\n",
       "min         -90.00\n",
       "25%        3230.00\n",
       "50%        5725.00\n",
       "75%       11138.00\n",
       "max     1976845.50\n",
       "Name: service_price, dtype: float64"
      ]
     },
     "execution_count": 9,
     "metadata": {},
     "output_type": "execute_result"
    }
   ],
   "source": [
    "train[\"service_price\"].describe()"
   ]
  },
  {
   "cell_type": "code",
   "execution_count": 10,
   "id": "8f7a753a",
   "metadata": {
    "colab": {
     "base_uri": "https://localhost:8080/"
    },
    "id": "8f7a753a",
    "outputId": "c27c967f-864f-478b-c146-74cc69bc01e4"
   },
   "outputs": [
    {
     "data": {
      "text/plain": [
       "count    607030.00\n",
       "mean      10243.83\n",
       "std       15652.05\n",
       "min           0.00\n",
       "25%        3261.00\n",
       "50%        5953.50\n",
       "75%       12000.00\n",
       "max     3321884.00\n",
       "Name: service_price, dtype: float64"
      ]
     },
     "execution_count": 10,
     "metadata": {},
     "output_type": "execute_result"
    }
   ],
   "source": [
    "public_test[\"service_price\"].describe()"
   ]
  },
  {
   "cell_type": "code",
   "execution_count": 11,
   "id": "6572edbc",
   "metadata": {},
   "outputs": [
    {
     "data": {
      "text/plain": [
       "count    607030.00\n",
       "mean      11292.64\n",
       "std       23102.03\n",
       "min           0.00\n",
       "25%        3392.00\n",
       "50%        6307.00\n",
       "75%       12800.56\n",
       "max     6835200.00\n",
       "Name: service_price, dtype: float64"
      ]
     },
     "execution_count": 11,
     "metadata": {},
     "output_type": "execute_result"
    }
   ],
   "source": [
    "private_test[\"service_price\"].describe()"
   ]
  },
  {
   "cell_type": "markdown",
   "id": "d2544ac1",
   "metadata": {
    "id": "d2544ac1"
   },
   "source": [
    "Отрицательные и нулевые стоимости бронирования заменим на NaN"
   ]
  },
  {
   "cell_type": "code",
   "execution_count": 12,
   "id": "bf53a6f7",
   "metadata": {
    "id": "bf53a6f7"
   },
   "outputs": [],
   "source": [
    "for df in dataframes:\n",
    "    df.loc[df[\"service_price\"] <= 0, \"service_price\"] = np.nan"
   ]
  },
  {
   "cell_type": "markdown",
   "id": "40cc8b86",
   "metadata": {
    "id": "40cc8b86"
   },
   "source": [
    "Введем новый признак *price_per_day_one_person*, перед этим избавимся от строк с пропусками в *service_child_cnt* и *service_people_cnt*"
   ]
  },
  {
   "cell_type": "code",
   "execution_count": 13,
   "id": "8631e1ae",
   "metadata": {
    "colab": {
     "base_uri": "https://localhost:8080/"
    },
    "id": "8631e1ae",
    "outputId": "780bef94-7fb1-4c4a-e30f-b9eb2cb9cb79"
   },
   "outputs": [
    {
     "data": {
      "text/plain": [
       "service_child_cnt     258\n",
       "service_people_cnt    258\n",
       "dtype: int64"
      ]
     },
     "execution_count": 13,
     "metadata": {},
     "output_type": "execute_result"
    }
   ],
   "source": [
    "train[[\"service_child_cnt\", \"service_people_cnt\"]].isna().sum()"
   ]
  },
  {
   "cell_type": "code",
   "execution_count": 14,
   "id": "1a0a4988",
   "metadata": {
    "colab": {
     "base_uri": "https://localhost:8080/"
    },
    "id": "1a0a4988",
    "outputId": "aa72eb0a-20f2-4378-fd01-28afa3106bf7"
   },
   "outputs": [
    {
     "data": {
      "text/plain": [
       "service_child_cnt     0\n",
       "service_people_cnt    0\n",
       "dtype: int64"
      ]
     },
     "execution_count": 14,
     "metadata": {},
     "output_type": "execute_result"
    }
   ],
   "source": [
    "public_test[[\"service_child_cnt\", \"service_people_cnt\"]].isna().sum()"
   ]
  },
  {
   "cell_type": "code",
   "execution_count": 15,
   "id": "8599928d",
   "metadata": {
    "colab": {
     "base_uri": "https://localhost:8080/"
    },
    "id": "8599928d",
    "outputId": "d440a4bd-454a-4d12-aea3-2ebbae9bf165"
   },
   "outputs": [
    {
     "data": {
      "text/plain": [
       "service_child_cnt     0\n",
       "service_people_cnt    0\n",
       "dtype: int64"
      ]
     },
     "execution_count": 15,
     "metadata": {},
     "output_type": "execute_result"
    }
   ],
   "source": [
    "private_test[[\"service_child_cnt\", \"service_people_cnt\"]].isna().sum()"
   ]
  },
  {
   "cell_type": "code",
   "execution_count": 16,
   "id": "aa4f3e17",
   "metadata": {
    "colab": {
     "base_uri": "https://localhost:8080/",
     "height": 73
    },
    "id": "aa4f3e17",
    "outputId": "98c0bf34-2c5b-45f2-b877-0a754dbd3a65"
   },
   "outputs": [
    {
     "data": {
      "text/html": [
       "<div>\n",
       "<style scoped>\n",
       "    .dataframe tbody tr th:only-of-type {\n",
       "        vertical-align: middle;\n",
       "    }\n",
       "\n",
       "    .dataframe tbody tr th {\n",
       "        vertical-align: top;\n",
       "    }\n",
       "\n",
       "    .dataframe thead th {\n",
       "        text-align: right;\n",
       "    }\n",
       "</style>\n",
       "<table border=\"1\" class=\"dataframe\">\n",
       "  <thead>\n",
       "    <tr style=\"text-align: right;\">\n",
       "      <th></th>\n",
       "      <th>service_id</th>\n",
       "      <th>service_date</th>\n",
       "      <th>service_checkin</th>\n",
       "      <th>service_checkout</th>\n",
       "      <th>service_price</th>\n",
       "      <th>service_child_cnt</th>\n",
       "      <th>service_people_cnt</th>\n",
       "      <th>client_id</th>\n",
       "      <th>client_segment</th>\n",
       "      <th>hotel_id</th>\n",
       "      <th>country_name</th>\n",
       "      <th>city_name</th>\n",
       "      <th>category_star</th>\n",
       "      <th>hotel_type</th>\n",
       "      <th>hotel_seasonal</th>\n",
       "      <th>room_category</th>\n",
       "      <th>service_status</th>\n",
       "      <th>length_of_stay</th>\n",
       "      <th>days_until_checkin</th>\n",
       "    </tr>\n",
       "  </thead>\n",
       "  <tbody>\n",
       "  </tbody>\n",
       "</table>\n",
       "</div>"
      ],
      "text/plain": [
       "Empty DataFrame\n",
       "Columns: [service_id, service_date, service_checkin, service_checkout, service_price, service_child_cnt, service_people_cnt, client_id, client_segment, hotel_id, country_name, city_name, category_star, hotel_type, hotel_seasonal, room_category, service_status, length_of_stay, days_until_checkin]\n",
       "Index: []"
      ]
     },
     "execution_count": 16,
     "metadata": {},
     "output_type": "execute_result"
    }
   ],
   "source": [
    "train.loc[train[\"service_child_cnt\"] > train[\"service_people_cnt\"]]"
   ]
  },
  {
   "cell_type": "code",
   "execution_count": 17,
   "id": "d051de09",
   "metadata": {
    "colab": {
     "base_uri": "https://localhost:8080/",
     "height": 444
    },
    "id": "d051de09",
    "outputId": "8e01b3dc-10da-400b-ef4c-d23ba4816d7e"
   },
   "outputs": [
    {
     "data": {
      "text/html": [
       "<div>\n",
       "<style scoped>\n",
       "    .dataframe tbody tr th:only-of-type {\n",
       "        vertical-align: middle;\n",
       "    }\n",
       "\n",
       "    .dataframe tbody tr th {\n",
       "        vertical-align: top;\n",
       "    }\n",
       "\n",
       "    .dataframe thead th {\n",
       "        text-align: right;\n",
       "    }\n",
       "</style>\n",
       "<table border=\"1\" class=\"dataframe\">\n",
       "  <thead>\n",
       "    <tr style=\"text-align: right;\">\n",
       "      <th></th>\n",
       "      <th>service_id</th>\n",
       "      <th>service_date</th>\n",
       "      <th>service_checkin</th>\n",
       "      <th>service_checkout</th>\n",
       "      <th>service_price</th>\n",
       "      <th>service_child_cnt</th>\n",
       "      <th>service_people_cnt</th>\n",
       "      <th>client_id</th>\n",
       "      <th>client_segment</th>\n",
       "      <th>hotel_id</th>\n",
       "      <th>country_name</th>\n",
       "      <th>city_name</th>\n",
       "      <th>category_star</th>\n",
       "      <th>hotel_type</th>\n",
       "      <th>hotel_seasonal</th>\n",
       "      <th>room_category</th>\n",
       "      <th>service_status</th>\n",
       "      <th>length_of_stay</th>\n",
       "      <th>days_until_checkin</th>\n",
       "    </tr>\n",
       "  </thead>\n",
       "  <tbody>\n",
       "    <tr>\n",
       "      <th>99266</th>\n",
       "      <td>13471664</td>\n",
       "      <td>2017-03-14</td>\n",
       "      <td>2017-03-19</td>\n",
       "      <td>2017-03-20</td>\n",
       "      <td>22680.90</td>\n",
       "      <td>NaN</td>\n",
       "      <td>NaN</td>\n",
       "      <td>263612</td>\n",
       "      <td>b2bBusinessTravel</td>\n",
       "      <td>6922</td>\n",
       "      <td>Россия</td>\n",
       "      <td>Новосибирск</td>\n",
       "      <td>5.00</td>\n",
       "      <td>hotel</td>\n",
       "      <td>0</td>\n",
       "      <td>30</td>\n",
       "      <td>1</td>\n",
       "      <td>1</td>\n",
       "      <td>5</td>\n",
       "    </tr>\n",
       "    <tr>\n",
       "      <th>475263</th>\n",
       "      <td>17079542</td>\n",
       "      <td>2017-10-03</td>\n",
       "      <td>2017-10-03</td>\n",
       "      <td>2017-10-04</td>\n",
       "      <td>2788.00</td>\n",
       "      <td>NaN</td>\n",
       "      <td>NaN</td>\n",
       "      <td>262343</td>\n",
       "      <td>b2bBusinessTravel</td>\n",
       "      <td>21621</td>\n",
       "      <td>Россия</td>\n",
       "      <td>Павловск</td>\n",
       "      <td>0.00</td>\n",
       "      <td>mini-hotel</td>\n",
       "      <td>0</td>\n",
       "      <td>30</td>\n",
       "      <td>1</td>\n",
       "      <td>1</td>\n",
       "      <td>0</td>\n",
       "    </tr>\n",
       "    <tr>\n",
       "      <th>492477</th>\n",
       "      <td>17247563</td>\n",
       "      <td>2017-09-28</td>\n",
       "      <td>2017-09-28</td>\n",
       "      <td>2017-10-01</td>\n",
       "      <td>16330.00</td>\n",
       "      <td>NaN</td>\n",
       "      <td>NaN</td>\n",
       "      <td>210179</td>\n",
       "      <td>b2bBusinessTravel</td>\n",
       "      <td>802</td>\n",
       "      <td>Россия</td>\n",
       "      <td>Якутск</td>\n",
       "      <td>4.00</td>\n",
       "      <td>hotel</td>\n",
       "      <td>0</td>\n",
       "      <td>30</td>\n",
       "      <td>0</td>\n",
       "      <td>3</td>\n",
       "      <td>0</td>\n",
       "    </tr>\n",
       "    <tr>\n",
       "      <th>498923</th>\n",
       "      <td>17310374</td>\n",
       "      <td>2017-10-15</td>\n",
       "      <td>2017-10-15</td>\n",
       "      <td>2017-10-18</td>\n",
       "      <td>7226.70</td>\n",
       "      <td>NaN</td>\n",
       "      <td>NaN</td>\n",
       "      <td>215314</td>\n",
       "      <td>b2bBusinessTravel</td>\n",
       "      <td>68037</td>\n",
       "      <td>Россия</td>\n",
       "      <td>Михайловка</td>\n",
       "      <td>0.00</td>\n",
       "      <td>mini-hotel</td>\n",
       "      <td>0</td>\n",
       "      <td>30</td>\n",
       "      <td>0</td>\n",
       "      <td>3</td>\n",
       "      <td>0</td>\n",
       "    </tr>\n",
       "    <tr>\n",
       "      <th>500107</th>\n",
       "      <td>17321813</td>\n",
       "      <td>2017-10-15</td>\n",
       "      <td>2017-10-15</td>\n",
       "      <td>2017-10-16</td>\n",
       "      <td>5720.00</td>\n",
       "      <td>NaN</td>\n",
       "      <td>NaN</td>\n",
       "      <td>206250</td>\n",
       "      <td>b2bTravelAgencies</td>\n",
       "      <td>1087</td>\n",
       "      <td>Россия</td>\n",
       "      <td>Челябинск</td>\n",
       "      <td>4.00</td>\n",
       "      <td>hotel</td>\n",
       "      <td>0</td>\n",
       "      <td>80</td>\n",
       "      <td>0</td>\n",
       "      <td>1</td>\n",
       "      <td>0</td>\n",
       "    </tr>\n",
       "    <tr>\n",
       "      <th>...</th>\n",
       "      <td>...</td>\n",
       "      <td>...</td>\n",
       "      <td>...</td>\n",
       "      <td>...</td>\n",
       "      <td>...</td>\n",
       "      <td>...</td>\n",
       "      <td>...</td>\n",
       "      <td>...</td>\n",
       "      <td>...</td>\n",
       "      <td>...</td>\n",
       "      <td>...</td>\n",
       "      <td>...</td>\n",
       "      <td>...</td>\n",
       "      <td>...</td>\n",
       "      <td>...</td>\n",
       "      <td>...</td>\n",
       "      <td>...</td>\n",
       "      <td>...</td>\n",
       "      <td>...</td>\n",
       "    </tr>\n",
       "    <tr>\n",
       "      <th>635010</th>\n",
       "      <td>18615041</td>\n",
       "      <td>2017-12-23</td>\n",
       "      <td>2017-12-23</td>\n",
       "      <td>2017-12-24</td>\n",
       "      <td>2188.00</td>\n",
       "      <td>NaN</td>\n",
       "      <td>NaN</td>\n",
       "      <td>281987</td>\n",
       "      <td>b2g</td>\n",
       "      <td>17487</td>\n",
       "      <td>Россия</td>\n",
       "      <td>Липецк</td>\n",
       "      <td>3.00</td>\n",
       "      <td>hotel</td>\n",
       "      <td>0</td>\n",
       "      <td>30</td>\n",
       "      <td>0</td>\n",
       "      <td>1</td>\n",
       "      <td>0</td>\n",
       "    </tr>\n",
       "    <tr>\n",
       "      <th>635026</th>\n",
       "      <td>18615194</td>\n",
       "      <td>2017-12-24</td>\n",
       "      <td>2017-12-24</td>\n",
       "      <td>2017-12-24</td>\n",
       "      <td>3850.00</td>\n",
       "      <td>NaN</td>\n",
       "      <td>NaN</td>\n",
       "      <td>281987</td>\n",
       "      <td>b2g</td>\n",
       "      <td>45769</td>\n",
       "      <td>Россия</td>\n",
       "      <td>Фрязино</td>\n",
       "      <td>4.00</td>\n",
       "      <td>hotel</td>\n",
       "      <td>0</td>\n",
       "      <td>30</td>\n",
       "      <td>0</td>\n",
       "      <td>1</td>\n",
       "      <td>0</td>\n",
       "    </tr>\n",
       "    <tr>\n",
       "      <th>635027</th>\n",
       "      <td>18615203</td>\n",
       "      <td>2017-12-24</td>\n",
       "      <td>2017-12-24</td>\n",
       "      <td>2017-12-24</td>\n",
       "      <td>3850.00</td>\n",
       "      <td>NaN</td>\n",
       "      <td>NaN</td>\n",
       "      <td>281987</td>\n",
       "      <td>b2g</td>\n",
       "      <td>45769</td>\n",
       "      <td>Россия</td>\n",
       "      <td>Фрязино</td>\n",
       "      <td>4.00</td>\n",
       "      <td>hotel</td>\n",
       "      <td>0</td>\n",
       "      <td>30</td>\n",
       "      <td>0</td>\n",
       "      <td>1</td>\n",
       "      <td>0</td>\n",
       "    </tr>\n",
       "    <tr>\n",
       "      <th>635028</th>\n",
       "      <td>18615212</td>\n",
       "      <td>2017-12-24</td>\n",
       "      <td>2017-12-24</td>\n",
       "      <td>2017-12-24</td>\n",
       "      <td>3850.00</td>\n",
       "      <td>NaN</td>\n",
       "      <td>NaN</td>\n",
       "      <td>281987</td>\n",
       "      <td>b2g</td>\n",
       "      <td>45769</td>\n",
       "      <td>Россия</td>\n",
       "      <td>Фрязино</td>\n",
       "      <td>4.00</td>\n",
       "      <td>hotel</td>\n",
       "      <td>0</td>\n",
       "      <td>30</td>\n",
       "      <td>0</td>\n",
       "      <td>1</td>\n",
       "      <td>0</td>\n",
       "    </tr>\n",
       "    <tr>\n",
       "      <th>638735</th>\n",
       "      <td>18650033</td>\n",
       "      <td>2017-12-30</td>\n",
       "      <td>2018-01-14</td>\n",
       "      <td>2018-01-17</td>\n",
       "      <td>41256.00</td>\n",
       "      <td>NaN</td>\n",
       "      <td>NaN</td>\n",
       "      <td>206178</td>\n",
       "      <td>b2bBusinessTravel</td>\n",
       "      <td>4427</td>\n",
       "      <td>Россия</td>\n",
       "      <td>Москва</td>\n",
       "      <td>5.00</td>\n",
       "      <td>hotel</td>\n",
       "      <td>0</td>\n",
       "      <td>70</td>\n",
       "      <td>1</td>\n",
       "      <td>3</td>\n",
       "      <td>15</td>\n",
       "    </tr>\n",
       "  </tbody>\n",
       "</table>\n",
       "<p>258 rows × 19 columns</p>\n",
       "</div>"
      ],
      "text/plain": [
       "        service_id service_date service_checkin service_checkout  \\\n",
       "99266     13471664   2017-03-14      2017-03-19       2017-03-20   \n",
       "475263    17079542   2017-10-03      2017-10-03       2017-10-04   \n",
       "492477    17247563   2017-09-28      2017-09-28       2017-10-01   \n",
       "498923    17310374   2017-10-15      2017-10-15       2017-10-18   \n",
       "500107    17321813   2017-10-15      2017-10-15       2017-10-16   \n",
       "...            ...          ...             ...              ...   \n",
       "635010    18615041   2017-12-23      2017-12-23       2017-12-24   \n",
       "635026    18615194   2017-12-24      2017-12-24       2017-12-24   \n",
       "635027    18615203   2017-12-24      2017-12-24       2017-12-24   \n",
       "635028    18615212   2017-12-24      2017-12-24       2017-12-24   \n",
       "638735    18650033   2017-12-30      2018-01-14       2018-01-17   \n",
       "\n",
       "        service_price  service_child_cnt  service_people_cnt  client_id  \\\n",
       "99266        22680.90                NaN                 NaN     263612   \n",
       "475263        2788.00                NaN                 NaN     262343   \n",
       "492477       16330.00                NaN                 NaN     210179   \n",
       "498923        7226.70                NaN                 NaN     215314   \n",
       "500107        5720.00                NaN                 NaN     206250   \n",
       "...               ...                ...                 ...        ...   \n",
       "635010        2188.00                NaN                 NaN     281987   \n",
       "635026        3850.00                NaN                 NaN     281987   \n",
       "635027        3850.00                NaN                 NaN     281987   \n",
       "635028        3850.00                NaN                 NaN     281987   \n",
       "638735       41256.00                NaN                 NaN     206178   \n",
       "\n",
       "           client_segment  hotel_id country_name    city_name  category_star  \\\n",
       "99266   b2bBusinessTravel      6922       Россия  Новосибирск           5.00   \n",
       "475263  b2bBusinessTravel     21621       Россия     Павловск           0.00   \n",
       "492477  b2bBusinessTravel       802       Россия       Якутск           4.00   \n",
       "498923  b2bBusinessTravel     68037       Россия   Михайловка           0.00   \n",
       "500107  b2bTravelAgencies      1087       Россия    Челябинск           4.00   \n",
       "...                   ...       ...          ...          ...            ...   \n",
       "635010                b2g     17487       Россия       Липецк           3.00   \n",
       "635026                b2g     45769       Россия      Фрязино           4.00   \n",
       "635027                b2g     45769       Россия      Фрязино           4.00   \n",
       "635028                b2g     45769       Россия      Фрязино           4.00   \n",
       "638735  b2bBusinessTravel      4427       Россия       Москва           5.00   \n",
       "\n",
       "        hotel_type  hotel_seasonal  room_category  service_status  \\\n",
       "99266        hotel               0             30               1   \n",
       "475263  mini-hotel               0             30               1   \n",
       "492477       hotel               0             30               0   \n",
       "498923  mini-hotel               0             30               0   \n",
       "500107       hotel               0             80               0   \n",
       "...            ...             ...            ...             ...   \n",
       "635010       hotel               0             30               0   \n",
       "635026       hotel               0             30               0   \n",
       "635027       hotel               0             30               0   \n",
       "635028       hotel               0             30               0   \n",
       "638735       hotel               0             70               1   \n",
       "\n",
       "        length_of_stay  days_until_checkin  \n",
       "99266                1                   5  \n",
       "475263               1                   0  \n",
       "492477               3                   0  \n",
       "498923               3                   0  \n",
       "500107               1                   0  \n",
       "...                ...                 ...  \n",
       "635010               1                   0  \n",
       "635026               1                   0  \n",
       "635027               1                   0  \n",
       "635028               1                   0  \n",
       "638735               3                  15  \n",
       "\n",
       "[258 rows x 19 columns]"
      ]
     },
     "execution_count": 17,
     "metadata": {},
     "output_type": "execute_result"
    }
   ],
   "source": [
    "train[train[\"service_child_cnt\"].isna() | train[\"service_people_cnt\"].isna()]"
   ]
  },
  {
   "cell_type": "code",
   "execution_count": 18,
   "id": "8f836cd5",
   "metadata": {
    "colab": {
     "base_uri": "https://localhost:8080/"
    },
    "id": "8f836cd5",
    "outputId": "dfcaa800-c725-4913-afc9-e85a473479bc"
   },
   "outputs": [
    {
     "data": {
      "text/plain": [
       "0.009107564573691846"
      ]
     },
     "execution_count": 18,
     "metadata": {},
     "output_type": "execute_result"
    }
   ],
   "source": [
    "train[train[\"service_child_cnt\"].isna() | \n",
    "      train[\"service_people_cnt\"].isna()].shape[0] / train.shape[0] * 100"
   ]
  },
  {
   "cell_type": "markdown",
   "id": "3125b7bf",
   "metadata": {
    "id": "3125b7bf"
   },
   "source": [
    "Так как доля бронирований с пропусками в признаках *service_child_cnt*, *service_people_cnt* составляет около 0.01 % от общего числа бронирований, мы можем удалить данные бронирования"
   ]
  },
  {
   "cell_type": "code",
   "execution_count": 19,
   "id": "ad523edd",
   "metadata": {
    "id": "ad523edd"
   },
   "outputs": [],
   "source": [
    "train.dropna(subset=[\"service_child_cnt\", \"service_people_cnt\"], inplace=True)"
   ]
  },
  {
   "cell_type": "code",
   "execution_count": 20,
   "id": "03013e68",
   "metadata": {
    "colab": {
     "base_uri": "https://localhost:8080/"
    },
    "id": "03013e68",
    "outputId": "8a63a3fd-738d-40e7-df6a-536ed2b2d529"
   },
   "outputs": [
    {
     "data": {
      "text/plain": [
       "count   2832552.00\n",
       "mean          1.81\n",
       "std           1.08\n",
       "min           1.00\n",
       "25%           1.00\n",
       "50%           2.00\n",
       "75%           2.00\n",
       "max          16.00\n",
       "Name: service_people_cnt, dtype: float64"
      ]
     },
     "execution_count": 20,
     "metadata": {},
     "output_type": "execute_result"
    }
   ],
   "source": [
    "train[\"service_people_cnt\"].describe()"
   ]
  },
  {
   "cell_type": "code",
   "execution_count": 21,
   "id": "87530aac",
   "metadata": {
    "colab": {
     "base_uri": "https://localhost:8080/"
    },
    "id": "87530aac",
    "outputId": "584e6692-bf84-4240-aceb-996809393417"
   },
   "outputs": [
    {
     "data": {
      "text/plain": [
       "count   607030.00\n",
       "mean         1.52\n",
       "std          0.92\n",
       "min          1.00\n",
       "25%          1.00\n",
       "50%          1.00\n",
       "75%          2.00\n",
       "max         16.00\n",
       "Name: service_people_cnt, dtype: float64"
      ]
     },
     "execution_count": 21,
     "metadata": {},
     "output_type": "execute_result"
    }
   ],
   "source": [
    "public_test[\"service_people_cnt\"].describe()"
   ]
  },
  {
   "cell_type": "code",
   "execution_count": 22,
   "id": "fcd9bbcb",
   "metadata": {},
   "outputs": [
    {
     "data": {
      "text/plain": [
       "count   607030.00\n",
       "mean         1.29\n",
       "std          0.57\n",
       "min          1.00\n",
       "25%          1.00\n",
       "50%          1.00\n",
       "75%          1.00\n",
       "max         11.00\n",
       "Name: service_people_cnt, dtype: float64"
      ]
     },
     "execution_count": 22,
     "metadata": {},
     "output_type": "execute_result"
    }
   ],
   "source": [
    "private_test[\"service_people_cnt\"].describe()"
   ]
  },
  {
   "cell_type": "markdown",
   "id": "f4cc6921",
   "metadata": {
    "id": "f4cc6921"
   },
   "source": [
    "Введем новый признак *price_per_day_one_person*"
   ]
  },
  {
   "cell_type": "code",
   "execution_count": 23,
   "id": "27401dce",
   "metadata": {
    "id": "27401dce"
   },
   "outputs": [],
   "source": [
    "for df in dataframes:\n",
    "    df[\"price_per_day_one_person\"] = np.round(\n",
    "        (df[\"service_price\"] / df[\"length_of_stay\"]) / df[\"service_people_cnt\"]\n",
    "    )"
   ]
  },
  {
   "cell_type": "code",
   "execution_count": 24,
   "id": "c4853188",
   "metadata": {
    "colab": {
     "base_uri": "https://localhost:8080/"
    },
    "id": "c4853188",
    "outputId": "64ae0250-3386-49a9-89ba-ee39b265ba53"
   },
   "outputs": [
    {
     "data": {
      "text/plain": [
       "count   2832208.00\n",
       "mean       2853.45\n",
       "std        2481.64\n",
       "min           0.00\n",
       "25%        1402.00\n",
       "50%        2317.00\n",
       "75%        3606.00\n",
       "max      368728.00\n",
       "Name: price_per_day_one_person, dtype: float64"
      ]
     },
     "execution_count": 24,
     "metadata": {},
     "output_type": "execute_result"
    }
   ],
   "source": [
    "train[\"price_per_day_one_person\"].describe()"
   ]
  },
  {
   "cell_type": "code",
   "execution_count": 25,
   "id": "ebaab407",
   "metadata": {
    "colab": {
     "base_uri": "https://localhost:8080/",
     "height": 313
    },
    "id": "ebaab407",
    "outputId": "0989f4e9-3619-4014-eaac-73effd630b24"
   },
   "outputs": [
    {
     "data": {
      "text/html": [
       "<div>\n",
       "<style scoped>\n",
       "    .dataframe tbody tr th:only-of-type {\n",
       "        vertical-align: middle;\n",
       "    }\n",
       "\n",
       "    .dataframe tbody tr th {\n",
       "        vertical-align: top;\n",
       "    }\n",
       "\n",
       "    .dataframe thead th {\n",
       "        text-align: right;\n",
       "    }\n",
       "</style>\n",
       "<table border=\"1\" class=\"dataframe\">\n",
       "  <thead>\n",
       "    <tr style=\"text-align: right;\">\n",
       "      <th></th>\n",
       "      <th>service_id</th>\n",
       "      <th>service_date</th>\n",
       "      <th>service_checkin</th>\n",
       "      <th>service_checkout</th>\n",
       "      <th>service_price</th>\n",
       "      <th>service_child_cnt</th>\n",
       "      <th>service_people_cnt</th>\n",
       "      <th>client_id</th>\n",
       "      <th>client_segment</th>\n",
       "      <th>hotel_id</th>\n",
       "      <th>country_name</th>\n",
       "      <th>city_name</th>\n",
       "      <th>category_star</th>\n",
       "      <th>hotel_type</th>\n",
       "      <th>hotel_seasonal</th>\n",
       "      <th>room_category</th>\n",
       "      <th>service_status</th>\n",
       "      <th>length_of_stay</th>\n",
       "      <th>days_until_checkin</th>\n",
       "      <th>price_per_day_one_person</th>\n",
       "    </tr>\n",
       "  </thead>\n",
       "  <tbody>\n",
       "    <tr>\n",
       "      <th>1072186</th>\n",
       "      <td>22594606</td>\n",
       "      <td>2018-06-03</td>\n",
       "      <td>2018-07-15</td>\n",
       "      <td>2018-07-17</td>\n",
       "      <td>737455.00</td>\n",
       "      <td>0.00</td>\n",
       "      <td>1.00</td>\n",
       "      <td>257133</td>\n",
       "      <td>b2bBusinessTravel</td>\n",
       "      <td>6439</td>\n",
       "      <td>Россия</td>\n",
       "      <td>Дулепово, деревня</td>\n",
       "      <td>4.00</td>\n",
       "      <td>hotel</td>\n",
       "      <td>0</td>\n",
       "      <td>80</td>\n",
       "      <td>0</td>\n",
       "      <td>2</td>\n",
       "      <td>42</td>\n",
       "      <td>368728.00</td>\n",
       "    </tr>\n",
       "    <tr>\n",
       "      <th>792043</th>\n",
       "      <td>20106059</td>\n",
       "      <td>2018-03-18</td>\n",
       "      <td>2018-06-11</td>\n",
       "      <td>2018-06-13</td>\n",
       "      <td>658800.00</td>\n",
       "      <td>0.00</td>\n",
       "      <td>1.00</td>\n",
       "      <td>209510</td>\n",
       "      <td>b2bBusinessTravel</td>\n",
       "      <td>479</td>\n",
       "      <td>Россия</td>\n",
       "      <td>Санкт-Петербург</td>\n",
       "      <td>5.00</td>\n",
       "      <td>hotel</td>\n",
       "      <td>0</td>\n",
       "      <td>40</td>\n",
       "      <td>0</td>\n",
       "      <td>2</td>\n",
       "      <td>85</td>\n",
       "      <td>329400.00</td>\n",
       "    </tr>\n",
       "    <tr>\n",
       "      <th>792040</th>\n",
       "      <td>20106032</td>\n",
       "      <td>2018-03-18</td>\n",
       "      <td>2018-06-11</td>\n",
       "      <td>2018-06-13</td>\n",
       "      <td>592920.00</td>\n",
       "      <td>0.00</td>\n",
       "      <td>1.00</td>\n",
       "      <td>209510</td>\n",
       "      <td>b2bBusinessTravel</td>\n",
       "      <td>479</td>\n",
       "      <td>Россия</td>\n",
       "      <td>Санкт-Петербург</td>\n",
       "      <td>5.00</td>\n",
       "      <td>hotel</td>\n",
       "      <td>0</td>\n",
       "      <td>30</td>\n",
       "      <td>0</td>\n",
       "      <td>2</td>\n",
       "      <td>85</td>\n",
       "      <td>296460.00</td>\n",
       "    </tr>\n",
       "    <tr>\n",
       "      <th>1393155</th>\n",
       "      <td>24271200</td>\n",
       "      <td>2018-08-15</td>\n",
       "      <td>2018-08-18</td>\n",
       "      <td>2018-08-25</td>\n",
       "      <td>1976845.50</td>\n",
       "      <td>0.00</td>\n",
       "      <td>1.00</td>\n",
       "      <td>211512</td>\n",
       "      <td>b2bBusinessTravel</td>\n",
       "      <td>8510</td>\n",
       "      <td>Россия</td>\n",
       "      <td>Красная Поляна</td>\n",
       "      <td>4.00</td>\n",
       "      <td>hotel</td>\n",
       "      <td>0</td>\n",
       "      <td>30</td>\n",
       "      <td>0</td>\n",
       "      <td>7</td>\n",
       "      <td>3</td>\n",
       "      <td>282406.00</td>\n",
       "    </tr>\n",
       "    <tr>\n",
       "      <th>1038583</th>\n",
       "      <td>22419391</td>\n",
       "      <td>2018-05-26</td>\n",
       "      <td>2018-06-12</td>\n",
       "      <td>2018-06-14</td>\n",
       "      <td>537800.00</td>\n",
       "      <td>0.00</td>\n",
       "      <td>1.00</td>\n",
       "      <td>205358</td>\n",
       "      <td>b2bBusinessTravel</td>\n",
       "      <td>5024</td>\n",
       "      <td>Россия</td>\n",
       "      <td>Санкт-Петербург</td>\n",
       "      <td>5.00</td>\n",
       "      <td>hotel</td>\n",
       "      <td>0</td>\n",
       "      <td>40</td>\n",
       "      <td>0</td>\n",
       "      <td>2</td>\n",
       "      <td>17</td>\n",
       "      <td>268900.00</td>\n",
       "    </tr>\n",
       "  </tbody>\n",
       "</table>\n",
       "</div>"
      ],
      "text/plain": [
       "         service_id service_date service_checkin service_checkout  \\\n",
       "1072186    22594606   2018-06-03      2018-07-15       2018-07-17   \n",
       "792043     20106059   2018-03-18      2018-06-11       2018-06-13   \n",
       "792040     20106032   2018-03-18      2018-06-11       2018-06-13   \n",
       "1393155    24271200   2018-08-15      2018-08-18       2018-08-25   \n",
       "1038583    22419391   2018-05-26      2018-06-12       2018-06-14   \n",
       "\n",
       "         service_price  service_child_cnt  service_people_cnt  client_id  \\\n",
       "1072186      737455.00               0.00                1.00     257133   \n",
       "792043       658800.00               0.00                1.00     209510   \n",
       "792040       592920.00               0.00                1.00     209510   \n",
       "1393155     1976845.50               0.00                1.00     211512   \n",
       "1038583      537800.00               0.00                1.00     205358   \n",
       "\n",
       "            client_segment  hotel_id country_name          city_name  \\\n",
       "1072186  b2bBusinessTravel      6439       Россия  Дулепово, деревня   \n",
       "792043   b2bBusinessTravel       479       Россия    Санкт-Петербург   \n",
       "792040   b2bBusinessTravel       479       Россия    Санкт-Петербург   \n",
       "1393155  b2bBusinessTravel      8510       Россия     Красная Поляна   \n",
       "1038583  b2bBusinessTravel      5024       Россия    Санкт-Петербург   \n",
       "\n",
       "         category_star hotel_type  hotel_seasonal  room_category  \\\n",
       "1072186           4.00      hotel               0             80   \n",
       "792043            5.00      hotel               0             40   \n",
       "792040            5.00      hotel               0             30   \n",
       "1393155           4.00      hotel               0             30   \n",
       "1038583           5.00      hotel               0             40   \n",
       "\n",
       "         service_status  length_of_stay  days_until_checkin  \\\n",
       "1072186               0               2                  42   \n",
       "792043                0               2                  85   \n",
       "792040                0               2                  85   \n",
       "1393155               0               7                   3   \n",
       "1038583               0               2                  17   \n",
       "\n",
       "         price_per_day_one_person  \n",
       "1072186                 368728.00  \n",
       "792043                  329400.00  \n",
       "792040                  296460.00  \n",
       "1393155                 282406.00  \n",
       "1038583                 268900.00  "
      ]
     },
     "execution_count": 25,
     "metadata": {},
     "output_type": "execute_result"
    }
   ],
   "source": [
    "train.sort_values(by=\"price_per_day_one_person\", ascending=False).head()"
   ]
  },
  {
   "cell_type": "markdown",
   "id": "be609f02",
   "metadata": {
    "id": "be609f02"
   },
   "source": [
    "Реализуем функцию для поиска границ допустимых значений (не выбросов)."
   ]
  },
  {
   "cell_type": "code",
   "execution_count": 26,
   "id": "b7c97169",
   "metadata": {
    "id": "b7c97169"
   },
   "outputs": [],
   "source": [
    "def search_outliers(feature):\n",
    "    q1 = feature.quantile(0.25)\n",
    "    q3 = feature.quantile(0.75)\n",
    "    iqr = q3 - q1\n",
    "    lower_bound = 0\n",
    "    upper_bound = q3 + 2 * iqr  # Завысим границу допустимых значений из-за того,\n",
    "    # что цена может существенно зависеть от города и от категории номера\n",
    "    return upper_bound"
   ]
  },
  {
   "cell_type": "code",
   "execution_count": 27,
   "id": "f5ba2c1d",
   "metadata": {
    "colab": {
     "base_uri": "https://localhost:8080/"
    },
    "id": "f5ba2c1d",
    "outputId": "8553c056-8548-477f-ce0d-c17717ec483a"
   },
   "outputs": [
    {
     "name": "stdout",
     "output_type": "stream",
     "text": [
      "category_star\n",
      "0.00    5564.00\n",
      "1.00    5158.00\n",
      "2.00    5521.00\n",
      "3.00    6949.00\n",
      "4.00   10150.00\n",
      "5.00   17578.00\n",
      "Name: price_per_day_one_person, dtype: float64\n"
     ]
    }
   ],
   "source": [
    "train_price_outliers_limits = train.groupby(\"category_star\")[\"price_per_day_one_person\"].apply(\n",
    "    search_outliers\n",
    ")\n",
    "\n",
    "print(train_price_outliers_limits)"
   ]
  },
  {
   "cell_type": "code",
   "execution_count": 28,
   "id": "b94c326a",
   "metadata": {
    "colab": {
     "base_uri": "https://localhost:8080/"
    },
    "id": "b94c326a",
    "outputId": "1e2a74b3-e842-4211-92c0-40727c73340e"
   },
   "outputs": [
    {
     "data": {
      "text/plain": [
       "1"
      ]
     },
     "execution_count": 28,
     "metadata": {},
     "output_type": "execute_result"
    }
   ],
   "source": [
    "train[\"category_star\"].isna().sum()"
   ]
  },
  {
   "cell_type": "code",
   "execution_count": 29,
   "id": "6a6af14b",
   "metadata": {
    "colab": {
     "base_uri": "https://localhost:8080/"
    },
    "id": "6a6af14b",
    "outputId": "b646b172-de67-4eb5-d9dc-845d04329abb"
   },
   "outputs": [
    {
     "data": {
      "text/plain": [
       "1"
      ]
     },
     "execution_count": 29,
     "metadata": {},
     "output_type": "execute_result"
    }
   ],
   "source": [
    "public_test[\"category_star\"].isna().sum()"
   ]
  },
  {
   "cell_type": "code",
   "execution_count": 30,
   "id": "7b04b001",
   "metadata": {
    "id": "7b04b001"
   },
   "outputs": [],
   "source": [
    "for df in dataframes:\n",
    "    df.loc[df[\"category_star\"].isna(), \"category_star\"] = 0"
   ]
  },
  {
   "cell_type": "markdown",
   "id": "b551eef3",
   "metadata": {
    "id": "b551eef3"
   },
   "source": [
    "Релизуем функцию изменения значения выбросов на NaN"
   ]
  },
  {
   "cell_type": "code",
   "execution_count": 31,
   "id": "6d5c7fea",
   "metadata": {
    "id": "6d5c7fea"
   },
   "outputs": [],
   "source": [
    "def replace_outliers_with_nan(row):\n",
    "    category = row[\"category_star\"]\n",
    "    price = row[\"price_per_day_one_person\"]\n",
    "    if price > train_price_outliers_limits[category]:\n",
    "        return np.nan\n",
    "    else:\n",
    "        return price"
   ]
  },
  {
   "cell_type": "markdown",
   "id": "4cea0ee2",
   "metadata": {
    "id": "4cea0ee2"
   },
   "source": [
    "Выбросы в признаке *price_per_day_one_person* заменим на NaN"
   ]
  },
  {
   "cell_type": "code",
   "execution_count": 32,
   "id": "0fb0ffbe",
   "metadata": {
    "id": "0fb0ffbe"
   },
   "outputs": [],
   "source": [
    "for df in dataframes:\n",
    "    df[\"price_per_day_one_person\"] = df.apply(replace_outliers_with_nan, axis=1)\n",
    "    df.loc[df[\"price_per_day_one_person\"].isna(), \"service_price\"] = np.nan"
   ]
  },
  {
   "cell_type": "markdown",
   "id": "43f1d107",
   "metadata": {
    "id": "43f1d107"
   },
   "source": [
    "## Столбцы *city_name*, *country_name*"
   ]
  },
  {
   "cell_type": "code",
   "execution_count": 33,
   "id": "819c970b",
   "metadata": {
    "colab": {
     "base_uri": "https://localhost:8080/"
    },
    "id": "819c970b",
    "outputId": "134a15df-389b-4285-a2b0-37499dbdccf8"
   },
   "outputs": [
    {
     "data": {
      "text/plain": [
       "country_name\n",
       "Россия          2744443\n",
       "Беларусь          54329\n",
       "Казахстан         13047\n",
       "Узбекистан         7918\n",
       "Абхазия            4357\n",
       "Кыргызстан         3577\n",
       "Армения            2848\n",
       "Таджикистан         723\n",
       "Украина             597\n",
       "Южная Осетия        269\n",
       "Грузия              235\n",
       "Азербайджан         169\n",
       "Египет               25\n",
       "Молдавия              8\n",
       "Туркменистан          6\n",
       "Эстония               1\n",
       "Name: count, dtype: int64"
      ]
     },
     "execution_count": 33,
     "metadata": {},
     "output_type": "execute_result"
    }
   ],
   "source": [
    "train[\"country_name\"].value_counts()"
   ]
  },
  {
   "cell_type": "markdown",
   "id": "c3ecc335",
   "metadata": {
    "id": "c3ecc335"
   },
   "source": [
    "В признаке *country_name* заменим все страны кроме России на 'Зарубежная страна'"
   ]
  },
  {
   "cell_type": "code",
   "execution_count": 34,
   "id": "cf655f38",
   "metadata": {
    "id": "cf655f38"
   },
   "outputs": [],
   "source": [
    "for df in dataframes:\n",
    "    df.loc[df[\"country_name\"] != \"Россия\", \"country_name\"] = \"Зарубежная страна\""
   ]
  },
  {
   "cell_type": "markdown",
   "id": "3a6746ae",
   "metadata": {
    "id": "3a6746ae"
   },
   "source": [
    "Определим часто встречаемые города (с числом бронирований больше 40000), города, которые не входят в данный список заменим на 'Редкий город'"
   ]
  },
  {
   "cell_type": "code",
   "execution_count": 35,
   "id": "ccce6257",
   "metadata": {
    "id": "ccce6257"
   },
   "outputs": [],
   "source": [
    "pop_cities_values = train[\"city_name\"].value_counts() > 40000\n",
    "pop_cities = pop_cities_values[pop_cities_values].index\n",
    "\n",
    "for df in dataframes:\n",
    "    df[\"city_name\"] = df[\"city_name\"].map(\n",
    "        lambda x: \"Редкий город\" if x not in pop_cities else x\n",
    "    )"
   ]
  },
  {
   "cell_type": "markdown",
   "id": "0bcc5193",
   "metadata": {
    "id": "0bcc5193"
   },
   "source": [
    "# Заполнение пропусков"
   ]
  },
  {
   "cell_type": "code",
   "execution_count": 36,
   "id": "f5f12bb6",
   "metadata": {
    "colab": {
     "base_uri": "https://localhost:8080/"
    },
    "id": "f5f12bb6",
    "outputId": "88587fdb-2ff8-44b7-8cba-185bced81db6"
   },
   "outputs": [
    {
     "data": {
      "text/plain": [
       "service_id                      0\n",
       "service_date                    0\n",
       "service_checkin                 0\n",
       "service_checkout                0\n",
       "service_price               55752\n",
       "service_child_cnt               0\n",
       "service_people_cnt              0\n",
       "client_id                       0\n",
       "client_segment              29730\n",
       "hotel_id                        0\n",
       "country_name                    0\n",
       "city_name                       0\n",
       "category_star                   0\n",
       "hotel_type                      0\n",
       "hotel_seasonal                  0\n",
       "room_category                   0\n",
       "service_status                  0\n",
       "length_of_stay                  0\n",
       "days_until_checkin              0\n",
       "price_per_day_one_person    55752\n",
       "dtype: int64"
      ]
     },
     "execution_count": 36,
     "metadata": {},
     "output_type": "execute_result"
    }
   ],
   "source": [
    "train.isna().sum()"
   ]
  },
  {
   "cell_type": "code",
   "execution_count": 37,
   "id": "69b800e9",
   "metadata": {
    "colab": {
     "base_uri": "https://localhost:8080/"
    },
    "id": "69b800e9",
    "outputId": "f4f6fa5f-a9be-4437-e268-06a3d0741887"
   },
   "outputs": [
    {
     "data": {
      "text/plain": [
       "service_id                      0\n",
       "service_date                    0\n",
       "service_checkin                 0\n",
       "service_checkout                0\n",
       "service_price               27993\n",
       "service_child_cnt               0\n",
       "service_people_cnt              0\n",
       "client_id                       0\n",
       "client_segment               2168\n",
       "hotel_id                        0\n",
       "country_name                    0\n",
       "city_name                       0\n",
       "category_star                   0\n",
       "hotel_type                      0\n",
       "hotel_seasonal                  0\n",
       "room_category                   0\n",
       "length_of_stay                  0\n",
       "days_until_checkin              0\n",
       "price_per_day_one_person    27993\n",
       "dtype: int64"
      ]
     },
     "execution_count": 37,
     "metadata": {},
     "output_type": "execute_result"
    }
   ],
   "source": [
    "public_test.isna().sum()"
   ]
  },
  {
   "cell_type": "code",
   "execution_count": 38,
   "id": "4ba9a918",
   "metadata": {},
   "outputs": [
    {
     "data": {
      "text/plain": [
       "service_id                      0\n",
       "service_date                    0\n",
       "service_checkin                 0\n",
       "service_checkout                0\n",
       "service_price               34764\n",
       "service_child_cnt               0\n",
       "service_people_cnt              0\n",
       "client_id                       0\n",
       "client_segment                191\n",
       "hotel_id                        0\n",
       "country_name                    0\n",
       "city_name                       0\n",
       "category_star                   0\n",
       "hotel_type                      0\n",
       "hotel_seasonal                  0\n",
       "room_category                   0\n",
       "length_of_stay                  0\n",
       "days_until_checkin              0\n",
       "price_per_day_one_person    34764\n",
       "dtype: int64"
      ]
     },
     "execution_count": 38,
     "metadata": {},
     "output_type": "execute_result"
    }
   ],
   "source": [
    "private_test.isna().sum()"
   ]
  },
  {
   "cell_type": "code",
   "execution_count": 39,
   "id": "f856a424",
   "metadata": {
    "id": "f856a424"
   },
   "outputs": [],
   "source": [
    "# Функция для заполнения NaN медианой группы\n",
    "def fill_na_with_median(train_df, test_df, test_df_private, group_col, fill_col):\n",
    "    # Заполнение пропусков в обучающем наборе\n",
    "    train_df[fill_col] = train_df.groupby(group_col)[fill_col].transform(\n",
    "        lambda x: x.fillna(x.median())\n",
    "    )\n",
    "\n",
    "    # Рассчитываем медиану для каждой группы на обучающем наборе\n",
    "    modes = train_df.groupby(group_col)[fill_col].agg(lambda x: x.median()).to_dict()\n",
    "\n",
    "    # Применяем медины для заполнения пропусков в тестовом наборе\n",
    "    test_df[fill_col] = test_df.apply(\n",
    "        lambda row: row[fill_col]\n",
    "        if pd.notna(row[fill_col])\n",
    "        else modes.get(row[group_col], np.nan),\n",
    "        axis=1,\n",
    "    )\n",
    "\n",
    "    test_df_private[fill_col] = test_df_private.apply(\n",
    "        lambda row: row[fill_col]\n",
    "        if pd.notna(row[fill_col])\n",
    "        else modes.get(row[group_col], np.nan),\n",
    "        axis=1,\n",
    "    )\n",
    "\n",
    "    return train_df, test_df, test_df_private"
   ]
  },
  {
   "cell_type": "code",
   "execution_count": 40,
   "id": "327dcaf9",
   "metadata": {
    "id": "327dcaf9"
   },
   "outputs": [],
   "source": [
    "# Функция для заполнения NaN модой группы\n",
    "def fill_na_with_mode(train_df, test_df, test_df_private, group_col, fill_col):\n",
    "    # Заполнение пропусков в обучающем наборе\n",
    "    train_df[fill_col] = train_df.groupby(group_col)[fill_col].transform(\n",
    "        lambda x: x.fillna(x.mode()[0] if not x.mode().empty else np.nan)\n",
    "    )\n",
    "\n",
    "    # Рассчитываем моду для каждой группы на обучающем наборе\n",
    "    modes = (\n",
    "        train_df.groupby(group_col)[fill_col]\n",
    "        .agg(lambda x: x.mode()[0] if not x.mode().empty else np.nan)\n",
    "        .to_dict()\n",
    "    )\n",
    "\n",
    "    # Применяем моду для заполнения пропусков в тестовом наборе\n",
    "    test_df[fill_col] = test_df.apply(\n",
    "        lambda row: row[fill_col]\n",
    "        if pd.notna(row[fill_col])\n",
    "        else modes.get(row[group_col], np.nan),\n",
    "        axis=1,\n",
    "    )\n",
    "\n",
    "    test_df_private[fill_col] = test_df_private.apply(\n",
    "        lambda row: row[fill_col]\n",
    "        if pd.notna(row[fill_col])\n",
    "        else modes.get(row[group_col], np.nan),\n",
    "        axis=1,\n",
    "    )\n",
    "\n",
    "    return train_df, test_df, test_df_private"
   ]
  },
  {
   "cell_type": "markdown",
   "id": "4f58aadd",
   "metadata": {
    "id": "4f58aadd"
   },
   "source": [
    "Заполним пропуски в признаках *price_per_day_one_person* и *service_price*"
   ]
  },
  {
   "cell_type": "code",
   "execution_count": 41,
   "id": "365acf9c",
   "metadata": {},
   "outputs": [],
   "source": [
    "for df in dataframes:\n",
    "    df[\"service_price\"] = df[\"service_price\"].fillna(\n",
    "        df[\"price_per_day_one_person\"] * df[\"service_people_cnt\"] * df[\"length_of_stay\"]\n",
    "    )"
   ]
  },
  {
   "cell_type": "code",
   "execution_count": 42,
   "id": "a0a9be17",
   "metadata": {
    "id": "a0a9be17"
   },
   "outputs": [],
   "source": [
    "train, public_test, private_test = fill_na_with_median(\n",
    "    train, public_test, private_test, \"category_star\", \"price_per_day_one_person\"\n",
    ")"
   ]
  },
  {
   "cell_type": "code",
   "execution_count": 43,
   "id": "ad260de5",
   "metadata": {
    "id": "ad260de5"
   },
   "outputs": [],
   "source": [
    "for df in dataframes:\n",
    "    df[\"service_price\"] = df[\"service_price\"].fillna(\n",
    "        df[\"price_per_day_one_person\"] * df[\"service_people_cnt\"] * df[\"length_of_stay\"]\n",
    "    )"
   ]
  },
  {
   "cell_type": "markdown",
   "id": "5edc8d6e",
   "metadata": {
    "id": "5edc8d6e"
   },
   "source": [
    "Заполним пропуски в признаке *client_segment*"
   ]
  },
  {
   "cell_type": "code",
   "execution_count": 44,
   "id": "4456c3db",
   "metadata": {
    "id": "4456c3db"
   },
   "outputs": [],
   "source": [
    "train, public_test, private_test = fill_na_with_mode(\n",
    "    train, public_test, private_test, \"client_id\", \"client_segment\"\n",
    ")"
   ]
  },
  {
   "cell_type": "code",
   "execution_count": 45,
   "id": "dc8bd087",
   "metadata": {
    "colab": {
     "base_uri": "https://localhost:8080/"
    },
    "id": "dc8bd087",
    "outputId": "c4b327ec-4c7f-4767-d91b-4f9a66d203ae"
   },
   "outputs": [
    {
     "name": "stdout",
     "output_type": "stream",
     "text": [
      "29730\n",
      "2168\n",
      "191\n"
     ]
    }
   ],
   "source": [
    "print(train[\"client_segment\"].isnull().sum())\n",
    "print(public_test[\"client_segment\"].isnull().sum())\n",
    "print(private_test[\"client_segment\"].isnull().sum())"
   ]
  },
  {
   "cell_type": "code",
   "execution_count": 46,
   "id": "9cb0842c",
   "metadata": {
    "id": "9cb0842c"
   },
   "outputs": [],
   "source": [
    "train, public_test, private_test = fill_na_with_mode(\n",
    "    train, public_test, private_test, \"hotel_type\", \"client_segment\"\n",
    ")"
   ]
  },
  {
   "cell_type": "code",
   "execution_count": 47,
   "id": "236ac735",
   "metadata": {
    "colab": {
     "base_uri": "https://localhost:8080/"
    },
    "id": "236ac735",
    "outputId": "6a037edb-a905-4cd0-8ba9-4d8325cbdffe"
   },
   "outputs": [
    {
     "data": {
      "text/plain": [
       "service_id                  0\n",
       "service_date                0\n",
       "service_checkin             0\n",
       "service_checkout            0\n",
       "service_price               0\n",
       "service_child_cnt           0\n",
       "service_people_cnt          0\n",
       "client_id                   0\n",
       "client_segment              0\n",
       "hotel_id                    0\n",
       "country_name                0\n",
       "city_name                   0\n",
       "category_star               0\n",
       "hotel_type                  0\n",
       "hotel_seasonal              0\n",
       "room_category               0\n",
       "service_status              0\n",
       "length_of_stay              0\n",
       "days_until_checkin          0\n",
       "price_per_day_one_person    0\n",
       "dtype: int64"
      ]
     },
     "execution_count": 47,
     "metadata": {},
     "output_type": "execute_result"
    }
   ],
   "source": [
    "train.isna().sum()"
   ]
  },
  {
   "cell_type": "code",
   "execution_count": 48,
   "id": "51e35c09",
   "metadata": {
    "colab": {
     "base_uri": "https://localhost:8080/"
    },
    "id": "51e35c09",
    "outputId": "b540b4bc-30f1-431c-b520-10842065720c"
   },
   "outputs": [
    {
     "data": {
      "text/plain": [
       "service_id                  0\n",
       "service_date                0\n",
       "service_checkin             0\n",
       "service_checkout            0\n",
       "service_price               0\n",
       "service_child_cnt           0\n",
       "service_people_cnt          0\n",
       "client_id                   0\n",
       "client_segment              0\n",
       "hotel_id                    0\n",
       "country_name                0\n",
       "city_name                   0\n",
       "category_star               0\n",
       "hotel_type                  0\n",
       "hotel_seasonal              0\n",
       "room_category               0\n",
       "length_of_stay              0\n",
       "days_until_checkin          0\n",
       "price_per_day_one_person    0\n",
       "dtype: int64"
      ]
     },
     "execution_count": 48,
     "metadata": {},
     "output_type": "execute_result"
    }
   ],
   "source": [
    "public_test.isna().sum()"
   ]
  },
  {
   "cell_type": "code",
   "execution_count": 49,
   "id": "abe31c84",
   "metadata": {
    "colab": {
     "base_uri": "https://localhost:8080/"
    },
    "id": "abe31c84",
    "outputId": "75ddc57a-3253-4aa5-d0cf-7eb07367a20f"
   },
   "outputs": [
    {
     "data": {
      "text/plain": [
       "service_id                  0\n",
       "service_date                0\n",
       "service_checkin             0\n",
       "service_checkout            0\n",
       "service_price               0\n",
       "service_child_cnt           0\n",
       "service_people_cnt          0\n",
       "client_id                   0\n",
       "client_segment              0\n",
       "hotel_id                    0\n",
       "country_name                0\n",
       "city_name                   0\n",
       "category_star               0\n",
       "hotel_type                  0\n",
       "hotel_seasonal              0\n",
       "room_category               0\n",
       "length_of_stay              0\n",
       "days_until_checkin          0\n",
       "price_per_day_one_person    0\n",
       "dtype: int64"
      ]
     },
     "execution_count": 49,
     "metadata": {},
     "output_type": "execute_result"
    }
   ],
   "source": [
    "private_test.isna().sum()"
   ]
  },
  {
   "cell_type": "code",
   "execution_count": 50,
   "id": "950f8c8b",
   "metadata": {
    "colab": {
     "base_uri": "https://localhost:8080/",
     "height": 313
    },
    "id": "950f8c8b",
    "outputId": "8f662175-0ce6-4267-8658-d02570dfe7e9"
   },
   "outputs": [
    {
     "data": {
      "text/html": [
       "<div>\n",
       "<style scoped>\n",
       "    .dataframe tbody tr th:only-of-type {\n",
       "        vertical-align: middle;\n",
       "    }\n",
       "\n",
       "    .dataframe tbody tr th {\n",
       "        vertical-align: top;\n",
       "    }\n",
       "\n",
       "    .dataframe thead th {\n",
       "        text-align: right;\n",
       "    }\n",
       "</style>\n",
       "<table border=\"1\" class=\"dataframe\">\n",
       "  <thead>\n",
       "    <tr style=\"text-align: right;\">\n",
       "      <th></th>\n",
       "      <th>service_id</th>\n",
       "      <th>service_date</th>\n",
       "      <th>service_checkin</th>\n",
       "      <th>service_checkout</th>\n",
       "      <th>service_price</th>\n",
       "      <th>service_child_cnt</th>\n",
       "      <th>service_people_cnt</th>\n",
       "      <th>client_id</th>\n",
       "      <th>client_segment</th>\n",
       "      <th>hotel_id</th>\n",
       "      <th>country_name</th>\n",
       "      <th>city_name</th>\n",
       "      <th>category_star</th>\n",
       "      <th>hotel_type</th>\n",
       "      <th>hotel_seasonal</th>\n",
       "      <th>room_category</th>\n",
       "      <th>service_status</th>\n",
       "      <th>length_of_stay</th>\n",
       "      <th>days_until_checkin</th>\n",
       "      <th>price_per_day_one_person</th>\n",
       "    </tr>\n",
       "  </thead>\n",
       "  <tbody>\n",
       "    <tr>\n",
       "      <th>0</th>\n",
       "      <td>12528130</td>\n",
       "      <td>2016-12-28</td>\n",
       "      <td>2017-01-13</td>\n",
       "      <td>2017-01-20</td>\n",
       "      <td>78457.60</td>\n",
       "      <td>0.00</td>\n",
       "      <td>2.00</td>\n",
       "      <td>215314</td>\n",
       "      <td>b2bBusinessTravel</td>\n",
       "      <td>3538</td>\n",
       "      <td>Россия</td>\n",
       "      <td>Редкий город</td>\n",
       "      <td>5.00</td>\n",
       "      <td>hotel</td>\n",
       "      <td>0</td>\n",
       "      <td>70</td>\n",
       "      <td>0</td>\n",
       "      <td>7</td>\n",
       "      <td>16</td>\n",
       "      <td>5604.00</td>\n",
       "    </tr>\n",
       "    <tr>\n",
       "      <th>1</th>\n",
       "      <td>12528139</td>\n",
       "      <td>2016-12-28</td>\n",
       "      <td>2017-01-16</td>\n",
       "      <td>2017-01-17</td>\n",
       "      <td>2395.80</td>\n",
       "      <td>0.00</td>\n",
       "      <td>1.00</td>\n",
       "      <td>210509</td>\n",
       "      <td>b2b2c</td>\n",
       "      <td>7695</td>\n",
       "      <td>Россия</td>\n",
       "      <td>Редкий город</td>\n",
       "      <td>0.00</td>\n",
       "      <td>hotel</td>\n",
       "      <td>0</td>\n",
       "      <td>20</td>\n",
       "      <td>1</td>\n",
       "      <td>1</td>\n",
       "      <td>19</td>\n",
       "      <td>2396.00</td>\n",
       "    </tr>\n",
       "    <tr>\n",
       "      <th>2</th>\n",
       "      <td>12528148</td>\n",
       "      <td>2016-12-28</td>\n",
       "      <td>2017-01-19</td>\n",
       "      <td>2017-01-23</td>\n",
       "      <td>10062.36</td>\n",
       "      <td>0.00</td>\n",
       "      <td>2.00</td>\n",
       "      <td>210509</td>\n",
       "      <td>b2b2c</td>\n",
       "      <td>36934</td>\n",
       "      <td>Россия</td>\n",
       "      <td>Санкт-Петербург</td>\n",
       "      <td>3.00</td>\n",
       "      <td>mini-hotel</td>\n",
       "      <td>0</td>\n",
       "      <td>50</td>\n",
       "      <td>0</td>\n",
       "      <td>4</td>\n",
       "      <td>22</td>\n",
       "      <td>1258.00</td>\n",
       "    </tr>\n",
       "    <tr>\n",
       "      <th>3</th>\n",
       "      <td>12528157</td>\n",
       "      <td>2016-12-28</td>\n",
       "      <td>2016-12-31</td>\n",
       "      <td>2017-01-01</td>\n",
       "      <td>2332.00</td>\n",
       "      <td>0.00</td>\n",
       "      <td>2.00</td>\n",
       "      <td>213592</td>\n",
       "      <td>b2b2c</td>\n",
       "      <td>7107</td>\n",
       "      <td>Россия</td>\n",
       "      <td>Редкий город</td>\n",
       "      <td>3.00</td>\n",
       "      <td>hotel</td>\n",
       "      <td>0</td>\n",
       "      <td>30</td>\n",
       "      <td>0</td>\n",
       "      <td>1</td>\n",
       "      <td>3</td>\n",
       "      <td>1166.00</td>\n",
       "    </tr>\n",
       "    <tr>\n",
       "      <th>4</th>\n",
       "      <td>12528166</td>\n",
       "      <td>2016-12-28</td>\n",
       "      <td>2016-12-29</td>\n",
       "      <td>2016-12-30</td>\n",
       "      <td>2259.92</td>\n",
       "      <td>0.00</td>\n",
       "      <td>1.00</td>\n",
       "      <td>224181</td>\n",
       "      <td>b2bBusinessTravel</td>\n",
       "      <td>3966</td>\n",
       "      <td>Россия</td>\n",
       "      <td>Редкий город</td>\n",
       "      <td>0.00</td>\n",
       "      <td>hotel</td>\n",
       "      <td>0</td>\n",
       "      <td>30</td>\n",
       "      <td>0</td>\n",
       "      <td>1</td>\n",
       "      <td>1</td>\n",
       "      <td>2260.00</td>\n",
       "    </tr>\n",
       "  </tbody>\n",
       "</table>\n",
       "</div>"
      ],
      "text/plain": [
       "   service_id service_date service_checkin service_checkout  service_price  \\\n",
       "0    12528130   2016-12-28      2017-01-13       2017-01-20       78457.60   \n",
       "1    12528139   2016-12-28      2017-01-16       2017-01-17        2395.80   \n",
       "2    12528148   2016-12-28      2017-01-19       2017-01-23       10062.36   \n",
       "3    12528157   2016-12-28      2016-12-31       2017-01-01        2332.00   \n",
       "4    12528166   2016-12-28      2016-12-29       2016-12-30        2259.92   \n",
       "\n",
       "   service_child_cnt  service_people_cnt  client_id     client_segment  \\\n",
       "0               0.00                2.00     215314  b2bBusinessTravel   \n",
       "1               0.00                1.00     210509              b2b2c   \n",
       "2               0.00                2.00     210509              b2b2c   \n",
       "3               0.00                2.00     213592              b2b2c   \n",
       "4               0.00                1.00     224181  b2bBusinessTravel   \n",
       "\n",
       "   hotel_id country_name        city_name  category_star  hotel_type  \\\n",
       "0      3538       Россия     Редкий город           5.00       hotel   \n",
       "1      7695       Россия     Редкий город           0.00       hotel   \n",
       "2     36934       Россия  Санкт-Петербург           3.00  mini-hotel   \n",
       "3      7107       Россия     Редкий город           3.00       hotel   \n",
       "4      3966       Россия     Редкий город           0.00       hotel   \n",
       "\n",
       "   hotel_seasonal  room_category  service_status  length_of_stay  \\\n",
       "0               0             70               0               7   \n",
       "1               0             20               1               1   \n",
       "2               0             50               0               4   \n",
       "3               0             30               0               1   \n",
       "4               0             30               0               1   \n",
       "\n",
       "   days_until_checkin  price_per_day_one_person  \n",
       "0                  16                   5604.00  \n",
       "1                  19                   2396.00  \n",
       "2                  22                   1258.00  \n",
       "3                   3                   1166.00  \n",
       "4                   1                   2260.00  "
      ]
     },
     "execution_count": 50,
     "metadata": {},
     "output_type": "execute_result"
    }
   ],
   "source": [
    "train.head()"
   ]
  },
  {
   "cell_type": "markdown",
   "id": "3b155e8b",
   "metadata": {
    "id": "3b155e8b"
   },
   "source": [
    "Избавимся от признаков, которые интуитивно уже не являются значимыми на данном этапе."
   ]
  },
  {
   "cell_type": "code",
   "execution_count": 51,
   "id": "f1d2d4ba",
   "metadata": {
    "id": "f1d2d4ba"
   },
   "outputs": [],
   "source": [
    "for df in dataframes:\n",
    "    df.drop(\n",
    "        columns=[\n",
    "            \"service_id\",\n",
    "            \"service_date\",\n",
    "            \"service_checkin\",\n",
    "            \"service_checkout\",\n",
    "            \"client_id\",\n",
    "            \"hotel_id\",\n",
    "        ],\n",
    "        inplace=True\n",
    "    )"
   ]
  },
  {
   "cell_type": "code",
   "execution_count": 52,
   "id": "dd28aed8",
   "metadata": {
    "colab": {
     "base_uri": "https://localhost:8080/",
     "height": 206
    },
    "id": "dd28aed8",
    "outputId": "811b3e38-b855-4da8-d22e-603257abd6bd"
   },
   "outputs": [
    {
     "data": {
      "text/html": [
       "<div>\n",
       "<style scoped>\n",
       "    .dataframe tbody tr th:only-of-type {\n",
       "        vertical-align: middle;\n",
       "    }\n",
       "\n",
       "    .dataframe tbody tr th {\n",
       "        vertical-align: top;\n",
       "    }\n",
       "\n",
       "    .dataframe thead th {\n",
       "        text-align: right;\n",
       "    }\n",
       "</style>\n",
       "<table border=\"1\" class=\"dataframe\">\n",
       "  <thead>\n",
       "    <tr style=\"text-align: right;\">\n",
       "      <th></th>\n",
       "      <th>service_price</th>\n",
       "      <th>service_child_cnt</th>\n",
       "      <th>service_people_cnt</th>\n",
       "      <th>client_segment</th>\n",
       "      <th>country_name</th>\n",
       "      <th>city_name</th>\n",
       "      <th>category_star</th>\n",
       "      <th>hotel_type</th>\n",
       "      <th>hotel_seasonal</th>\n",
       "      <th>room_category</th>\n",
       "      <th>service_status</th>\n",
       "      <th>length_of_stay</th>\n",
       "      <th>days_until_checkin</th>\n",
       "      <th>price_per_day_one_person</th>\n",
       "    </tr>\n",
       "  </thead>\n",
       "  <tbody>\n",
       "    <tr>\n",
       "      <th>0</th>\n",
       "      <td>78457.60</td>\n",
       "      <td>0.00</td>\n",
       "      <td>2.00</td>\n",
       "      <td>b2bBusinessTravel</td>\n",
       "      <td>Россия</td>\n",
       "      <td>Редкий город</td>\n",
       "      <td>5.00</td>\n",
       "      <td>hotel</td>\n",
       "      <td>0</td>\n",
       "      <td>70</td>\n",
       "      <td>0</td>\n",
       "      <td>7</td>\n",
       "      <td>16</td>\n",
       "      <td>5604.00</td>\n",
       "    </tr>\n",
       "    <tr>\n",
       "      <th>1</th>\n",
       "      <td>2395.80</td>\n",
       "      <td>0.00</td>\n",
       "      <td>1.00</td>\n",
       "      <td>b2b2c</td>\n",
       "      <td>Россия</td>\n",
       "      <td>Редкий город</td>\n",
       "      <td>0.00</td>\n",
       "      <td>hotel</td>\n",
       "      <td>0</td>\n",
       "      <td>20</td>\n",
       "      <td>1</td>\n",
       "      <td>1</td>\n",
       "      <td>19</td>\n",
       "      <td>2396.00</td>\n",
       "    </tr>\n",
       "    <tr>\n",
       "      <th>2</th>\n",
       "      <td>10062.36</td>\n",
       "      <td>0.00</td>\n",
       "      <td>2.00</td>\n",
       "      <td>b2b2c</td>\n",
       "      <td>Россия</td>\n",
       "      <td>Санкт-Петербург</td>\n",
       "      <td>3.00</td>\n",
       "      <td>mini-hotel</td>\n",
       "      <td>0</td>\n",
       "      <td>50</td>\n",
       "      <td>0</td>\n",
       "      <td>4</td>\n",
       "      <td>22</td>\n",
       "      <td>1258.00</td>\n",
       "    </tr>\n",
       "    <tr>\n",
       "      <th>3</th>\n",
       "      <td>2332.00</td>\n",
       "      <td>0.00</td>\n",
       "      <td>2.00</td>\n",
       "      <td>b2b2c</td>\n",
       "      <td>Россия</td>\n",
       "      <td>Редкий город</td>\n",
       "      <td>3.00</td>\n",
       "      <td>hotel</td>\n",
       "      <td>0</td>\n",
       "      <td>30</td>\n",
       "      <td>0</td>\n",
       "      <td>1</td>\n",
       "      <td>3</td>\n",
       "      <td>1166.00</td>\n",
       "    </tr>\n",
       "    <tr>\n",
       "      <th>4</th>\n",
       "      <td>2259.92</td>\n",
       "      <td>0.00</td>\n",
       "      <td>1.00</td>\n",
       "      <td>b2bBusinessTravel</td>\n",
       "      <td>Россия</td>\n",
       "      <td>Редкий город</td>\n",
       "      <td>0.00</td>\n",
       "      <td>hotel</td>\n",
       "      <td>0</td>\n",
       "      <td>30</td>\n",
       "      <td>0</td>\n",
       "      <td>1</td>\n",
       "      <td>1</td>\n",
       "      <td>2260.00</td>\n",
       "    </tr>\n",
       "  </tbody>\n",
       "</table>\n",
       "</div>"
      ],
      "text/plain": [
       "   service_price  service_child_cnt  service_people_cnt     client_segment  \\\n",
       "0       78457.60               0.00                2.00  b2bBusinessTravel   \n",
       "1        2395.80               0.00                1.00              b2b2c   \n",
       "2       10062.36               0.00                2.00              b2b2c   \n",
       "3        2332.00               0.00                2.00              b2b2c   \n",
       "4        2259.92               0.00                1.00  b2bBusinessTravel   \n",
       "\n",
       "  country_name        city_name  category_star  hotel_type  hotel_seasonal  \\\n",
       "0       Россия     Редкий город           5.00       hotel               0   \n",
       "1       Россия     Редкий город           0.00       hotel               0   \n",
       "2       Россия  Санкт-Петербург           3.00  mini-hotel               0   \n",
       "3       Россия     Редкий город           3.00       hotel               0   \n",
       "4       Россия     Редкий город           0.00       hotel               0   \n",
       "\n",
       "   room_category  service_status  length_of_stay  days_until_checkin  \\\n",
       "0             70               0               7                  16   \n",
       "1             20               1               1                  19   \n",
       "2             50               0               4                  22   \n",
       "3             30               0               1                   3   \n",
       "4             30               0               1                   1   \n",
       "\n",
       "   price_per_day_one_person  \n",
       "0                   5604.00  \n",
       "1                   2396.00  \n",
       "2                   1258.00  \n",
       "3                   1166.00  \n",
       "4                   2260.00  "
      ]
     },
     "execution_count": 52,
     "metadata": {},
     "output_type": "execute_result"
    }
   ],
   "source": [
    "train.head()"
   ]
  },
  {
   "cell_type": "code",
   "execution_count": 53,
   "id": "a0cf102e",
   "metadata": {
    "id": "a0cf102e"
   },
   "outputs": [],
   "source": [
    "for df in dataframes:\n",
    "    df[[\"category_star\", \"hotel_seasonal\", \"room_category\"]] = df[\n",
    "        [\"category_star\", \"hotel_seasonal\", \"room_category\"]\n",
    "    ].astype(object)"
   ]
  },
  {
   "cell_type": "code",
   "execution_count": 54,
   "id": "5e9c86e4",
   "metadata": {
    "id": "5e9c86e4"
   },
   "outputs": [],
   "source": [
    "num_features = (\n",
    "    train.drop(columns=\"service_status\").select_dtypes(exclude=object).columns.to_list()\n",
    ")\n",
    "cat_features = (\n",
    "    train.drop(columns=\"service_status\").select_dtypes(include=object).columns.to_list()\n",
    ")"
   ]
  },
  {
   "cell_type": "code",
   "execution_count": 55,
   "id": "0b641ad4",
   "metadata": {
    "id": "0b641ad4"
   },
   "outputs": [],
   "source": [
    "train[\"service_status\"] = train[\"service_status\"].astype(str)"
   ]
  },
  {
   "cell_type": "markdown",
   "id": "c5265ab9",
   "metadata": {
    "id": "c5265ab9"
   },
   "source": [
    "# EDA"
   ]
  },
  {
   "cell_type": "markdown",
   "id": "02004d1c",
   "metadata": {
    "id": "02004d1c"
   },
   "source": [
    "Посмотрим на соотношение классов целевой переменной"
   ]
  },
  {
   "cell_type": "code",
   "execution_count": 56,
   "id": "1c3da879",
   "metadata": {
    "colab": {
     "base_uri": "https://localhost:8080/",
     "height": 465
    },
    "id": "1c3da879",
    "outputId": "df04dcd0-96b5-4501-b746-bf78d8751c4b"
   },
   "outputs": [
    {
     "data": {
      "image/png": "[encoded data removed]",
      "text/plain": [
       "<Figure size 640x480 with 1 Axes>"
      ]
     },
     "metadata": {},
     "output_type": "display_data"
    }
   ],
   "source": [
    "sns.countplot(data=train, x=\"service_status\");"
   ]
  },
  {
   "cell_type": "markdown",
   "id": "2d2e00ad",
   "metadata": {
    "id": "2d2e00ad"
   },
   "source": [
    "Мы убедились, что значения целевой переменной несбалансированы, преобладает класс клиентов, которые не отменяют бронирование."
   ]
  },
  {
   "cell_type": "markdown",
   "id": "3d6264ae",
   "metadata": {
    "id": "3d6264ae"
   },
   "source": [
    "## Список гипотез"
   ]
  },
  {
   "cell_type": "markdown",
   "id": "017472ba",
   "metadata": {
    "id": "017472ba"
   },
   "source": [
    "Далее сформулируем гипотезы:\n",
    "\n",
    "1) Наличие детей не влияет на отмену бронирования;  \n",
    "2) Клиентский сегмент не влияет на отмену бронирования;  \n",
    "3) Стоимость проживания на одного человека за сутки не влияет на отмену бронирования."
   ]
  },
  {
   "cell_type": "markdown",
   "id": "dd70c8dd",
   "metadata": {
    "id": "dd70c8dd"
   },
   "source": [
    "## Проверка гипотезы 1"
   ]
  },
  {
   "cell_type": "markdown",
   "id": "112e62a3",
   "metadata": {
    "id": "112e62a3"
   },
   "source": [
    "Для проверки первой гипотезы сформируем новый столбцец в нашем датафрейме, который будет содержать значение 1 если клиент заезжает с детьми и 0 если нет."
   ]
  },
  {
   "cell_type": "code",
   "execution_count": 57,
   "id": "31210c4e",
   "metadata": {
    "id": "31210c4e"
   },
   "outputs": [],
   "source": [
    "train[\"has_children\"] = (\n",
    "    train[\"service_child_cnt\"].apply(lambda x: 1 if x > 0 else 0).astype(object)\n",
    ")"
   ]
  },
  {
   "cell_type": "code",
   "execution_count": 58,
   "id": "cef1e54e",
   "metadata": {
    "colab": {
     "base_uri": "https://localhost:8080/",
     "height": 489
    },
    "id": "cef1e54e",
    "outputId": "240f227e-10bf-4d73-bb46-2826bdacc800"
   },
   "outputs": [
    {
     "data": {
      "text/plain": [
       "Text(0, 0.5, 'Доля отмененных бронирований')"
      ]
     },
     "execution_count": 58,
     "metadata": {},
     "output_type": "execute_result"
    },
    {
     "data": {
      "image/png": "[encoded data removed]",
      "text/plain": [
       "<Figure size 640x480 with 1 Axes>"
      ]
     },
     "metadata": {},
     "output_type": "display_data"
    }
   ],
   "source": [
    "train[\"service_status\"] = train[\"service_status\"].astype(int)\n",
    "\n",
    "sns.barplot(data=train, x=\"has_children\", y=\"service_status\").set_title(\n",
    "    \"Доля отмененных бронирований среди клиентов с детьми и без детей\"\n",
    ")\n",
    "plt.ylabel(\"Доля отмененных бронирований\")"
   ]
  },
  {
   "cell_type": "markdown",
   "id": "36bf17ef",
   "metadata": {
    "id": "36bf17ef"
   },
   "source": [
    "Представленный выше график демонстирует, что среди клиентов с детьми доля отмен бронирования выше, чем среди клиентов без детей."
   ]
  },
  {
   "cell_type": "markdown",
   "id": "1aa5de93",
   "metadata": {
    "id": "1aa5de93"
   },
   "source": [
    "Дополнительно убедимся в этом используя точный тест Фишера и расчет относительного риска"
   ]
  },
  {
   "cell_type": "code",
   "execution_count": 59,
   "id": "74ca92bd",
   "metadata": {
    "id": "74ca92bd"
   },
   "outputs": [],
   "source": [
    "train[\"has_children\"] = train[\"has_children\"].astype(int)\n",
    "train[\"service_status\"] = train[\"service_status\"].astype(int)"
   ]
  },
  {
   "cell_type": "code",
   "execution_count": 60,
   "id": "d9b789d7",
   "metadata": {
    "id": "d9b789d7"
   },
   "outputs": [],
   "source": [
    "# Оценка относительного риска и точный тест Фишера.\n",
    "# На вход подаются названия колонок, содержащих фактор риска и исход.\n",
    "def safeRiskCalc(numerator, denumerator):\n",
    "    if denumerator != 0:\n",
    "        return str(round(numerator / denumerator * 100, 2))\n",
    "    else:\n",
    "        return \"---\"\n",
    "\n",
    "\n",
    "def riskEstimation(factorRisk, outcome):\n",
    "    expRiskOutcomeYes = len(\n",
    "        train[(train[factorRisk] == 1) & (train[outcome] == 1)].index\n",
    "    )\n",
    "    expRiskOutcomeNo = len(\n",
    "        train[(train[factorRisk] == 1) & (train[outcome] == 0)].index\n",
    "    )\n",
    "    expRisk = expRiskOutcomeYes + expRiskOutcomeNo\n",
    "\n",
    "    controlOutcomeYes = len(\n",
    "        train[(train[factorRisk] == 0) & (train[outcome] == 1)].index\n",
    "    )\n",
    "    controlOutcomeNo = len(\n",
    "        train[(train[factorRisk] == 0) & (train[outcome] == 0)].index\n",
    "    )\n",
    "    control = controlOutcomeYes + controlOutcomeNo\n",
    "\n",
    "    pt = PrettyTable()\n",
    "\n",
    "    cellYY = (\n",
    "        str(expRiskOutcomeYes) + \" (\" + safeRiskCalc(expRiskOutcomeYes, expRisk) + \" %)\"\n",
    "    )\n",
    "    cellYN = (\n",
    "        str(expRiskOutcomeNo) + \" (\" + safeRiskCalc(expRiskOutcomeNo, expRisk) + \" %)\"\n",
    "    )\n",
    "    cellNY = (\n",
    "        str(controlOutcomeYes) + \" (\" + safeRiskCalc(controlOutcomeYes, control) + \" %)\"\n",
    "    )\n",
    "    cellNN = (\n",
    "        str(controlOutcomeNo) + \" (\" + safeRiskCalc(controlOutcomeNo, control) + \" %)\"\n",
    "    )\n",
    "\n",
    "    pt.field_names = [\"   \", outcome + \" = Да\", outcome + \" = Нет\", \"Итого\"]\n",
    "    pt.add_row([factorRisk + \" = Да\", cellYY, cellYN, expRisk])\n",
    "    pt.add_row([factorRisk + \" = Нет\", cellNY, cellNN, control])\n",
    "    pt.add_row(\n",
    "        [\n",
    "            \"Итого\",\n",
    "            expRiskOutcomeYes + controlOutcomeYes,\n",
    "            expRiskOutcomeNo + controlOutcomeNo,\n",
    "            expRisk + control,\n",
    "        ]\n",
    "    )\n",
    "    print(pt)\n",
    "\n",
    "    try:\n",
    "        RR = relative_risk(\n",
    "            expRiskOutcomeYes,\n",
    "            expRiskOutcomeYes + expRiskOutcomeNo,\n",
    "            controlOutcomeYes,\n",
    "            controlOutcomeYes + controlOutcomeNo,\n",
    "        )\n",
    "        print(\"RR =\", round(RR.relative_risk, 3))\n",
    "        CIlow = round(RR.confidence_interval(confidence_level=0.95).low, 2)\n",
    "        CIhigh = round(RR.confidence_interval(confidence_level=0.95).high, 2)\n",
    "        print(\"CI = [\", CIlow, \"; \", CIhigh, \"]\", sep=\"\")\n",
    "    except:\n",
    "        print(\"Невозможно найти RR\")\n",
    "\n",
    "    fisherTest = fisher_exact(\n",
    "        [[expRiskOutcomeYes, expRiskOutcomeNo], [controlOutcomeYes, controlOutcomeNo]]\n",
    "    )\n",
    "    print(f\"Точный тест Фишера p-value = {fisherTest[1]:e}\")"
   ]
  },
  {
   "cell_type": "code",
   "execution_count": 61,
   "id": "0d54236b",
   "metadata": {
    "colab": {
     "base_uri": "https://localhost:8080/"
    },
    "id": "0d54236b",
    "outputId": "9c5733bf-170e-4a66-e633-bdf0fdb7ae9e"
   },
   "outputs": [
    {
     "name": "stdout",
     "output_type": "stream",
     "text": [
      "+--------------------+---------------------+----------------------+---------+\n",
      "|                    | service_status = Да | service_status = Нет |  Итого  |\n",
      "+--------------------+---------------------+----------------------+---------+\n",
      "| has_children = Да  |   31294 (30.52 %)   |   71232 (69.48 %)    |  102526 |\n",
      "| has_children = Нет |   364145 (13.34 %)  |  2365881 (86.66 %)   | 2730026 |\n",
      "|       Итого        |        395439       |       2437113        | 2832552 |\n",
      "+--------------------+---------------------+----------------------+---------+\n",
      "RR = 2.288\n",
      "CI = [2.27; 2.31]\n",
      "Точный тест Фишера p-value = 0.000000e+00\n"
     ]
    }
   ],
   "source": [
    "riskEstimation(\"has_children\", \"service_status\")"
   ]
  },
  {
   "cell_type": "markdown",
   "id": "f62b067b",
   "metadata": {
    "id": "f62b067b"
   },
   "source": [
    "Расчитанное значение относительного риска составляет 2.288 и доверительный интервал для данной оценки не включает 1, следовательно, можно сделать вывод, что клиенты с детьми чаще отменяют бронирования.  \n",
    "\n",
    "Также в результате применения точного теста Фишера p-value принимает очень маленькое значение, которое существенно меньше уровня значимости 0.05, следовательно, нулевую гипотезу об отсутствии связи между наличием детей и отменой бронирования необходимо отвергнуть."
   ]
  },
  {
   "cell_type": "code",
   "execution_count": 62,
   "id": "khi-0cyGF_UO",
   "metadata": {
    "id": "khi-0cyGF_UO"
   },
   "outputs": [],
   "source": [
    "train.drop(columns=\"has_children\", inplace=True)"
   ]
  },
  {
   "cell_type": "markdown",
   "id": "c57b57d7",
   "metadata": {
    "id": "c57b57d7"
   },
   "source": [
    "## Проверка гипотезы 2"
   ]
  },
  {
   "cell_type": "markdown",
   "id": "01baeeae",
   "metadata": {
    "id": "01baeeae"
   },
   "source": [
    "Проверим гипотезу 2: клиентский сегмент не влияет на отмену бронирования."
   ]
  },
  {
   "cell_type": "code",
   "execution_count": 63,
   "id": "718dcd93",
   "metadata": {
    "colab": {
     "base_uri": "https://localhost:8080/",
     "height": 560
    },
    "id": "718dcd93",
    "outputId": "c4352f56-9a34-4fe0-a27f-1b6384ab7f32"
   },
   "outputs": [
    {
     "data": {
      "image/png": "[encoded data removed]",
      "text/plain": [
       "<Figure size 640x480 with 1 Axes>"
      ]
     },
     "metadata": {},
     "output_type": "display_data"
    }
   ],
   "source": [
    "sns.barplot(data=train, x=\"client_segment\", y=\"service_status\").set_title(\n",
    "    \"Доля отмененных бронирований в каждом сегменте\"\n",
    ")\n",
    "plt.ylabel(\"Доля отмененных бронирований\")\n",
    "plt.xticks(rotation=45);"
   ]
  },
  {
   "cell_type": "markdown",
   "id": "fd94b7ba",
   "metadata": {
    "id": "fd94b7ba"
   },
   "source": [
    "Гипотезу о том, что сегмент клиента не вляет на отмену бронирования необходимо отвергуть.  \n",
    "Так как, например, в сегменте b2c доля отмен бронирований составляет около 35%, в то время как в сегменте b2g доля отмен весьма мала (около 7%)."
   ]
  },
  {
   "cell_type": "markdown",
   "id": "5aa8848e",
   "metadata": {
    "id": "5aa8848e"
   },
   "source": [
    "## Проверка гипотезы 3"
   ]
  },
  {
   "cell_type": "markdown",
   "id": "9dc97583",
   "metadata": {
    "id": "9dc97583"
   },
   "source": [
    "Проверим гипотезу 3: сезонность отеля не влияет на отмену бронирования.  \n",
    "Воспользуемся точным тестом Фишера."
   ]
  },
  {
   "cell_type": "code",
   "execution_count": 64,
   "id": "a70618af",
   "metadata": {
    "id": "a70618af"
   },
   "outputs": [],
   "source": [
    "train[\"hotel_seasonal\"] = train[\"hotel_seasonal\"].astype(int)\n",
    "train[\"service_status\"] = train[\"service_status\"].astype(int)"
   ]
  },
  {
   "cell_type": "code",
   "execution_count": 65,
   "id": "beb9105a",
   "metadata": {
    "colab": {
     "base_uri": "https://localhost:8080/"
    },
    "id": "beb9105a",
    "outputId": "00fdd533-1d0c-431f-9d4c-f11961fbbc56"
   },
   "outputs": [
    {
     "name": "stdout",
     "output_type": "stream",
     "text": [
      "+----------------------+---------------------+----------------------+---------+\n",
      "|                      | service_status = Да | service_status = Нет |  Итого  |\n",
      "+----------------------+---------------------+----------------------+---------+\n",
      "| hotel_seasonal = Да  |    7160 (28.83 %)   |   17675 (71.17 %)    |  24835  |\n",
      "| hotel_seasonal = Нет |   388279 (13.83 %)  |  2419438 (86.17 %)   | 2807717 |\n",
      "|        Итого         |        395439       |       2437113        | 2832552 |\n",
      "+----------------------+---------------------+----------------------+---------+\n",
      "RR = 2.085\n",
      "CI = [2.04; 2.13]\n",
      "Точный тест Фишера p-value = 0.000000e+00\n"
     ]
    }
   ],
   "source": [
    "riskEstimation(\"hotel_seasonal\", \"service_status\")"
   ]
  },
  {
   "cell_type": "markdown",
   "id": "1127b506",
   "metadata": {
    "id": "1127b506"
   },
   "source": [
    "Так как p-value < 0.05, мы отвергаем нулевую гипотезу о том, что сезонность отеля не вляет на отмену бронирования.  \n",
    "Также наличие связи между сезонностью отеля и отменой бронирования подтверждает значение оценки относительного риска 2.085 и ее доверительный интервал, который не включает 1.  \n",
    "То есть в сезонных отелях клиенты чаще отменяют бронирования."
   ]
  },
  {
   "cell_type": "markdown",
   "id": "bcf36b23",
   "metadata": {
    "id": "bcf36b23"
   },
   "source": [
    "# Удаление сильно коррелирующих признаков"
   ]
  },
  {
   "cell_type": "code",
   "execution_count": 66,
   "id": "9294bd3a",
   "metadata": {
    "colab": {
     "base_uri": "https://localhost:8080/",
     "height": 300
    },
    "id": "9294bd3a",
    "outputId": "96a1bf52-30cd-472d-fc98-ad563f74e2aa"
   },
   "outputs": [
    {
     "data": {
      "text/html": [
       "<style type=\"text/css\">\n",
       "#T_72314_row0_col0, #T_72314_row1_col1, #T_72314_row2_col2, #T_72314_row3_col3, #T_72314_row4_col4, #T_72314_row5_col5, #T_72314_row6_col6, #T_72314_row7_col7 {\n",
       "  background-color: #b40426;\n",
       "  color: #f1f1f1;\n",
       "}\n",
       "#T_72314_row0_col1, #T_72314_row2_col6 {\n",
       "  background-color: #7b9ff9;\n",
       "  color: #f1f1f1;\n",
       "}\n",
       "#T_72314_row0_col2 {\n",
       "  background-color: #b9d0f9;\n",
       "  color: #000000;\n",
       "}\n",
       "#T_72314_row0_col3, #T_72314_row2_col3 {\n",
       "  background-color: #536edd;\n",
       "  color: #f1f1f1;\n",
       "}\n",
       "#T_72314_row0_col4 {\n",
       "  background-color: #5977e3;\n",
       "  color: #f1f1f1;\n",
       "}\n",
       "#T_72314_row0_col5 {\n",
       "  background-color: #f59c7d;\n",
       "  color: #000000;\n",
       "}\n",
       "#T_72314_row0_col6 {\n",
       "  background-color: #80a3fa;\n",
       "  color: #f1f1f1;\n",
       "}\n",
       "#T_72314_row0_col7 {\n",
       "  background-color: #e1dad6;\n",
       "  color: #000000;\n",
       "}\n",
       "#T_72314_row1_col0 {\n",
       "  background-color: #445acc;\n",
       "  color: #f1f1f1;\n",
       "}\n",
       "#T_72314_row1_col2, #T_72314_row5_col0 {\n",
       "  background-color: #f6a283;\n",
       "  color: #000000;\n",
       "}\n",
       "#T_72314_row1_col3 {\n",
       "  background-color: #4f69d9;\n",
       "  color: #f1f1f1;\n",
       "}\n",
       "#T_72314_row1_col4 {\n",
       "  background-color: #5875e1;\n",
       "  color: #f1f1f1;\n",
       "}\n",
       "#T_72314_row1_col5 {\n",
       "  background-color: #3e51c5;\n",
       "  color: #f1f1f1;\n",
       "}\n",
       "#T_72314_row1_col6, #T_72314_row6_col5 {\n",
       "  background-color: #6687ed;\n",
       "  color: #f1f1f1;\n",
       "}\n",
       "#T_72314_row1_col7 {\n",
       "  background-color: #7da0f9;\n",
       "  color: #f1f1f1;\n",
       "}\n",
       "#T_72314_row2_col0, #T_72314_row3_col4, #T_72314_row4_col0 {\n",
       "  background-color: #4961d2;\n",
       "  color: #f1f1f1;\n",
       "}\n",
       "#T_72314_row2_col1 {\n",
       "  background-color: #f7ba9f;\n",
       "  color: #000000;\n",
       "}\n",
       "#T_72314_row2_col4 {\n",
       "  background-color: #5e7de7;\n",
       "  color: #f1f1f1;\n",
       "}\n",
       "#T_72314_row2_col5 {\n",
       "  background-color: #3f53c6;\n",
       "  color: #f1f1f1;\n",
       "}\n",
       "#T_72314_row2_col7, #T_72314_row3_col0, #T_72314_row7_col1, #T_72314_row7_col2, #T_72314_row7_col3, #T_72314_row7_col4, #T_72314_row7_col5, #T_72314_row7_col6 {\n",
       "  background-color: #3b4cc0;\n",
       "  color: #f1f1f1;\n",
       "}\n",
       "#T_72314_row3_col1 {\n",
       "  background-color: #6e90f2;\n",
       "  color: #f1f1f1;\n",
       "}\n",
       "#T_72314_row3_col2 {\n",
       "  background-color: #aec9fc;\n",
       "  color: #000000;\n",
       "}\n",
       "#T_72314_row3_col5, #T_72314_row4_col5 {\n",
       "  background-color: #506bda;\n",
       "  color: #f1f1f1;\n",
       "}\n",
       "#T_72314_row3_col6, #T_72314_row5_col3 {\n",
       "  background-color: #5673e0;\n",
       "  color: #f1f1f1;\n",
       "}\n",
       "#T_72314_row3_col7 {\n",
       "  background-color: #9abbff;\n",
       "  color: #000000;\n",
       "}\n",
       "#T_72314_row4_col1 {\n",
       "  background-color: #7ea1fa;\n",
       "  color: #f1f1f1;\n",
       "}\n",
       "#T_72314_row4_col2 {\n",
       "  background-color: #bbd1f8;\n",
       "  color: #000000;\n",
       "}\n",
       "#T_72314_row4_col3 {\n",
       "  background-color: #516ddb;\n",
       "  color: #f1f1f1;\n",
       "}\n",
       "#T_72314_row4_col6, #T_72314_row4_col7 {\n",
       "  background-color: #a1c0ff;\n",
       "  color: #000000;\n",
       "}\n",
       "#T_72314_row5_col1 {\n",
       "  background-color: #6384eb;\n",
       "  color: #f1f1f1;\n",
       "}\n",
       "#T_72314_row5_col2 {\n",
       "  background-color: #a2c1ff;\n",
       "  color: #000000;\n",
       "}\n",
       "#T_72314_row5_col4 {\n",
       "  background-color: #4e68d8;\n",
       "  color: #f1f1f1;\n",
       "}\n",
       "#T_72314_row5_col6 {\n",
       "  background-color: #6788ee;\n",
       "  color: #f1f1f1;\n",
       "}\n",
       "#T_72314_row5_col7, #T_72314_row6_col4, #T_72314_row6_col7 {\n",
       "  background-color: #9ebeff;\n",
       "  color: #000000;\n",
       "}\n",
       "#T_72314_row6_col0 {\n",
       "  background-color: #6c8ff1;\n",
       "  color: #f1f1f1;\n",
       "}\n",
       "#T_72314_row6_col1 {\n",
       "  background-color: #89acfd;\n",
       "  color: #000000;\n",
       "}\n",
       "#T_72314_row6_col2 {\n",
       "  background-color: #ccd9ed;\n",
       "  color: #000000;\n",
       "}\n",
       "#T_72314_row6_col3 {\n",
       "  background-color: #5b7ae5;\n",
       "  color: #f1f1f1;\n",
       "}\n",
       "#T_72314_row7_col0 {\n",
       "  background-color: #92b4fe;\n",
       "  color: #000000;\n",
       "}\n",
       "</style>\n",
       "<table id=\"T_72314\">\n",
       "  <thead>\n",
       "    <tr>\n",
       "      <th class=\"blank level0\" >&nbsp;</th>\n",
       "      <th id=\"T_72314_level0_col0\" class=\"col_heading level0 col0\" >service_price</th>\n",
       "      <th id=\"T_72314_level0_col1\" class=\"col_heading level0 col1\" >service_child_cnt</th>\n",
       "      <th id=\"T_72314_level0_col2\" class=\"col_heading level0 col2\" >service_people_cnt</th>\n",
       "      <th id=\"T_72314_level0_col3\" class=\"col_heading level0 col3\" >hotel_seasonal</th>\n",
       "      <th id=\"T_72314_level0_col4\" class=\"col_heading level0 col4\" >service_status</th>\n",
       "      <th id=\"T_72314_level0_col5\" class=\"col_heading level0 col5\" >length_of_stay</th>\n",
       "      <th id=\"T_72314_level0_col6\" class=\"col_heading level0 col6\" >days_until_checkin</th>\n",
       "      <th id=\"T_72314_level0_col7\" class=\"col_heading level0 col7\" >price_per_day_one_person</th>\n",
       "    </tr>\n",
       "  </thead>\n",
       "  <tbody>\n",
       "    <tr>\n",
       "      <th id=\"T_72314_level0_row0\" class=\"row_heading level0 row0\" >service_price</th>\n",
       "      <td id=\"T_72314_row0_col0\" class=\"data row0 col0\" >1.000000</td>\n",
       "      <td id=\"T_72314_row0_col1\" class=\"data row0 col1\" >0.076665</td>\n",
       "      <td id=\"T_72314_row0_col2\" class=\"data row0 col2\" >0.091180</td>\n",
       "      <td id=\"T_72314_row0_col3\" class=\"data row0 col3\" >0.044226</td>\n",
       "      <td id=\"T_72314_row0_col4\" class=\"data row0 col4\" >0.092662</td>\n",
       "      <td id=\"T_72314_row0_col5\" class=\"data row0 col5\" >0.738780</td>\n",
       "      <td id=\"T_72314_row0_col6\" class=\"data row0 col6\" >0.194638</td>\n",
       "      <td id=\"T_72314_row0_col7\" class=\"data row0 col7\" >0.296229</td>\n",
       "    </tr>\n",
       "    <tr>\n",
       "      <th id=\"T_72314_level0_row1\" class=\"row_heading level0 row1\" >service_child_cnt</th>\n",
       "      <td id=\"T_72314_row1_col0\" class=\"data row1 col0\" >0.076665</td>\n",
       "      <td id=\"T_72314_row1_col1\" class=\"data row1 col1\" >1.000000</td>\n",
       "      <td id=\"T_72314_row1_col2\" class=\"data row1 col2\" >0.605698</td>\n",
       "      <td id=\"T_72314_row1_col3\" class=\"data row1 col3\" >0.031721</td>\n",
       "      <td id=\"T_72314_row1_col4\" class=\"data row1 col4\" >0.086579</td>\n",
       "      <td id=\"T_72314_row1_col5\" class=\"data row1 col5\" >-0.003578</td>\n",
       "      <td id=\"T_72314_row1_col6\" class=\"data row1 col6\" >0.119873</td>\n",
       "      <td id=\"T_72314_row1_col7\" class=\"data row1 col7\" >-0.156482</td>\n",
       "    </tr>\n",
       "    <tr>\n",
       "      <th id=\"T_72314_level0_row2\" class=\"row_heading level0 row2\" >service_people_cnt</th>\n",
       "      <td id=\"T_72314_row2_col0\" class=\"data row2 col0\" >0.091180</td>\n",
       "      <td id=\"T_72314_row2_col1\" class=\"data row2 col1\" >0.605698</td>\n",
       "      <td id=\"T_72314_row2_col2\" class=\"data row2 col2\" >1.000000</td>\n",
       "      <td id=\"T_72314_row2_col3\" class=\"data row2 col3\" >0.047013</td>\n",
       "      <td id=\"T_72314_row2_col4\" class=\"data row2 col4\" >0.105504</td>\n",
       "      <td id=\"T_72314_row2_col5\" class=\"data row2 col5\" >-0.002278</td>\n",
       "      <td id=\"T_72314_row2_col6\" class=\"data row2 col6\" >0.184606</td>\n",
       "      <td id=\"T_72314_row2_col7\" class=\"data row2 col7\" >-0.456198</td>\n",
       "    </tr>\n",
       "    <tr>\n",
       "      <th id=\"T_72314_level0_row3\" class=\"row_heading level0 row3\" >hotel_seasonal</th>\n",
       "      <td id=\"T_72314_row3_col0\" class=\"data row3 col0\" >0.044226</td>\n",
       "      <td id=\"T_72314_row3_col1\" class=\"data row3 col1\" >0.031721</td>\n",
       "      <td id=\"T_72314_row3_col2\" class=\"data row3 col2\" >0.047013</td>\n",
       "      <td id=\"T_72314_row3_col3\" class=\"data row3 col3\" >1.000000</td>\n",
       "      <td id=\"T_72314_row3_col4\" class=\"data row3 col4\" >0.040351</td>\n",
       "      <td id=\"T_72314_row3_col5\" class=\"data row3 col5\" >0.055761</td>\n",
       "      <td id=\"T_72314_row3_col6\" class=\"data row3 col6\" >0.071967</td>\n",
       "      <td id=\"T_72314_row3_col7\" class=\"data row3 col7\" >-0.037655</td>\n",
       "    </tr>\n",
       "    <tr>\n",
       "      <th id=\"T_72314_level0_row4\" class=\"row_heading level0 row4\" >service_status</th>\n",
       "      <td id=\"T_72314_row4_col0\" class=\"data row4 col0\" >0.092662</td>\n",
       "      <td id=\"T_72314_row4_col1\" class=\"data row4 col1\" >0.086579</td>\n",
       "      <td id=\"T_72314_row4_col2\" class=\"data row4 col2\" >0.105504</td>\n",
       "      <td id=\"T_72314_row4_col3\" class=\"data row4 col3\" >0.040351</td>\n",
       "      <td id=\"T_72314_row4_col4\" class=\"data row4 col4\" >1.000000</td>\n",
       "      <td id=\"T_72314_row4_col5\" class=\"data row4 col5\" >0.056797</td>\n",
       "      <td id=\"T_72314_row4_col6\" class=\"data row4 col6\" >0.293291</td>\n",
       "      <td id=\"T_72314_row4_col7\" class=\"data row4 col7\" >-0.009894</td>\n",
       "    </tr>\n",
       "    <tr>\n",
       "      <th id=\"T_72314_level0_row5\" class=\"row_heading level0 row5\" >length_of_stay</th>\n",
       "      <td id=\"T_72314_row5_col0\" class=\"data row5 col0\" >0.738780</td>\n",
       "      <td id=\"T_72314_row5_col1\" class=\"data row5 col1\" >-0.003578</td>\n",
       "      <td id=\"T_72314_row5_col2\" class=\"data row5 col2\" >-0.002278</td>\n",
       "      <td id=\"T_72314_row5_col3\" class=\"data row5 col3\" >0.055761</td>\n",
       "      <td id=\"T_72314_row5_col4\" class=\"data row5 col4\" >0.056797</td>\n",
       "      <td id=\"T_72314_row5_col5\" class=\"data row5 col5\" >1.000000</td>\n",
       "      <td id=\"T_72314_row5_col6\" class=\"data row5 col6\" >0.124551</td>\n",
       "      <td id=\"T_72314_row5_col7\" class=\"data row5 col7\" >-0.018405</td>\n",
       "    </tr>\n",
       "    <tr>\n",
       "      <th id=\"T_72314_level0_row6\" class=\"row_heading level0 row6\" >days_until_checkin</th>\n",
       "      <td id=\"T_72314_row6_col0\" class=\"data row6 col0\" >0.194638</td>\n",
       "      <td id=\"T_72314_row6_col1\" class=\"data row6 col1\" >0.119873</td>\n",
       "      <td id=\"T_72314_row6_col2\" class=\"data row6 col2\" >0.184606</td>\n",
       "      <td id=\"T_72314_row6_col3\" class=\"data row6 col3\" >0.071967</td>\n",
       "      <td id=\"T_72314_row6_col4\" class=\"data row6 col4\" >0.293291</td>\n",
       "      <td id=\"T_72314_row6_col5\" class=\"data row6 col5\" >0.124551</td>\n",
       "      <td id=\"T_72314_row6_col6\" class=\"data row6 col6\" >1.000000</td>\n",
       "      <td id=\"T_72314_row6_col7\" class=\"data row6 col7\" >-0.021849</td>\n",
       "    </tr>\n",
       "    <tr>\n",
       "      <th id=\"T_72314_level0_row7\" class=\"row_heading level0 row7\" >price_per_day_one_person</th>\n",
       "      <td id=\"T_72314_row7_col0\" class=\"data row7 col0\" >0.296229</td>\n",
       "      <td id=\"T_72314_row7_col1\" class=\"data row7 col1\" >-0.156482</td>\n",
       "      <td id=\"T_72314_row7_col2\" class=\"data row7 col2\" >-0.456198</td>\n",
       "      <td id=\"T_72314_row7_col3\" class=\"data row7 col3\" >-0.037655</td>\n",
       "      <td id=\"T_72314_row7_col4\" class=\"data row7 col4\" >-0.009894</td>\n",
       "      <td id=\"T_72314_row7_col5\" class=\"data row7 col5\" >-0.018405</td>\n",
       "      <td id=\"T_72314_row7_col6\" class=\"data row7 col6\" >-0.021849</td>\n",
       "      <td id=\"T_72314_row7_col7\" class=\"data row7 col7\" >1.000000</td>\n",
       "    </tr>\n",
       "  </tbody>\n",
       "</table>\n"
      ],
      "text/plain": [
       "<pandas.io.formats.style.Styler at 0x1bc45592090>"
      ]
     },
     "execution_count": 66,
     "metadata": {},
     "output_type": "execute_result"
    }
   ],
   "source": [
    "train.corr(numeric_only=True).style.background_gradient(cmap=\"coolwarm\")"
   ]
  },
  {
   "cell_type": "code",
   "execution_count": 67,
   "id": "8f11b41c",
   "metadata": {
    "id": "8f11b41c"
   },
   "outputs": [],
   "source": [
    "for df in dataframes:\n",
    "    df = df.drop(columns=\"service_price\")"
   ]
  },
  {
   "cell_type": "markdown",
   "id": "f0751255",
   "metadata": {
    "id": "f0751255"
   },
   "source": [
    "# Приведение категориальных признаков к типу object"
   ]
  },
  {
   "cell_type": "code",
   "execution_count": 68,
   "id": "ed609a76",
   "metadata": {
    "colab": {
     "base_uri": "https://localhost:8080/"
    },
    "id": "ed609a76",
    "outputId": "751d07f5-ee9e-4ee5-c7a8-8583c6c22ab2"
   },
   "outputs": [
    {
     "name": "stdout",
     "output_type": "stream",
     "text": [
      "<class 'pandas.core.frame.DataFrame'>\n",
      "Index: 2832552 entries, 0 to 2832809\n",
      "Data columns (total 14 columns):\n",
      " #   Column                    Dtype  \n",
      "---  ------                    -----  \n",
      " 0   service_price             float64\n",
      " 1   service_child_cnt         float64\n",
      " 2   service_people_cnt        float64\n",
      " 3   client_segment            object \n",
      " 4   country_name              object \n",
      " 5   city_name                 object \n",
      " 6   category_star             object \n",
      " 7   hotel_type                object \n",
      " 8   hotel_seasonal            int32  \n",
      " 9   room_category             object \n",
      " 10  service_status            int32  \n",
      " 11  length_of_stay            int64  \n",
      " 12  days_until_checkin        int64  \n",
      " 13  price_per_day_one_person  float64\n",
      "dtypes: float64(4), int32(2), int64(2), object(6)\n",
      "memory usage: 302.5+ MB\n"
     ]
    }
   ],
   "source": [
    "train.info()"
   ]
  },
  {
   "cell_type": "code",
   "execution_count": 69,
   "id": "fe117148",
   "metadata": {
    "id": "fe117148"
   },
   "outputs": [],
   "source": [
    "for df in dataframes:\n",
    "    df[\"hotel_seasonal\"] = df[\"hotel_seasonal\"].astype(object)"
   ]
  },
  {
   "cell_type": "code",
   "execution_count": 70,
   "id": "3cc1ab71",
   "metadata": {
    "colab": {
     "base_uri": "https://localhost:8080/"
    },
    "id": "3cc1ab71",
    "outputId": "003d8cff-448c-4b92-eba3-c948e1867fcc"
   },
   "outputs": [
    {
     "data": {
      "text/plain": [
       "['client_segment',\n",
       " 'country_name',\n",
       " 'city_name',\n",
       " 'category_star',\n",
       " 'hotel_type',\n",
       " 'hotel_seasonal',\n",
       " 'room_category']"
      ]
     },
     "execution_count": 70,
     "metadata": {},
     "output_type": "execute_result"
    }
   ],
   "source": [
    "cat_features"
   ]
  },
  {
   "cell_type": "markdown",
   "id": "b4b1807a",
   "metadata": {
    "id": "b4b1807a"
   },
   "source": [
    "# Обучение и тестирование модели XGBClassifier"
   ]
  },
  {
   "cell_type": "code",
   "execution_count": 71,
   "id": "263e72b3",
   "metadata": {
    "id": "263e72b3"
   },
   "outputs": [],
   "source": [
    "for df in dataframes:\n",
    "    df[cat_features] = df[cat_features].astype(\"category\")"
   ]
  },
  {
   "cell_type": "code",
   "execution_count": 72,
   "id": "58a4f063",
   "metadata": {
    "id": "58a4f063"
   },
   "outputs": [],
   "source": [
    "X = train.drop(columns=[\"service_status\"])\n",
    "y = train[\"service_status\"]"
   ]
  },
  {
   "cell_type": "code",
   "execution_count": 73,
   "id": "25b70be7",
   "metadata": {
    "id": "25b70be7"
   },
   "outputs": [],
   "source": [
    "X_train, X_val, y_train, y_val = train_test_split(\n",
    "    X, y, test_size=0.2, random_state=42, stratify=y\n",
    ")"
   ]
  },
  {
   "cell_type": "code",
   "execution_count": 74,
   "id": "69f717f3",
   "metadata": {
    "id": "69f717f3"
   },
   "outputs": [],
   "source": [
    "model = xgb.XGBClassifier(\n",
    "    random_state=42,\n",
    "    objective=\"binary:logistic\",\n",
    "    enable_categorical=True,\n",
    "    early_stopping_rounds=50,\n",
    "    n_estimators=500,\n",
    ")"
   ]
  },
  {
   "cell_type": "code",
   "execution_count": 75,
   "id": "f5d8a67a",
   "metadata": {
    "colab": {
     "base_uri": "https://localhost:8080/"
    },
    "id": "f5d8a67a",
    "outputId": "71943a2a-4b23-4f95-9e4a-5660c7dcb074",
    "scrolled": true
   },
   "outputs": [
    {
     "name": "stdout",
     "output_type": "stream",
     "text": [
      "[0]\tvalidation_0-logloss:0.38147\tvalidation_1-logloss:0.38148\n",
      "[1]\tvalidation_0-logloss:0.36491\tvalidation_1-logloss:0.36491\n",
      "[2]\tvalidation_0-logloss:0.35517\tvalidation_1-logloss:0.35518\n",
      "[3]\tvalidation_0-logloss:0.34931\tvalidation_1-logloss:0.34932\n",
      "[4]\tvalidation_0-logloss:0.34570\tvalidation_1-logloss:0.34573\n",
      "[5]\tvalidation_0-logloss:0.34346\tvalidation_1-logloss:0.34354\n",
      "[6]\tvalidation_0-logloss:0.34207\tvalidation_1-logloss:0.34220\n",
      "[7]\tvalidation_0-logloss:0.34114\tvalidation_1-logloss:0.34133\n",
      "[8]\tvalidation_0-logloss:0.34051\tvalidation_1-logloss:0.34073\n",
      "[9]\tvalidation_0-logloss:0.34011\tvalidation_1-logloss:0.34036\n",
      "[10]\tvalidation_0-logloss:0.33983\tvalidation_1-logloss:0.34011\n",
      "[11]\tvalidation_0-logloss:0.33960\tvalidation_1-logloss:0.33993\n",
      "[12]\tvalidation_0-logloss:0.33940\tvalidation_1-logloss:0.33976\n",
      "[13]\tvalidation_0-logloss:0.33919\tvalidation_1-logloss:0.33961\n",
      "[14]\tvalidation_0-logloss:0.33903\tvalidation_1-logloss:0.33950\n",
      "[15]\tvalidation_0-logloss:0.33892\tvalidation_1-logloss:0.33942\n",
      "[16]\tvalidation_0-logloss:0.33877\tvalidation_1-logloss:0.33929\n",
      "[17]\tvalidation_0-logloss:0.33864\tvalidation_1-logloss:0.33917\n",
      "[18]\tvalidation_0-logloss:0.33845\tvalidation_1-logloss:0.33901\n",
      "[19]\tvalidation_0-logloss:0.33836\tvalidation_1-logloss:0.33896\n",
      "[20]\tvalidation_0-logloss:0.33825\tvalidation_1-logloss:0.33888\n",
      "[21]\tvalidation_0-logloss:0.33819\tvalidation_1-logloss:0.33884\n",
      "[22]\tvalidation_0-logloss:0.33812\tvalidation_1-logloss:0.33880\n",
      "[23]\tvalidation_0-logloss:0.33798\tvalidation_1-logloss:0.33869\n",
      "[24]\tvalidation_0-logloss:0.33792\tvalidation_1-logloss:0.33865\n",
      "[25]\tvalidation_0-logloss:0.33785\tvalidation_1-logloss:0.33860\n",
      "[26]\tvalidation_0-logloss:0.33776\tvalidation_1-logloss:0.33854\n",
      "[27]\tvalidation_0-logloss:0.33768\tvalidation_1-logloss:0.33850\n",
      "[28]\tvalidation_0-logloss:0.33763\tvalidation_1-logloss:0.33848\n",
      "[29]\tvalidation_0-logloss:0.33757\tvalidation_1-logloss:0.33844\n",
      "[30]\tvalidation_0-logloss:0.33749\tvalidation_1-logloss:0.33839\n",
      "[31]\tvalidation_0-logloss:0.33743\tvalidation_1-logloss:0.33837\n",
      "[32]\tvalidation_0-logloss:0.33741\tvalidation_1-logloss:0.33835\n",
      "[33]\tvalidation_0-logloss:0.33734\tvalidation_1-logloss:0.33833\n",
      "[34]\tvalidation_0-logloss:0.33730\tvalidation_1-logloss:0.33831\n",
      "[35]\tvalidation_0-logloss:0.33726\tvalidation_1-logloss:0.33829\n",
      "[36]\tvalidation_0-logloss:0.33721\tvalidation_1-logloss:0.33827\n",
      "[37]\tvalidation_0-logloss:0.33719\tvalidation_1-logloss:0.33826\n",
      "[38]\tvalidation_0-logloss:0.33713\tvalidation_1-logloss:0.33823\n",
      "[39]\tvalidation_0-logloss:0.33710\tvalidation_1-logloss:0.33821\n",
      "[40]\tvalidation_0-logloss:0.33702\tvalidation_1-logloss:0.33817\n",
      "[41]\tvalidation_0-logloss:0.33694\tvalidation_1-logloss:0.33812\n",
      "[42]\tvalidation_0-logloss:0.33686\tvalidation_1-logloss:0.33808\n",
      "[43]\tvalidation_0-logloss:0.33679\tvalidation_1-logloss:0.33803\n",
      "[44]\tvalidation_0-logloss:0.33673\tvalidation_1-logloss:0.33799\n",
      "[45]\tvalidation_0-logloss:0.33667\tvalidation_1-logloss:0.33797\n",
      "[46]\tvalidation_0-logloss:0.33661\tvalidation_1-logloss:0.33793\n",
      "[47]\tvalidation_0-logloss:0.33656\tvalidation_1-logloss:0.33791\n",
      "[48]\tvalidation_0-logloss:0.33648\tvalidation_1-logloss:0.33787\n",
      "[49]\tvalidation_0-logloss:0.33646\tvalidation_1-logloss:0.33787\n",
      "[50]\tvalidation_0-logloss:0.33642\tvalidation_1-logloss:0.33786\n",
      "[51]\tvalidation_0-logloss:0.33636\tvalidation_1-logloss:0.33783\n",
      "[52]\tvalidation_0-logloss:0.33632\tvalidation_1-logloss:0.33781\n",
      "[53]\tvalidation_0-logloss:0.33627\tvalidation_1-logloss:0.33780\n",
      "[54]\tvalidation_0-logloss:0.33626\tvalidation_1-logloss:0.33780\n",
      "[55]\tvalidation_0-logloss:0.33621\tvalidation_1-logloss:0.33778\n",
      "[56]\tvalidation_0-logloss:0.33616\tvalidation_1-logloss:0.33776\n",
      "[57]\tvalidation_0-logloss:0.33610\tvalidation_1-logloss:0.33774\n",
      "[58]\tvalidation_0-logloss:0.33606\tvalidation_1-logloss:0.33772\n",
      "[59]\tvalidation_0-logloss:0.33601\tvalidation_1-logloss:0.33770\n",
      "[60]\tvalidation_0-logloss:0.33598\tvalidation_1-logloss:0.33769\n",
      "[61]\tvalidation_0-logloss:0.33597\tvalidation_1-logloss:0.33769\n",
      "[62]\tvalidation_0-logloss:0.33590\tvalidation_1-logloss:0.33766\n",
      "[63]\tvalidation_0-logloss:0.33585\tvalidation_1-logloss:0.33764\n",
      "[64]\tvalidation_0-logloss:0.33579\tvalidation_1-logloss:0.33762\n",
      "[65]\tvalidation_0-logloss:0.33575\tvalidation_1-logloss:0.33760\n",
      "[66]\tvalidation_0-logloss:0.33572\tvalidation_1-logloss:0.33761\n",
      "[67]\tvalidation_0-logloss:0.33571\tvalidation_1-logloss:0.33761\n",
      "[68]\tvalidation_0-logloss:0.33570\tvalidation_1-logloss:0.33760\n",
      "[69]\tvalidation_0-logloss:0.33567\tvalidation_1-logloss:0.33760\n",
      "[70]\tvalidation_0-logloss:0.33564\tvalidation_1-logloss:0.33760\n",
      "[71]\tvalidation_0-logloss:0.33562\tvalidation_1-logloss:0.33759\n",
      "[72]\tvalidation_0-logloss:0.33558\tvalidation_1-logloss:0.33757\n",
      "[73]\tvalidation_0-logloss:0.33554\tvalidation_1-logloss:0.33757\n",
      "[74]\tvalidation_0-logloss:0.33549\tvalidation_1-logloss:0.33755\n",
      "[75]\tvalidation_0-logloss:0.33542\tvalidation_1-logloss:0.33752\n",
      "[76]\tvalidation_0-logloss:0.33537\tvalidation_1-logloss:0.33750\n",
      "[77]\tvalidation_0-logloss:0.33531\tvalidation_1-logloss:0.33747\n",
      "[78]\tvalidation_0-logloss:0.33526\tvalidation_1-logloss:0.33746\n",
      "[79]\tvalidation_0-logloss:0.33522\tvalidation_1-logloss:0.33744\n",
      "[80]\tvalidation_0-logloss:0.33516\tvalidation_1-logloss:0.33743\n",
      "[81]\tvalidation_0-logloss:0.33512\tvalidation_1-logloss:0.33742\n",
      "[82]\tvalidation_0-logloss:0.33509\tvalidation_1-logloss:0.33742\n",
      "[83]\tvalidation_0-logloss:0.33505\tvalidation_1-logloss:0.33741\n",
      "[84]\tvalidation_0-logloss:0.33501\tvalidation_1-logloss:0.33741\n",
      "[85]\tvalidation_0-logloss:0.33495\tvalidation_1-logloss:0.33739\n",
      "[86]\tvalidation_0-logloss:0.33490\tvalidation_1-logloss:0.33737\n",
      "[87]\tvalidation_0-logloss:0.33488\tvalidation_1-logloss:0.33736\n",
      "[88]\tvalidation_0-logloss:0.33482\tvalidation_1-logloss:0.33734\n",
      "[89]\tvalidation_0-logloss:0.33479\tvalidation_1-logloss:0.33734\n",
      "[90]\tvalidation_0-logloss:0.33478\tvalidation_1-logloss:0.33734\n",
      "[91]\tvalidation_0-logloss:0.33478\tvalidation_1-logloss:0.33734\n",
      "[92]\tvalidation_0-logloss:0.33473\tvalidation_1-logloss:0.33732\n",
      "[93]\tvalidation_0-logloss:0.33468\tvalidation_1-logloss:0.33731\n",
      "[94]\tvalidation_0-logloss:0.33465\tvalidation_1-logloss:0.33730\n",
      "[95]\tvalidation_0-logloss:0.33460\tvalidation_1-logloss:0.33728\n",
      "[96]\tvalidation_0-logloss:0.33455\tvalidation_1-logloss:0.33729\n",
      "[97]\tvalidation_0-logloss:0.33453\tvalidation_1-logloss:0.33728\n",
      "[98]\tvalidation_0-logloss:0.33449\tvalidation_1-logloss:0.33727\n",
      "[99]\tvalidation_0-logloss:0.33447\tvalidation_1-logloss:0.33726\n",
      "[100]\tvalidation_0-logloss:0.33443\tvalidation_1-logloss:0.33726\n",
      "[101]\tvalidation_0-logloss:0.33438\tvalidation_1-logloss:0.33725\n",
      "[102]\tvalidation_0-logloss:0.33433\tvalidation_1-logloss:0.33723\n",
      "[103]\tvalidation_0-logloss:0.33429\tvalidation_1-logloss:0.33722\n",
      "[104]\tvalidation_0-logloss:0.33424\tvalidation_1-logloss:0.33720\n",
      "[105]\tvalidation_0-logloss:0.33419\tvalidation_1-logloss:0.33718\n",
      "[106]\tvalidation_0-logloss:0.33413\tvalidation_1-logloss:0.33717\n",
      "[107]\tvalidation_0-logloss:0.33409\tvalidation_1-logloss:0.33717\n",
      "[108]\tvalidation_0-logloss:0.33406\tvalidation_1-logloss:0.33715\n",
      "[109]\tvalidation_0-logloss:0.33401\tvalidation_1-logloss:0.33713\n",
      "[110]\tvalidation_0-logloss:0.33396\tvalidation_1-logloss:0.33712\n",
      "[111]\tvalidation_0-logloss:0.33393\tvalidation_1-logloss:0.33712\n",
      "[112]\tvalidation_0-logloss:0.33388\tvalidation_1-logloss:0.33711\n",
      "[113]\tvalidation_0-logloss:0.33383\tvalidation_1-logloss:0.33709\n",
      "[114]\tvalidation_0-logloss:0.33381\tvalidation_1-logloss:0.33709\n",
      "[115]\tvalidation_0-logloss:0.33378\tvalidation_1-logloss:0.33709\n",
      "[116]\tvalidation_0-logloss:0.33375\tvalidation_1-logloss:0.33709\n",
      "[117]\tvalidation_0-logloss:0.33374\tvalidation_1-logloss:0.33709\n",
      "[118]\tvalidation_0-logloss:0.33372\tvalidation_1-logloss:0.33709\n",
      "[119]\tvalidation_0-logloss:0.33370\tvalidation_1-logloss:0.33709\n",
      "[120]\tvalidation_0-logloss:0.33368\tvalidation_1-logloss:0.33709\n",
      "[121]\tvalidation_0-logloss:0.33367\tvalidation_1-logloss:0.33709\n",
      "[122]\tvalidation_0-logloss:0.33364\tvalidation_1-logloss:0.33708\n",
      "[123]\tvalidation_0-logloss:0.33362\tvalidation_1-logloss:0.33707\n",
      "[124]\tvalidation_0-logloss:0.33359\tvalidation_1-logloss:0.33706\n",
      "[125]\tvalidation_0-logloss:0.33356\tvalidation_1-logloss:0.33705\n",
      "[126]\tvalidation_0-logloss:0.33354\tvalidation_1-logloss:0.33705\n",
      "[127]\tvalidation_0-logloss:0.33353\tvalidation_1-logloss:0.33705\n",
      "[128]\tvalidation_0-logloss:0.33348\tvalidation_1-logloss:0.33703\n",
      "[129]\tvalidation_0-logloss:0.33346\tvalidation_1-logloss:0.33703\n",
      "[130]\tvalidation_0-logloss:0.33343\tvalidation_1-logloss:0.33703\n",
      "[131]\tvalidation_0-logloss:0.33339\tvalidation_1-logloss:0.33701\n",
      "[132]\tvalidation_0-logloss:0.33338\tvalidation_1-logloss:0.33701\n",
      "[133]\tvalidation_0-logloss:0.33336\tvalidation_1-logloss:0.33701\n",
      "[134]\tvalidation_0-logloss:0.33335\tvalidation_1-logloss:0.33701\n",
      "[135]\tvalidation_0-logloss:0.33332\tvalidation_1-logloss:0.33700\n",
      "[136]\tvalidation_0-logloss:0.33326\tvalidation_1-logloss:0.33698\n",
      "[137]\tvalidation_0-logloss:0.33321\tvalidation_1-logloss:0.33696\n",
      "[138]\tvalidation_0-logloss:0.33318\tvalidation_1-logloss:0.33696\n",
      "[139]\tvalidation_0-logloss:0.33314\tvalidation_1-logloss:0.33695\n",
      "[140]\tvalidation_0-logloss:0.33309\tvalidation_1-logloss:0.33692\n",
      "[141]\tvalidation_0-logloss:0.33307\tvalidation_1-logloss:0.33693\n",
      "[142]\tvalidation_0-logloss:0.33304\tvalidation_1-logloss:0.33693\n",
      "[143]\tvalidation_0-logloss:0.33300\tvalidation_1-logloss:0.33692\n",
      "[144]\tvalidation_0-logloss:0.33298\tvalidation_1-logloss:0.33692\n",
      "[145]\tvalidation_0-logloss:0.33297\tvalidation_1-logloss:0.33692\n",
      "[146]\tvalidation_0-logloss:0.33294\tvalidation_1-logloss:0.33691\n",
      "[147]\tvalidation_0-logloss:0.33293\tvalidation_1-logloss:0.33692\n",
      "[148]\tvalidation_0-logloss:0.33292\tvalidation_1-logloss:0.33692\n",
      "[149]\tvalidation_0-logloss:0.33289\tvalidation_1-logloss:0.33690\n",
      "[150]\tvalidation_0-logloss:0.33285\tvalidation_1-logloss:0.33690\n",
      "[151]\tvalidation_0-logloss:0.33283\tvalidation_1-logloss:0.33689\n",
      "[152]\tvalidation_0-logloss:0.33280\tvalidation_1-logloss:0.33689\n",
      "[153]\tvalidation_0-logloss:0.33276\tvalidation_1-logloss:0.33688\n",
      "[154]\tvalidation_0-logloss:0.33273\tvalidation_1-logloss:0.33687\n",
      "[155]\tvalidation_0-logloss:0.33270\tvalidation_1-logloss:0.33687\n",
      "[156]\tvalidation_0-logloss:0.33267\tvalidation_1-logloss:0.33687\n",
      "[157]\tvalidation_0-logloss:0.33265\tvalidation_1-logloss:0.33687\n",
      "[158]\tvalidation_0-logloss:0.33263\tvalidation_1-logloss:0.33687\n",
      "[159]\tvalidation_0-logloss:0.33258\tvalidation_1-logloss:0.33684\n",
      "[160]\tvalidation_0-logloss:0.33254\tvalidation_1-logloss:0.33684\n",
      "[161]\tvalidation_0-logloss:0.33250\tvalidation_1-logloss:0.33684\n",
      "[162]\tvalidation_0-logloss:0.33246\tvalidation_1-logloss:0.33682\n",
      "[163]\tvalidation_0-logloss:0.33242\tvalidation_1-logloss:0.33682\n",
      "[164]\tvalidation_0-logloss:0.33238\tvalidation_1-logloss:0.33681\n",
      "[165]\tvalidation_0-logloss:0.33235\tvalidation_1-logloss:0.33681\n",
      "[166]\tvalidation_0-logloss:0.33231\tvalidation_1-logloss:0.33679\n",
      "[167]\tvalidation_0-logloss:0.33227\tvalidation_1-logloss:0.33678\n",
      "[168]\tvalidation_0-logloss:0.33224\tvalidation_1-logloss:0.33678\n",
      "[169]\tvalidation_0-logloss:0.33222\tvalidation_1-logloss:0.33677\n",
      "[170]\tvalidation_0-logloss:0.33218\tvalidation_1-logloss:0.33676\n",
      "[171]\tvalidation_0-logloss:0.33214\tvalidation_1-logloss:0.33674\n",
      "[172]\tvalidation_0-logloss:0.33211\tvalidation_1-logloss:0.33674\n",
      "[173]\tvalidation_0-logloss:0.33207\tvalidation_1-logloss:0.33672\n",
      "[174]\tvalidation_0-logloss:0.33204\tvalidation_1-logloss:0.33671\n",
      "[175]\tvalidation_0-logloss:0.33201\tvalidation_1-logloss:0.33671\n",
      "[176]\tvalidation_0-logloss:0.33197\tvalidation_1-logloss:0.33668\n",
      "[177]\tvalidation_0-logloss:0.33193\tvalidation_1-logloss:0.33667\n",
      "[178]\tvalidation_0-logloss:0.33190\tvalidation_1-logloss:0.33666\n",
      "[179]\tvalidation_0-logloss:0.33188\tvalidation_1-logloss:0.33666\n",
      "[180]\tvalidation_0-logloss:0.33186\tvalidation_1-logloss:0.33666\n",
      "[181]\tvalidation_0-logloss:0.33183\tvalidation_1-logloss:0.33666\n",
      "[182]\tvalidation_0-logloss:0.33180\tvalidation_1-logloss:0.33666\n",
      "[183]\tvalidation_0-logloss:0.33178\tvalidation_1-logloss:0.33666\n",
      "[184]\tvalidation_0-logloss:0.33174\tvalidation_1-logloss:0.33665\n",
      "[185]\tvalidation_0-logloss:0.33171\tvalidation_1-logloss:0.33664\n",
      "[186]\tvalidation_0-logloss:0.33167\tvalidation_1-logloss:0.33665\n",
      "[187]\tvalidation_0-logloss:0.33163\tvalidation_1-logloss:0.33664\n",
      "[188]\tvalidation_0-logloss:0.33161\tvalidation_1-logloss:0.33664\n",
      "[189]\tvalidation_0-logloss:0.33157\tvalidation_1-logloss:0.33665\n",
      "[190]\tvalidation_0-logloss:0.33154\tvalidation_1-logloss:0.33663\n",
      "[191]\tvalidation_0-logloss:0.33151\tvalidation_1-logloss:0.33663\n",
      "[192]\tvalidation_0-logloss:0.33149\tvalidation_1-logloss:0.33664\n",
      "[193]\tvalidation_0-logloss:0.33146\tvalidation_1-logloss:0.33663\n",
      "[194]\tvalidation_0-logloss:0.33144\tvalidation_1-logloss:0.33663\n",
      "[195]\tvalidation_0-logloss:0.33141\tvalidation_1-logloss:0.33662\n",
      "[196]\tvalidation_0-logloss:0.33137\tvalidation_1-logloss:0.33661\n",
      "[197]\tvalidation_0-logloss:0.33134\tvalidation_1-logloss:0.33661\n",
      "[198]\tvalidation_0-logloss:0.33132\tvalidation_1-logloss:0.33660\n",
      "[199]\tvalidation_0-logloss:0.33131\tvalidation_1-logloss:0.33660\n",
      "[200]\tvalidation_0-logloss:0.33129\tvalidation_1-logloss:0.33659\n",
      "[201]\tvalidation_0-logloss:0.33126\tvalidation_1-logloss:0.33659\n",
      "[202]\tvalidation_0-logloss:0.33125\tvalidation_1-logloss:0.33659\n",
      "[203]\tvalidation_0-logloss:0.33123\tvalidation_1-logloss:0.33659\n",
      "[204]\tvalidation_0-logloss:0.33120\tvalidation_1-logloss:0.33659\n",
      "[205]\tvalidation_0-logloss:0.33119\tvalidation_1-logloss:0.33658\n",
      "[206]\tvalidation_0-logloss:0.33115\tvalidation_1-logloss:0.33657\n",
      "[207]\tvalidation_0-logloss:0.33112\tvalidation_1-logloss:0.33657\n",
      "[208]\tvalidation_0-logloss:0.33112\tvalidation_1-logloss:0.33657\n",
      "[209]\tvalidation_0-logloss:0.33109\tvalidation_1-logloss:0.33656\n",
      "[210]\tvalidation_0-logloss:0.33106\tvalidation_1-logloss:0.33657\n",
      "[211]\tvalidation_0-logloss:0.33103\tvalidation_1-logloss:0.33657\n",
      "[212]\tvalidation_0-logloss:0.33099\tvalidation_1-logloss:0.33657\n",
      "[213]\tvalidation_0-logloss:0.33097\tvalidation_1-logloss:0.33657\n",
      "[214]\tvalidation_0-logloss:0.33094\tvalidation_1-logloss:0.33655\n",
      "[215]\tvalidation_0-logloss:0.33090\tvalidation_1-logloss:0.33654\n",
      "[216]\tvalidation_0-logloss:0.33087\tvalidation_1-logloss:0.33653\n",
      "[217]\tvalidation_0-logloss:0.33084\tvalidation_1-logloss:0.33651\n",
      "[218]\tvalidation_0-logloss:0.33081\tvalidation_1-logloss:0.33652\n",
      "[219]\tvalidation_0-logloss:0.33078\tvalidation_1-logloss:0.33652\n",
      "[220]\tvalidation_0-logloss:0.33076\tvalidation_1-logloss:0.33653\n",
      "[221]\tvalidation_0-logloss:0.33073\tvalidation_1-logloss:0.33652\n",
      "[222]\tvalidation_0-logloss:0.33071\tvalidation_1-logloss:0.33652\n",
      "[223]\tvalidation_0-logloss:0.33069\tvalidation_1-logloss:0.33652\n",
      "[224]\tvalidation_0-logloss:0.33066\tvalidation_1-logloss:0.33652\n",
      "[225]\tvalidation_0-logloss:0.33063\tvalidation_1-logloss:0.33652\n",
      "[226]\tvalidation_0-logloss:0.33061\tvalidation_1-logloss:0.33651\n",
      "[227]\tvalidation_0-logloss:0.33059\tvalidation_1-logloss:0.33652\n",
      "[228]\tvalidation_0-logloss:0.33056\tvalidation_1-logloss:0.33651\n",
      "[229]\tvalidation_0-logloss:0.33053\tvalidation_1-logloss:0.33651\n",
      "[230]\tvalidation_0-logloss:0.33051\tvalidation_1-logloss:0.33651\n",
      "[231]\tvalidation_0-logloss:0.33047\tvalidation_1-logloss:0.33650\n",
      "[232]\tvalidation_0-logloss:0.33043\tvalidation_1-logloss:0.33650\n",
      "[233]\tvalidation_0-logloss:0.33041\tvalidation_1-logloss:0.33650\n",
      "[234]\tvalidation_0-logloss:0.33038\tvalidation_1-logloss:0.33650\n",
      "[235]\tvalidation_0-logloss:0.33035\tvalidation_1-logloss:0.33649\n",
      "[236]\tvalidation_0-logloss:0.33032\tvalidation_1-logloss:0.33649\n",
      "[237]\tvalidation_0-logloss:0.33030\tvalidation_1-logloss:0.33649\n",
      "[238]\tvalidation_0-logloss:0.33027\tvalidation_1-logloss:0.33648\n",
      "[239]\tvalidation_0-logloss:0.33024\tvalidation_1-logloss:0.33648\n",
      "[240]\tvalidation_0-logloss:0.33020\tvalidation_1-logloss:0.33648\n",
      "[241]\tvalidation_0-logloss:0.33017\tvalidation_1-logloss:0.33647\n",
      "[242]\tvalidation_0-logloss:0.33014\tvalidation_1-logloss:0.33647\n",
      "[243]\tvalidation_0-logloss:0.33012\tvalidation_1-logloss:0.33647\n",
      "[244]\tvalidation_0-logloss:0.33008\tvalidation_1-logloss:0.33646\n",
      "[245]\tvalidation_0-logloss:0.33004\tvalidation_1-logloss:0.33645\n",
      "[246]\tvalidation_0-logloss:0.33002\tvalidation_1-logloss:0.33646\n",
      "[247]\tvalidation_0-logloss:0.32997\tvalidation_1-logloss:0.33645\n",
      "[248]\tvalidation_0-logloss:0.32995\tvalidation_1-logloss:0.33645\n",
      "[249]\tvalidation_0-logloss:0.32993\tvalidation_1-logloss:0.33645\n",
      "[250]\tvalidation_0-logloss:0.32990\tvalidation_1-logloss:0.33644\n",
      "[251]\tvalidation_0-logloss:0.32988\tvalidation_1-logloss:0.33644\n",
      "[252]\tvalidation_0-logloss:0.32985\tvalidation_1-logloss:0.33643\n",
      "[253]\tvalidation_0-logloss:0.32983\tvalidation_1-logloss:0.33643\n",
      "[254]\tvalidation_0-logloss:0.32980\tvalidation_1-logloss:0.33643\n",
      "[255]\tvalidation_0-logloss:0.32978\tvalidation_1-logloss:0.33643\n",
      "[256]\tvalidation_0-logloss:0.32975\tvalidation_1-logloss:0.33643\n",
      "[257]\tvalidation_0-logloss:0.32971\tvalidation_1-logloss:0.33643\n",
      "[258]\tvalidation_0-logloss:0.32969\tvalidation_1-logloss:0.33643\n",
      "[259]\tvalidation_0-logloss:0.32966\tvalidation_1-logloss:0.33643\n",
      "[260]\tvalidation_0-logloss:0.32963\tvalidation_1-logloss:0.33643\n",
      "[261]\tvalidation_0-logloss:0.32961\tvalidation_1-logloss:0.33642\n",
      "[262]\tvalidation_0-logloss:0.32959\tvalidation_1-logloss:0.33642\n",
      "[263]\tvalidation_0-logloss:0.32957\tvalidation_1-logloss:0.33642\n",
      "[264]\tvalidation_0-logloss:0.32955\tvalidation_1-logloss:0.33642\n",
      "[265]\tvalidation_0-logloss:0.32953\tvalidation_1-logloss:0.33641\n",
      "[266]\tvalidation_0-logloss:0.32950\tvalidation_1-logloss:0.33641\n",
      "[267]\tvalidation_0-logloss:0.32947\tvalidation_1-logloss:0.33642\n",
      "[268]\tvalidation_0-logloss:0.32945\tvalidation_1-logloss:0.33641\n",
      "[269]\tvalidation_0-logloss:0.32942\tvalidation_1-logloss:0.33641\n",
      "[270]\tvalidation_0-logloss:0.32940\tvalidation_1-logloss:0.33640\n",
      "[271]\tvalidation_0-logloss:0.32936\tvalidation_1-logloss:0.33640\n",
      "[272]\tvalidation_0-logloss:0.32936\tvalidation_1-logloss:0.33640\n",
      "[273]\tvalidation_0-logloss:0.32934\tvalidation_1-logloss:0.33639\n",
      "[274]\tvalidation_0-logloss:0.32932\tvalidation_1-logloss:0.33640\n",
      "[275]\tvalidation_0-logloss:0.32931\tvalidation_1-logloss:0.33640\n",
      "[276]\tvalidation_0-logloss:0.32930\tvalidation_1-logloss:0.33640\n",
      "[277]\tvalidation_0-logloss:0.32928\tvalidation_1-logloss:0.33640\n",
      "[278]\tvalidation_0-logloss:0.32924\tvalidation_1-logloss:0.33639\n",
      "[279]\tvalidation_0-logloss:0.32922\tvalidation_1-logloss:0.33640\n",
      "[280]\tvalidation_0-logloss:0.32920\tvalidation_1-logloss:0.33640\n",
      "[281]\tvalidation_0-logloss:0.32917\tvalidation_1-logloss:0.33640\n",
      "[282]\tvalidation_0-logloss:0.32914\tvalidation_1-logloss:0.33640\n",
      "[283]\tvalidation_0-logloss:0.32911\tvalidation_1-logloss:0.33640\n",
      "[284]\tvalidation_0-logloss:0.32907\tvalidation_1-logloss:0.33640\n",
      "[285]\tvalidation_0-logloss:0.32904\tvalidation_1-logloss:0.33640\n",
      "[286]\tvalidation_0-logloss:0.32901\tvalidation_1-logloss:0.33640\n",
      "[287]\tvalidation_0-logloss:0.32898\tvalidation_1-logloss:0.33640\n",
      "[288]\tvalidation_0-logloss:0.32895\tvalidation_1-logloss:0.33639\n",
      "[289]\tvalidation_0-logloss:0.32893\tvalidation_1-logloss:0.33639\n",
      "[290]\tvalidation_0-logloss:0.32892\tvalidation_1-logloss:0.33639\n",
      "[291]\tvalidation_0-logloss:0.32890\tvalidation_1-logloss:0.33639\n",
      "[292]\tvalidation_0-logloss:0.32888\tvalidation_1-logloss:0.33638\n",
      "[293]\tvalidation_0-logloss:0.32886\tvalidation_1-logloss:0.33639\n",
      "[294]\tvalidation_0-logloss:0.32883\tvalidation_1-logloss:0.33639\n",
      "[295]\tvalidation_0-logloss:0.32880\tvalidation_1-logloss:0.33639\n",
      "[296]\tvalidation_0-logloss:0.32879\tvalidation_1-logloss:0.33639\n",
      "[297]\tvalidation_0-logloss:0.32877\tvalidation_1-logloss:0.33640\n",
      "[298]\tvalidation_0-logloss:0.32876\tvalidation_1-logloss:0.33640\n",
      "[299]\tvalidation_0-logloss:0.32873\tvalidation_1-logloss:0.33639\n",
      "[300]\tvalidation_0-logloss:0.32871\tvalidation_1-logloss:0.33639\n",
      "[301]\tvalidation_0-logloss:0.32869\tvalidation_1-logloss:0.33639\n",
      "[302]\tvalidation_0-logloss:0.32866\tvalidation_1-logloss:0.33639\n",
      "[303]\tvalidation_0-logloss:0.32864\tvalidation_1-logloss:0.33638\n",
      "[304]\tvalidation_0-logloss:0.32862\tvalidation_1-logloss:0.33638\n",
      "[305]\tvalidation_0-logloss:0.32858\tvalidation_1-logloss:0.33637\n",
      "[306]\tvalidation_0-logloss:0.32856\tvalidation_1-logloss:0.33637\n",
      "[307]\tvalidation_0-logloss:0.32854\tvalidation_1-logloss:0.33637\n",
      "[308]\tvalidation_0-logloss:0.32851\tvalidation_1-logloss:0.33638\n",
      "[309]\tvalidation_0-logloss:0.32849\tvalidation_1-logloss:0.33637\n",
      "[310]\tvalidation_0-logloss:0.32848\tvalidation_1-logloss:0.33637\n",
      "[311]\tvalidation_0-logloss:0.32844\tvalidation_1-logloss:0.33636\n",
      "[312]\tvalidation_0-logloss:0.32841\tvalidation_1-logloss:0.33635\n",
      "[313]\tvalidation_0-logloss:0.32840\tvalidation_1-logloss:0.33635\n",
      "[314]\tvalidation_0-logloss:0.32838\tvalidation_1-logloss:0.33635\n",
      "[315]\tvalidation_0-logloss:0.32834\tvalidation_1-logloss:0.33635\n",
      "[316]\tvalidation_0-logloss:0.32831\tvalidation_1-logloss:0.33634\n",
      "[317]\tvalidation_0-logloss:0.32828\tvalidation_1-logloss:0.33634\n",
      "[318]\tvalidation_0-logloss:0.32825\tvalidation_1-logloss:0.33634\n",
      "[319]\tvalidation_0-logloss:0.32823\tvalidation_1-logloss:0.33634\n",
      "[320]\tvalidation_0-logloss:0.32820\tvalidation_1-logloss:0.33633\n",
      "[321]\tvalidation_0-logloss:0.32817\tvalidation_1-logloss:0.33633\n",
      "[322]\tvalidation_0-logloss:0.32814\tvalidation_1-logloss:0.33633\n",
      "[323]\tvalidation_0-logloss:0.32812\tvalidation_1-logloss:0.33632\n",
      "[324]\tvalidation_0-logloss:0.32809\tvalidation_1-logloss:0.33632\n",
      "[325]\tvalidation_0-logloss:0.32805\tvalidation_1-logloss:0.33631\n",
      "[326]\tvalidation_0-logloss:0.32802\tvalidation_1-logloss:0.33631\n",
      "[327]\tvalidation_0-logloss:0.32799\tvalidation_1-logloss:0.33630\n",
      "[328]\tvalidation_0-logloss:0.32797\tvalidation_1-logloss:0.33630\n",
      "[329]\tvalidation_0-logloss:0.32796\tvalidation_1-logloss:0.33630\n",
      "[330]\tvalidation_0-logloss:0.32793\tvalidation_1-logloss:0.33629\n",
      "[331]\tvalidation_0-logloss:0.32790\tvalidation_1-logloss:0.33629\n",
      "[332]\tvalidation_0-logloss:0.32789\tvalidation_1-logloss:0.33629\n",
      "[333]\tvalidation_0-logloss:0.32786\tvalidation_1-logloss:0.33628\n",
      "[334]\tvalidation_0-logloss:0.32784\tvalidation_1-logloss:0.33628\n",
      "[335]\tvalidation_0-logloss:0.32782\tvalidation_1-logloss:0.33626\n",
      "[336]\tvalidation_0-logloss:0.32778\tvalidation_1-logloss:0.33625\n",
      "[337]\tvalidation_0-logloss:0.32775\tvalidation_1-logloss:0.33625\n",
      "[338]\tvalidation_0-logloss:0.32772\tvalidation_1-logloss:0.33623\n",
      "[339]\tvalidation_0-logloss:0.32770\tvalidation_1-logloss:0.33623\n",
      "[340]\tvalidation_0-logloss:0.32767\tvalidation_1-logloss:0.33623\n",
      "[341]\tvalidation_0-logloss:0.32766\tvalidation_1-logloss:0.33623\n",
      "[342]\tvalidation_0-logloss:0.32765\tvalidation_1-logloss:0.33623\n",
      "[343]\tvalidation_0-logloss:0.32761\tvalidation_1-logloss:0.33622\n",
      "[344]\tvalidation_0-logloss:0.32760\tvalidation_1-logloss:0.33622\n",
      "[345]\tvalidation_0-logloss:0.32759\tvalidation_1-logloss:0.33622\n",
      "[346]\tvalidation_0-logloss:0.32757\tvalidation_1-logloss:0.33622\n",
      "[347]\tvalidation_0-logloss:0.32755\tvalidation_1-logloss:0.33622\n",
      "[348]\tvalidation_0-logloss:0.32752\tvalidation_1-logloss:0.33622\n",
      "[349]\tvalidation_0-logloss:0.32749\tvalidation_1-logloss:0.33622\n",
      "[350]\tvalidation_0-logloss:0.32747\tvalidation_1-logloss:0.33622\n",
      "[351]\tvalidation_0-logloss:0.32745\tvalidation_1-logloss:0.33622\n",
      "[352]\tvalidation_0-logloss:0.32745\tvalidation_1-logloss:0.33622\n",
      "[353]\tvalidation_0-logloss:0.32744\tvalidation_1-logloss:0.33622\n",
      "[354]\tvalidation_0-logloss:0.32741\tvalidation_1-logloss:0.33621\n",
      "[355]\tvalidation_0-logloss:0.32739\tvalidation_1-logloss:0.33621\n",
      "[356]\tvalidation_0-logloss:0.32737\tvalidation_1-logloss:0.33621\n",
      "[357]\tvalidation_0-logloss:0.32735\tvalidation_1-logloss:0.33621\n",
      "[358]\tvalidation_0-logloss:0.32734\tvalidation_1-logloss:0.33621\n",
      "[359]\tvalidation_0-logloss:0.32731\tvalidation_1-logloss:0.33621\n",
      "[360]\tvalidation_0-logloss:0.32729\tvalidation_1-logloss:0.33621\n",
      "[361]\tvalidation_0-logloss:0.32725\tvalidation_1-logloss:0.33620\n",
      "[362]\tvalidation_0-logloss:0.32724\tvalidation_1-logloss:0.33619\n",
      "[363]\tvalidation_0-logloss:0.32721\tvalidation_1-logloss:0.33619\n",
      "[364]\tvalidation_0-logloss:0.32717\tvalidation_1-logloss:0.33618\n",
      "[365]\tvalidation_0-logloss:0.32715\tvalidation_1-logloss:0.33619\n",
      "[366]\tvalidation_0-logloss:0.32713\tvalidation_1-logloss:0.33618\n",
      "[367]\tvalidation_0-logloss:0.32713\tvalidation_1-logloss:0.33618\n",
      "[368]\tvalidation_0-logloss:0.32710\tvalidation_1-logloss:0.33618\n",
      "[369]\tvalidation_0-logloss:0.32710\tvalidation_1-logloss:0.33618\n",
      "[370]\tvalidation_0-logloss:0.32708\tvalidation_1-logloss:0.33618\n",
      "[371]\tvalidation_0-logloss:0.32706\tvalidation_1-logloss:0.33618\n",
      "[372]\tvalidation_0-logloss:0.32704\tvalidation_1-logloss:0.33618\n",
      "[373]\tvalidation_0-logloss:0.32703\tvalidation_1-logloss:0.33617\n",
      "[374]\tvalidation_0-logloss:0.32700\tvalidation_1-logloss:0.33617\n",
      "[375]\tvalidation_0-logloss:0.32696\tvalidation_1-logloss:0.33617\n",
      "[376]\tvalidation_0-logloss:0.32695\tvalidation_1-logloss:0.33618\n",
      "[377]\tvalidation_0-logloss:0.32693\tvalidation_1-logloss:0.33618\n",
      "[378]\tvalidation_0-logloss:0.32690\tvalidation_1-logloss:0.33618\n",
      "[379]\tvalidation_0-logloss:0.32688\tvalidation_1-logloss:0.33618\n",
      "[380]\tvalidation_0-logloss:0.32686\tvalidation_1-logloss:0.33617\n",
      "[381]\tvalidation_0-logloss:0.32682\tvalidation_1-logloss:0.33616\n",
      "[382]\tvalidation_0-logloss:0.32680\tvalidation_1-logloss:0.33616\n",
      "[383]\tvalidation_0-logloss:0.32677\tvalidation_1-logloss:0.33615\n",
      "[384]\tvalidation_0-logloss:0.32674\tvalidation_1-logloss:0.33614\n",
      "[385]\tvalidation_0-logloss:0.32672\tvalidation_1-logloss:0.33614\n",
      "[386]\tvalidation_0-logloss:0.32669\tvalidation_1-logloss:0.33614\n",
      "[387]\tvalidation_0-logloss:0.32667\tvalidation_1-logloss:0.33614\n",
      "[388]\tvalidation_0-logloss:0.32665\tvalidation_1-logloss:0.33613\n",
      "[389]\tvalidation_0-logloss:0.32663\tvalidation_1-logloss:0.33613\n",
      "[390]\tvalidation_0-logloss:0.32661\tvalidation_1-logloss:0.33613\n",
      "[391]\tvalidation_0-logloss:0.32659\tvalidation_1-logloss:0.33613\n",
      "[392]\tvalidation_0-logloss:0.32657\tvalidation_1-logloss:0.33613\n",
      "[393]\tvalidation_0-logloss:0.32655\tvalidation_1-logloss:0.33613\n",
      "[394]\tvalidation_0-logloss:0.32652\tvalidation_1-logloss:0.33613\n",
      "[395]\tvalidation_0-logloss:0.32650\tvalidation_1-logloss:0.33613\n",
      "[396]\tvalidation_0-logloss:0.32647\tvalidation_1-logloss:0.33613\n",
      "[397]\tvalidation_0-logloss:0.32645\tvalidation_1-logloss:0.33613\n",
      "[398]\tvalidation_0-logloss:0.32643\tvalidation_1-logloss:0.33613\n",
      "[399]\tvalidation_0-logloss:0.32643\tvalidation_1-logloss:0.33613\n",
      "[400]\tvalidation_0-logloss:0.32640\tvalidation_1-logloss:0.33612\n",
      "[401]\tvalidation_0-logloss:0.32638\tvalidation_1-logloss:0.33612\n",
      "[402]\tvalidation_0-logloss:0.32636\tvalidation_1-logloss:0.33613\n",
      "[403]\tvalidation_0-logloss:0.32633\tvalidation_1-logloss:0.33612\n",
      "[404]\tvalidation_0-logloss:0.32632\tvalidation_1-logloss:0.33612\n",
      "[405]\tvalidation_0-logloss:0.32629\tvalidation_1-logloss:0.33612\n",
      "[406]\tvalidation_0-logloss:0.32628\tvalidation_1-logloss:0.33612\n",
      "[407]\tvalidation_0-logloss:0.32626\tvalidation_1-logloss:0.33612\n",
      "[408]\tvalidation_0-logloss:0.32623\tvalidation_1-logloss:0.33612\n",
      "[409]\tvalidation_0-logloss:0.32620\tvalidation_1-logloss:0.33611\n",
      "[410]\tvalidation_0-logloss:0.32618\tvalidation_1-logloss:0.33611\n",
      "[411]\tvalidation_0-logloss:0.32615\tvalidation_1-logloss:0.33612\n",
      "[412]\tvalidation_0-logloss:0.32613\tvalidation_1-logloss:0.33611\n",
      "[413]\tvalidation_0-logloss:0.32610\tvalidation_1-logloss:0.33611\n",
      "[414]\tvalidation_0-logloss:0.32607\tvalidation_1-logloss:0.33611\n",
      "[415]\tvalidation_0-logloss:0.32606\tvalidation_1-logloss:0.33611\n",
      "[416]\tvalidation_0-logloss:0.32603\tvalidation_1-logloss:0.33610\n",
      "[417]\tvalidation_0-logloss:0.32601\tvalidation_1-logloss:0.33610\n",
      "[418]\tvalidation_0-logloss:0.32598\tvalidation_1-logloss:0.33610\n",
      "[419]\tvalidation_0-logloss:0.32596\tvalidation_1-logloss:0.33610\n",
      "[420]\tvalidation_0-logloss:0.32594\tvalidation_1-logloss:0.33610\n",
      "[421]\tvalidation_0-logloss:0.32594\tvalidation_1-logloss:0.33609\n",
      "[422]\tvalidation_0-logloss:0.32591\tvalidation_1-logloss:0.33609\n",
      "[423]\tvalidation_0-logloss:0.32588\tvalidation_1-logloss:0.33609\n",
      "[424]\tvalidation_0-logloss:0.32586\tvalidation_1-logloss:0.33609\n",
      "[425]\tvalidation_0-logloss:0.32583\tvalidation_1-logloss:0.33608\n",
      "[426]\tvalidation_0-logloss:0.32581\tvalidation_1-logloss:0.33608\n",
      "[427]\tvalidation_0-logloss:0.32578\tvalidation_1-logloss:0.33608\n",
      "[428]\tvalidation_0-logloss:0.32576\tvalidation_1-logloss:0.33607\n",
      "[429]\tvalidation_0-logloss:0.32573\tvalidation_1-logloss:0.33607\n",
      "[430]\tvalidation_0-logloss:0.32570\tvalidation_1-logloss:0.33607\n",
      "[431]\tvalidation_0-logloss:0.32569\tvalidation_1-logloss:0.33607\n",
      "[432]\tvalidation_0-logloss:0.32567\tvalidation_1-logloss:0.33607\n",
      "[433]\tvalidation_0-logloss:0.32565\tvalidation_1-logloss:0.33607\n",
      "[434]\tvalidation_0-logloss:0.32565\tvalidation_1-logloss:0.33607\n",
      "[435]\tvalidation_0-logloss:0.32563\tvalidation_1-logloss:0.33607\n",
      "[436]\tvalidation_0-logloss:0.32561\tvalidation_1-logloss:0.33606\n",
      "[437]\tvalidation_0-logloss:0.32559\tvalidation_1-logloss:0.33606\n",
      "[438]\tvalidation_0-logloss:0.32557\tvalidation_1-logloss:0.33607\n",
      "[439]\tvalidation_0-logloss:0.32555\tvalidation_1-logloss:0.33606\n",
      "[440]\tvalidation_0-logloss:0.32553\tvalidation_1-logloss:0.33606\n",
      "[441]\tvalidation_0-logloss:0.32551\tvalidation_1-logloss:0.33607\n",
      "[442]\tvalidation_0-logloss:0.32550\tvalidation_1-logloss:0.33606\n",
      "[443]\tvalidation_0-logloss:0.32547\tvalidation_1-logloss:0.33606\n",
      "[444]\tvalidation_0-logloss:0.32544\tvalidation_1-logloss:0.33606\n",
      "[445]\tvalidation_0-logloss:0.32542\tvalidation_1-logloss:0.33606\n",
      "[446]\tvalidation_0-logloss:0.32540\tvalidation_1-logloss:0.33605\n",
      "[447]\tvalidation_0-logloss:0.32538\tvalidation_1-logloss:0.33606\n",
      "[448]\tvalidation_0-logloss:0.32536\tvalidation_1-logloss:0.33605\n",
      "[449]\tvalidation_0-logloss:0.32534\tvalidation_1-logloss:0.33605\n",
      "[450]\tvalidation_0-logloss:0.32533\tvalidation_1-logloss:0.33606\n",
      "[451]\tvalidation_0-logloss:0.32531\tvalidation_1-logloss:0.33606\n",
      "[452]\tvalidation_0-logloss:0.32529\tvalidation_1-logloss:0.33606\n",
      "[453]\tvalidation_0-logloss:0.32528\tvalidation_1-logloss:0.33606\n",
      "[454]\tvalidation_0-logloss:0.32526\tvalidation_1-logloss:0.33607\n",
      "[455]\tvalidation_0-logloss:0.32525\tvalidation_1-logloss:0.33606\n",
      "[456]\tvalidation_0-logloss:0.32524\tvalidation_1-logloss:0.33606\n",
      "[457]\tvalidation_0-logloss:0.32522\tvalidation_1-logloss:0.33607\n",
      "[458]\tvalidation_0-logloss:0.32521\tvalidation_1-logloss:0.33607\n",
      "[459]\tvalidation_0-logloss:0.32519\tvalidation_1-logloss:0.33607\n",
      "[460]\tvalidation_0-logloss:0.32517\tvalidation_1-logloss:0.33607\n",
      "[461]\tvalidation_0-logloss:0.32515\tvalidation_1-logloss:0.33607\n",
      "[462]\tvalidation_0-logloss:0.32512\tvalidation_1-logloss:0.33607\n",
      "[463]\tvalidation_0-logloss:0.32510\tvalidation_1-logloss:0.33607\n",
      "[464]\tvalidation_0-logloss:0.32509\tvalidation_1-logloss:0.33607\n",
      "[465]\tvalidation_0-logloss:0.32507\tvalidation_1-logloss:0.33607\n",
      "[466]\tvalidation_0-logloss:0.32505\tvalidation_1-logloss:0.33607\n",
      "[467]\tvalidation_0-logloss:0.32503\tvalidation_1-logloss:0.33607\n",
      "[468]\tvalidation_0-logloss:0.32500\tvalidation_1-logloss:0.33607\n",
      "[469]\tvalidation_0-logloss:0.32498\tvalidation_1-logloss:0.33606\n",
      "[470]\tvalidation_0-logloss:0.32496\tvalidation_1-logloss:0.33606\n",
      "[471]\tvalidation_0-logloss:0.32493\tvalidation_1-logloss:0.33605\n",
      "[472]\tvalidation_0-logloss:0.32490\tvalidation_1-logloss:0.33605\n",
      "[473]\tvalidation_0-logloss:0.32487\tvalidation_1-logloss:0.33606\n",
      "[474]\tvalidation_0-logloss:0.32484\tvalidation_1-logloss:0.33605\n",
      "[475]\tvalidation_0-logloss:0.32482\tvalidation_1-logloss:0.33605\n",
      "[476]\tvalidation_0-logloss:0.32481\tvalidation_1-logloss:0.33605\n",
      "[477]\tvalidation_0-logloss:0.32478\tvalidation_1-logloss:0.33605\n",
      "[478]\tvalidation_0-logloss:0.32475\tvalidation_1-logloss:0.33605\n",
      "[479]\tvalidation_0-logloss:0.32472\tvalidation_1-logloss:0.33604\n",
      "[480]\tvalidation_0-logloss:0.32469\tvalidation_1-logloss:0.33604\n",
      "[481]\tvalidation_0-logloss:0.32467\tvalidation_1-logloss:0.33604\n",
      "[482]\tvalidation_0-logloss:0.32465\tvalidation_1-logloss:0.33604\n",
      "[483]\tvalidation_0-logloss:0.32463\tvalidation_1-logloss:0.33604\n",
      "[484]\tvalidation_0-logloss:0.32462\tvalidation_1-logloss:0.33604\n",
      "[485]\tvalidation_0-logloss:0.32460\tvalidation_1-logloss:0.33604\n",
      "[486]\tvalidation_0-logloss:0.32458\tvalidation_1-logloss:0.33604\n",
      "[487]\tvalidation_0-logloss:0.32456\tvalidation_1-logloss:0.33604\n",
      "[488]\tvalidation_0-logloss:0.32456\tvalidation_1-logloss:0.33604\n",
      "[489]\tvalidation_0-logloss:0.32455\tvalidation_1-logloss:0.33604\n",
      "[490]\tvalidation_0-logloss:0.32454\tvalidation_1-logloss:0.33604\n",
      "[491]\tvalidation_0-logloss:0.32453\tvalidation_1-logloss:0.33605\n",
      "[492]\tvalidation_0-logloss:0.32451\tvalidation_1-logloss:0.33604\n",
      "[493]\tvalidation_0-logloss:0.32449\tvalidation_1-logloss:0.33604\n",
      "[494]\tvalidation_0-logloss:0.32446\tvalidation_1-logloss:0.33604\n",
      "[495]\tvalidation_0-logloss:0.32444\tvalidation_1-logloss:0.33604\n",
      "[496]\tvalidation_0-logloss:0.32442\tvalidation_1-logloss:0.33604\n",
      "[497]\tvalidation_0-logloss:0.32440\tvalidation_1-logloss:0.33603\n",
      "[498]\tvalidation_0-logloss:0.32437\tvalidation_1-logloss:0.33603\n",
      "[499]\tvalidation_0-logloss:0.32435\tvalidation_1-logloss:0.33603\n"
     ]
    }
   ],
   "source": [
    "model.fit(X_train, y_train, eval_set=[(X_train, y_train), (X_val, y_val)], verbose=True);"
   ]
  },
  {
   "cell_type": "code",
   "execution_count": 76,
   "id": "34dc2b77",
   "metadata": {
    "colab": {
     "base_uri": "https://localhost:8080/"
    },
    "id": "34dc2b77",
    "outputId": "ad5dd26c-272e-4178-c33d-48102ff0d9d8"
   },
   "outputs": [
    {
     "name": "stdout",
     "output_type": "stream",
     "text": [
      "Лучшая Итерация: 499\n"
     ]
    }
   ],
   "source": [
    "print(\"Лучшая Итерация: {}\".format(model.get_booster().best_iteration))"
   ]
  },
  {
   "cell_type": "code",
   "execution_count": 77,
   "id": "c948f6be",
   "metadata": {
    "id": "c948f6be"
   },
   "outputs": [],
   "source": [
    "results = model.evals_result()"
   ]
  },
  {
   "cell_type": "code",
   "execution_count": 78,
   "id": "658d2f78",
   "metadata": {
    "colab": {
     "base_uri": "https://localhost:8080/",
     "height": 619
    },
    "id": "658d2f78",
    "outputId": "c67569fe-78f7-4850-c8d2-47c38931306e"
   },
   "outputs": [
    {
     "data": {
      "image/png": "[encoded data removed]",
      "text/plain": [
       "<Figure size 1000x700 with 1 Axes>"
      ]
     },
     "metadata": {},
     "output_type": "display_data"
    }
   ],
   "source": [
    "plt.figure(figsize=(10, 7))\n",
    "plt.plot(results[\"validation_0\"][\"logloss\"], label=\"Потери на Тренировочных данных\")\n",
    "plt.plot(results[\"validation_1\"][\"logloss\"], label=\"Потери на Валидационных данных\")\n",
    "plt.xlabel(\"Количество Деревьев\")\n",
    "plt.ylabel(\"Потери\")\n",
    "plt.xlim(0, 50)\n",
    "plt.legend();"
   ]
  },
  {
   "cell_type": "markdown",
   "id": "4138b933",
   "metadata": {
    "id": "4138b933"
   },
   "source": [
    "График выше демонстрирует, что начиная с 10, количество деревьев не приводит к существенному уменьшению функции потерь."
   ]
  },
  {
   "cell_type": "code",
   "execution_count": 79,
   "id": "87aa427e",
   "metadata": {
    "id": "87aa427e"
   },
   "outputs": [],
   "source": [
    "def calculate_metric(model_pipe, X, y, metric=f1_score):\n",
    "    \"\"\"Расчет метрики.\n",
    "    Параметры:\n",
    "    ===========\n",
    "    model_pipe: модель или pipeline\n",
    "    X: признаки\n",
    "    y: истинные значения\n",
    "    metric: метрика\n",
    "    \"\"\"\n",
    "    y_model = model_pipe.predict(X)\n",
    "    return metric(y, y_model, average=\"macro\")"
   ]
  },
  {
   "cell_type": "code",
   "execution_count": 80,
   "id": "c90c25b6",
   "metadata": {
    "colab": {
     "base_uri": "https://localhost:8080/"
    },
    "id": "c90c25b6",
    "outputId": "088137a2-5278-492a-c506-fe2be0c80ec6"
   },
   "outputs": [
    {
     "name": "stdout",
     "output_type": "stream",
     "text": [
      "f1_macro на тренировочной выборке: 0.5881\n",
      "f1_macro на валидационной выборке: 0.5673\n"
     ]
    }
   ],
   "source": [
    "print(f\"f1_macro на тренировочной выборке: {calculate_metric(model, X_train, y_train):.4f}\")\n",
    "print(f\"f1_macro на валидационной выборке: {calculate_metric(model, X_val, y_val):.4f}\")"
   ]
  },
  {
   "cell_type": "markdown",
   "id": "2dedf46e",
   "metadata": {
    "id": "2dedf46e"
   },
   "source": [
    "# Настройка гиперпараметров"
   ]
  },
  {
   "cell_type": "markdown",
   "id": "0b6019f6",
   "metadata": {
    "id": "0b6019f6"
   },
   "source": [
    "Для поиска оптимальных гиперпараметров воспользуемся Optuna."
   ]
  },
  {
   "cell_type": "code",
   "execution_count": 81,
   "id": "bfc31da1",
   "metadata": {
    "id": "bfc31da1"
   },
   "outputs": [],
   "source": [
    "def f1_macro(preds, dtrain):\n",
    "    labels = dtrain.get_label()\n",
    "    preds = np.argmax(preds, axis=1)\n",
    "    f1 = f1_score(labels, preds, average=\"macro\")\n",
    "    return \"f1_macro\", f1"
   ]
  },
  {
   "cell_type": "code",
   "execution_count": 82,
   "id": "0976287c",
   "metadata": {
    "id": "0976287c"
   },
   "outputs": [],
   "source": [
    "def objective(trial):\n",
    "    params = {\n",
    "        \"max_depth\": trial.suggest_int(\"max_depth\", 1, 9),\n",
    "        \"learning_rate\": trial.suggest_loguniform(\"learning_rate\", 0.01, 1.0),\n",
    "        \"n_estimators\": trial.suggest_int(\"n_estimators\", 10, 100),\n",
    "        \"min_child_weight\": trial.suggest_int(\"min_child_weight\", 1, 10),\n",
    "        \"gamma\": trial.suggest_loguniform(\"gamma\", 1e-8, 1.0),\n",
    "        \"subsample\": trial.suggest_loguniform(\"subsample\", 0.01, 1.0),\n",
    "        \"colsample_bytree\": trial.suggest_loguniform(\"colsample_bytree\", 0.01, 1.0),\n",
    "        \"reg_alpha\": trial.suggest_loguniform(\"reg_alpha\", 1e-8, 1.0),\n",
    "        \"reg_lambda\": trial.suggest_loguniform(\"reg_lambda\", 1e-8, 1.0),\n",
    "        \"scale_pos_weight\": trial.suggest_int(\"scale_pos_weight\", 1, 3),\n",
    "    }\n",
    "\n",
    "    estimator = xgb.XGBClassifier(\n",
    "        **params,\n",
    "        random_state=42,\n",
    "        eval_metric=f1_macro,\n",
    "        objective=\"binary:logistic\",\n",
    "        enable_categorical=True\n",
    "    )\n",
    "\n",
    "    # -- Указываем тип кросс-валидации\n",
    "    cv = ShuffleSplit(n_splits=5, random_state=42)  # на сколько разбиваем\n",
    "\n",
    "    # -- Оцениваем по кросс-валидации\n",
    "    score = cross_val_score(estimator, X, y, scoring=\"f1_macro\", cv=cv, n_jobs=-1)\n",
    "\n",
    "    final_score = score.mean()  # усредняем по этапам кросс-валидации\n",
    "\n",
    "    return final_score"
   ]
  },
  {
   "cell_type": "code",
   "execution_count": 83,
   "id": "fe8952cc",
   "metadata": {
    "colab": {
     "base_uri": "https://localhost:8080/"
    },
    "id": "fe8952cc",
    "outputId": "8310508a-2442-4739-9624-e09d8464e8ec",
    "scrolled": true
   },
   "outputs": [
    {
     "name": "stderr",
     "output_type": "stream",
     "text": [
      "[I 2024-07-08 10:59:58,656] A new study created in memory with name: study_XGB_final\n",
      "[I 2024-07-08 11:06:41,802] Trial 1 finished with value: 0.46247415163731026 and parameters: {'max_depth': 7, 'learning_rate': 0.02502276764666527, 'n_estimators': 30, 'min_child_weight': 6, 'gamma': 0.0018442588962902567, 'subsample': 0.11999916824774415, 'colsample_bytree': 0.1910339422137664, 'reg_alpha': 6.406499853867667e-07, 'reg_lambda': 0.04941474614506731, 'scale_pos_weight': 1}. Best is trial 1 with value: 0.46247415163731026.\n",
      "[I 2024-07-08 11:07:46,152] Trial 2 finished with value: 0.6588868498803808 and parameters: {'max_depth': 5, 'learning_rate': 0.0728764294683058, 'n_estimators': 80, 'min_child_weight': 3, 'gamma': 0.0002472590522610991, 'subsample': 0.01564500838293051, 'colsample_bytree': 0.4448737792364686, 'reg_alpha': 0.00026886082609566496, 'reg_lambda': 2.114353663782e-05, 'scale_pos_weight': 3}. Best is trial 2 with value: 0.6588868498803808.\n",
      "[I 2024-07-08 11:08:05,764] Trial 0 finished with value: 0.6608540411435667 and parameters: {'max_depth': 8, 'learning_rate': 0.19154027851860395, 'n_estimators': 71, 'min_child_weight': 3, 'gamma': 0.0024797517060209163, 'subsample': 0.12258992242341166, 'colsample_bytree': 0.8843075073464147, 'reg_alpha': 0.006236830221090011, 'reg_lambda': 0.011223403613926687, 'scale_pos_weight': 3}. Best is trial 0 with value: 0.6608540411435667.\n",
      "[I 2024-07-08 11:11:04,528] Trial 3 finished with value: 0.5523069303421105 and parameters: {'max_depth': 7, 'learning_rate': 0.201019726715811, 'n_estimators': 82, 'min_child_weight': 4, 'gamma': 0.0010606619883588954, 'subsample': 0.5128213269167773, 'colsample_bytree': 0.2474183026049396, 'reg_alpha': 0.2053295415793565, 'reg_lambda': 0.28627006038603187, 'scale_pos_weight': 1}. Best is trial 0 with value: 0.6608540411435667.\n",
      "[I 2024-07-08 11:11:36,647] Trial 4 finished with value: 0.6019287745549627 and parameters: {'max_depth': 6, 'learning_rate': 0.09083441061512623, 'n_estimators': 13, 'min_child_weight': 9, 'gamma': 0.12038132242325246, 'subsample': 0.39644891952854244, 'colsample_bytree': 0.5169539377275388, 'reg_alpha': 6.77143155529364e-06, 'reg_lambda': 0.010634625946917515, 'scale_pos_weight': 3}. Best is trial 0 with value: 0.6608540411435667.\n",
      "[I 2024-07-08 11:14:44,682] Trial 5 finished with value: 0.46266043704863835 and parameters: {'max_depth': 5, 'learning_rate': 0.04269992899919964, 'n_estimators': 76, 'min_child_weight': 6, 'gamma': 0.10967540195524074, 'subsample': 0.10952635471595029, 'colsample_bytree': 0.03212955036496574, 'reg_alpha': 0.040101145892333837, 'reg_lambda': 2.9765988756959616e-05, 'scale_pos_weight': 1}. Best is trial 0 with value: 0.6608540411435667.\n",
      "[I 2024-07-08 11:15:12,392] Trial 6 finished with value: 0.6582438632038077 and parameters: {'max_depth': 6, 'learning_rate': 0.10962964856132038, 'n_estimators': 25, 'min_child_weight': 2, 'gamma': 2.495117788515752e-06, 'subsample': 0.25687922616907954, 'colsample_bytree': 0.6698767264139134, 'reg_alpha': 9.83107876667041e-07, 'reg_lambda': 1.918943675238386e-06, 'scale_pos_weight': 3}. Best is trial 0 with value: 0.6608540411435667.\n",
      "[I 2024-07-08 11:18:11,819] Trial 7 finished with value: 0.46247415163731026 and parameters: {'max_depth': 7, 'learning_rate': 0.014377381343604612, 'n_estimators': 46, 'min_child_weight': 9, 'gamma': 0.0006278616792075168, 'subsample': 0.20826849156846067, 'colsample_bytree': 0.6277229295129743, 'reg_alpha': 0.3082459628901328, 'reg_lambda': 0.24030960231158732, 'scale_pos_weight': 1}. Best is trial 0 with value: 0.6608540411435667.\n",
      "[I 2024-07-08 11:20:48,006] Trial 9 finished with value: 0.46247415163731026 and parameters: {'max_depth': 2, 'learning_rate': 0.023979613277760298, 'n_estimators': 15, 'min_child_weight': 3, 'gamma': 6.511984788346519e-08, 'subsample': 0.36245824773975865, 'colsample_bytree': 0.3249053460954781, 'reg_alpha': 0.025934172648063695, 'reg_lambda': 6.002851906193667e-06, 'scale_pos_weight': 1}. Best is trial 0 with value: 0.6608540411435667.\n",
      "[I 2024-07-08 11:21:07,354] Trial 8 finished with value: 0.6178496444308671 and parameters: {'max_depth': 4, 'learning_rate': 0.021541392198712848, 'n_estimators': 80, 'min_child_weight': 4, 'gamma': 0.21563814540588136, 'subsample': 0.5698599360908598, 'colsample_bytree': 0.3895740029240216, 'reg_alpha': 1.488418257920178e-07, 'reg_lambda': 1.956997372695415e-07, 'scale_pos_weight': 3}. Best is trial 0 with value: 0.6608540411435667.\n",
      "[I 2024-07-08 11:22:49,151] Trial 10 finished with value: 0.462500281119646 and parameters: {'max_depth': 6, 'learning_rate': 0.04664094580723282, 'n_estimators': 37, 'min_child_weight': 3, 'gamma': 0.00313494144747636, 'subsample': 0.6091164618059766, 'colsample_bytree': 0.06873925267620094, 'reg_alpha': 7.822717567707757e-07, 'reg_lambda': 0.04912585097672307, 'scale_pos_weight': 2}. Best is trial 0 with value: 0.6608540411435667.\n",
      "[I 2024-07-08 11:26:47,104] Trial 11 finished with value: 0.657983540861235 and parameters: {'max_depth': 6, 'learning_rate': 0.28491059374110245, 'n_estimators': 93, 'min_child_weight': 4, 'gamma': 0.8796329916481793, 'subsample': 0.5216248444718119, 'colsample_bytree': 0.1475129008364147, 'reg_alpha': 1.3208947575148017e-05, 'reg_lambda': 0.00747425915405658, 'scale_pos_weight': 3}. Best is trial 0 with value: 0.6608540411435667.\n",
      "[I 2024-07-08 11:28:24,305] Trial 12 finished with value: 0.6376793048460356 and parameters: {'max_depth': 5, 'learning_rate': 0.4656733972872183, 'n_estimators': 72, 'min_child_weight': 8, 'gamma': 3.3572627942467453e-07, 'subsample': 0.8579710005158074, 'colsample_bytree': 0.026963819826246366, 'reg_alpha': 2.0905003783201107e-06, 'reg_lambda': 2.7705651981794833e-05, 'scale_pos_weight': 2}. Best is trial 0 with value: 0.6608540411435667.\n",
      "[I 2024-07-08 11:31:20,332] Trial 13 finished with value: 0.6391306248128702 and parameters: {'max_depth': 9, 'learning_rate': 0.7822699582874421, 'n_estimators': 99, 'min_child_weight': 7, 'gamma': 8.445125344059127e-06, 'subsample': 0.022297644645553227, 'colsample_bytree': 0.060156650721112814, 'reg_alpha': 0.0013822838920681557, 'reg_lambda': 0.001695092925350512, 'scale_pos_weight': 2}. Best is trial 0 with value: 0.6608540411435667.\n",
      "[I 2024-07-08 11:34:58,027] Trial 14 finished with value: 0.6110924468963255 and parameters: {'max_depth': 9, 'learning_rate': 0.7602666802411253, 'n_estimators': 98, 'min_child_weight': 1, 'gamma': 1.0759158621162153e-05, 'subsample': 0.017999854816693178, 'colsample_bytree': 0.9556016829363668, 'reg_alpha': 0.0007305244703639985, 'reg_lambda': 0.0011308153168240527, 'scale_pos_weight': 2}. Best is trial 0 with value: 0.6608540411435667.\n",
      "[I 2024-07-08 11:36:14,583] Trial 15 finished with value: 0.6391897808079927 and parameters: {'max_depth': 9, 'learning_rate': 0.9610178088182761, 'n_estimators': 62, 'min_child_weight': 1, 'gamma': 2.38627617550616e-05, 'subsample': 0.023395208834789058, 'colsample_bytree': 0.010973697381419203, 'reg_alpha': 0.0006996235796838699, 'reg_lambda': 0.0008365740805760034, 'scale_pos_weight': 2}. Best is trial 0 with value: 0.6608540411435667.\n",
      "[I 2024-07-08 11:38:58,508] Trial 16 finished with value: 0.6141263004072778 and parameters: {'max_depth': 9, 'learning_rate': 0.7816103356602699, 'n_estimators': 64, 'min_child_weight': 1, 'gamma': 2.1480624414265584e-05, 'subsample': 0.020933854054116574, 'colsample_bytree': 0.998850684914492, 'reg_alpha': 0.0007417305389157702, 'reg_lambda': 0.000309366209809002, 'scale_pos_weight': 2}. Best is trial 0 with value: 0.6608540411435667.\n",
      "[I 2024-07-08 11:42:01,114] Trial 17 finished with value: 0.6565974221284732 and parameters: {'max_depth': 9, 'learning_rate': 0.12081848743934524, 'n_estimators': 61, 'min_child_weight': 1, 'gamma': 7.638822340693611e-05, 'subsample': 0.03040280278724424, 'colsample_bytree': 0.9384301913081564, 'reg_alpha': 0.0005490280862091086, 'reg_lambda': 0.0004710533720438984, 'scale_pos_weight': 3}. Best is trial 0 with value: 0.6608540411435667.\n",
      "[I 2024-07-08 11:43:11,187] Trial 18 finished with value: 0.658786732406336 and parameters: {'max_depth': 3, 'learning_rate': 0.11100179571552371, 'n_estimators': 61, 'min_child_weight': 1, 'gamma': 7.830555631193023e-05, 'subsample': 0.04085848218094012, 'colsample_bytree': 0.899326693876378, 'reg_alpha': 0.00010444224112881372, 'reg_lambda': 0.00036219141838854656, 'scale_pos_weight': 3}. Best is trial 0 with value: 0.6608540411435667.\n",
      "[I 2024-07-08 11:44:25,029] Trial 19 finished with value: 0.644069217756051 and parameters: {'max_depth': 3, 'learning_rate': 0.16559135711159886, 'n_estimators': 59, 'min_child_weight': 5, 'gamma': 0.014372071235765041, 'subsample': 0.04537436525921675, 'colsample_bytree': 0.11954546505475694, 'reg_alpha': 4.6669747217452514e-05, 'reg_lambda': 1.4825728826427752e-08, 'scale_pos_weight': 3}. Best is trial 0 with value: 0.6608540411435667.\n",
      "[I 2024-07-08 11:46:02,228] Trial 20 finished with value: 0.638795043415634 and parameters: {'max_depth': 3, 'learning_rate': 0.14276647958447705, 'n_estimators': 52, 'min_child_weight': 5, 'gamma': 0.009448927326666943, 'subsample': 0.0461961889535991, 'colsample_bytree': 0.11719086448497283, 'reg_alpha': 5.134818158779402e-05, 'reg_lambda': 1.4737339350157566e-08, 'scale_pos_weight': 3}. Best is trial 0 with value: 0.6608540411435667.\n",
      "[I 2024-07-08 11:47:33,417] Trial 21 finished with value: 0.6245827805340717 and parameters: {'max_depth': 3, 'learning_rate': 0.055198370920362796, 'n_estimators': 49, 'min_child_weight': 5, 'gamma': 0.01144561187424831, 'subsample': 0.054174751915907766, 'colsample_bytree': 0.34021718662176187, 'reg_alpha': 1.4475123741378491e-08, 'reg_lambda': 1.5851748953500675e-08, 'scale_pos_weight': 3}. Best is trial 0 with value: 0.6608540411435667.\n",
      "[I 2024-07-08 11:49:31,959] Trial 22 finished with value: 0.6496493776897443 and parameters: {'max_depth': 1, 'learning_rate': 0.22102295456755994, 'n_estimators': 90, 'min_child_weight': 5, 'gamma': 0.020860788394951667, 'subsample': 0.07021650382630007, 'colsample_bytree': 0.1278572786079878, 'reg_alpha': 1.2731890864758151e-08, 'reg_lambda': 1.0545112061938952e-07, 'scale_pos_weight': 3}. Best is trial 0 with value: 0.6608540411435667.\n",
      "[I 2024-07-08 11:50:58,061] Trial 23 finished with value: 0.6448249691257427 and parameters: {'max_depth': 1, 'learning_rate': 0.05650966838796833, 'n_estimators': 88, 'min_child_weight': 3, 'gamma': 0.013561382858388503, 'subsample': 0.06263077260928065, 'colsample_bytree': 0.37177320577751577, 'reg_alpha': 0.015604557241709244, 'reg_lambda': 1.894987203070992e-06, 'scale_pos_weight': 3}. Best is trial 0 with value: 0.6608540411435667.\n",
      "[I 2024-07-08 11:52:45,951] Trial 24 finished with value: 0.6507043851480724 and parameters: {'max_depth': 2, 'learning_rate': 0.059241758560871674, 'n_estimators': 73, 'min_child_weight': 2, 'gamma': 0.00022415069269373825, 'subsample': 0.011854782286061728, 'colsample_bytree': 0.414096518777285, 'reg_alpha': 0.010325146303840826, 'reg_lambda': 3.0470286782020736e-05, 'scale_pos_weight': 3}. Best is trial 0 with value: 0.6608540411435667.\n",
      "[I 2024-07-08 11:54:39,069] Trial 25 finished with value: 0.6539596127458343 and parameters: {'max_depth': 1, 'learning_rate': 0.07125964855545416, 'n_estimators': 87, 'min_child_weight': 2, 'gamma': 0.00020990224533564902, 'subsample': 0.010440300393824355, 'colsample_bytree': 0.5677057874169756, 'reg_alpha': 0.007638790929905953, 'reg_lambda': 0.0001447962123302824, 'scale_pos_weight': 3}. Best is trial 0 with value: 0.6608540411435667.\n",
      "[I 2024-07-08 11:56:55,287] Trial 26 finished with value: 0.659234628532845 and parameters: {'max_depth': 4, 'learning_rate': 0.08532545248107137, 'n_estimators': 69, 'min_child_weight': 2, 'gamma': 0.00022782829205376655, 'subsample': 0.01036041548636688, 'colsample_bytree': 0.49278241063462563, 'reg_alpha': 0.005484140376020581, 'reg_lambda': 6.656185755580282e-05, 'scale_pos_weight': 3}. Best is trial 0 with value: 0.6608540411435667.\n",
      "[I 2024-07-08 11:58:37,051] Trial 27 finished with value: 0.6593638663240694 and parameters: {'max_depth': 4, 'learning_rate': 0.08011810098896158, 'n_estimators': 69, 'min_child_weight': 2, 'gamma': 0.00021462798753667657, 'subsample': 0.013121723194338292, 'colsample_bytree': 0.6068930696444713, 'reg_alpha': 0.004919291146734545, 'reg_lambda': 6.850397559939445e-05, 'scale_pos_weight': 3}. Best is trial 0 with value: 0.6608540411435667.\n",
      "[I 2024-07-08 12:00:40,682] Trial 28 finished with value: 0.6555727042564717 and parameters: {'max_depth': 4, 'learning_rate': 0.33145150823023356, 'n_estimators': 71, 'min_child_weight': 2, 'gamma': 0.00010116053602643443, 'subsample': 0.014327189571765814, 'colsample_bytree': 0.6379294239163258, 'reg_alpha': 0.0001165807174819923, 'reg_lambda': 0.00012535678149721332, 'scale_pos_weight': 3}. Best is trial 0 with value: 0.6608540411435667.\n",
      "[I 2024-07-08 12:01:43,967] Trial 29 finished with value: 0.6601667318507112 and parameters: {'max_depth': 4, 'learning_rate': 0.2785895266301189, 'n_estimators': 41, 'min_child_weight': 2, 'gamma': 1.4082354116117763e-06, 'subsample': 0.18256450448162434, 'colsample_bytree': 0.7142707381199074, 'reg_alpha': 0.0002177073421406748, 'reg_lambda': 0.0062327610001360135, 'scale_pos_weight': 3}. Best is trial 0 with value: 0.6608540411435667.\n",
      "[I 2024-07-08 12:04:23,551] Trial 30 finished with value: 0.6460115394724537 and parameters: {'max_depth': 4, 'learning_rate': 0.33190994661114964, 'n_estimators': 68, 'min_child_weight': 3, 'gamma': 0.000808940034450892, 'subsample': 0.16931977290450254, 'colsample_bytree': 0.2874270551291756, 'reg_alpha': 0.9927974271118641, 'reg_lambda': 5.338991845805538e-06, 'scale_pos_weight': 2}. Best is trial 0 with value: 0.6608540411435667.\n",
      "[I 2024-07-08 12:05:28,267] Trial 31 finished with value: 0.64349251669239 and parameters: {'max_depth': 4, 'learning_rate': 0.42746172206132266, 'n_estimators': 43, 'min_child_weight': 2, 'gamma': 1.0147228119895465e-06, 'subsample': 0.17564776515057426, 'colsample_bytree': 0.2501288418804821, 'reg_alpha': 0.0041673654123240735, 'reg_lambda': 0.0034568817769763415, 'scale_pos_weight': 2}. Best is trial 0 with value: 0.6608540411435667.\n",
      "[I 2024-07-08 12:09:03,243] Trial 32 finished with value: 0.4889753658381582 and parameters: {'max_depth': 8, 'learning_rate': 0.03218714066713686, 'n_estimators': 67, 'min_child_weight': 4, 'gamma': 0.001724276834957348, 'subsample': 0.1732294828087171, 'colsample_bytree': 0.2123650272709175, 'reg_alpha': 0.004035273476553084, 'reg_lambda': 0.004236158082902131, 'scale_pos_weight': 2}. Best is trial 0 with value: 0.6608540411435667.\n",
      "[I 2024-07-08 12:10:35,396] Trial 33 finished with value: 0.6379944933232844 and parameters: {'max_depth': 8, 'learning_rate': 0.379921327708824, 'n_estimators': 43, 'min_child_weight': 4, 'gamma': 2.8364213951850833e-06, 'subsample': 0.16170798424680474, 'colsample_bytree': 0.22660062388235996, 'reg_alpha': 0.070063485425006, 'reg_lambda': 0.00541607442314788, 'scale_pos_weight': 2}. Best is trial 0 with value: 0.6608540411435667.\n",
      "[I 2024-07-08 12:12:09,233] Trial 34 finished with value: 0.49828141100537937 and parameters: {'max_depth': 8, 'learning_rate': 0.03514157098541618, 'n_estimators': 41, 'min_child_weight': 2, 'gamma': 1.0146613243352968e-06, 'subsample': 0.14294356460993238, 'colsample_bytree': 0.2027516653531745, 'reg_alpha': 0.0027750919775859145, 'reg_lambda': 0.007543068842302304, 'scale_pos_weight': 3}. Best is trial 0 with value: 0.6608540411435667.\n",
      "[I 2024-07-08 12:14:31,112] Trial 35 finished with value: 0.6323919668675646 and parameters: {'max_depth': 8, 'learning_rate': 0.036058861458553686, 'n_estimators': 38, 'min_child_weight': 4, 'gamma': 0.0020698375765929116, 'subsample': 0.08299290198250307, 'colsample_bytree': 0.6777583404618243, 'reg_alpha': 0.002476152355435374, 'reg_lambda': 0.028826020410906535, 'scale_pos_weight': 3}. Best is trial 0 with value: 0.6608540411435667.\n",
      "[I 2024-07-08 12:16:34,569] Trial 36 finished with value: 0.660648835291062 and parameters: {'max_depth': 5, 'learning_rate': 0.2084691984756241, 'n_estimators': 56, 'min_child_weight': 3, 'gamma': 2.935547931992666e-08, 'subsample': 0.08666750264213322, 'colsample_bytree': 0.7173618261008449, 'reg_alpha': 0.06379801815160048, 'reg_lambda': 0.04327251547194884, 'scale_pos_weight': 3}. Best is trial 0 with value: 0.6608540411435667.\n",
      "[I 2024-07-08 12:18:54,895] Trial 37 finished with value: 0.6607458048692334 and parameters: {'max_depth': 5, 'learning_rate': 0.23662669189741378, 'n_estimators': 54, 'min_child_weight': 3, 'gamma': 3.525324924104864e-08, 'subsample': 0.10278523870150721, 'colsample_bytree': 0.7298477162502459, 'reg_alpha': 0.002943066299311774, 'reg_lambda': 0.029660633102982087, 'scale_pos_weight': 3}. Best is trial 0 with value: 0.6608540411435667.\n",
      "[I 2024-07-08 12:20:37,868] Trial 38 finished with value: 0.6607306034820303 and parameters: {'max_depth': 5, 'learning_rate': 0.210698514059671, 'n_estimators': 55, 'min_child_weight': 3, 'gamma': 6.657784584826314e-08, 'subsample': 0.09364436135724555, 'colsample_bytree': 0.734279278027991, 'reg_alpha': 0.08920494805322665, 'reg_lambda': 0.03790626088931313, 'scale_pos_weight': 3}. Best is trial 0 with value: 0.6608540411435667.\n",
      "[I 2024-07-08 12:21:35,138] Trial 39 finished with value: 0.6453884819977651 and parameters: {'max_depth': 5, 'learning_rate': 0.08770092424656092, 'n_estimators': 30, 'min_child_weight': 3, 'gamma': 0.0004652433476164176, 'subsample': 0.10219490697531648, 'colsample_bytree': 0.45635937375472735, 'reg_alpha': 0.16192054874625972, 'reg_lambda': 7.230688342655207e-05, 'scale_pos_weight': 3}. Best is trial 0 with value: 0.6608540411435667.\n",
      "[I 2024-07-08 12:22:51,861] Trial 40 finished with value: 0.6604811924197599 and parameters: {'max_depth': 5, 'learning_rate': 0.2148130207661508, 'n_estimators': 31, 'min_child_weight': 3, 'gamma': 1.0953198256627945e-08, 'subsample': 0.29118786782501294, 'colsample_bytree': 0.8001780343687269, 'reg_alpha': 0.06895710411816439, 'reg_lambda': 0.5633084315936372, 'scale_pos_weight': 3}. Best is trial 0 with value: 0.6608540411435667.\n",
      "[I 2024-07-08 12:24:16,184] Trial 41 finished with value: 0.6604123445987105 and parameters: {'max_depth': 5, 'learning_rate': 0.1910443691456742, 'n_estimators': 30, 'min_child_weight': 3, 'gamma': 1.0766053895760144e-08, 'subsample': 0.10516384993766757, 'colsample_bytree': 0.7662626508954665, 'reg_alpha': 0.08377599937447747, 'reg_lambda': 0.9465340942842846, 'scale_pos_weight': 3}. Best is trial 0 with value: 0.6608540411435667.\n",
      "[I 2024-07-08 12:26:18,783] Trial 42 finished with value: 0.6609098257322353 and parameters: {'max_depth': 5, 'learning_rate': 0.21311171709927185, 'n_estimators': 54, 'min_child_weight': 6, 'gamma': 1.140184130163608e-08, 'subsample': 0.09851722068430308, 'colsample_bytree': 0.4616051223224007, 'reg_alpha': 0.11826080238915447, 'reg_lambda': 0.8391932225897092, 'scale_pos_weight': 3}. Best is trial 42 with value: 0.6609098257322353.\n",
      "[I 2024-07-08 12:27:51,968] Trial 43 finished with value: 0.6612757063727251 and parameters: {'max_depth': 5, 'learning_rate': 0.20184933990012147, 'n_estimators': 56, 'min_child_weight': 10, 'gamma': 1.1346494452860234e-08, 'subsample': 0.26893914211124126, 'colsample_bytree': 0.4879543899667609, 'reg_alpha': 0.06902474453443337, 'reg_lambda': 0.17091984815629993, 'scale_pos_weight': 3}. Best is trial 43 with value: 0.6612757063727251.\n",
      "[I 2024-07-08 12:29:36,348] Trial 44 finished with value: 0.6609991393041693 and parameters: {'max_depth': 5, 'learning_rate': 0.19144214678979582, 'n_estimators': 54, 'min_child_weight': 10, 'gamma': 1.0097502456806801e-08, 'subsample': 0.27807681154439384, 'colsample_bytree': 0.7754850507579583, 'reg_alpha': 0.07403413193159991, 'reg_lambda': 0.9448303291404476, 'scale_pos_weight': 3}. Best is trial 43 with value: 0.6612757063727251.\n",
      "[I 2024-07-08 12:31:56,611] Trial 45 finished with value: 0.6617697449327753 and parameters: {'max_depth': 7, 'learning_rate': 0.23088958536520326, 'n_estimators': 51, 'min_child_weight': 10, 'gamma': 1.2666222784964742e-08, 'subsample': 0.24422165850972014, 'colsample_bytree': 0.7692447500579389, 'reg_alpha': 0.2830728654711309, 'reg_lambda': 0.14479072599318954, 'scale_pos_weight': 3}. Best is trial 45 with value: 0.6617697449327753.\n",
      "[I 2024-07-08 12:34:16,269] Trial 46 finished with value: 0.6568367234727559 and parameters: {'max_depth': 7, 'learning_rate': 0.5349202125184024, 'n_estimators': 56, 'min_child_weight': 6, 'gamma': 6.872588030008531e-08, 'subsample': 0.12520061194461876, 'colsample_bytree': 0.5242208460354496, 'reg_alpha': 0.38320437059560225, 'reg_lambda': 0.14296755280498336, 'scale_pos_weight': 3}. Best is trial 45 with value: 0.6617697449327753.\n",
      "[I 2024-07-08 12:36:07,467] Trial 47 finished with value: 0.6614819083707123 and parameters: {'max_depth': 7, 'learning_rate': 0.13322234077263284, 'n_estimators': 54, 'min_child_weight': 10, 'gamma': 1.1268175110309831e-07, 'subsample': 0.13110847648687837, 'colsample_bytree': 0.47943230427176353, 'reg_alpha': 0.6022859158114885, 'reg_lambda': 0.16813328016367246, 'scale_pos_weight': 3}. Best is trial 45 with value: 0.6617697449327753.\n",
      "[I 2024-07-08 12:38:04,996] Trial 48 finished with value: 0.6619736776578479 and parameters: {'max_depth': 7, 'learning_rate': 0.15595520427517345, 'n_estimators': 52, 'min_child_weight': 10, 'gamma': 2.209262740122085e-07, 'subsample': 0.24599012587130284, 'colsample_bytree': 0.5217197752865737, 'reg_alpha': 0.4568424628244779, 'reg_lambda': 0.1697604887149117, 'scale_pos_weight': 3}. Best is trial 48 with value: 0.6619736776578479.\n",
      "[I 2024-07-08 12:40:05,286] Trial 49 finished with value: 0.5476866778566871 and parameters: {'max_depth': 7, 'learning_rate': 0.14087333572605418, 'n_estimators': 49, 'min_child_weight': 10, 'gamma': 2.0653882893468527e-07, 'subsample': 0.2618705558795957, 'colsample_bytree': 0.49547354339111843, 'reg_alpha': 0.41016048036368163, 'reg_lambda': 0.24461634896880174, 'scale_pos_weight': 1}. Best is trial 48 with value: 0.6619736776578479.\n"
     ]
    }
   ],
   "source": [
    "study_XGB_final = optuna.create_study(\n",
    "    direction=\"maximize\",\n",
    "    study_name=\"study_XGB_final\",\n",
    "    sampler=optuna.samplers.TPESampler(),\n",
    "    pruner=optuna.pruners.HyperbandPruner(),\n",
    ")\n",
    "study_XGB_final.optimize(objective, n_trials=50, n_jobs=-1)"
   ]
  },
  {
   "cell_type": "code",
   "execution_count": 84,
   "id": "64c65e66",
   "metadata": {
    "id": "64c65e66"
   },
   "outputs": [
    {
     "data": {
      "application/vnd.plotly.v1+json": {
       "config": {
        "plotlyServerURL": "https://plot.ly"
       },
       "data": [
        {
         "mode": "markers",
         "name": "Objective Value",
         "type": "scatter",
         "x": [
          0,
          1,
          2,
          3,
          4,
          5,
          6,
          7,
          8,
          9,
          10,
          11,
          12,
          13,
          14,
          15,
          16,
          17,
          18,
          19,
          20,
          21,
          22,
          23,
          24,
          25,
          26,
          27,
          28,
          29,
          30,
          31,
          32,
          33,
          34,
          35,
          36,
          37,
          38,
          39,
          40,
          41,
          42,
          43,
          44,
          45,
          46,
          47,
          48,
          49
         ],
         "y": [
          0.6608540411435667,
          0.46247415163731026,
          0.6588868498803808,
          0.5523069303421105,
          0.6019287745549627,
          0.46266043704863835,
          0.6582438632038077,
          0.46247415163731026,
          0.6178496444308671,
          0.46247415163731026,
          0.462500281119646,
          0.657983540861235,
          0.6376793048460356,
          0.6391306248128702,
          0.6110924468963255,
          0.6391897808079927,
          0.6141263004072778,
          0.6565974221284732,
          0.658786732406336,
          0.644069217756051,
          0.638795043415634,
          0.6245827805340717,
          0.6496493776897443,
          0.6448249691257427,
          0.6507043851480724,
          0.6539596127458343,
          0.659234628532845,
          0.6593638663240694,
          0.6555727042564717,
          0.6601667318507112,
          0.6460115394724537,
          0.64349251669239,
          0.4889753658381582,
          0.6379944933232844,
          0.49828141100537937,
          0.6323919668675646,
          0.660648835291062,
          0.6607458048692334,
          0.6607306034820303,
          0.6453884819977651,
          0.6604811924197599,
          0.6604123445987105,
          0.6609098257322353,
          0.6612757063727251,
          0.6609991393041693,
          0.6617697449327753,
          0.6568367234727559,
          0.6614819083707123,
          0.6619736776578479,
          0.5476866778566871
         ]
        },
        {
         "mode": "lines",
         "name": "Best Value",
         "type": "scatter",
         "x": [
          0,
          1,
          2,
          3,
          4,
          5,
          6,
          7,
          8,
          9,
          10,
          11,
          12,
          13,
          14,
          15,
          16,
          17,
          18,
          19,
          20,
          21,
          22,
          23,
          24,
          25,
          26,
          27,
          28,
          29,
          30,
          31,
          32,
          33,
          34,
          35,
          36,
          37,
          38,
          39,
          40,
          41,
          42,
          43,
          44,
          45,
          46,
          47,
          48,
          49
         ],
         "y": [
          0.6608540411435667,
          0.6608540411435667,
          0.6608540411435667,
          0.6608540411435667,
          0.6608540411435667,
          0.6608540411435667,
          0.6608540411435667,
          0.6608540411435667,
          0.6608540411435667,
          0.6608540411435667,
          0.6608540411435667,
          0.6608540411435667,
          0.6608540411435667,
          0.6608540411435667,
          0.6608540411435667,
          0.6608540411435667,
          0.6608540411435667,
          0.6608540411435667,
          0.6608540411435667,
          0.6608540411435667,
          0.6608540411435667,
          0.6608540411435667,
          0.6608540411435667,
          0.6608540411435667,
          0.6608540411435667,
          0.6608540411435667,
          0.6608540411435667,
          0.6608540411435667,
          0.6608540411435667,
          0.6608540411435667,
          0.6608540411435667,
          0.6608540411435667,
          0.6608540411435667,
          0.6608540411435667,
          0.6608540411435667,
          0.6608540411435667,
          0.6608540411435667,
          0.6608540411435667,
          0.6608540411435667,
          0.6608540411435667,
          0.6608540411435667,
          0.6608540411435667,
          0.6609098257322353,
          0.6612757063727251,
          0.6612757063727251,
          0.6617697449327753,
          0.6617697449327753,
          0.6617697449327753,
          0.6619736776578479,
          0.6619736776578479
         ]
        },
        {
         "marker": {
          "color": "#cccccc"
         },
         "mode": "markers",
         "name": "Infeasible Trial",
         "showlegend": false,
         "type": "scatter",
         "x": [],
         "y": []
        }
       ],
       "layout": {
        "template": {
         "data": {
          "bar": [
           {
            "error_x": {
             "color": "#2a3f5f"
            },
            "error_y": {
             "color": "#2a3f5f"
            },
            "marker": {
             "line": {
              "color": "#E5ECF6",
              "width": 0.5
             },
             "pattern": {
              "fillmode": "overlay",
              "size": 10,
              "solidity": 0.2
             }
            },
            "type": "bar"
           }
          ],
          "barpolar": [
           {
            "marker": {
             "line": {
              "color": "#E5ECF6",
              "width": 0.5
             },
             "pattern": {
              "fillmode": "overlay",
              "size": 10,
              "solidity": 0.2
             }
            },
            "type": "barpolar"
           }
          ],
          "carpet": [
           {
            "aaxis": {
             "endlinecolor": "#2a3f5f",
             "gridcolor": "white",
             "linecolor": "white",
             "minorgridcolor": "white",
             "startlinecolor": "#2a3f5f"
            },
            "baxis": {
             "endlinecolor": "#2a3f5f",
             "gridcolor": "white",
             "linecolor": "white",
             "minorgridcolor": "white",
             "startlinecolor": "#2a3f5f"
            },
            "type": "carpet"
           }
          ],
          "choropleth": [
           {
            "colorbar": {
             "outlinewidth": 0,
             "ticks": ""
            },
            "type": "choropleth"
           }
          ],
          "contour": [
           {
            "colorbar": {
             "outlinewidth": 0,
             "ticks": ""
            },
            "colorscale": [
             [
              0,
              "#0d0887"
             ],
             [
              0.1111111111111111,
              "#46039f"
             ],
             [
              0.2222222222222222,
              "#7201a8"
             ],
             [
              0.3333333333333333,
              "#9c179e"
             ],
             [
              0.4444444444444444,
              "#bd3786"
             ],
             [
              0.5555555555555556,
              "#d8576b"
             ],
             [
              0.6666666666666666,
              "#ed7953"
             ],
             [
              0.7777777777777778,
              "#fb9f3a"
             ],
             [
              0.8888888888888888,
              "#fdca26"
             ],
             [
              1,
              "#f0f921"
             ]
            ],
            "type": "contour"
           }
          ],
          "contourcarpet": [
           {
            "colorbar": {
             "outlinewidth": 0,
             "ticks": ""
            },
            "type": "contourcarpet"
           }
          ],
          "heatmap": [
           {
            "colorbar": {
             "outlinewidth": 0,
             "ticks": ""
            },
            "colorscale": [
             [
              0,
              "#0d0887"
             ],
             [
              0.1111111111111111,
              "#46039f"
             ],
             [
              0.2222222222222222,
              "#7201a8"
             ],
             [
              0.3333333333333333,
              "#9c179e"
             ],
             [
              0.4444444444444444,
              "#bd3786"
             ],
             [
              0.5555555555555556,
              "#d8576b"
             ],
             [
              0.6666666666666666,
              "#ed7953"
             ],
             [
              0.7777777777777778,
              "#fb9f3a"
             ],
             [
              0.8888888888888888,
              "#fdca26"
             ],
             [
              1,
              "#f0f921"
             ]
            ],
            "type": "heatmap"
           }
          ],
          "heatmapgl": [
           {
            "colorbar": {
             "outlinewidth": 0,
             "ticks": ""
            },
            "colorscale": [
             [
              0,
              "#0d0887"
             ],
             [
              0.1111111111111111,
              "#46039f"
             ],
             [
              0.2222222222222222,
              "#7201a8"
             ],
             [
              0.3333333333333333,
              "#9c179e"
             ],
             [
              0.4444444444444444,
              "#bd3786"
             ],
             [
              0.5555555555555556,
              "#d8576b"
             ],
             [
              0.6666666666666666,
              "#ed7953"
             ],
             [
              0.7777777777777778,
              "#fb9f3a"
             ],
             [
              0.8888888888888888,
              "#fdca26"
             ],
             [
              1,
              "#f0f921"
             ]
            ],
            "type": "heatmapgl"
           }
          ],
          "histogram": [
           {
            "marker": {
             "pattern": {
              "fillmode": "overlay",
              "size": 10,
              "solidity": 0.2
             }
            },
            "type": "histogram"
           }
          ],
          "histogram2d": [
           {
            "colorbar": {
             "outlinewidth": 0,
             "ticks": ""
            },
            "colorscale": [
             [
              0,
              "#0d0887"
             ],
             [
              0.1111111111111111,
              "#46039f"
             ],
             [
              0.2222222222222222,
              "#7201a8"
             ],
             [
              0.3333333333333333,
              "#9c179e"
             ],
             [
              0.4444444444444444,
              "#bd3786"
             ],
             [
              0.5555555555555556,
              "#d8576b"
             ],
             [
              0.6666666666666666,
              "#ed7953"
             ],
             [
              0.7777777777777778,
              "#fb9f3a"
             ],
             [
              0.8888888888888888,
              "#fdca26"
             ],
             [
              1,
              "#f0f921"
             ]
            ],
            "type": "histogram2d"
           }
          ],
          "histogram2dcontour": [
           {
            "colorbar": {
             "outlinewidth": 0,
             "ticks": ""
            },
            "colorscale": [
             [
              0,
              "#0d0887"
             ],
             [
              0.1111111111111111,
              "#46039f"
             ],
             [
              0.2222222222222222,
              "#7201a8"
             ],
             [
              0.3333333333333333,
              "#9c179e"
             ],
             [
              0.4444444444444444,
              "#bd3786"
             ],
             [
              0.5555555555555556,
              "#d8576b"
             ],
             [
              0.6666666666666666,
              "#ed7953"
             ],
             [
              0.7777777777777778,
              "#fb9f3a"
             ],
             [
              0.8888888888888888,
              "#fdca26"
             ],
             [
              1,
              "#f0f921"
             ]
            ],
            "type": "histogram2dcontour"
           }
          ],
          "mesh3d": [
           {
            "colorbar": {
             "outlinewidth": 0,
             "ticks": ""
            },
            "type": "mesh3d"
           }
          ],
          "parcoords": [
           {
            "line": {
             "colorbar": {
              "outlinewidth": 0,
              "ticks": ""
             }
            },
            "type": "parcoords"
           }
          ],
          "pie": [
           {
            "automargin": true,
            "type": "pie"
           }
          ],
          "scatter": [
           {
            "fillpattern": {
             "fillmode": "overlay",
             "size": 10,
             "solidity": 0.2
            },
            "type": "scatter"
           }
          ],
          "scatter3d": [
           {
            "line": {
             "colorbar": {
              "outlinewidth": 0,
              "ticks": ""
             }
            },
            "marker": {
             "colorbar": {
              "outlinewidth": 0,
              "ticks": ""
             }
            },
            "type": "scatter3d"
           }
          ],
          "scattercarpet": [
           {
            "marker": {
             "colorbar": {
              "outlinewidth": 0,
              "ticks": ""
             }
            },
            "type": "scattercarpet"
           }
          ],
          "scattergeo": [
           {
            "marker": {
             "colorbar": {
              "outlinewidth": 0,
              "ticks": ""
             }
            },
            "type": "scattergeo"
           }
          ],
          "scattergl": [
           {
            "marker": {
             "colorbar": {
              "outlinewidth": 0,
              "ticks": ""
             }
            },
            "type": "scattergl"
           }
          ],
          "scattermapbox": [
           {
            "marker": {
             "colorbar": {
              "outlinewidth": 0,
              "ticks": ""
             }
            },
            "type": "scattermapbox"
           }
          ],
          "scatterpolar": [
           {
            "marker": {
             "colorbar": {
              "outlinewidth": 0,
              "ticks": ""
             }
            },
            "type": "scatterpolar"
           }
          ],
          "scatterpolargl": [
           {
            "marker": {
             "colorbar": {
              "outlinewidth": 0,
              "ticks": ""
             }
            },
            "type": "scatterpolargl"
           }
          ],
          "scatterternary": [
           {
            "marker": {
             "colorbar": {
              "outlinewidth": 0,
              "ticks": ""
             }
            },
            "type": "scatterternary"
           }
          ],
          "surface": [
           {
            "colorbar": {
             "outlinewidth": 0,
             "ticks": ""
            },
            "colorscale": [
             [
              0,
              "#0d0887"
             ],
             [
              0.1111111111111111,
              "#46039f"
             ],
             [
              0.2222222222222222,
              "#7201a8"
             ],
             [
              0.3333333333333333,
              "#9c179e"
             ],
             [
              0.4444444444444444,
              "#bd3786"
             ],
             [
              0.5555555555555556,
              "#d8576b"
             ],
             [
              0.6666666666666666,
              "#ed7953"
             ],
             [
              0.7777777777777778,
              "#fb9f3a"
             ],
             [
              0.8888888888888888,
              "#fdca26"
             ],
             [
              1,
              "#f0f921"
             ]
            ],
            "type": "surface"
           }
          ],
          "table": [
           {
            "cells": {
             "fill": {
              "color": "#EBF0F8"
             },
             "line": {
              "color": "white"
             }
            },
            "header": {
             "fill": {
              "color": "#C8D4E3"
             },
             "line": {
              "color": "white"
             }
            },
            "type": "table"
           }
          ]
         },
         "layout": {
          "annotationdefaults": {
           "arrowcolor": "#2a3f5f",
           "arrowhead": 0,
           "arrowwidth": 1
          },
          "autotypenumbers": "strict",
          "coloraxis": {
           "colorbar": {
            "outlinewidth": 0,
            "ticks": ""
           }
          },
          "colorscale": {
           "diverging": [
            [
             0,
             "#8e0152"
            ],
            [
             0.1,
             "#c51b7d"
            ],
            [
             0.2,
             "#de77ae"
            ],
            [
             0.3,
             "#f1b6da"
            ],
            [
             0.4,
             "#fde0ef"
            ],
            [
             0.5,
             "#f7f7f7"
            ],
            [
             0.6,
             "#e6f5d0"
            ],
            [
             0.7,
             "#b8e186"
            ],
            [
             0.8,
             "#7fbc41"
            ],
            [
             0.9,
             "#4d9221"
            ],
            [
             1,
             "#276419"
            ]
           ],
           "sequential": [
            [
             0,
             "#0d0887"
            ],
            [
             0.1111111111111111,
             "#46039f"
            ],
            [
             0.2222222222222222,
             "#7201a8"
            ],
            [
             0.3333333333333333,
             "#9c179e"
            ],
            [
             0.4444444444444444,
             "#bd3786"
            ],
            [
             0.5555555555555556,
             "#d8576b"
            ],
            [
             0.6666666666666666,
             "#ed7953"
            ],
            [
             0.7777777777777778,
             "#fb9f3a"
            ],
            [
             0.8888888888888888,
             "#fdca26"
            ],
            [
             1,
             "#f0f921"
            ]
           ],
           "sequentialminus": [
            [
             0,
             "#0d0887"
            ],
            [
             0.1111111111111111,
             "#46039f"
            ],
            [
             0.2222222222222222,
             "#7201a8"
            ],
            [
             0.3333333333333333,
             "#9c179e"
            ],
            [
             0.4444444444444444,
             "#bd3786"
            ],
            [
             0.5555555555555556,
             "#d8576b"
            ],
            [
             0.6666666666666666,
             "#ed7953"
            ],
            [
             0.7777777777777778,
             "#fb9f3a"
            ],
            [
             0.8888888888888888,
             "#fdca26"
            ],
            [
             1,
             "#f0f921"
            ]
           ]
          },
          "colorway": [
           "#636efa",
           "#EF553B",
           "#00cc96",
           "#ab63fa",
           "#FFA15A",
           "#19d3f3",
           "#FF6692",
           "#B6E880",
           "#FF97FF",
           "#FECB52"
          ],
          "font": {
           "color": "#2a3f5f"
          },
          "geo": {
           "bgcolor": "white",
           "lakecolor": "white",
           "landcolor": "#E5ECF6",
           "showlakes": true,
           "showland": true,
           "subunitcolor": "white"
          },
          "hoverlabel": {
           "align": "left"
          },
          "hovermode": "closest",
          "mapbox": {
           "style": "light"
          },
          "paper_bgcolor": "white",
          "plot_bgcolor": "#E5ECF6",
          "polar": {
           "angularaxis": {
            "gridcolor": "white",
            "linecolor": "white",
            "ticks": ""
           },
           "bgcolor": "#E5ECF6",
           "radialaxis": {
            "gridcolor": "white",
            "linecolor": "white",
            "ticks": ""
           }
          },
          "scene": {
           "xaxis": {
            "backgroundcolor": "#E5ECF6",
            "gridcolor": "white",
            "gridwidth": 2,
            "linecolor": "white",
            "showbackground": true,
            "ticks": "",
            "zerolinecolor": "white"
           },
           "yaxis": {
            "backgroundcolor": "#E5ECF6",
            "gridcolor": "white",
            "gridwidth": 2,
            "linecolor": "white",
            "showbackground": true,
            "ticks": "",
            "zerolinecolor": "white"
           },
           "zaxis": {
            "backgroundcolor": "#E5ECF6",
            "gridcolor": "white",
            "gridwidth": 2,
            "linecolor": "white",
            "showbackground": true,
            "ticks": "",
            "zerolinecolor": "white"
           }
          },
          "shapedefaults": {
           "line": {
            "color": "#2a3f5f"
           }
          },
          "ternary": {
           "aaxis": {
            "gridcolor": "white",
            "linecolor": "white",
            "ticks": ""
           },
           "baxis": {
            "gridcolor": "white",
            "linecolor": "white",
            "ticks": ""
           },
           "bgcolor": "#E5ECF6",
           "caxis": {
            "gridcolor": "white",
            "linecolor": "white",
            "ticks": ""
           }
          },
          "title": {
           "x": 0.05
          },
          "xaxis": {
           "automargin": true,
           "gridcolor": "white",
           "linecolor": "white",
           "ticks": "",
           "title": {
            "standoff": 15
           },
           "zerolinecolor": "white",
           "zerolinewidth": 2
          },
          "yaxis": {
           "automargin": true,
           "gridcolor": "white",
           "linecolor": "white",
           "ticks": "",
           "title": {
            "standoff": 15
           },
           "zerolinecolor": "white",
           "zerolinewidth": 2
          }
         }
        },
        "title": {
         "text": "Optimization History Plot"
        },
        "xaxis": {
         "title": {
          "text": "Trial"
         }
        },
        "yaxis": {
         "title": {
          "text": "Objective Value"
         }
        }
       }
      }
     },
     "metadata": {},
     "output_type": "display_data"
    }
   ],
   "source": [
    "optuna.visualization.plot_optimization_history(study_XGB_final)"
   ]
  },
  {
   "cell_type": "code",
   "execution_count": 85,
   "id": "7764ac93",
   "metadata": {
    "id": "7764ac93"
   },
   "outputs": [
    {
     "data": {
      "application/vnd.plotly.v1+json": {
       "config": {
        "plotlyServerURL": "https://plot.ly"
       },
       "data": [
        {
         "cliponaxis": false,
         "hovertemplate": [
          "min_child_weight (IntDistribution): 0.00034814732856313757<extra></extra>",
          "reg_lambda (FloatDistribution): 0.002407143952110053<extra></extra>",
          "max_depth (IntDistribution): 0.0044807668463242<extra></extra>",
          "gamma (FloatDistribution): 0.004999387023357809<extra></extra>",
          "reg_alpha (FloatDistribution): 0.013501832321066066<extra></extra>",
          "colsample_bytree (FloatDistribution): 0.028315678377908285<extra></extra>",
          "n_estimators (IntDistribution): 0.033928773550612454<extra></extra>",
          "subsample (FloatDistribution): 0.08832705588485985<extra></extra>",
          "learning_rate (FloatDistribution): 0.2633173279248107<extra></extra>",
          "scale_pos_weight (IntDistribution): 0.5603738867903877<extra></extra>"
         ],
         "name": "Objective Value",
         "orientation": "h",
         "text": [
          "<0.01",
          "<0.01",
          "<0.01",
          "<0.01",
          "0.01",
          "0.03",
          "0.03",
          "0.09",
          "0.26",
          "0.56"
         ],
         "textposition": "outside",
         "type": "bar",
         "x": [
          0.00034814732856313757,
          0.002407143952110053,
          0.0044807668463242,
          0.004999387023357809,
          0.013501832321066066,
          0.028315678377908285,
          0.033928773550612454,
          0.08832705588485985,
          0.2633173279248107,
          0.5603738867903877
         ],
         "y": [
          "min_child_weight",
          "reg_lambda",
          "max_depth",
          "gamma",
          "reg_alpha",
          "colsample_bytree",
          "n_estimators",
          "subsample",
          "learning_rate",
          "scale_pos_weight"
         ]
        }
       ],
       "layout": {
        "template": {
         "data": {
          "bar": [
           {
            "error_x": {
             "color": "#2a3f5f"
            },
            "error_y": {
             "color": "#2a3f5f"
            },
            "marker": {
             "line": {
              "color": "#E5ECF6",
              "width": 0.5
             },
             "pattern": {
              "fillmode": "overlay",
              "size": 10,
              "solidity": 0.2
             }
            },
            "type": "bar"
           }
          ],
          "barpolar": [
           {
            "marker": {
             "line": {
              "color": "#E5ECF6",
              "width": 0.5
             },
             "pattern": {
              "fillmode": "overlay",
              "size": 10,
              "solidity": 0.2
             }
            },
            "type": "barpolar"
           }
          ],
          "carpet": [
           {
            "aaxis": {
             "endlinecolor": "#2a3f5f",
             "gridcolor": "white",
             "linecolor": "white",
             "minorgridcolor": "white",
             "startlinecolor": "#2a3f5f"
            },
            "baxis": {
             "endlinecolor": "#2a3f5f",
             "gridcolor": "white",
             "linecolor": "white",
             "minorgridcolor": "white",
             "startlinecolor": "#2a3f5f"
            },
            "type": "carpet"
           }
          ],
          "choropleth": [
           {
            "colorbar": {
             "outlinewidth": 0,
             "ticks": ""
            },
            "type": "choropleth"
           }
          ],
          "contour": [
           {
            "colorbar": {
             "outlinewidth": 0,
             "ticks": ""
            },
            "colorscale": [
             [
              0,
              "#0d0887"
             ],
             [
              0.1111111111111111,
              "#46039f"
             ],
             [
              0.2222222222222222,
              "#7201a8"
             ],
             [
              0.3333333333333333,
              "#9c179e"
             ],
             [
              0.4444444444444444,
              "#bd3786"
             ],
             [
              0.5555555555555556,
              "#d8576b"
             ],
             [
              0.6666666666666666,
              "#ed7953"
             ],
             [
              0.7777777777777778,
              "#fb9f3a"
             ],
             [
              0.8888888888888888,
              "#fdca26"
             ],
             [
              1,
              "#f0f921"
             ]
            ],
            "type": "contour"
           }
          ],
          "contourcarpet": [
           {
            "colorbar": {
             "outlinewidth": 0,
             "ticks": ""
            },
            "type": "contourcarpet"
           }
          ],
          "heatmap": [
           {
            "colorbar": {
             "outlinewidth": 0,
             "ticks": ""
            },
            "colorscale": [
             [
              0,
              "#0d0887"
             ],
             [
              0.1111111111111111,
              "#46039f"
             ],
             [
              0.2222222222222222,
              "#7201a8"
             ],
             [
              0.3333333333333333,
              "#9c179e"
             ],
             [
              0.4444444444444444,
              "#bd3786"
             ],
             [
              0.5555555555555556,
              "#d8576b"
             ],
             [
              0.6666666666666666,
              "#ed7953"
             ],
             [
              0.7777777777777778,
              "#fb9f3a"
             ],
             [
              0.8888888888888888,
              "#fdca26"
             ],
             [
              1,
              "#f0f921"
             ]
            ],
            "type": "heatmap"
           }
          ],
          "heatmapgl": [
           {
            "colorbar": {
             "outlinewidth": 0,
             "ticks": ""
            },
            "colorscale": [
             [
              0,
              "#0d0887"
             ],
             [
              0.1111111111111111,
              "#46039f"
             ],
             [
              0.2222222222222222,
              "#7201a8"
             ],
             [
              0.3333333333333333,
              "#9c179e"
             ],
             [
              0.4444444444444444,
              "#bd3786"
             ],
             [
              0.5555555555555556,
              "#d8576b"
             ],
             [
              0.6666666666666666,
              "#ed7953"
             ],
             [
              0.7777777777777778,
              "#fb9f3a"
             ],
             [
              0.8888888888888888,
              "#fdca26"
             ],
             [
              1,
              "#f0f921"
             ]
            ],
            "type": "heatmapgl"
           }
          ],
          "histogram": [
           {
            "marker": {
             "pattern": {
              "fillmode": "overlay",
              "size": 10,
              "solidity": 0.2
             }
            },
            "type": "histogram"
           }
          ],
          "histogram2d": [
           {
            "colorbar": {
             "outlinewidth": 0,
             "ticks": ""
            },
            "colorscale": [
             [
              0,
              "#0d0887"
             ],
             [
              0.1111111111111111,
              "#46039f"
             ],
             [
              0.2222222222222222,
              "#7201a8"
             ],
             [
              0.3333333333333333,
              "#9c179e"
             ],
             [
              0.4444444444444444,
              "#bd3786"
             ],
             [
              0.5555555555555556,
              "#d8576b"
             ],
             [
              0.6666666666666666,
              "#ed7953"
             ],
             [
              0.7777777777777778,
              "#fb9f3a"
             ],
             [
              0.8888888888888888,
              "#fdca26"
             ],
             [
              1,
              "#f0f921"
             ]
            ],
            "type": "histogram2d"
           }
          ],
          "histogram2dcontour": [
           {
            "colorbar": {
             "outlinewidth": 0,
             "ticks": ""
            },
            "colorscale": [
             [
              0,
              "#0d0887"
             ],
             [
              0.1111111111111111,
              "#46039f"
             ],
             [
              0.2222222222222222,
              "#7201a8"
             ],
             [
              0.3333333333333333,
              "#9c179e"
             ],
             [
              0.4444444444444444,
              "#bd3786"
             ],
             [
              0.5555555555555556,
              "#d8576b"
             ],
             [
              0.6666666666666666,
              "#ed7953"
             ],
             [
              0.7777777777777778,
              "#fb9f3a"
             ],
             [
              0.8888888888888888,
              "#fdca26"
             ],
             [
              1,
              "#f0f921"
             ]
            ],
            "type": "histogram2dcontour"
           }
          ],
          "mesh3d": [
           {
            "colorbar": {
             "outlinewidth": 0,
             "ticks": ""
            },
            "type": "mesh3d"
           }
          ],
          "parcoords": [
           {
            "line": {
             "colorbar": {
              "outlinewidth": 0,
              "ticks": ""
             }
            },
            "type": "parcoords"
           }
          ],
          "pie": [
           {
            "automargin": true,
            "type": "pie"
           }
          ],
          "scatter": [
           {
            "fillpattern": {
             "fillmode": "overlay",
             "size": 10,
             "solidity": 0.2
            },
            "type": "scatter"
           }
          ],
          "scatter3d": [
           {
            "line": {
             "colorbar": {
              "outlinewidth": 0,
              "ticks": ""
             }
            },
            "marker": {
             "colorbar": {
              "outlinewidth": 0,
              "ticks": ""
             }
            },
            "type": "scatter3d"
           }
          ],
          "scattercarpet": [
           {
            "marker": {
             "colorbar": {
              "outlinewidth": 0,
              "ticks": ""
             }
            },
            "type": "scattercarpet"
           }
          ],
          "scattergeo": [
           {
            "marker": {
             "colorbar": {
              "outlinewidth": 0,
              "ticks": ""
             }
            },
            "type": "scattergeo"
           }
          ],
          "scattergl": [
           {
            "marker": {
             "colorbar": {
              "outlinewidth": 0,
              "ticks": ""
             }
            },
            "type": "scattergl"
           }
          ],
          "scattermapbox": [
           {
            "marker": {
             "colorbar": {
              "outlinewidth": 0,
              "ticks": ""
             }
            },
            "type": "scattermapbox"
           }
          ],
          "scatterpolar": [
           {
            "marker": {
             "colorbar": {
              "outlinewidth": 0,
              "ticks": ""
             }
            },
            "type": "scatterpolar"
           }
          ],
          "scatterpolargl": [
           {
            "marker": {
             "colorbar": {
              "outlinewidth": 0,
              "ticks": ""
             }
            },
            "type": "scatterpolargl"
           }
          ],
          "scatterternary": [
           {
            "marker": {
             "colorbar": {
              "outlinewidth": 0,
              "ticks": ""
             }
            },
            "type": "scatterternary"
           }
          ],
          "surface": [
           {
            "colorbar": {
             "outlinewidth": 0,
             "ticks": ""
            },
            "colorscale": [
             [
              0,
              "#0d0887"
             ],
             [
              0.1111111111111111,
              "#46039f"
             ],
             [
              0.2222222222222222,
              "#7201a8"
             ],
             [
              0.3333333333333333,
              "#9c179e"
             ],
             [
              0.4444444444444444,
              "#bd3786"
             ],
             [
              0.5555555555555556,
              "#d8576b"
             ],
             [
              0.6666666666666666,
              "#ed7953"
             ],
             [
              0.7777777777777778,
              "#fb9f3a"
             ],
             [
              0.8888888888888888,
              "#fdca26"
             ],
             [
              1,
              "#f0f921"
             ]
            ],
            "type": "surface"
           }
          ],
          "table": [
           {
            "cells": {
             "fill": {
              "color": "#EBF0F8"
             },
             "line": {
              "color": "white"
             }
            },
            "header": {
             "fill": {
              "color": "#C8D4E3"
             },
             "line": {
              "color": "white"
             }
            },
            "type": "table"
           }
          ]
         },
         "layout": {
          "annotationdefaults": {
           "arrowcolor": "#2a3f5f",
           "arrowhead": 0,
           "arrowwidth": 1
          },
          "autotypenumbers": "strict",
          "coloraxis": {
           "colorbar": {
            "outlinewidth": 0,
            "ticks": ""
           }
          },
          "colorscale": {
           "diverging": [
            [
             0,
             "#8e0152"
            ],
            [
             0.1,
             "#c51b7d"
            ],
            [
             0.2,
             "#de77ae"
            ],
            [
             0.3,
             "#f1b6da"
            ],
            [
             0.4,
             "#fde0ef"
            ],
            [
             0.5,
             "#f7f7f7"
            ],
            [
             0.6,
             "#e6f5d0"
            ],
            [
             0.7,
             "#b8e186"
            ],
            [
             0.8,
             "#7fbc41"
            ],
            [
             0.9,
             "#4d9221"
            ],
            [
             1,
             "#276419"
            ]
           ],
           "sequential": [
            [
             0,
             "#0d0887"
            ],
            [
             0.1111111111111111,
             "#46039f"
            ],
            [
             0.2222222222222222,
             "#7201a8"
            ],
            [
             0.3333333333333333,
             "#9c179e"
            ],
            [
             0.4444444444444444,
             "#bd3786"
            ],
            [
             0.5555555555555556,
             "#d8576b"
            ],
            [
             0.6666666666666666,
             "#ed7953"
            ],
            [
             0.7777777777777778,
             "#fb9f3a"
            ],
            [
             0.8888888888888888,
             "#fdca26"
            ],
            [
             1,
             "#f0f921"
            ]
           ],
           "sequentialminus": [
            [
             0,
             "#0d0887"
            ],
            [
             0.1111111111111111,
             "#46039f"
            ],
            [
             0.2222222222222222,
             "#7201a8"
            ],
            [
             0.3333333333333333,
             "#9c179e"
            ],
            [
             0.4444444444444444,
             "#bd3786"
            ],
            [
             0.5555555555555556,
             "#d8576b"
            ],
            [
             0.6666666666666666,
             "#ed7953"
            ],
            [
             0.7777777777777778,
             "#fb9f3a"
            ],
            [
             0.8888888888888888,
             "#fdca26"
            ],
            [
             1,
             "#f0f921"
            ]
           ]
          },
          "colorway": [
           "#636efa",
           "#EF553B",
           "#00cc96",
           "#ab63fa",
           "#FFA15A",
           "#19d3f3",
           "#FF6692",
           "#B6E880",
           "#FF97FF",
           "#FECB52"
          ],
          "font": {
           "color": "#2a3f5f"
          },
          "geo": {
           "bgcolor": "white",
           "lakecolor": "white",
           "landcolor": "#E5ECF6",
           "showlakes": true,
           "showland": true,
           "subunitcolor": "white"
          },
          "hoverlabel": {
           "align": "left"
          },
          "hovermode": "closest",
          "mapbox": {
           "style": "light"
          },
          "paper_bgcolor": "white",
          "plot_bgcolor": "#E5ECF6",
          "polar": {
           "angularaxis": {
            "gridcolor": "white",
            "linecolor": "white",
            "ticks": ""
           },
           "bgcolor": "#E5ECF6",
           "radialaxis": {
            "gridcolor": "white",
            "linecolor": "white",
            "ticks": ""
           }
          },
          "scene": {
           "xaxis": {
            "backgroundcolor": "#E5ECF6",
            "gridcolor": "white",
            "gridwidth": 2,
            "linecolor": "white",
            "showbackground": true,
            "ticks": "",
            "zerolinecolor": "white"
           },
           "yaxis": {
            "backgroundcolor": "#E5ECF6",
            "gridcolor": "white",
            "gridwidth": 2,
            "linecolor": "white",
            "showbackground": true,
            "ticks": "",
            "zerolinecolor": "white"
           },
           "zaxis": {
            "backgroundcolor": "#E5ECF6",
            "gridcolor": "white",
            "gridwidth": 2,
            "linecolor": "white",
            "showbackground": true,
            "ticks": "",
            "zerolinecolor": "white"
           }
          },
          "shapedefaults": {
           "line": {
            "color": "#2a3f5f"
           }
          },
          "ternary": {
           "aaxis": {
            "gridcolor": "white",
            "linecolor": "white",
            "ticks": ""
           },
           "baxis": {
            "gridcolor": "white",
            "linecolor": "white",
            "ticks": ""
           },
           "bgcolor": "#E5ECF6",
           "caxis": {
            "gridcolor": "white",
            "linecolor": "white",
            "ticks": ""
           }
          },
          "title": {
           "x": 0.05
          },
          "xaxis": {
           "automargin": true,
           "gridcolor": "white",
           "linecolor": "white",
           "ticks": "",
           "title": {
            "standoff": 15
           },
           "zerolinecolor": "white",
           "zerolinewidth": 2
          },
          "yaxis": {
           "automargin": true,
           "gridcolor": "white",
           "linecolor": "white",
           "ticks": "",
           "title": {
            "standoff": 15
           },
           "zerolinecolor": "white",
           "zerolinewidth": 2
          }
         }
        },
        "title": {
         "text": "Hyperparameter Importances"
        },
        "xaxis": {
         "title": {
          "text": "Hyperparameter Importance"
         }
        },
        "yaxis": {
         "title": {
          "text": "Hyperparameter"
         }
        }
       }
      }
     },
     "metadata": {},
     "output_type": "display_data"
    }
   ],
   "source": [
    "optuna.visualization.plot_param_importances(study_XGB_final)"
   ]
  },
  {
   "cell_type": "markdown",
   "id": "5a5eb816",
   "metadata": {
    "id": "5a5eb816"
   },
   "source": [
    "Можно увидеть, что найденные гиперпараметры при помощи Optuna позволили увеличить значение метрики f1_macro с 0.56 до 0.66.  \n",
    "Данное значение можно считать хорошим, так данные в датасете являются очень несбалансированными и достичь каких-то   \n",
    "высоких значений достаточно тяжело.  \n",
    "Наиболее важным для предсказаний оказался гиперпараметр - *scale_pos_weight*, так как именно он отвечает за увеличение весов  \n",
    "предсказаний для объектов менее распространенного класса."
   ]
  },
  {
   "cell_type": "code",
   "execution_count": 86,
   "id": "11729492",
   "metadata": {
    "id": "11729492"
   },
   "outputs": [
    {
     "data": {
      "text/plain": [
       "{'max_depth': 7,\n",
       " 'learning_rate': 0.15595520427517345,\n",
       " 'n_estimators': 52,\n",
       " 'min_child_weight': 10,\n",
       " 'gamma': 2.209262740122085e-07,\n",
       " 'subsample': 0.24599012587130284,\n",
       " 'colsample_bytree': 0.5217197752865737,\n",
       " 'reg_alpha': 0.4568424628244779,\n",
       " 'reg_lambda': 0.1697604887149117,\n",
       " 'scale_pos_weight': 3}"
      ]
     },
     "execution_count": 86,
     "metadata": {},
     "output_type": "execute_result"
    }
   ],
   "source": [
    "study_XGB_final.best_params"
   ]
  },
  {
   "cell_type": "code",
   "execution_count": 87,
   "id": "d16d4403",
   "metadata": {
    "id": "d16d4403"
   },
   "outputs": [],
   "source": [
    "final_model = xgb.XGBClassifier(\n",
    "    **study_XGB_final.best_params,\n",
    "    random_state=42,\n",
    "    eval_metric=f1_macro,\n",
    "    objective=\"binary:logistic\",\n",
    "    enable_categorical=True\n",
    ")"
   ]
  },
  {
   "cell_type": "code",
   "execution_count": 88,
   "id": "561bdf5e",
   "metadata": {
    "id": "561bdf5e"
   },
   "outputs": [
    {
     "data": {
      "text/html": [
       "<style>#sk-container-id-1 {color: black;background-color: white;}#sk-container-id-1 pre{padding: 0;}#sk-container-id-1 div.sk-toggleable {background-color: white;}#sk-container-id-1 label.sk-toggleable__label {cursor: pointer;display: block;width: 100%;margin-bottom: 0;padding: 0.3em;box-sizing: border-box;text-align: center;}#sk-container-id-1 label.sk-toggleable__label-arrow:before {content: \"▸\";float: left;margin-right: 0.25em;color: #696969;}#sk-container-id-1 label.sk-toggleable__label-arrow:hover:before {color: black;}#sk-container-id-1 div.sk-estimator:hover label.sk-toggleable__label-arrow:before {color: black;}#sk-container-id-1 div.sk-toggleable__content {max-height: 0;max-width: 0;overflow: hidden;text-align: left;background-color: #f0f8ff;}#sk-container-id-1 div.sk-toggleable__content pre {margin: 0.2em;color: black;border-radius: 0.25em;background-color: #f0f8ff;}#sk-container-id-1 input.sk-toggleable__control:checked~div.sk-toggleable__content {max-height: 200px;max-width: 100%;overflow: auto;}#sk-container-id-1 input.sk-toggleable__control:checked~label.sk-toggleable__label-arrow:before {content: \"▾\";}#sk-container-id-1 div.sk-estimator input.sk-toggleable__control:checked~label.sk-toggleable__label {background-color: #d4ebff;}#sk-container-id-1 div.sk-label input.sk-toggleable__control:checked~label.sk-toggleable__label {background-color: #d4ebff;}#sk-container-id-1 input.sk-hidden--visually {border: 0;clip: rect(1px 1px 1px 1px);clip: rect(1px, 1px, 1px, 1px);height: 1px;margin: -1px;overflow: hidden;padding: 0;position: absolute;width: 1px;}#sk-container-id-1 div.sk-estimator {font-family: monospace;background-color: #f0f8ff;border: 1px dotted black;border-radius: 0.25em;box-sizing: border-box;margin-bottom: 0.5em;}#sk-container-id-1 div.sk-estimator:hover {background-color: #d4ebff;}#sk-container-id-1 div.sk-parallel-item::after {content: \"\";width: 100%;border-bottom: 1px solid gray;flex-grow: 1;}#sk-container-id-1 div.sk-label:hover label.sk-toggleable__label {background-color: #d4ebff;}#sk-container-id-1 div.sk-serial::before {content: \"\";position: absolute;border-left: 1px solid gray;box-sizing: border-box;top: 0;bottom: 0;left: 50%;z-index: 0;}#sk-container-id-1 div.sk-serial {display: flex;flex-direction: column;align-items: center;background-color: white;padding-right: 0.2em;padding-left: 0.2em;position: relative;}#sk-container-id-1 div.sk-item {position: relative;z-index: 1;}#sk-container-id-1 div.sk-parallel {display: flex;align-items: stretch;justify-content: center;background-color: white;position: relative;}#sk-container-id-1 div.sk-item::before, #sk-container-id-1 div.sk-parallel-item::before {content: \"\";position: absolute;border-left: 1px solid gray;box-sizing: border-box;top: 0;bottom: 0;left: 50%;z-index: -1;}#sk-container-id-1 div.sk-parallel-item {display: flex;flex-direction: column;z-index: 1;position: relative;background-color: white;}#sk-container-id-1 div.sk-parallel-item:first-child::after {align-self: flex-end;width: 50%;}#sk-container-id-1 div.sk-parallel-item:last-child::after {align-self: flex-start;width: 50%;}#sk-container-id-1 div.sk-parallel-item:only-child::after {width: 0;}#sk-container-id-1 div.sk-dashed-wrapped {border: 1px dashed gray;margin: 0 0.4em 0.5em 0.4em;box-sizing: border-box;padding-bottom: 0.4em;background-color: white;}#sk-container-id-1 div.sk-label label {font-family: monospace;font-weight: bold;display: inline-block;line-height: 1.2em;}#sk-container-id-1 div.sk-label-container {text-align: center;}#sk-container-id-1 div.sk-container {/* jupyter's `normalize.less` sets `[hidden] { display: none; }` but bootstrap.min.css set `[hidden] { display: none !important; }` so we also need the `!important` here to be able to override the default hidden behavior on the sphinx rendered scikit-learn.org. See: https://github.com/scikit-learn/scikit-learn/issues/21755 */display: inline-block !important;position: relative;}#sk-container-id-1 div.sk-text-repr-fallback {display: none;}</style><div id=\"sk-container-id-1\" class=\"sk-top-container\"><div class=\"sk-text-repr-fallback\"><pre>XGBClassifier(base_score=None, booster=None, callbacks=None,\n",
       "              colsample_bylevel=None, colsample_bynode=None,\n",
       "              colsample_bytree=0.5217197752865737, device=None,\n",
       "              early_stopping_rounds=None, enable_categorical=True,\n",
       "              eval_metric=&lt;function f1_macro at 0x000001BC38CDDBC0&gt;,\n",
       "              feature_types=None, gamma=2.209262740122085e-07, grow_policy=None,\n",
       "              importance_type=None, interaction_constraints=None,\n",
       "              learning_rate=0.15595520427517345, max_bin=None,\n",
       "              max_cat_threshold=None, max_cat_to_onehot=None,\n",
       "              max_delta_step=None, max_depth=7, max_leaves=None,\n",
       "              min_child_weight=10, missing=nan, monotone_constraints=None,\n",
       "              multi_strategy=None, n_estimators=52, n_jobs=None,\n",
       "              num_parallel_tree=None, random_state=42, ...)</pre><b>In a Jupyter environment, please rerun this cell to show the HTML representation or trust the notebook. <br />On GitHub, the HTML representation is unable to render, please try loading this page with nbviewer.org.</b></div><div class=\"sk-container\" hidden><div class=\"sk-item\"><div class=\"sk-estimator sk-toggleable\"><input class=\"sk-toggleable__control sk-hidden--visually\" id=\"sk-estimator-id-1\" type=\"checkbox\" checked><label for=\"sk-estimator-id-1\" class=\"sk-toggleable__label sk-toggleable__label-arrow\">XGBClassifier</label><div class=\"sk-toggleable__content\"><pre>XGBClassifier(base_score=None, booster=None, callbacks=None,\n",
       "              colsample_bylevel=None, colsample_bynode=None,\n",
       "              colsample_bytree=0.5217197752865737, device=None,\n",
       "              early_stopping_rounds=None, enable_categorical=True,\n",
       "              eval_metric=&lt;function f1_macro at 0x000001BC38CDDBC0&gt;,\n",
       "              feature_types=None, gamma=2.209262740122085e-07, grow_policy=None,\n",
       "              importance_type=None, interaction_constraints=None,\n",
       "              learning_rate=0.15595520427517345, max_bin=None,\n",
       "              max_cat_threshold=None, max_cat_to_onehot=None,\n",
       "              max_delta_step=None, max_depth=7, max_leaves=None,\n",
       "              min_child_weight=10, missing=nan, monotone_constraints=None,\n",
       "              multi_strategy=None, n_estimators=52, n_jobs=None,\n",
       "              num_parallel_tree=None, random_state=42, ...)</pre></div></div></div></div></div>"
      ],
      "text/plain": [
       "XGBClassifier(base_score=None, booster=None, callbacks=None,\n",
       "              colsample_bylevel=None, colsample_bynode=None,\n",
       "              colsample_bytree=0.5217197752865737, device=None,\n",
       "              early_stopping_rounds=None, enable_categorical=True,\n",
       "              eval_metric=<function f1_macro at 0x000001BC38CDDBC0>,\n",
       "              feature_types=None, gamma=2.209262740122085e-07, grow_policy=None,\n",
       "              importance_type=None, interaction_constraints=None,\n",
       "              learning_rate=0.15595520427517345, max_bin=None,\n",
       "              max_cat_threshold=None, max_cat_to_onehot=None,\n",
       "              max_delta_step=None, max_depth=7, max_leaves=None,\n",
       "              min_child_weight=10, missing=nan, monotone_constraints=None,\n",
       "              multi_strategy=None, n_estimators=52, n_jobs=None,\n",
       "              num_parallel_tree=None, random_state=42, ...)"
      ]
     },
     "execution_count": 88,
     "metadata": {},
     "output_type": "execute_result"
    }
   ],
   "source": [
    "final_model.fit(X, y)"
   ]
  },
  {
   "cell_type": "code",
   "execution_count": 89,
   "id": "030f3153",
   "metadata": {
    "id": "030f3153"
   },
   "outputs": [],
   "source": [
    "X_public_test = public_test\n",
    "X_private_test = private_test"
   ]
  },
  {
   "cell_type": "code",
   "execution_count": 90,
   "id": "579d4b7b",
   "metadata": {
    "id": "579d4b7b"
   },
   "outputs": [],
   "source": [
    "pred_public_test = np.round(final_model.predict(X_public_test))\n",
    "np.savetxt(\"submission_pub.csv\", pred_public_test, fmt=\"%d\", delimiter=\"\")"
   ]
  },
  {
   "cell_type": "code",
   "execution_count": 91,
   "id": "f36ace86",
   "metadata": {
    "id": "f36ace86"
   },
   "outputs": [],
   "source": [
    "pred_private_test = np.round(final_model.predict(X_private_test))\n",
    "np.savetxt(\"submission_pr.csv\", pred_private_test, fmt=\"%d\", delimiter=\"\")"
   ]
  },
  {
   "cell_type": "markdown",
   "id": "0f5af139",
   "metadata": {
    "id": "0f5af139"
   },
   "source": [
    "# Сохранение модели"
   ]
  },
  {
   "cell_type": "code",
   "execution_count": 92,
   "id": "dbf92e26",
   "metadata": {
    "id": "dbf92e26"
   },
   "outputs": [
    {
     "data": {
      "text/plain": [
       "['final_model.joblib']"
      ]
     },
     "execution_count": 92,
     "metadata": {},
     "output_type": "execute_result"
    }
   ],
   "source": [
    "from joblib import dump\n",
    "\n",
    "dump(final_model, \"final_model.joblib\")"
   ]
  }
 ],
 "metadata": {
  "colab": {
   "provenance": []
  },
  "kernelspec": {
   "display_name": "Python 3 (ipykernel)",
   "language": "python",
   "name": "python3"
  },
  "language_info": {
   "codemirror_mode": {
    "name": "ipython",
    "version": 3
   },
   "file_extension": ".py",
   "mimetype": "text/x-python",
   "name": "python",
   "nbconvert_exporter": "python",
   "pygments_lexer": "ipython3",
   "version": "3.11.7"
  }
 },
 "nbformat": 4,
 "nbformat_minor": 5
}
