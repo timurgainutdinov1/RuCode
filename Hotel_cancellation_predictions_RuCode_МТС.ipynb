{
 "cells": [
  {
   "cell_type": "markdown",
   "id": "830cd723",
   "metadata": {},
   "source": [
    "# Импорты библиотек"
   ]
  },
  {
   "cell_type": "code",
   "execution_count": 1,
   "id": "9605b33c",
   "metadata": {},
   "outputs": [],
   "source": [
    "import warnings\n",
    "\n",
    "import matplotlib.pyplot as plt\n",
    "import numpy as np\n",
    "import optuna\n",
    "import pandas as pd\n",
    "import seaborn as sns\n",
    "import xgboost as xgb\n",
    "from prettytable import PrettyTable\n",
    "from scipy.stats import fisher_exact, stats\n",
    "from scipy.stats.contingency import relative_risk\n",
    "from sklearn.metrics import f1_score\n",
    "from sklearn.model_selection import (ShuffleSplit, cross_val_score,\n",
    "                                     train_test_split)\n",
    "\n",
    "warnings.filterwarnings('ignore')\n",
    "\n",
    "pd.set_option('display.float_format', '{:.2f}'.format)"
   ]
  },
  {
   "cell_type": "markdown",
   "id": "b32b0b92",
   "metadata": {},
   "source": [
    "# Описание данных"
   ]
  },
  {
   "cell_type": "markdown",
   "id": "caf19fa9",
   "metadata": {},
   "source": [
    "**Описание задачи**\n",
    "\n",
    "Отелям важно понимать, какое из бронирований может быть отменено пользователем. Возможные плюсы для отеля:\n",
    "\n",
    "- **Оптимизация управления номерами**: Зная вероятность отмены бронирования заранее, отель может эффективнее управлять доступностью номеров. Например, можно предоставлять только часть номеров для онлайн-бронирований, чтобы минимизировать потери от отмены.\n",
    "- **Планирование ресурсов**: Зная, что определенное количество бронирований скорее всего будет отменено, отель может более точно планировать свои ресурсы, включая персонал, инвентарь и питание.\n",
    "- **Улучшение сервиса**: Предсказание отмены бронирования позволяет отелю своевременно связаться с гостем и предложить альтернативные варианты или скидки для удержания клиента. Это может помочь улучшить обслуживание и удовлетворенность клиентов."
   ]
  },
  {
   "cell_type": "markdown",
   "id": "0c640aa7",
   "metadata": {},
   "source": [
    "**Задание**\n",
    "\n",
    "Используя данные о бронированиях и отелях, требуется построить модель классификации, предсказывающую отмену бронирования."
   ]
  },
  {
   "cell_type": "markdown",
   "id": "976722fe",
   "metadata": {},
   "source": [
    "| Название столбца | Данные в столбце |\n",
    "| --- | --- |\n",
    "| service\\_id | Id бронирования |\n",
    "| service\\_date | Дата заказа бронирования |\n",
    "| service\\_checkin | Дата заезда в объект |\n",
    "| service\\_checkout | Дата выезда |\n",
    "| service\\_price | Стоимость бронирования |\n",
    "| service\\_child\\_cnt | Количество детей в бронировании |\n",
    "| service\\_people\\_cnt | Количество гостей (дети + взрослые) |\n",
    "| client\\_id | Id клиента |\n",
    "| client\\_segment | Сегмент клиента |\n",
    "| hotel\\_id | Id объекта |\n",
    "| country\\_name | Страна расположения объекта |\n",
    "| city\\_name | Город расположения объекта |\n",
    "| category\\_star | Количество звезд объекта (при наличии) |\n",
    "| hotel\\_type | Тип объекта |\n",
    "| hotel\\_seasonal | Флаг сезонности объекта |\n",
    "| room\\_category | Категория номера |\n",
    "| service\\_status | Последний статус бронирования: 0 - для выполненных заказов, 1 - для отмененных. |"
   ]
  },
  {
   "cell_type": "markdown",
   "id": "9b1a3b3d",
   "metadata": {},
   "source": [
    "# Загрузка данных"
   ]
  },
  {
   "cell_type": "code",
   "execution_count": 2,
   "id": "8bf3bfb6",
   "metadata": {},
   "outputs": [],
   "source": [
    "train = pd.read_csv(\"train.csv\")\n",
    "public_test = pd.read_csv(\"public_test.csv\")\n",
    "private_test = pd.read_csv(\"private_test.csv\")"
   ]
  },
  {
   "cell_type": "code",
   "execution_count": 3,
   "id": "e15ce6dd",
   "metadata": {},
   "outputs": [
    {
     "data": {
      "text/html": [
       "<div>\n",
       "<style scoped>\n",
       "    .dataframe tbody tr th:only-of-type {\n",
       "        vertical-align: middle;\n",
       "    }\n",
       "\n",
       "    .dataframe tbody tr th {\n",
       "        vertical-align: top;\n",
       "    }\n",
       "\n",
       "    .dataframe thead th {\n",
       "        text-align: right;\n",
       "    }\n",
       "</style>\n",
       "<table border=\"1\" class=\"dataframe\">\n",
       "  <thead>\n",
       "    <tr style=\"text-align: right;\">\n",
       "      <th></th>\n",
       "      <th>service_id</th>\n",
       "      <th>service_date</th>\n",
       "      <th>service_checkin</th>\n",
       "      <th>service_checkout</th>\n",
       "      <th>service_price</th>\n",
       "      <th>service_child_cnt</th>\n",
       "      <th>service_people_cnt</th>\n",
       "      <th>client_id</th>\n",
       "      <th>client_segment</th>\n",
       "      <th>hotel_id</th>\n",
       "      <th>country_name</th>\n",
       "      <th>city_name</th>\n",
       "      <th>category_star</th>\n",
       "      <th>hotel_type</th>\n",
       "      <th>hotel_seasonal</th>\n",
       "      <th>room_category</th>\n",
       "      <th>service_status</th>\n",
       "    </tr>\n",
       "  </thead>\n",
       "  <tbody>\n",
       "    <tr>\n",
       "      <th>0</th>\n",
       "      <td>12528130</td>\n",
       "      <td>2016-12-28</td>\n",
       "      <td>2017-01-13</td>\n",
       "      <td>2017-01-20</td>\n",
       "      <td>78457.60</td>\n",
       "      <td>0.00</td>\n",
       "      <td>2.00</td>\n",
       "      <td>215314</td>\n",
       "      <td>b2bBusinessTravel</td>\n",
       "      <td>3538</td>\n",
       "      <td>Россия</td>\n",
       "      <td>NaN</td>\n",
       "      <td>5.00</td>\n",
       "      <td>hotel</td>\n",
       "      <td>0</td>\n",
       "      <td>70</td>\n",
       "      <td>0</td>\n",
       "    </tr>\n",
       "    <tr>\n",
       "      <th>1</th>\n",
       "      <td>12528139</td>\n",
       "      <td>2016-12-28</td>\n",
       "      <td>2017-01-16</td>\n",
       "      <td>2017-01-17</td>\n",
       "      <td>2395.80</td>\n",
       "      <td>0.00</td>\n",
       "      <td>1.00</td>\n",
       "      <td>210509</td>\n",
       "      <td>b2b2c</td>\n",
       "      <td>7695</td>\n",
       "      <td>Россия</td>\n",
       "      <td>Реутов</td>\n",
       "      <td>0.00</td>\n",
       "      <td>hotel</td>\n",
       "      <td>0</td>\n",
       "      <td>20</td>\n",
       "      <td>1</td>\n",
       "    </tr>\n",
       "    <tr>\n",
       "      <th>2</th>\n",
       "      <td>12528148</td>\n",
       "      <td>2016-12-28</td>\n",
       "      <td>2017-01-19</td>\n",
       "      <td>2017-01-23</td>\n",
       "      <td>10062.36</td>\n",
       "      <td>0.00</td>\n",
       "      <td>2.00</td>\n",
       "      <td>210509</td>\n",
       "      <td>b2b2c</td>\n",
       "      <td>36934</td>\n",
       "      <td>Россия</td>\n",
       "      <td>Санкт-Петербург</td>\n",
       "      <td>3.00</td>\n",
       "      <td>mini-hotel</td>\n",
       "      <td>0</td>\n",
       "      <td>50</td>\n",
       "      <td>0</td>\n",
       "    </tr>\n",
       "    <tr>\n",
       "      <th>3</th>\n",
       "      <td>12528157</td>\n",
       "      <td>2016-12-28</td>\n",
       "      <td>2016-12-31</td>\n",
       "      <td>2017-01-01</td>\n",
       "      <td>2332.00</td>\n",
       "      <td>0.00</td>\n",
       "      <td>2.00</td>\n",
       "      <td>213592</td>\n",
       "      <td>b2b2c</td>\n",
       "      <td>7107</td>\n",
       "      <td>Россия</td>\n",
       "      <td>Биробиджан</td>\n",
       "      <td>3.00</td>\n",
       "      <td>hotel</td>\n",
       "      <td>0</td>\n",
       "      <td>30</td>\n",
       "      <td>0</td>\n",
       "    </tr>\n",
       "    <tr>\n",
       "      <th>4</th>\n",
       "      <td>12528166</td>\n",
       "      <td>2016-12-28</td>\n",
       "      <td>2016-12-29</td>\n",
       "      <td>2016-12-30</td>\n",
       "      <td>2259.92</td>\n",
       "      <td>0.00</td>\n",
       "      <td>1.00</td>\n",
       "      <td>224181</td>\n",
       "      <td>b2bBusinessTravel</td>\n",
       "      <td>3966</td>\n",
       "      <td>Россия</td>\n",
       "      <td>Владивосток</td>\n",
       "      <td>0.00</td>\n",
       "      <td>hotel</td>\n",
       "      <td>0</td>\n",
       "      <td>30</td>\n",
       "      <td>0</td>\n",
       "    </tr>\n",
       "  </tbody>\n",
       "</table>\n",
       "</div>"
      ],
      "text/plain": [
       "   service_id service_date service_checkin service_checkout  service_price  \\\n",
       "0    12528130   2016-12-28      2017-01-13       2017-01-20       78457.60   \n",
       "1    12528139   2016-12-28      2017-01-16       2017-01-17        2395.80   \n",
       "2    12528148   2016-12-28      2017-01-19       2017-01-23       10062.36   \n",
       "3    12528157   2016-12-28      2016-12-31       2017-01-01        2332.00   \n",
       "4    12528166   2016-12-28      2016-12-29       2016-12-30        2259.92   \n",
       "\n",
       "   service_child_cnt  service_people_cnt  client_id     client_segment  \\\n",
       "0               0.00                2.00     215314  b2bBusinessTravel   \n",
       "1               0.00                1.00     210509              b2b2c   \n",
       "2               0.00                2.00     210509              b2b2c   \n",
       "3               0.00                2.00     213592              b2b2c   \n",
       "4               0.00                1.00     224181  b2bBusinessTravel   \n",
       "\n",
       "   hotel_id country_name        city_name  category_star  hotel_type  \\\n",
       "0      3538       Россия              NaN           5.00       hotel   \n",
       "1      7695       Россия           Реутов           0.00       hotel   \n",
       "2     36934       Россия  Санкт-Петербург           3.00  mini-hotel   \n",
       "3      7107       Россия       Биробиджан           3.00       hotel   \n",
       "4      3966       Россия      Владивосток           0.00       hotel   \n",
       "\n",
       "   hotel_seasonal  room_category  service_status  \n",
       "0               0             70               0  \n",
       "1               0             20               1  \n",
       "2               0             50               0  \n",
       "3               0             30               0  \n",
       "4               0             30               0  "
      ]
     },
     "execution_count": 3,
     "metadata": {},
     "output_type": "execute_result"
    }
   ],
   "source": [
    "train.head()"
   ]
  },
  {
   "cell_type": "code",
   "execution_count": 4,
   "id": "73c4e45c",
   "metadata": {},
   "outputs": [
    {
     "data": {
      "text/html": [
       "<div>\n",
       "<style scoped>\n",
       "    .dataframe tbody tr th:only-of-type {\n",
       "        vertical-align: middle;\n",
       "    }\n",
       "\n",
       "    .dataframe tbody tr th {\n",
       "        vertical-align: top;\n",
       "    }\n",
       "\n",
       "    .dataframe thead th {\n",
       "        text-align: right;\n",
       "    }\n",
       "</style>\n",
       "<table border=\"1\" class=\"dataframe\">\n",
       "  <thead>\n",
       "    <tr style=\"text-align: right;\">\n",
       "      <th></th>\n",
       "      <th>service_id</th>\n",
       "      <th>service_date</th>\n",
       "      <th>service_checkin</th>\n",
       "      <th>service_checkout</th>\n",
       "      <th>service_price</th>\n",
       "      <th>service_child_cnt</th>\n",
       "      <th>service_people_cnt</th>\n",
       "      <th>client_id</th>\n",
       "      <th>client_segment</th>\n",
       "      <th>hotel_id</th>\n",
       "      <th>country_name</th>\n",
       "      <th>city_name</th>\n",
       "      <th>category_star</th>\n",
       "      <th>hotel_type</th>\n",
       "      <th>hotel_seasonal</th>\n",
       "      <th>room_category</th>\n",
       "    </tr>\n",
       "  </thead>\n",
       "  <tbody>\n",
       "    <tr>\n",
       "      <th>0</th>\n",
       "      <td>31793052</td>\n",
       "      <td>2019-07-20</td>\n",
       "      <td>2019-07-21</td>\n",
       "      <td>2019-07-22</td>\n",
       "      <td>4473.87</td>\n",
       "      <td>0.00</td>\n",
       "      <td>2.00</td>\n",
       "      <td>291090</td>\n",
       "      <td>b2b2c</td>\n",
       "      <td>55696</td>\n",
       "      <td>Россия</td>\n",
       "      <td>Белоозерский</td>\n",
       "      <td>4.00</td>\n",
       "      <td>hotel</td>\n",
       "      <td>0</td>\n",
       "      <td>50</td>\n",
       "    </tr>\n",
       "    <tr>\n",
       "      <th>1</th>\n",
       "      <td>31793057</td>\n",
       "      <td>2019-07-20</td>\n",
       "      <td>2019-08-01</td>\n",
       "      <td>2019-08-02</td>\n",
       "      <td>8000.00</td>\n",
       "      <td>0.00</td>\n",
       "      <td>2.00</td>\n",
       "      <td>275640</td>\n",
       "      <td>b2b2c</td>\n",
       "      <td>303839</td>\n",
       "      <td>Россия</td>\n",
       "      <td>Артыбаш</td>\n",
       "      <td>4.00</td>\n",
       "      <td>mini-hotel</td>\n",
       "      <td>0</td>\n",
       "      <td>30</td>\n",
       "    </tr>\n",
       "    <tr>\n",
       "      <th>2</th>\n",
       "      <td>31793062</td>\n",
       "      <td>2019-07-20</td>\n",
       "      <td>2019-07-23</td>\n",
       "      <td>2019-07-24</td>\n",
       "      <td>3360.00</td>\n",
       "      <td>0.00</td>\n",
       "      <td>2.00</td>\n",
       "      <td>1183838</td>\n",
       "      <td>b2c</td>\n",
       "      <td>301189</td>\n",
       "      <td>Россия</td>\n",
       "      <td>Кемерово</td>\n",
       "      <td>3.00</td>\n",
       "      <td>hotel</td>\n",
       "      <td>0</td>\n",
       "      <td>40</td>\n",
       "    </tr>\n",
       "    <tr>\n",
       "      <th>3</th>\n",
       "      <td>31793067</td>\n",
       "      <td>2019-07-20</td>\n",
       "      <td>2019-07-20</td>\n",
       "      <td>2019-07-21</td>\n",
       "      <td>1596.87</td>\n",
       "      <td>0.00</td>\n",
       "      <td>2.00</td>\n",
       "      <td>291090</td>\n",
       "      <td>b2b2c</td>\n",
       "      <td>13935</td>\n",
       "      <td>Россия</td>\n",
       "      <td>Уфа</td>\n",
       "      <td>0.00</td>\n",
       "      <td>hostel</td>\n",
       "      <td>0</td>\n",
       "      <td>20</td>\n",
       "    </tr>\n",
       "    <tr>\n",
       "      <th>4</th>\n",
       "      <td>31793072</td>\n",
       "      <td>2019-07-20</td>\n",
       "      <td>2019-07-20</td>\n",
       "      <td>2019-07-21</td>\n",
       "      <td>3300.00</td>\n",
       "      <td>2.00</td>\n",
       "      <td>6.00</td>\n",
       "      <td>275640</td>\n",
       "      <td>b2b2c</td>\n",
       "      <td>135769</td>\n",
       "      <td>Россия</td>\n",
       "      <td>Пролетарск</td>\n",
       "      <td>2.00</td>\n",
       "      <td>mini-hotel</td>\n",
       "      <td>0</td>\n",
       "      <td>40</td>\n",
       "    </tr>\n",
       "  </tbody>\n",
       "</table>\n",
       "</div>"
      ],
      "text/plain": [
       "   service_id service_date service_checkin service_checkout  service_price  \\\n",
       "0    31793052   2019-07-20      2019-07-21       2019-07-22        4473.87   \n",
       "1    31793057   2019-07-20      2019-08-01       2019-08-02        8000.00   \n",
       "2    31793062   2019-07-20      2019-07-23       2019-07-24        3360.00   \n",
       "3    31793067   2019-07-20      2019-07-20       2019-07-21        1596.87   \n",
       "4    31793072   2019-07-20      2019-07-20       2019-07-21        3300.00   \n",
       "\n",
       "   service_child_cnt  service_people_cnt  client_id client_segment  hotel_id  \\\n",
       "0               0.00                2.00     291090          b2b2c     55696   \n",
       "1               0.00                2.00     275640          b2b2c    303839   \n",
       "2               0.00                2.00    1183838            b2c    301189   \n",
       "3               0.00                2.00     291090          b2b2c     13935   \n",
       "4               2.00                6.00     275640          b2b2c    135769   \n",
       "\n",
       "  country_name     city_name  category_star  hotel_type  hotel_seasonal  \\\n",
       "0       Россия  Белоозерский           4.00       hotel               0   \n",
       "1       Россия       Артыбаш           4.00  mini-hotel               0   \n",
       "2       Россия      Кемерово           3.00       hotel               0   \n",
       "3       Россия           Уфа           0.00      hostel               0   \n",
       "4       Россия    Пролетарск           2.00  mini-hotel               0   \n",
       "\n",
       "   room_category  \n",
       "0             50  \n",
       "1             30  \n",
       "2             40  \n",
       "3             20  \n",
       "4             40  "
      ]
     },
     "execution_count": 4,
     "metadata": {},
     "output_type": "execute_result"
    }
   ],
   "source": [
    "public_test.head()"
   ]
  },
  {
   "cell_type": "markdown",
   "id": "22b19273",
   "metadata": {},
   "source": [
    "# Поиск и обработка выбросов"
   ]
  },
  {
   "cell_type": "markdown",
   "id": "25c9776e",
   "metadata": {},
   "source": [
    "## Столбцы с датами"
   ]
  },
  {
   "cell_type": "markdown",
   "id": "912ec989",
   "metadata": {},
   "source": [
    "Преобразуем данные в столбцах *service_date*, *service_checkin*, *service_checkout* к типу Timestamp"
   ]
  },
  {
   "cell_type": "code",
   "execution_count": 5,
   "id": "897a8823",
   "metadata": {},
   "outputs": [],
   "source": [
    "train[['service_date', 'service_checkin', 'service_checkout']] = train[['service_date','service_checkin','service_checkout']].apply(pd.to_datetime)\n",
    "public_test[['service_date', 'service_checkin', 'service_checkout']] = public_test[['service_date','service_checkin','service_checkout']].apply(pd.to_datetime)\n",
    "private_test[['service_date', 'service_checkin', 'service_checkout']] = private_test[['service_date','service_checkin','service_checkout']].apply(pd.to_datetime)"
   ]
  },
  {
   "cell_type": "markdown",
   "id": "83637a01",
   "metadata": {},
   "source": [
    "Исправим ошибки: дата бронирования позже даты заезда."
   ]
  },
  {
   "cell_type": "code",
   "execution_count": 6,
   "id": "48b8a9da",
   "metadata": {},
   "outputs": [],
   "source": [
    "train.loc[(train['service_date'] > train['service_checkin']), 'service_date'] = train['service_checkin']"
   ]
  },
  {
   "cell_type": "code",
   "execution_count": 7,
   "id": "77e79aaf",
   "metadata": {},
   "outputs": [],
   "source": [
    "public_test.loc[(public_test['service_date'] > public_test['service_checkin']), 'service_date'] = public_test['service_checkin']\n",
    "private_test.loc[(private_test['service_date'] > private_test['service_checkin']), 'service_date'] = private_test['service_checkin']"
   ]
  },
  {
   "cell_type": "markdown",
   "id": "f3b2c7fa",
   "metadata": {},
   "source": [
    "Добавим несколько новых признаков: *length_of_stay*, *days_until_checkin*"
   ]
  },
  {
   "cell_type": "code",
   "execution_count": 8,
   "id": "b29179b6",
   "metadata": {},
   "outputs": [],
   "source": [
    "train['length_of_stay'] = (train['service_checkout'] - train['service_checkin']).dt.days\n",
    "public_test['length_of_stay'] = (public_test['service_checkout'] - public_test['service_checkin']).dt.days\n",
    "private_test['length_of_stay'] = (private_test['service_checkout'] - private_test['service_checkin']).dt.days\n",
    "\n",
    "train.loc[train['length_of_stay'] == 0, 'length_of_stay'] = 1\n",
    "public_test.loc[public_test['length_of_stay'] == 0, 'length_of_stay'] = 1\n",
    "private_test.loc[private_test['length_of_stay'] == 0, 'length_of_stay'] = 1\n",
    "\n",
    "train['days_until_checkin'] = (train['service_checkin'] - train['service_date']).dt.days\n",
    "public_test['days_until_checkin'] = (public_test['service_checkin'] - public_test['service_date']).dt.days\n",
    "private_test['days_until_checkin'] = (private_test['service_checkin'] - private_test['service_date']).dt.days"
   ]
  },
  {
   "cell_type": "markdown",
   "id": "baf02fb7",
   "metadata": {},
   "source": [
    "## Столбец *service_price*"
   ]
  },
  {
   "cell_type": "code",
   "execution_count": 9,
   "id": "1d2d297f",
   "metadata": {},
   "outputs": [
    {
     "data": {
      "text/plain": [
       "count   2832810.00\n",
       "mean       9568.75\n",
       "std       13483.32\n",
       "min         -90.00\n",
       "25%        3230.00\n",
       "50%        5725.00\n",
       "75%       11138.00\n",
       "max     1976845.50\n",
       "Name: service_price, dtype: float64"
      ]
     },
     "execution_count": 9,
     "metadata": {},
     "output_type": "execute_result"
    }
   ],
   "source": [
    "train['service_price'].describe()"
   ]
  },
  {
   "cell_type": "code",
   "execution_count": 10,
   "id": "8f7a753a",
   "metadata": {},
   "outputs": [
    {
     "data": {
      "text/plain": [
       "count    607030.00\n",
       "mean      10243.83\n",
       "std       15652.05\n",
       "min           0.00\n",
       "25%        3261.00\n",
       "50%        5953.50\n",
       "75%       12000.00\n",
       "max     3321884.00\n",
       "Name: service_price, dtype: float64"
      ]
     },
     "execution_count": 10,
     "metadata": {},
     "output_type": "execute_result"
    }
   ],
   "source": [
    "public_test['service_price'].describe()"
   ]
  },
  {
   "cell_type": "markdown",
   "id": "d2544ac1",
   "metadata": {},
   "source": [
    "Отрицательные и нулевые стоимости бронирования заменим на NaN"
   ]
  },
  {
   "cell_type": "code",
   "execution_count": 11,
   "id": "bf53a6f7",
   "metadata": {},
   "outputs": [],
   "source": [
    "train.loc[train['service_price'] <= 0, 'service_price'] = np.nan"
   ]
  },
  {
   "cell_type": "code",
   "execution_count": 12,
   "id": "1bfe8f07",
   "metadata": {},
   "outputs": [],
   "source": [
    "public_test.loc[public_test['service_price'] <= 0, 'service_price'] = np.nan\n",
    "private_test.loc[private_test['service_price'] <= 0, 'service_price'] = np.nan"
   ]
  },
  {
   "cell_type": "markdown",
   "id": "40cc8b86",
   "metadata": {},
   "source": [
    "Введем новый признак *price_per_day_one_person*, перед этим избавимся от строк с пропусками в *service_child_cnt* и *service_people_cnt*"
   ]
  },
  {
   "cell_type": "code",
   "execution_count": 13,
   "id": "8631e1ae",
   "metadata": {},
   "outputs": [
    {
     "data": {
      "text/plain": [
       "service_child_cnt     258\n",
       "service_people_cnt    258\n",
       "dtype: int64"
      ]
     },
     "execution_count": 13,
     "metadata": {},
     "output_type": "execute_result"
    }
   ],
   "source": [
    "train[['service_child_cnt', 'service_people_cnt']].isna().sum()"
   ]
  },
  {
   "cell_type": "code",
   "execution_count": 14,
   "id": "1a0a4988",
   "metadata": {},
   "outputs": [
    {
     "data": {
      "text/plain": [
       "service_child_cnt     0\n",
       "service_people_cnt    0\n",
       "dtype: int64"
      ]
     },
     "execution_count": 14,
     "metadata": {},
     "output_type": "execute_result"
    }
   ],
   "source": [
    "public_test[['service_child_cnt', 'service_people_cnt']].isna().sum()"
   ]
  },
  {
   "cell_type": "code",
   "execution_count": 15,
   "id": "aa4f3e17",
   "metadata": {},
   "outputs": [
    {
     "data": {
      "text/html": [
       "<div>\n",
       "<style scoped>\n",
       "    .dataframe tbody tr th:only-of-type {\n",
       "        vertical-align: middle;\n",
       "    }\n",
       "\n",
       "    .dataframe tbody tr th {\n",
       "        vertical-align: top;\n",
       "    }\n",
       "\n",
       "    .dataframe thead th {\n",
       "        text-align: right;\n",
       "    }\n",
       "</style>\n",
       "<table border=\"1\" class=\"dataframe\">\n",
       "  <thead>\n",
       "    <tr style=\"text-align: right;\">\n",
       "      <th></th>\n",
       "      <th>service_id</th>\n",
       "      <th>service_date</th>\n",
       "      <th>service_checkin</th>\n",
       "      <th>service_checkout</th>\n",
       "      <th>service_price</th>\n",
       "      <th>service_child_cnt</th>\n",
       "      <th>service_people_cnt</th>\n",
       "      <th>client_id</th>\n",
       "      <th>client_segment</th>\n",
       "      <th>hotel_id</th>\n",
       "      <th>country_name</th>\n",
       "      <th>city_name</th>\n",
       "      <th>category_star</th>\n",
       "      <th>hotel_type</th>\n",
       "      <th>hotel_seasonal</th>\n",
       "      <th>room_category</th>\n",
       "      <th>service_status</th>\n",
       "      <th>length_of_stay</th>\n",
       "      <th>days_until_checkin</th>\n",
       "    </tr>\n",
       "  </thead>\n",
       "  <tbody>\n",
       "  </tbody>\n",
       "</table>\n",
       "</div>"
      ],
      "text/plain": [
       "Empty DataFrame\n",
       "Columns: [service_id, service_date, service_checkin, service_checkout, service_price, service_child_cnt, service_people_cnt, client_id, client_segment, hotel_id, country_name, city_name, category_star, hotel_type, hotel_seasonal, room_category, service_status, length_of_stay, days_until_checkin]\n",
       "Index: []"
      ]
     },
     "execution_count": 15,
     "metadata": {},
     "output_type": "execute_result"
    }
   ],
   "source": [
    "train.loc[train['service_child_cnt'] > train['service_people_cnt']]"
   ]
  },
  {
   "cell_type": "code",
   "execution_count": 16,
   "id": "d051de09",
   "metadata": {},
   "outputs": [
    {
     "data": {
      "text/html": [
       "<div>\n",
       "<style scoped>\n",
       "    .dataframe tbody tr th:only-of-type {\n",
       "        vertical-align: middle;\n",
       "    }\n",
       "\n",
       "    .dataframe tbody tr th {\n",
       "        vertical-align: top;\n",
       "    }\n",
       "\n",
       "    .dataframe thead th {\n",
       "        text-align: right;\n",
       "    }\n",
       "</style>\n",
       "<table border=\"1\" class=\"dataframe\">\n",
       "  <thead>\n",
       "    <tr style=\"text-align: right;\">\n",
       "      <th></th>\n",
       "      <th>service_id</th>\n",
       "      <th>service_date</th>\n",
       "      <th>service_checkin</th>\n",
       "      <th>service_checkout</th>\n",
       "      <th>service_price</th>\n",
       "      <th>service_child_cnt</th>\n",
       "      <th>service_people_cnt</th>\n",
       "      <th>client_id</th>\n",
       "      <th>client_segment</th>\n",
       "      <th>hotel_id</th>\n",
       "      <th>country_name</th>\n",
       "      <th>city_name</th>\n",
       "      <th>category_star</th>\n",
       "      <th>hotel_type</th>\n",
       "      <th>hotel_seasonal</th>\n",
       "      <th>room_category</th>\n",
       "      <th>service_status</th>\n",
       "      <th>length_of_stay</th>\n",
       "      <th>days_until_checkin</th>\n",
       "    </tr>\n",
       "  </thead>\n",
       "  <tbody>\n",
       "    <tr>\n",
       "      <th>99266</th>\n",
       "      <td>13471664</td>\n",
       "      <td>2017-03-14</td>\n",
       "      <td>2017-03-19</td>\n",
       "      <td>2017-03-20</td>\n",
       "      <td>22680.90</td>\n",
       "      <td>NaN</td>\n",
       "      <td>NaN</td>\n",
       "      <td>263612</td>\n",
       "      <td>b2bBusinessTravel</td>\n",
       "      <td>6922</td>\n",
       "      <td>Россия</td>\n",
       "      <td>Новосибирск</td>\n",
       "      <td>5.00</td>\n",
       "      <td>hotel</td>\n",
       "      <td>0</td>\n",
       "      <td>30</td>\n",
       "      <td>1</td>\n",
       "      <td>1</td>\n",
       "      <td>5</td>\n",
       "    </tr>\n",
       "    <tr>\n",
       "      <th>475263</th>\n",
       "      <td>17079542</td>\n",
       "      <td>2017-10-03</td>\n",
       "      <td>2017-10-03</td>\n",
       "      <td>2017-10-04</td>\n",
       "      <td>2788.00</td>\n",
       "      <td>NaN</td>\n",
       "      <td>NaN</td>\n",
       "      <td>262343</td>\n",
       "      <td>b2bBusinessTravel</td>\n",
       "      <td>21621</td>\n",
       "      <td>Россия</td>\n",
       "      <td>Павловск</td>\n",
       "      <td>0.00</td>\n",
       "      <td>mini-hotel</td>\n",
       "      <td>0</td>\n",
       "      <td>30</td>\n",
       "      <td>1</td>\n",
       "      <td>1</td>\n",
       "      <td>0</td>\n",
       "    </tr>\n",
       "    <tr>\n",
       "      <th>492477</th>\n",
       "      <td>17247563</td>\n",
       "      <td>2017-09-28</td>\n",
       "      <td>2017-09-28</td>\n",
       "      <td>2017-10-01</td>\n",
       "      <td>16330.00</td>\n",
       "      <td>NaN</td>\n",
       "      <td>NaN</td>\n",
       "      <td>210179</td>\n",
       "      <td>b2bBusinessTravel</td>\n",
       "      <td>802</td>\n",
       "      <td>Россия</td>\n",
       "      <td>Якутск</td>\n",
       "      <td>4.00</td>\n",
       "      <td>hotel</td>\n",
       "      <td>0</td>\n",
       "      <td>30</td>\n",
       "      <td>0</td>\n",
       "      <td>3</td>\n",
       "      <td>0</td>\n",
       "    </tr>\n",
       "    <tr>\n",
       "      <th>498923</th>\n",
       "      <td>17310374</td>\n",
       "      <td>2017-10-15</td>\n",
       "      <td>2017-10-15</td>\n",
       "      <td>2017-10-18</td>\n",
       "      <td>7226.70</td>\n",
       "      <td>NaN</td>\n",
       "      <td>NaN</td>\n",
       "      <td>215314</td>\n",
       "      <td>b2bBusinessTravel</td>\n",
       "      <td>68037</td>\n",
       "      <td>Россия</td>\n",
       "      <td>Михайловка</td>\n",
       "      <td>0.00</td>\n",
       "      <td>mini-hotel</td>\n",
       "      <td>0</td>\n",
       "      <td>30</td>\n",
       "      <td>0</td>\n",
       "      <td>3</td>\n",
       "      <td>0</td>\n",
       "    </tr>\n",
       "    <tr>\n",
       "      <th>500107</th>\n",
       "      <td>17321813</td>\n",
       "      <td>2017-10-15</td>\n",
       "      <td>2017-10-15</td>\n",
       "      <td>2017-10-16</td>\n",
       "      <td>5720.00</td>\n",
       "      <td>NaN</td>\n",
       "      <td>NaN</td>\n",
       "      <td>206250</td>\n",
       "      <td>b2bTravelAgencies</td>\n",
       "      <td>1087</td>\n",
       "      <td>Россия</td>\n",
       "      <td>Челябинск</td>\n",
       "      <td>4.00</td>\n",
       "      <td>hotel</td>\n",
       "      <td>0</td>\n",
       "      <td>80</td>\n",
       "      <td>0</td>\n",
       "      <td>1</td>\n",
       "      <td>0</td>\n",
       "    </tr>\n",
       "    <tr>\n",
       "      <th>...</th>\n",
       "      <td>...</td>\n",
       "      <td>...</td>\n",
       "      <td>...</td>\n",
       "      <td>...</td>\n",
       "      <td>...</td>\n",
       "      <td>...</td>\n",
       "      <td>...</td>\n",
       "      <td>...</td>\n",
       "      <td>...</td>\n",
       "      <td>...</td>\n",
       "      <td>...</td>\n",
       "      <td>...</td>\n",
       "      <td>...</td>\n",
       "      <td>...</td>\n",
       "      <td>...</td>\n",
       "      <td>...</td>\n",
       "      <td>...</td>\n",
       "      <td>...</td>\n",
       "      <td>...</td>\n",
       "    </tr>\n",
       "    <tr>\n",
       "      <th>635010</th>\n",
       "      <td>18615041</td>\n",
       "      <td>2017-12-23</td>\n",
       "      <td>2017-12-23</td>\n",
       "      <td>2017-12-24</td>\n",
       "      <td>2188.00</td>\n",
       "      <td>NaN</td>\n",
       "      <td>NaN</td>\n",
       "      <td>281987</td>\n",
       "      <td>b2g</td>\n",
       "      <td>17487</td>\n",
       "      <td>Россия</td>\n",
       "      <td>Липецк</td>\n",
       "      <td>3.00</td>\n",
       "      <td>hotel</td>\n",
       "      <td>0</td>\n",
       "      <td>30</td>\n",
       "      <td>0</td>\n",
       "      <td>1</td>\n",
       "      <td>0</td>\n",
       "    </tr>\n",
       "    <tr>\n",
       "      <th>635026</th>\n",
       "      <td>18615194</td>\n",
       "      <td>2017-12-24</td>\n",
       "      <td>2017-12-24</td>\n",
       "      <td>2017-12-24</td>\n",
       "      <td>3850.00</td>\n",
       "      <td>NaN</td>\n",
       "      <td>NaN</td>\n",
       "      <td>281987</td>\n",
       "      <td>b2g</td>\n",
       "      <td>45769</td>\n",
       "      <td>Россия</td>\n",
       "      <td>Фрязино</td>\n",
       "      <td>4.00</td>\n",
       "      <td>hotel</td>\n",
       "      <td>0</td>\n",
       "      <td>30</td>\n",
       "      <td>0</td>\n",
       "      <td>1</td>\n",
       "      <td>0</td>\n",
       "    </tr>\n",
       "    <tr>\n",
       "      <th>635027</th>\n",
       "      <td>18615203</td>\n",
       "      <td>2017-12-24</td>\n",
       "      <td>2017-12-24</td>\n",
       "      <td>2017-12-24</td>\n",
       "      <td>3850.00</td>\n",
       "      <td>NaN</td>\n",
       "      <td>NaN</td>\n",
       "      <td>281987</td>\n",
       "      <td>b2g</td>\n",
       "      <td>45769</td>\n",
       "      <td>Россия</td>\n",
       "      <td>Фрязино</td>\n",
       "      <td>4.00</td>\n",
       "      <td>hotel</td>\n",
       "      <td>0</td>\n",
       "      <td>30</td>\n",
       "      <td>0</td>\n",
       "      <td>1</td>\n",
       "      <td>0</td>\n",
       "    </tr>\n",
       "    <tr>\n",
       "      <th>635028</th>\n",
       "      <td>18615212</td>\n",
       "      <td>2017-12-24</td>\n",
       "      <td>2017-12-24</td>\n",
       "      <td>2017-12-24</td>\n",
       "      <td>3850.00</td>\n",
       "      <td>NaN</td>\n",
       "      <td>NaN</td>\n",
       "      <td>281987</td>\n",
       "      <td>b2g</td>\n",
       "      <td>45769</td>\n",
       "      <td>Россия</td>\n",
       "      <td>Фрязино</td>\n",
       "      <td>4.00</td>\n",
       "      <td>hotel</td>\n",
       "      <td>0</td>\n",
       "      <td>30</td>\n",
       "      <td>0</td>\n",
       "      <td>1</td>\n",
       "      <td>0</td>\n",
       "    </tr>\n",
       "    <tr>\n",
       "      <th>638735</th>\n",
       "      <td>18650033</td>\n",
       "      <td>2017-12-30</td>\n",
       "      <td>2018-01-14</td>\n",
       "      <td>2018-01-17</td>\n",
       "      <td>41256.00</td>\n",
       "      <td>NaN</td>\n",
       "      <td>NaN</td>\n",
       "      <td>206178</td>\n",
       "      <td>b2bBusinessTravel</td>\n",
       "      <td>4427</td>\n",
       "      <td>Россия</td>\n",
       "      <td>Москва</td>\n",
       "      <td>5.00</td>\n",
       "      <td>hotel</td>\n",
       "      <td>0</td>\n",
       "      <td>70</td>\n",
       "      <td>1</td>\n",
       "      <td>3</td>\n",
       "      <td>15</td>\n",
       "    </tr>\n",
       "  </tbody>\n",
       "</table>\n",
       "<p>258 rows × 19 columns</p>\n",
       "</div>"
      ],
      "text/plain": [
       "        service_id service_date service_checkin service_checkout  \\\n",
       "99266     13471664   2017-03-14      2017-03-19       2017-03-20   \n",
       "475263    17079542   2017-10-03      2017-10-03       2017-10-04   \n",
       "492477    17247563   2017-09-28      2017-09-28       2017-10-01   \n",
       "498923    17310374   2017-10-15      2017-10-15       2017-10-18   \n",
       "500107    17321813   2017-10-15      2017-10-15       2017-10-16   \n",
       "...            ...          ...             ...              ...   \n",
       "635010    18615041   2017-12-23      2017-12-23       2017-12-24   \n",
       "635026    18615194   2017-12-24      2017-12-24       2017-12-24   \n",
       "635027    18615203   2017-12-24      2017-12-24       2017-12-24   \n",
       "635028    18615212   2017-12-24      2017-12-24       2017-12-24   \n",
       "638735    18650033   2017-12-30      2018-01-14       2018-01-17   \n",
       "\n",
       "        service_price  service_child_cnt  service_people_cnt  client_id  \\\n",
       "99266        22680.90                NaN                 NaN     263612   \n",
       "475263        2788.00                NaN                 NaN     262343   \n",
       "492477       16330.00                NaN                 NaN     210179   \n",
       "498923        7226.70                NaN                 NaN     215314   \n",
       "500107        5720.00                NaN                 NaN     206250   \n",
       "...               ...                ...                 ...        ...   \n",
       "635010        2188.00                NaN                 NaN     281987   \n",
       "635026        3850.00                NaN                 NaN     281987   \n",
       "635027        3850.00                NaN                 NaN     281987   \n",
       "635028        3850.00                NaN                 NaN     281987   \n",
       "638735       41256.00                NaN                 NaN     206178   \n",
       "\n",
       "           client_segment  hotel_id country_name    city_name  category_star  \\\n",
       "99266   b2bBusinessTravel      6922       Россия  Новосибирск           5.00   \n",
       "475263  b2bBusinessTravel     21621       Россия     Павловск           0.00   \n",
       "492477  b2bBusinessTravel       802       Россия       Якутск           4.00   \n",
       "498923  b2bBusinessTravel     68037       Россия   Михайловка           0.00   \n",
       "500107  b2bTravelAgencies      1087       Россия    Челябинск           4.00   \n",
       "...                   ...       ...          ...          ...            ...   \n",
       "635010                b2g     17487       Россия       Липецк           3.00   \n",
       "635026                b2g     45769       Россия      Фрязино           4.00   \n",
       "635027                b2g     45769       Россия      Фрязино           4.00   \n",
       "635028                b2g     45769       Россия      Фрязино           4.00   \n",
       "638735  b2bBusinessTravel      4427       Россия       Москва           5.00   \n",
       "\n",
       "        hotel_type  hotel_seasonal  room_category  service_status  \\\n",
       "99266        hotel               0             30               1   \n",
       "475263  mini-hotel               0             30               1   \n",
       "492477       hotel               0             30               0   \n",
       "498923  mini-hotel               0             30               0   \n",
       "500107       hotel               0             80               0   \n",
       "...            ...             ...            ...             ...   \n",
       "635010       hotel               0             30               0   \n",
       "635026       hotel               0             30               0   \n",
       "635027       hotel               0             30               0   \n",
       "635028       hotel               0             30               0   \n",
       "638735       hotel               0             70               1   \n",
       "\n",
       "        length_of_stay  days_until_checkin  \n",
       "99266                1                   5  \n",
       "475263               1                   0  \n",
       "492477               3                   0  \n",
       "498923               3                   0  \n",
       "500107               1                   0  \n",
       "...                ...                 ...  \n",
       "635010               1                   0  \n",
       "635026               1                   0  \n",
       "635027               1                   0  \n",
       "635028               1                   0  \n",
       "638735               3                  15  \n",
       "\n",
       "[258 rows x 19 columns]"
      ]
     },
     "execution_count": 16,
     "metadata": {},
     "output_type": "execute_result"
    }
   ],
   "source": [
    "train[train['service_child_cnt'].isna() | train['service_people_cnt'].isna()]"
   ]
  },
  {
   "cell_type": "code",
   "execution_count": 17,
   "id": "8f836cd5",
   "metadata": {},
   "outputs": [
    {
     "data": {
      "text/plain": [
       "0.009107564573691846"
      ]
     },
     "execution_count": 17,
     "metadata": {},
     "output_type": "execute_result"
    }
   ],
   "source": [
    "train[train['service_child_cnt'].isna() | train['service_people_cnt'].isna()].shape[0] / train.shape[0] * 100"
   ]
  },
  {
   "cell_type": "markdown",
   "id": "3125b7bf",
   "metadata": {},
   "source": [
    "Так как доля бронирований с пропусками в признаках *service_child_cnt*, *service_people_cnt* составляет около 0.01 % от общего числа бронирований, мы можем удалить данные бронирования"
   ]
  },
  {
   "cell_type": "code",
   "execution_count": 18,
   "id": "ad523edd",
   "metadata": {},
   "outputs": [],
   "source": [
    "train = train.dropna(subset=['service_child_cnt','service_people_cnt'])"
   ]
  },
  {
   "cell_type": "code",
   "execution_count": 19,
   "id": "03013e68",
   "metadata": {},
   "outputs": [
    {
     "data": {
      "text/plain": [
       "count   2832552.00\n",
       "mean          1.81\n",
       "std           1.08\n",
       "min           1.00\n",
       "25%           1.00\n",
       "50%           2.00\n",
       "75%           2.00\n",
       "max          16.00\n",
       "Name: service_people_cnt, dtype: float64"
      ]
     },
     "execution_count": 19,
     "metadata": {},
     "output_type": "execute_result"
    }
   ],
   "source": [
    "train['service_people_cnt'].describe()"
   ]
  },
  {
   "cell_type": "code",
   "execution_count": 20,
   "id": "87530aac",
   "metadata": {},
   "outputs": [
    {
     "data": {
      "text/plain": [
       "count   607030.00\n",
       "mean         1.52\n",
       "std          0.92\n",
       "min          1.00\n",
       "25%          1.00\n",
       "50%          1.00\n",
       "75%          2.00\n",
       "max         16.00\n",
       "Name: service_people_cnt, dtype: float64"
      ]
     },
     "execution_count": 20,
     "metadata": {},
     "output_type": "execute_result"
    }
   ],
   "source": [
    "public_test['service_people_cnt'].describe()"
   ]
  },
  {
   "cell_type": "markdown",
   "id": "f4cc6921",
   "metadata": {},
   "source": [
    "Введем новый признак *price_per_day_one_person*"
   ]
  },
  {
   "cell_type": "code",
   "execution_count": 21,
   "id": "27401dce",
   "metadata": {},
   "outputs": [],
   "source": [
    "train['price_per_day_one_person'] = np.round((train['service_price']/train['length_of_stay']) / train['service_people_cnt'])\n",
    "public_test['price_per_day_one_person'] = np.round((public_test['service_price']/public_test['length_of_stay']) / public_test['service_people_cnt'])\n",
    "private_test['price_per_day_one_person'] = np.round((private_test['service_price']/private_test['length_of_stay']) / private_test['service_people_cnt'])"
   ]
  },
  {
   "cell_type": "code",
   "execution_count": 22,
   "id": "c4853188",
   "metadata": {},
   "outputs": [
    {
     "data": {
      "text/plain": [
       "count   2832208.00\n",
       "mean       2853.45\n",
       "std        2481.64\n",
       "min           0.00\n",
       "25%        1402.00\n",
       "50%        2317.00\n",
       "75%        3606.00\n",
       "max      368728.00\n",
       "Name: price_per_day_one_person, dtype: float64"
      ]
     },
     "execution_count": 22,
     "metadata": {},
     "output_type": "execute_result"
    }
   ],
   "source": [
    "train['price_per_day_one_person'].describe()"
   ]
  },
  {
   "cell_type": "code",
   "execution_count": 23,
   "id": "ebaab407",
   "metadata": {},
   "outputs": [
    {
     "data": {
      "text/html": [
       "<div>\n",
       "<style scoped>\n",
       "    .dataframe tbody tr th:only-of-type {\n",
       "        vertical-align: middle;\n",
       "    }\n",
       "\n",
       "    .dataframe tbody tr th {\n",
       "        vertical-align: top;\n",
       "    }\n",
       "\n",
       "    .dataframe thead th {\n",
       "        text-align: right;\n",
       "    }\n",
       "</style>\n",
       "<table border=\"1\" class=\"dataframe\">\n",
       "  <thead>\n",
       "    <tr style=\"text-align: right;\">\n",
       "      <th></th>\n",
       "      <th>service_id</th>\n",
       "      <th>service_date</th>\n",
       "      <th>service_checkin</th>\n",
       "      <th>service_checkout</th>\n",
       "      <th>service_price</th>\n",
       "      <th>service_child_cnt</th>\n",
       "      <th>service_people_cnt</th>\n",
       "      <th>client_id</th>\n",
       "      <th>client_segment</th>\n",
       "      <th>hotel_id</th>\n",
       "      <th>country_name</th>\n",
       "      <th>city_name</th>\n",
       "      <th>category_star</th>\n",
       "      <th>hotel_type</th>\n",
       "      <th>hotel_seasonal</th>\n",
       "      <th>room_category</th>\n",
       "      <th>service_status</th>\n",
       "      <th>length_of_stay</th>\n",
       "      <th>days_until_checkin</th>\n",
       "      <th>price_per_day_one_person</th>\n",
       "    </tr>\n",
       "  </thead>\n",
       "  <tbody>\n",
       "    <tr>\n",
       "      <th>1072186</th>\n",
       "      <td>22594606</td>\n",
       "      <td>2018-06-03</td>\n",
       "      <td>2018-07-15</td>\n",
       "      <td>2018-07-17</td>\n",
       "      <td>737455.00</td>\n",
       "      <td>0.00</td>\n",
       "      <td>1.00</td>\n",
       "      <td>257133</td>\n",
       "      <td>b2bBusinessTravel</td>\n",
       "      <td>6439</td>\n",
       "      <td>Россия</td>\n",
       "      <td>Дулепово, деревня</td>\n",
       "      <td>4.00</td>\n",
       "      <td>hotel</td>\n",
       "      <td>0</td>\n",
       "      <td>80</td>\n",
       "      <td>0</td>\n",
       "      <td>2</td>\n",
       "      <td>42</td>\n",
       "      <td>368728.00</td>\n",
       "    </tr>\n",
       "    <tr>\n",
       "      <th>792043</th>\n",
       "      <td>20106059</td>\n",
       "      <td>2018-03-18</td>\n",
       "      <td>2018-06-11</td>\n",
       "      <td>2018-06-13</td>\n",
       "      <td>658800.00</td>\n",
       "      <td>0.00</td>\n",
       "      <td>1.00</td>\n",
       "      <td>209510</td>\n",
       "      <td>b2bBusinessTravel</td>\n",
       "      <td>479</td>\n",
       "      <td>Россия</td>\n",
       "      <td>Санкт-Петербург</td>\n",
       "      <td>5.00</td>\n",
       "      <td>hotel</td>\n",
       "      <td>0</td>\n",
       "      <td>40</td>\n",
       "      <td>0</td>\n",
       "      <td>2</td>\n",
       "      <td>85</td>\n",
       "      <td>329400.00</td>\n",
       "    </tr>\n",
       "    <tr>\n",
       "      <th>792040</th>\n",
       "      <td>20106032</td>\n",
       "      <td>2018-03-18</td>\n",
       "      <td>2018-06-11</td>\n",
       "      <td>2018-06-13</td>\n",
       "      <td>592920.00</td>\n",
       "      <td>0.00</td>\n",
       "      <td>1.00</td>\n",
       "      <td>209510</td>\n",
       "      <td>b2bBusinessTravel</td>\n",
       "      <td>479</td>\n",
       "      <td>Россия</td>\n",
       "      <td>Санкт-Петербург</td>\n",
       "      <td>5.00</td>\n",
       "      <td>hotel</td>\n",
       "      <td>0</td>\n",
       "      <td>30</td>\n",
       "      <td>0</td>\n",
       "      <td>2</td>\n",
       "      <td>85</td>\n",
       "      <td>296460.00</td>\n",
       "    </tr>\n",
       "    <tr>\n",
       "      <th>1393155</th>\n",
       "      <td>24271200</td>\n",
       "      <td>2018-08-15</td>\n",
       "      <td>2018-08-18</td>\n",
       "      <td>2018-08-25</td>\n",
       "      <td>1976845.50</td>\n",
       "      <td>0.00</td>\n",
       "      <td>1.00</td>\n",
       "      <td>211512</td>\n",
       "      <td>b2bBusinessTravel</td>\n",
       "      <td>8510</td>\n",
       "      <td>Россия</td>\n",
       "      <td>Красная Поляна</td>\n",
       "      <td>4.00</td>\n",
       "      <td>hotel</td>\n",
       "      <td>0</td>\n",
       "      <td>30</td>\n",
       "      <td>0</td>\n",
       "      <td>7</td>\n",
       "      <td>3</td>\n",
       "      <td>282406.00</td>\n",
       "    </tr>\n",
       "    <tr>\n",
       "      <th>1038583</th>\n",
       "      <td>22419391</td>\n",
       "      <td>2018-05-26</td>\n",
       "      <td>2018-06-12</td>\n",
       "      <td>2018-06-14</td>\n",
       "      <td>537800.00</td>\n",
       "      <td>0.00</td>\n",
       "      <td>1.00</td>\n",
       "      <td>205358</td>\n",
       "      <td>b2bBusinessTravel</td>\n",
       "      <td>5024</td>\n",
       "      <td>Россия</td>\n",
       "      <td>Санкт-Петербург</td>\n",
       "      <td>5.00</td>\n",
       "      <td>hotel</td>\n",
       "      <td>0</td>\n",
       "      <td>40</td>\n",
       "      <td>0</td>\n",
       "      <td>2</td>\n",
       "      <td>17</td>\n",
       "      <td>268900.00</td>\n",
       "    </tr>\n",
       "  </tbody>\n",
       "</table>\n",
       "</div>"
      ],
      "text/plain": [
       "         service_id service_date service_checkin service_checkout  \\\n",
       "1072186    22594606   2018-06-03      2018-07-15       2018-07-17   \n",
       "792043     20106059   2018-03-18      2018-06-11       2018-06-13   \n",
       "792040     20106032   2018-03-18      2018-06-11       2018-06-13   \n",
       "1393155    24271200   2018-08-15      2018-08-18       2018-08-25   \n",
       "1038583    22419391   2018-05-26      2018-06-12       2018-06-14   \n",
       "\n",
       "         service_price  service_child_cnt  service_people_cnt  client_id  \\\n",
       "1072186      737455.00               0.00                1.00     257133   \n",
       "792043       658800.00               0.00                1.00     209510   \n",
       "792040       592920.00               0.00                1.00     209510   \n",
       "1393155     1976845.50               0.00                1.00     211512   \n",
       "1038583      537800.00               0.00                1.00     205358   \n",
       "\n",
       "            client_segment  hotel_id country_name          city_name  \\\n",
       "1072186  b2bBusinessTravel      6439       Россия  Дулепово, деревня   \n",
       "792043   b2bBusinessTravel       479       Россия    Санкт-Петербург   \n",
       "792040   b2bBusinessTravel       479       Россия    Санкт-Петербург   \n",
       "1393155  b2bBusinessTravel      8510       Россия     Красная Поляна   \n",
       "1038583  b2bBusinessTravel      5024       Россия    Санкт-Петербург   \n",
       "\n",
       "         category_star hotel_type  hotel_seasonal  room_category  \\\n",
       "1072186           4.00      hotel               0             80   \n",
       "792043            5.00      hotel               0             40   \n",
       "792040            5.00      hotel               0             30   \n",
       "1393155           4.00      hotel               0             30   \n",
       "1038583           5.00      hotel               0             40   \n",
       "\n",
       "         service_status  length_of_stay  days_until_checkin  \\\n",
       "1072186               0               2                  42   \n",
       "792043                0               2                  85   \n",
       "792040                0               2                  85   \n",
       "1393155               0               7                   3   \n",
       "1038583               0               2                  17   \n",
       "\n",
       "         price_per_day_one_person  \n",
       "1072186                 368728.00  \n",
       "792043                  329400.00  \n",
       "792040                  296460.00  \n",
       "1393155                 282406.00  \n",
       "1038583                 268900.00  "
      ]
     },
     "execution_count": 23,
     "metadata": {},
     "output_type": "execute_result"
    }
   ],
   "source": [
    "train.sort_values(by='price_per_day_one_person', ascending=False).head()"
   ]
  },
  {
   "cell_type": "markdown",
   "id": "be609f02",
   "metadata": {},
   "source": [
    "Реализуем функцию для поиска границ допустимых значений (не выбросов)."
   ]
  },
  {
   "cell_type": "code",
   "execution_count": 24,
   "id": "b7c97169",
   "metadata": {},
   "outputs": [],
   "source": [
    "def search_outliers(feature):\n",
    "    q1 = feature.quantile(0.25)\n",
    "    q3 = feature.quantile(0.75)\n",
    "    iqr = q3 - q1\n",
    "    lower_bound = 0\n",
    "    upper_bound = q3 + 2 * iqr  # Завысим границу допустимых значений из-за того, \n",
    "                                # что цена может существенно зависеть от города и от категории номера\n",
    "    return upper_bound"
   ]
  },
  {
   "cell_type": "code",
   "execution_count": 25,
   "id": "f5ba2c1d",
   "metadata": {},
   "outputs": [
    {
     "name": "stdout",
     "output_type": "stream",
     "text": [
      "category_star\n",
      "0.00    5564.00\n",
      "1.00    5158.00\n",
      "2.00    5521.00\n",
      "3.00    6949.00\n",
      "4.00   10150.00\n",
      "5.00   17578.00\n",
      "Name: price_per_day_one_person, dtype: float64\n"
     ]
    }
   ],
   "source": [
    "train_price_outliers_limits = train.groupby('category_star')['price_per_day_one_person'].apply(search_outliers)\n",
    "print(train_price_outliers_limits)"
   ]
  },
  {
   "cell_type": "code",
   "execution_count": 26,
   "id": "b94c326a",
   "metadata": {},
   "outputs": [
    {
     "data": {
      "text/plain": [
       "1"
      ]
     },
     "execution_count": 26,
     "metadata": {},
     "output_type": "execute_result"
    }
   ],
   "source": [
    "train['category_star'].isna().sum()"
   ]
  },
  {
   "cell_type": "code",
   "execution_count": 27,
   "id": "6a6af14b",
   "metadata": {},
   "outputs": [
    {
     "data": {
      "text/plain": [
       "1"
      ]
     },
     "execution_count": 27,
     "metadata": {},
     "output_type": "execute_result"
    }
   ],
   "source": [
    "public_test['category_star'].isna().sum()"
   ]
  },
  {
   "cell_type": "code",
   "execution_count": 28,
   "id": "7b04b001",
   "metadata": {},
   "outputs": [],
   "source": [
    "train.loc[train['category_star'].isna(), 'category_star'] = 0\n",
    "public_test.loc[public_test['category_star'].isna(), 'category_star'] = 0\n",
    "private_test.loc[private_test['category_star'].isna(), 'category_star'] = 0"
   ]
  },
  {
   "cell_type": "markdown",
   "id": "b551eef3",
   "metadata": {},
   "source": [
    "Релизуем функцию изменения значения выбросов на NaN"
   ]
  },
  {
   "cell_type": "code",
   "execution_count": 29,
   "id": "6d5c7fea",
   "metadata": {},
   "outputs": [],
   "source": [
    "def replace_outliers_with_nan(row):\n",
    "    category = row['category_star']\n",
    "    price = row['price_per_day_one_person']\n",
    "    if price > train_price_outliers_limits[category]:\n",
    "        return np.nan\n",
    "    else:\n",
    "        return price"
   ]
  },
  {
   "cell_type": "markdown",
   "id": "4cea0ee2",
   "metadata": {},
   "source": [
    "Выбросы в признаке *price_per_day_one_person* заменим на NaN"
   ]
  },
  {
   "cell_type": "code",
   "execution_count": 30,
   "id": "0fb0ffbe",
   "metadata": {},
   "outputs": [],
   "source": [
    "train['price_per_day_one_person'] = train.apply(replace_outliers_with_nan, axis=1)"
   ]
  },
  {
   "cell_type": "code",
   "execution_count": 31,
   "id": "05f1a66d",
   "metadata": {},
   "outputs": [],
   "source": [
    "train.loc[train['price_per_day_one_person'].isna(), 'service_price'] = np.nan"
   ]
  },
  {
   "cell_type": "code",
   "execution_count": 32,
   "id": "ed9d4cc4",
   "metadata": {},
   "outputs": [],
   "source": [
    "public_test['price_per_day_one_person'] = public_test.apply(replace_outliers_with_nan, axis=1)\n",
    "public_test.loc[public_test['price_per_day_one_person'].isna(), 'service_price'] = np.nan\n",
    "\n",
    "private_test['price_per_day_one_person'] = private_test.apply(replace_outliers_with_nan, axis=1)\n",
    "private_test.loc[private_test['price_per_day_one_person'].isna(), 'service_price'] = np.nan"
   ]
  },
  {
   "cell_type": "markdown",
   "id": "43f1d107",
   "metadata": {},
   "source": [
    "## Столбцы *city_name*, *country_name*"
   ]
  },
  {
   "cell_type": "code",
   "execution_count": 33,
   "id": "819c970b",
   "metadata": {},
   "outputs": [
    {
     "data": {
      "text/plain": [
       "country_name\n",
       "Россия          2744443\n",
       "Беларусь          54329\n",
       "Казахстан         13047\n",
       "Узбекистан         7918\n",
       "Абхазия            4357\n",
       "Кыргызстан         3577\n",
       "Армения            2848\n",
       "Таджикистан         723\n",
       "Украина             597\n",
       "Южная Осетия        269\n",
       "Грузия              235\n",
       "Азербайджан         169\n",
       "Египет               25\n",
       "Молдавия              8\n",
       "Туркменистан          6\n",
       "Эстония               1\n",
       "Name: count, dtype: int64"
      ]
     },
     "execution_count": 33,
     "metadata": {},
     "output_type": "execute_result"
    }
   ],
   "source": [
    "train['country_name'].value_counts()"
   ]
  },
  {
   "cell_type": "markdown",
   "id": "c3ecc335",
   "metadata": {},
   "source": [
    "В признаке *country_name* заменим все страны кроме России на 'Зарубежная страна'"
   ]
  },
  {
   "cell_type": "code",
   "execution_count": 34,
   "id": "cf655f38",
   "metadata": {},
   "outputs": [],
   "source": [
    "train.loc[train['country_name'] != 'Россия', 'country_name'] = 'Зарубежная страна'\n",
    "public_test.loc[public_test['country_name'] != 'Россия', 'country_name'] = 'Зарубежная страна'\n",
    "private_test.loc[private_test['country_name'] != 'Россия', 'country_name'] = 'Зарубежная страна'"
   ]
  },
  {
   "cell_type": "markdown",
   "id": "3a6746ae",
   "metadata": {},
   "source": [
    "Определим часто встречаемые города (с числом бронирований больше 40000), города, которые не входят в данный список заменим на 'Редкий город'"
   ]
  },
  {
   "cell_type": "code",
   "execution_count": 35,
   "id": "ccce6257",
   "metadata": {},
   "outputs": [],
   "source": [
    "pop_cities_values = train['city_name'].value_counts() > 40000\n",
    "pop_cities = pop_cities_values[pop_cities_values].index\n",
    "\n",
    "train['city_name'] = train['city_name'].map(lambda x: 'Редкий город' if x not in pop_cities else x)\n",
    "public_test['city_name'] = public_test['city_name'].map(lambda x: 'Редкий город' if x not in pop_cities else x)\n",
    "private_test['city_name'] = private_test['city_name'].map(lambda x: 'Редкий город' if x not in pop_cities else x)"
   ]
  },
  {
   "cell_type": "markdown",
   "id": "0bcc5193",
   "metadata": {},
   "source": [
    "# Заполнение пропусков"
   ]
  },
  {
   "cell_type": "code",
   "execution_count": 36,
   "id": "f5f12bb6",
   "metadata": {},
   "outputs": [
    {
     "data": {
      "text/plain": [
       "service_id                      0\n",
       "service_date                    0\n",
       "service_checkin                 0\n",
       "service_checkout                0\n",
       "service_price               55752\n",
       "service_child_cnt               0\n",
       "service_people_cnt              0\n",
       "client_id                       0\n",
       "client_segment              29730\n",
       "hotel_id                        0\n",
       "country_name                    0\n",
       "city_name                       0\n",
       "category_star                   0\n",
       "hotel_type                      0\n",
       "hotel_seasonal                  0\n",
       "room_category                   0\n",
       "service_status                  0\n",
       "length_of_stay                  0\n",
       "days_until_checkin              0\n",
       "price_per_day_one_person    55752\n",
       "dtype: int64"
      ]
     },
     "execution_count": 36,
     "metadata": {},
     "output_type": "execute_result"
    }
   ],
   "source": [
    "train.isna().sum()"
   ]
  },
  {
   "cell_type": "code",
   "execution_count": 37,
   "id": "69b800e9",
   "metadata": {},
   "outputs": [
    {
     "data": {
      "text/plain": [
       "service_id                      0\n",
       "service_date                    0\n",
       "service_checkin                 0\n",
       "service_checkout                0\n",
       "service_price               27993\n",
       "service_child_cnt               0\n",
       "service_people_cnt              0\n",
       "client_id                       0\n",
       "client_segment               2168\n",
       "hotel_id                        0\n",
       "country_name                    0\n",
       "city_name                       0\n",
       "category_star                   0\n",
       "hotel_type                      0\n",
       "hotel_seasonal                  0\n",
       "room_category                   0\n",
       "length_of_stay                  0\n",
       "days_until_checkin              0\n",
       "price_per_day_one_person    27993\n",
       "dtype: int64"
      ]
     },
     "execution_count": 37,
     "metadata": {},
     "output_type": "execute_result"
    }
   ],
   "source": [
    "public_test.isna().sum()"
   ]
  },
  {
   "cell_type": "code",
   "execution_count": 38,
   "id": "f856a424",
   "metadata": {},
   "outputs": [],
   "source": [
    "# Функция для заполнения NaN медианой группы\n",
    "def fill_na_with_median(train_df, test_df, test_df_private, group_col, fill_col):\n",
    "    # Заполнение пропусков в обучающем наборе\n",
    "    train_df[fill_col] = train_df.groupby(group_col)[fill_col].transform(lambda x: x.fillna(x.median()))\n",
    "    \n",
    "    # Рассчитываем медиану для каждой группы на обучающем наборе\n",
    "    modes = train_df.groupby(group_col)[fill_col].agg(lambda x: x.median()).to_dict()\n",
    "    \n",
    "    # Применяем медины для заполнения пропусков в тестовом наборе\n",
    "    test_df[fill_col] = test_df.apply(\n",
    "        lambda row: row[fill_col] if pd.notna(row[fill_col]) else modes.get(row[group_col], np.nan),\n",
    "        axis=1\n",
    "    )\n",
    "\n",
    "    test_df_private[fill_col] = test_df_private.apply(\n",
    "        lambda row: row[fill_col] if pd.notna(row[fill_col]) else modes.get(row[group_col], np.nan),\n",
    "        axis=1\n",
    "    )\n",
    "    \n",
    "    return train_df, test_df, test_df_private"
   ]
  },
  {
   "cell_type": "code",
   "execution_count": 39,
   "id": "327dcaf9",
   "metadata": {},
   "outputs": [],
   "source": [
    "# Функция для заполнения NaN модой группы\n",
    "def fill_na_with_mode(train_df, test_df, test_df_private, group_col, fill_col):\n",
    "    # Заполнение пропусков в обучающем наборе\n",
    "    train_df[fill_col] = train_df.groupby(group_col)[fill_col].transform(lambda x: x.fillna(x.mode()[0] if not x.mode().empty else np.nan))\n",
    "    \n",
    "    # Рассчитываем моду для каждой группы на обучающем наборе\n",
    "    modes = train_df.groupby(group_col)[fill_col].agg(lambda x: x.mode()[0] if not x.mode().empty else np.nan).to_dict()\n",
    "    \n",
    "    # Применяем моду для заполнения пропусков в тестовом наборе\n",
    "    test_df[fill_col] = test_df.apply(\n",
    "        lambda row: row[fill_col] if pd.notna(row[fill_col]) else modes.get(row[group_col], np.nan),\n",
    "        axis=1\n",
    "    )\n",
    "\n",
    "    test_df_private[fill_col] = test_df_private.apply(\n",
    "        lambda row: row[fill_col] if pd.notna(row[fill_col]) else modes.get(row[group_col], np.nan),\n",
    "        axis=1\n",
    "    )\n",
    "    \n",
    "    return train_df, test_df, test_df_private"
   ]
  },
  {
   "cell_type": "markdown",
   "id": "4f58aadd",
   "metadata": {},
   "source": [
    "Заполним пропуски в признаках *price_per_day_one_person* и *service_price*"
   ]
  },
  {
   "cell_type": "code",
   "execution_count": 40,
   "id": "a0a9be17",
   "metadata": {},
   "outputs": [],
   "source": [
    "train, public_test, private_test = fill_na_with_median(train, public_test, private_test, 'category_star', 'price_per_day_one_person')"
   ]
  },
  {
   "cell_type": "code",
   "execution_count": 41,
   "id": "ad260de5",
   "metadata": {},
   "outputs": [],
   "source": [
    "train['service_price'] = train['service_price'].fillna(train['price_per_day_one_person']*train['service_people_cnt']*train['length_of_stay'])"
   ]
  },
  {
   "cell_type": "code",
   "execution_count": 42,
   "id": "03de48da",
   "metadata": {},
   "outputs": [],
   "source": [
    "public_test['service_price'] = public_test['service_price'].fillna(public_test['price_per_day_one_person']*public_test['service_people_cnt']*public_test['length_of_stay'])\n",
    "private_test['service_price'] = private_test['service_price'].fillna(private_test['price_per_day_one_person']*private_test['service_people_cnt']*private_test['length_of_stay'])"
   ]
  },
  {
   "cell_type": "markdown",
   "id": "5edc8d6e",
   "metadata": {},
   "source": [
    "Заполним пропуски в признаке *client_segment*"
   ]
  },
  {
   "cell_type": "code",
   "execution_count": 47,
   "id": "4456c3db",
   "metadata": {},
   "outputs": [],
   "source": [
    "train, public_test, private_test = fill_na_with_mode(train, public_test, private_test, 'client_id', 'client_segment')"
   ]
  },
  {
   "cell_type": "code",
   "execution_count": 48,
   "id": "dc8bd087",
   "metadata": {},
   "outputs": [
    {
     "name": "stdout",
     "output_type": "stream",
     "text": [
      "29730\n",
      "2168\n"
     ]
    }
   ],
   "source": [
    "print(train['client_segment'].isnull().sum())\n",
    "print(public_test['client_segment'].isnull().sum())"
   ]
  },
  {
   "cell_type": "code",
   "execution_count": 49,
   "id": "9cb0842c",
   "metadata": {},
   "outputs": [],
   "source": [
    "train, public_test, private_test = fill_na_with_mode(train, public_test, private_test, 'hotel_type', 'client_segment')"
   ]
  },
  {
   "cell_type": "code",
   "execution_count": 51,
   "id": "236ac735",
   "metadata": {},
   "outputs": [
    {
     "data": {
      "text/plain": [
       "service_id                  0\n",
       "service_date                0\n",
       "service_checkin             0\n",
       "service_checkout            0\n",
       "service_price               0\n",
       "service_child_cnt           0\n",
       "service_people_cnt          0\n",
       "client_id                   0\n",
       "client_segment              0\n",
       "hotel_id                    0\n",
       "country_name                0\n",
       "city_name                   0\n",
       "category_star               0\n",
       "hotel_type                  0\n",
       "hotel_seasonal              0\n",
       "room_category               0\n",
       "service_status              0\n",
       "length_of_stay              0\n",
       "days_until_checkin          0\n",
       "price_per_day_one_person    0\n",
       "dtype: int64"
      ]
     },
     "execution_count": 51,
     "metadata": {},
     "output_type": "execute_result"
    }
   ],
   "source": [
    "train.isna().sum()"
   ]
  },
  {
   "cell_type": "code",
   "execution_count": 52,
   "id": "51e35c09",
   "metadata": {},
   "outputs": [
    {
     "data": {
      "text/plain": [
       "service_id                  0\n",
       "service_date                0\n",
       "service_checkin             0\n",
       "service_checkout            0\n",
       "service_price               0\n",
       "service_child_cnt           0\n",
       "service_people_cnt          0\n",
       "client_id                   0\n",
       "client_segment              0\n",
       "hotel_id                    0\n",
       "country_name                0\n",
       "city_name                   0\n",
       "category_star               0\n",
       "hotel_type                  0\n",
       "hotel_seasonal              0\n",
       "room_category               0\n",
       "length_of_stay              0\n",
       "days_until_checkin          0\n",
       "price_per_day_one_person    0\n",
       "dtype: int64"
      ]
     },
     "execution_count": 52,
     "metadata": {},
     "output_type": "execute_result"
    }
   ],
   "source": [
    "public_test.isna().sum()"
   ]
  },
  {
   "cell_type": "code",
   "execution_count": 53,
   "id": "950f8c8b",
   "metadata": {},
   "outputs": [
    {
     "data": {
      "text/html": [
       "<div>\n",
       "<style scoped>\n",
       "    .dataframe tbody tr th:only-of-type {\n",
       "        vertical-align: middle;\n",
       "    }\n",
       "\n",
       "    .dataframe tbody tr th {\n",
       "        vertical-align: top;\n",
       "    }\n",
       "\n",
       "    .dataframe thead th {\n",
       "        text-align: right;\n",
       "    }\n",
       "</style>\n",
       "<table border=\"1\" class=\"dataframe\">\n",
       "  <thead>\n",
       "    <tr style=\"text-align: right;\">\n",
       "      <th></th>\n",
       "      <th>service_id</th>\n",
       "      <th>service_date</th>\n",
       "      <th>service_checkin</th>\n",
       "      <th>service_checkout</th>\n",
       "      <th>service_price</th>\n",
       "      <th>service_child_cnt</th>\n",
       "      <th>service_people_cnt</th>\n",
       "      <th>client_id</th>\n",
       "      <th>client_segment</th>\n",
       "      <th>hotel_id</th>\n",
       "      <th>country_name</th>\n",
       "      <th>city_name</th>\n",
       "      <th>category_star</th>\n",
       "      <th>hotel_type</th>\n",
       "      <th>hotel_seasonal</th>\n",
       "      <th>room_category</th>\n",
       "      <th>service_status</th>\n",
       "      <th>length_of_stay</th>\n",
       "      <th>days_until_checkin</th>\n",
       "      <th>price_per_day_one_person</th>\n",
       "    </tr>\n",
       "  </thead>\n",
       "  <tbody>\n",
       "    <tr>\n",
       "      <th>0</th>\n",
       "      <td>12528130</td>\n",
       "      <td>2016-12-28</td>\n",
       "      <td>2017-01-13</td>\n",
       "      <td>2017-01-20</td>\n",
       "      <td>78457.60</td>\n",
       "      <td>0.00</td>\n",
       "      <td>2.00</td>\n",
       "      <td>215314</td>\n",
       "      <td>b2bBusinessTravel</td>\n",
       "      <td>3538</td>\n",
       "      <td>Россия</td>\n",
       "      <td>Редкий город</td>\n",
       "      <td>5.00</td>\n",
       "      <td>hotel</td>\n",
       "      <td>0</td>\n",
       "      <td>70</td>\n",
       "      <td>0</td>\n",
       "      <td>7</td>\n",
       "      <td>16</td>\n",
       "      <td>5604.00</td>\n",
       "    </tr>\n",
       "    <tr>\n",
       "      <th>1</th>\n",
       "      <td>12528139</td>\n",
       "      <td>2016-12-28</td>\n",
       "      <td>2017-01-16</td>\n",
       "      <td>2017-01-17</td>\n",
       "      <td>2395.80</td>\n",
       "      <td>0.00</td>\n",
       "      <td>1.00</td>\n",
       "      <td>210509</td>\n",
       "      <td>b2b2c</td>\n",
       "      <td>7695</td>\n",
       "      <td>Россия</td>\n",
       "      <td>Редкий город</td>\n",
       "      <td>0.00</td>\n",
       "      <td>hotel</td>\n",
       "      <td>0</td>\n",
       "      <td>20</td>\n",
       "      <td>1</td>\n",
       "      <td>1</td>\n",
       "      <td>19</td>\n",
       "      <td>2396.00</td>\n",
       "    </tr>\n",
       "    <tr>\n",
       "      <th>2</th>\n",
       "      <td>12528148</td>\n",
       "      <td>2016-12-28</td>\n",
       "      <td>2017-01-19</td>\n",
       "      <td>2017-01-23</td>\n",
       "      <td>10062.36</td>\n",
       "      <td>0.00</td>\n",
       "      <td>2.00</td>\n",
       "      <td>210509</td>\n",
       "      <td>b2b2c</td>\n",
       "      <td>36934</td>\n",
       "      <td>Россия</td>\n",
       "      <td>Санкт-Петербург</td>\n",
       "      <td>3.00</td>\n",
       "      <td>mini-hotel</td>\n",
       "      <td>0</td>\n",
       "      <td>50</td>\n",
       "      <td>0</td>\n",
       "      <td>4</td>\n",
       "      <td>22</td>\n",
       "      <td>1258.00</td>\n",
       "    </tr>\n",
       "    <tr>\n",
       "      <th>3</th>\n",
       "      <td>12528157</td>\n",
       "      <td>2016-12-28</td>\n",
       "      <td>2016-12-31</td>\n",
       "      <td>2017-01-01</td>\n",
       "      <td>2332.00</td>\n",
       "      <td>0.00</td>\n",
       "      <td>2.00</td>\n",
       "      <td>213592</td>\n",
       "      <td>b2b2c</td>\n",
       "      <td>7107</td>\n",
       "      <td>Россия</td>\n",
       "      <td>Редкий город</td>\n",
       "      <td>3.00</td>\n",
       "      <td>hotel</td>\n",
       "      <td>0</td>\n",
       "      <td>30</td>\n",
       "      <td>0</td>\n",
       "      <td>1</td>\n",
       "      <td>3</td>\n",
       "      <td>1166.00</td>\n",
       "    </tr>\n",
       "    <tr>\n",
       "      <th>4</th>\n",
       "      <td>12528166</td>\n",
       "      <td>2016-12-28</td>\n",
       "      <td>2016-12-29</td>\n",
       "      <td>2016-12-30</td>\n",
       "      <td>2259.92</td>\n",
       "      <td>0.00</td>\n",
       "      <td>1.00</td>\n",
       "      <td>224181</td>\n",
       "      <td>b2bBusinessTravel</td>\n",
       "      <td>3966</td>\n",
       "      <td>Россия</td>\n",
       "      <td>Редкий город</td>\n",
       "      <td>0.00</td>\n",
       "      <td>hotel</td>\n",
       "      <td>0</td>\n",
       "      <td>30</td>\n",
       "      <td>0</td>\n",
       "      <td>1</td>\n",
       "      <td>1</td>\n",
       "      <td>2260.00</td>\n",
       "    </tr>\n",
       "  </tbody>\n",
       "</table>\n",
       "</div>"
      ],
      "text/plain": [
       "   service_id service_date service_checkin service_checkout  service_price  \\\n",
       "0    12528130   2016-12-28      2017-01-13       2017-01-20       78457.60   \n",
       "1    12528139   2016-12-28      2017-01-16       2017-01-17        2395.80   \n",
       "2    12528148   2016-12-28      2017-01-19       2017-01-23       10062.36   \n",
       "3    12528157   2016-12-28      2016-12-31       2017-01-01        2332.00   \n",
       "4    12528166   2016-12-28      2016-12-29       2016-12-30        2259.92   \n",
       "\n",
       "   service_child_cnt  service_people_cnt  client_id     client_segment  \\\n",
       "0               0.00                2.00     215314  b2bBusinessTravel   \n",
       "1               0.00                1.00     210509              b2b2c   \n",
       "2               0.00                2.00     210509              b2b2c   \n",
       "3               0.00                2.00     213592              b2b2c   \n",
       "4               0.00                1.00     224181  b2bBusinessTravel   \n",
       "\n",
       "   hotel_id country_name        city_name  category_star  hotel_type  \\\n",
       "0      3538       Россия     Редкий город           5.00       hotel   \n",
       "1      7695       Россия     Редкий город           0.00       hotel   \n",
       "2     36934       Россия  Санкт-Петербург           3.00  mini-hotel   \n",
       "3      7107       Россия     Редкий город           3.00       hotel   \n",
       "4      3966       Россия     Редкий город           0.00       hotel   \n",
       "\n",
       "   hotel_seasonal  room_category  service_status  length_of_stay  \\\n",
       "0               0             70               0               7   \n",
       "1               0             20               1               1   \n",
       "2               0             50               0               4   \n",
       "3               0             30               0               1   \n",
       "4               0             30               0               1   \n",
       "\n",
       "   days_until_checkin  price_per_day_one_person  \n",
       "0                  16                   5604.00  \n",
       "1                  19                   2396.00  \n",
       "2                  22                   1258.00  \n",
       "3                   3                   1166.00  \n",
       "4                   1                   2260.00  "
      ]
     },
     "execution_count": 53,
     "metadata": {},
     "output_type": "execute_result"
    }
   ],
   "source": [
    "train.head()"
   ]
  },
  {
   "cell_type": "markdown",
   "id": "3b155e8b",
   "metadata": {},
   "source": [
    "Избавимся от признаков, которые интуитивно уже не являются значемыми на данном этапе."
   ]
  },
  {
   "cell_type": "code",
   "execution_count": 54,
   "id": "f1d2d4ba",
   "metadata": {},
   "outputs": [],
   "source": [
    "train_ = train.drop(columns=['service_id', 'service_date', 'service_checkin', 'service_checkout', 'client_id', 'hotel_id'])"
   ]
  },
  {
   "cell_type": "code",
   "execution_count": 55,
   "id": "d523d074",
   "metadata": {},
   "outputs": [],
   "source": [
    "public_test_ = public_test.drop(columns=['service_id', 'service_date', 'service_checkin', 'service_checkout', 'client_id', 'hotel_id'])\n",
    "private_test_ = private_test.drop(columns=['service_id', 'service_date', 'service_checkin', 'service_checkout', 'client_id', 'hotel_id'])"
   ]
  },
  {
   "cell_type": "code",
   "execution_count": 56,
   "id": "dd28aed8",
   "metadata": {},
   "outputs": [
    {
     "data": {
      "text/html": [
       "<div>\n",
       "<style scoped>\n",
       "    .dataframe tbody tr th:only-of-type {\n",
       "        vertical-align: middle;\n",
       "    }\n",
       "\n",
       "    .dataframe tbody tr th {\n",
       "        vertical-align: top;\n",
       "    }\n",
       "\n",
       "    .dataframe thead th {\n",
       "        text-align: right;\n",
       "    }\n",
       "</style>\n",
       "<table border=\"1\" class=\"dataframe\">\n",
       "  <thead>\n",
       "    <tr style=\"text-align: right;\">\n",
       "      <th></th>\n",
       "      <th>service_price</th>\n",
       "      <th>service_child_cnt</th>\n",
       "      <th>service_people_cnt</th>\n",
       "      <th>client_segment</th>\n",
       "      <th>country_name</th>\n",
       "      <th>city_name</th>\n",
       "      <th>category_star</th>\n",
       "      <th>hotel_type</th>\n",
       "      <th>hotel_seasonal</th>\n",
       "      <th>room_category</th>\n",
       "      <th>service_status</th>\n",
       "      <th>length_of_stay</th>\n",
       "      <th>days_until_checkin</th>\n",
       "      <th>price_per_day_one_person</th>\n",
       "    </tr>\n",
       "  </thead>\n",
       "  <tbody>\n",
       "    <tr>\n",
       "      <th>0</th>\n",
       "      <td>78457.60</td>\n",
       "      <td>0.00</td>\n",
       "      <td>2.00</td>\n",
       "      <td>b2bBusinessTravel</td>\n",
       "      <td>Россия</td>\n",
       "      <td>Редкий город</td>\n",
       "      <td>5.00</td>\n",
       "      <td>hotel</td>\n",
       "      <td>0</td>\n",
       "      <td>70</td>\n",
       "      <td>0</td>\n",
       "      <td>7</td>\n",
       "      <td>16</td>\n",
       "      <td>5604.00</td>\n",
       "    </tr>\n",
       "    <tr>\n",
       "      <th>1</th>\n",
       "      <td>2395.80</td>\n",
       "      <td>0.00</td>\n",
       "      <td>1.00</td>\n",
       "      <td>b2b2c</td>\n",
       "      <td>Россия</td>\n",
       "      <td>Редкий город</td>\n",
       "      <td>0.00</td>\n",
       "      <td>hotel</td>\n",
       "      <td>0</td>\n",
       "      <td>20</td>\n",
       "      <td>1</td>\n",
       "      <td>1</td>\n",
       "      <td>19</td>\n",
       "      <td>2396.00</td>\n",
       "    </tr>\n",
       "    <tr>\n",
       "      <th>2</th>\n",
       "      <td>10062.36</td>\n",
       "      <td>0.00</td>\n",
       "      <td>2.00</td>\n",
       "      <td>b2b2c</td>\n",
       "      <td>Россия</td>\n",
       "      <td>Санкт-Петербург</td>\n",
       "      <td>3.00</td>\n",
       "      <td>mini-hotel</td>\n",
       "      <td>0</td>\n",
       "      <td>50</td>\n",
       "      <td>0</td>\n",
       "      <td>4</td>\n",
       "      <td>22</td>\n",
       "      <td>1258.00</td>\n",
       "    </tr>\n",
       "    <tr>\n",
       "      <th>3</th>\n",
       "      <td>2332.00</td>\n",
       "      <td>0.00</td>\n",
       "      <td>2.00</td>\n",
       "      <td>b2b2c</td>\n",
       "      <td>Россия</td>\n",
       "      <td>Редкий город</td>\n",
       "      <td>3.00</td>\n",
       "      <td>hotel</td>\n",
       "      <td>0</td>\n",
       "      <td>30</td>\n",
       "      <td>0</td>\n",
       "      <td>1</td>\n",
       "      <td>3</td>\n",
       "      <td>1166.00</td>\n",
       "    </tr>\n",
       "    <tr>\n",
       "      <th>4</th>\n",
       "      <td>2259.92</td>\n",
       "      <td>0.00</td>\n",
       "      <td>1.00</td>\n",
       "      <td>b2bBusinessTravel</td>\n",
       "      <td>Россия</td>\n",
       "      <td>Редкий город</td>\n",
       "      <td>0.00</td>\n",
       "      <td>hotel</td>\n",
       "      <td>0</td>\n",
       "      <td>30</td>\n",
       "      <td>0</td>\n",
       "      <td>1</td>\n",
       "      <td>1</td>\n",
       "      <td>2260.00</td>\n",
       "    </tr>\n",
       "  </tbody>\n",
       "</table>\n",
       "</div>"
      ],
      "text/plain": [
       "   service_price  service_child_cnt  service_people_cnt     client_segment  \\\n",
       "0       78457.60               0.00                2.00  b2bBusinessTravel   \n",
       "1        2395.80               0.00                1.00              b2b2c   \n",
       "2       10062.36               0.00                2.00              b2b2c   \n",
       "3        2332.00               0.00                2.00              b2b2c   \n",
       "4        2259.92               0.00                1.00  b2bBusinessTravel   \n",
       "\n",
       "  country_name        city_name  category_star  hotel_type  hotel_seasonal  \\\n",
       "0       Россия     Редкий город           5.00       hotel               0   \n",
       "1       Россия     Редкий город           0.00       hotel               0   \n",
       "2       Россия  Санкт-Петербург           3.00  mini-hotel               0   \n",
       "3       Россия     Редкий город           3.00       hotel               0   \n",
       "4       Россия     Редкий город           0.00       hotel               0   \n",
       "\n",
       "   room_category  service_status  length_of_stay  days_until_checkin  \\\n",
       "0             70               0               7                  16   \n",
       "1             20               1               1                  19   \n",
       "2             50               0               4                  22   \n",
       "3             30               0               1                   3   \n",
       "4             30               0               1                   1   \n",
       "\n",
       "   price_per_day_one_person  \n",
       "0                   5604.00  \n",
       "1                   2396.00  \n",
       "2                   1258.00  \n",
       "3                   1166.00  \n",
       "4                   2260.00  "
      ]
     },
     "execution_count": 56,
     "metadata": {},
     "output_type": "execute_result"
    }
   ],
   "source": [
    "train_.head()"
   ]
  },
  {
   "cell_type": "code",
   "execution_count": 57,
   "id": "a0cf102e",
   "metadata": {},
   "outputs": [],
   "source": [
    "train_[['category_star', 'hotel_seasonal', 'room_category']] = train_[['category_star', 'hotel_seasonal', 'room_category']].astype(object)\n",
    "public_test_[['category_star', 'hotel_seasonal', 'room_category']] = public_test_[['category_star', 'hotel_seasonal', 'room_category']].astype(object)\n",
    "private_test_[['category_star', 'hotel_seasonal', 'room_category']] = private_test_[['category_star', 'hotel_seasonal', 'room_category']].astype(object)"
   ]
  },
  {
   "cell_type": "code",
   "execution_count": 58,
   "id": "5e9c86e4",
   "metadata": {},
   "outputs": [],
   "source": [
    "num_features = train_.drop(columns='service_status').select_dtypes(exclude=object).columns.to_list()\n",
    "cat_features = train_.drop(columns='service_status').select_dtypes(include=object).columns.to_list()"
   ]
  },
  {
   "cell_type": "code",
   "execution_count": 59,
   "id": "0b641ad4",
   "metadata": {},
   "outputs": [],
   "source": [
    "train_['service_status'] = train_['service_status'].astype(str)"
   ]
  },
  {
   "cell_type": "markdown",
   "id": "c5265ab9",
   "metadata": {},
   "source": [
    "# EDA"
   ]
  },
  {
   "cell_type": "markdown",
   "id": "02004d1c",
   "metadata": {},
   "source": [
    "Посмотрим на соотношение классов целевой переменной"
   ]
  },
  {
   "cell_type": "code",
   "execution_count": 61,
   "id": "1c3da879",
   "metadata": {},
   "outputs": [
    {
     "data": {
      "image/png": "[encoded data removed]",
      "text/plain": [
       "<Figure size 640x480 with 1 Axes>"
      ]
     },
     "metadata": {},
     "output_type": "display_data"
    }
   ],
   "source": [
    "sns.countplot(data=train, x='service_status');"
   ]
  },
  {
   "cell_type": "markdown",
   "id": "2d2e00ad",
   "metadata": {},
   "source": [
    "Мы убедились, что значения целевой переменной несбалансированы, преобладает класс клиентов, которые не отменяют бронирование."
   ]
  },
  {
   "cell_type": "markdown",
   "id": "3d6264ae",
   "metadata": {},
   "source": [
    "## Список гипотез"
   ]
  },
  {
   "cell_type": "markdown",
   "id": "017472ba",
   "metadata": {},
   "source": [
    "Далее сформулируем гипотезы:\n",
    "\n",
    "1) Наличие детей не влияет на отмену бронирования;\n",
    "2) Клиентский сегмент не влияет на отмену бронирования;\n",
    "3) Стоимость проживания на одного человека за сутки не влияет на отмену бронирования;   \n",
    "4) Сезонность отеля не влияет на отмену бронирования;  \n",
    "5) Количество дней до заезда с момента бронирования не влияет на отмену бронирования."
   ]
  },
  {
   "cell_type": "markdown",
   "id": "dd70c8dd",
   "metadata": {},
   "source": [
    "## Проверка гипотезы 1"
   ]
  },
  {
   "cell_type": "markdown",
   "id": "112e62a3",
   "metadata": {},
   "source": [
    "Для проверки первой гипотезы сформируем новый столбцец в нашем датафрейме, который будет содержать значение 1 если клиент заезжает с детьми и 0 если нет."
   ]
  },
  {
   "cell_type": "code",
   "execution_count": 62,
   "id": "31210c4e",
   "metadata": {},
   "outputs": [],
   "source": [
    "train_[\"has_children\"] = train_[\"service_child_cnt\"].apply(lambda x: 1 if x > 0 else 0).astype(object)"
   ]
  },
  {
   "cell_type": "code",
   "execution_count": 63,
   "id": "cef1e54e",
   "metadata": {},
   "outputs": [
    {
     "data": {
      "image/png": "[encoded data removed]",
      "text/plain": [
       "<Figure size 640x480 with 1 Axes>"
      ]
     },
     "metadata": {},
     "output_type": "display_data"
    }
   ],
   "source": [
    "sns.countplot(data=train_, x='has_children', hue='service_status').set_title('Количество клиентов с детьми, в разрезе статуса бронирования');"
   ]
  },
  {
   "cell_type": "markdown",
   "id": "f62b067b",
   "metadata": {},
   "source": [
    "Представленный выше график демонстирует, что среди клиентов с детьми доля отмен бронирования выше, чем среди клиентов без детей."
   ]
  },
  {
   "cell_type": "code",
   "execution_count": 64,
   "id": "84467e87",
   "metadata": {},
   "outputs": [],
   "source": [
    "public_test_[\"has_children\"] = public_test_[\"service_child_cnt\"].apply(lambda x: 1 if x > 0 else 0).astype(object)\n",
    "private_test_[\"has_children\"] = private_test_[\"service_child_cnt\"].apply(lambda x: 1 if x > 0 else 0).astype(object)"
   ]
  },
  {
   "cell_type": "markdown",
   "id": "c57b57d7",
   "metadata": {},
   "source": [
    "## Проверка гипотезы 2"
   ]
  },
  {
   "cell_type": "markdown",
   "id": "01baeeae",
   "metadata": {},
   "source": [
    "Проверим гипотезу 2: клиентский сегмент не влияет на отмену бронирования."
   ]
  },
  {
   "cell_type": "code",
   "execution_count": 65,
   "id": "718dcd93",
   "metadata": {},
   "outputs": [
    {
     "data": {
      "image/png": "[encoded data removed]",
      "text/plain": [
       "<Figure size 640x480 with 1 Axes>"
      ]
     },
     "metadata": {},
     "output_type": "display_data"
    }
   ],
   "source": [
    "sns.countplot(data=train_, x='client_segment', hue='service_status').set_title('Сегменты клиентов в разрезе статуса бронирования')\n",
    "plt.xticks(rotation=45);"
   ]
  },
  {
   "cell_type": "markdown",
   "id": "fd94b7ba",
   "metadata": {},
   "source": [
    "Гипотезу о том, что сегмент клиента не вляет на отмену бронирования необходимо отвергуть.  \n",
    "Так как, например, в сегменте b2c доля отмен бронирований составляет около 50%, в то время как в сегменте b2bBuisinessTravel доля отмен весьма мала."
   ]
  },
  {
   "cell_type": "markdown",
   "id": "8e745dcb",
   "metadata": {},
   "source": [
    "## Проверка гипотезы 3"
   ]
  },
  {
   "cell_type": "markdown",
   "id": "d769cf43",
   "metadata": {},
   "source": [
    "Проверим гипотезу 3: стоимость проживания на одного человека за сутки не влияет на отмену бронирования."
   ]
  },
  {
   "cell_type": "code",
   "execution_count": 66,
   "id": "3bc2dda4",
   "metadata": {},
   "outputs": [
    {
     "data": {
      "text/plain": [
       "<Axes: xlabel='price_per_day_one_person', ylabel='service_status'>"
      ]
     },
     "execution_count": 66,
     "metadata": {},
     "output_type": "execute_result"
    },
    {
     "data": {
      "image/png": "[encoded data removed]",
      "text/plain": [
       "<Figure size 1000x500 with 1 Axes>"
      ]
     },
     "metadata": {},
     "output_type": "display_data"
    }
   ],
   "source": [
    "plt.figure(figsize=(10,5))\n",
    "sns.boxplot(data=train_, x='price_per_day_one_person', y='service_status')"
   ]
  },
  {
   "cell_type": "markdown",
   "id": "46ec9c56",
   "metadata": {},
   "source": [
    "Данный график не противоречит гипотезе о том, что стоимость проживания на одного человека за сутки не влияет на отмену бронирования."
   ]
  },
  {
   "cell_type": "markdown",
   "id": "5aa8848e",
   "metadata": {},
   "source": [
    "## Проверка гипотезы 4"
   ]
  },
  {
   "cell_type": "markdown",
   "id": "9dc97583",
   "metadata": {},
   "source": [
    "Проверим гипотезу 4: сезонность отеля не влияет на отмену бронирования.  \n",
    "Воспользуемся точным тестом Фишера."
   ]
  },
  {
   "cell_type": "code",
   "execution_count": 67,
   "id": "a70618af",
   "metadata": {},
   "outputs": [],
   "source": [
    "train_['hotel_seasonal'] = train_['hotel_seasonal'].astype(int)\n",
    "train_['service_status'] = train_['service_status'].astype(int)"
   ]
  },
  {
   "cell_type": "code",
   "execution_count": 68,
   "id": "bd6805ed",
   "metadata": {},
   "outputs": [],
   "source": [
    "# Оценка относительного риска и точный тест Фишера.\n",
    "# На вход подаются названия колонок, содержащих фактор риска и исход.\n",
    "def safeRiskCalc(numerator, denumerator):\n",
    "  if denumerator != 0:\n",
    "    return str(round(numerator / denumerator*100,2))\n",
    "  else:\n",
    "    return '---'\n",
    "\n",
    "def riskEstimation(factorRisk, outcome):\n",
    "  expRiskOutcomeYes = len(train_[(train_[factorRisk] == 1) & (train_[outcome] == 1)].index)\n",
    "  expRiskOutcomeNo = len(train_[(train_[factorRisk] == 1) & (train_[outcome] == 0)].index)\n",
    "  expRisk = expRiskOutcomeYes + expRiskOutcomeNo\n",
    "\n",
    "  controlOutcomeYes = len(train_[(train_[factorRisk] == 0) & (train_[outcome] == 1)].index)\n",
    "  controlOutcomeNo = len(train_[(train_[factorRisk] == 0) & (train_[outcome] == 0)].index)\n",
    "  control = controlOutcomeYes + controlOutcomeNo\n",
    "\n",
    "  pt = PrettyTable()\n",
    "\n",
    "  cellYY = str(expRiskOutcomeYes) + ' (' + safeRiskCalc(expRiskOutcomeYes, expRisk) + ' %)'\n",
    "  cellYN = str(expRiskOutcomeNo) + ' (' + safeRiskCalc(expRiskOutcomeNo, expRisk) + ' %)'\n",
    "  cellNY = str(controlOutcomeYes) + ' (' + safeRiskCalc(controlOutcomeYes, control) + ' %)'\n",
    "  cellNN = str(controlOutcomeNo) + ' (' + safeRiskCalc(controlOutcomeNo, control) + ' %)'\n",
    "\n",
    "  pt.field_names = [\"   \", outcome + \" = Да\", outcome + \" = Нет\", \"Итого\"]\n",
    "  pt.add_row([factorRisk + \" = Да\",   cellYY, cellYN, expRisk])\n",
    "  pt.add_row([factorRisk + \" = Нет\", cellNY, cellNN, control])\n",
    "  pt.add_row([\"Итого\", expRiskOutcomeYes + controlOutcomeYes, expRiskOutcomeNo + controlOutcomeNo,  expRisk + control])\n",
    "  print(pt)\n",
    "\n",
    "  try:\n",
    "    RR = relative_risk(expRiskOutcomeYes, expRiskOutcomeYes + expRiskOutcomeNo, controlOutcomeYes, controlOutcomeYes + controlOutcomeNo)\n",
    "    print('RR =', round(RR.relative_risk, 3))\n",
    "    CIlow =  round(RR.confidence_interval(confidence_level=0.95).low, 2)\n",
    "    CIhigh = round(RR.confidence_interval(confidence_level=0.95).high, 2)\n",
    "    print('CI = [', CIlow, '; ', CIhigh, ']', sep = '')\n",
    "  except:\n",
    "    print('Невозможно найти RR')\n",
    "\n",
    "  fisherTest = fisher_exact([[expRiskOutcomeYes, expRiskOutcomeNo], [controlOutcomeYes, controlOutcomeNo]])\n",
    "  print(f'Точный тест Фишера p-value = {fisherTest[1]:e}')"
   ]
  },
  {
   "cell_type": "code",
   "execution_count": 69,
   "id": "beb9105a",
   "metadata": {},
   "outputs": [
    {
     "name": "stdout",
     "output_type": "stream",
     "text": [
      "+----------------------+---------------------+----------------------+---------+\n",
      "|                      | service_status = Да | service_status = Нет |  Итого  |\n",
      "+----------------------+---------------------+----------------------+---------+\n",
      "| hotel_seasonal = Да  |    7160 (28.83 %)   |   17675 (71.17 %)    |  24835  |\n",
      "| hotel_seasonal = Нет |   388279 (13.83 %)  |  2419438 (86.17 %)   | 2807717 |\n",
      "|        Итого         |        395439       |       2437113        | 2832552 |\n",
      "+----------------------+---------------------+----------------------+---------+\n",
      "RR = 2.085\n",
      "CI = [2.04; 2.13]\n",
      "Точный тест Фишера p-value = 0.000000e+00\n"
     ]
    }
   ],
   "source": [
    "riskEstimation('hotel_seasonal', 'service_status')"
   ]
  },
  {
   "cell_type": "markdown",
   "id": "1127b506",
   "metadata": {},
   "source": [
    "Так как p-value < 0.05, мы отвергаем нулевую гипотезу о том, что сезонность отеля не вляет на отмену бронирования."
   ]
  },
  {
   "cell_type": "markdown",
   "id": "5f54a676",
   "metadata": {},
   "source": [
    "## Проверка гипотезы 5"
   ]
  },
  {
   "cell_type": "markdown",
   "id": "61912b86",
   "metadata": {},
   "source": [
    "Проверим гипотезу 5: количество дней до заезда с момента бронирования не влияет на отмену бронирования."
   ]
  },
  {
   "cell_type": "code",
   "execution_count": 70,
   "id": "ac592ae9",
   "metadata": {},
   "outputs": [
    {
     "data": {
      "text/plain": [
       "(-20.0, 40.0)"
      ]
     },
     "execution_count": 70,
     "metadata": {},
     "output_type": "execute_result"
    },
    {
     "data": {
      "image/png": "[encoded data removed]",
      "text/plain": [
       "<Figure size 640x480 with 1 Axes>"
      ]
     },
     "metadata": {},
     "output_type": "display_data"
    }
   ],
   "source": [
    "sns.kdeplot(data=train, x=\"days_until_checkin\", hue=\"service_status\")\n",
    "plt.xlim(-20, 40)"
   ]
  },
  {
   "cell_type": "markdown",
   "id": "3d1b9a28",
   "metadata": {},
   "source": [
    "Картина на данном графике не предоставляет информации для отвержения гипотезы о том, что количество дней до заезда влияет на отмену бронирования."
   ]
  },
  {
   "cell_type": "markdown",
   "id": "bcf36b23",
   "metadata": {},
   "source": [
    "# Удаление сильно коррелирующих признаков"
   ]
  },
  {
   "cell_type": "code",
   "execution_count": 71,
   "id": "9294bd3a",
   "metadata": {},
   "outputs": [
    {
     "data": {
      "text/html": [
       "<style type=\"text/css\">\n",
       "#T_c0912_row0_col0, #T_c0912_row1_col1, #T_c0912_row2_col2, #T_c0912_row3_col3, #T_c0912_row4_col4, #T_c0912_row5_col5, #T_c0912_row6_col6, #T_c0912_row7_col7 {\n",
       "  background-color: #b40426;\n",
       "  color: #f1f1f1;\n",
       "}\n",
       "#T_c0912_row0_col1, #T_c0912_row2_col6 {\n",
       "  background-color: #7b9ff9;\n",
       "  color: #f1f1f1;\n",
       "}\n",
       "#T_c0912_row0_col2 {\n",
       "  background-color: #b9d0f9;\n",
       "  color: #000000;\n",
       "}\n",
       "#T_c0912_row0_col3, #T_c0912_row2_col3 {\n",
       "  background-color: #536edd;\n",
       "  color: #f1f1f1;\n",
       "}\n",
       "#T_c0912_row0_col4 {\n",
       "  background-color: #5977e3;\n",
       "  color: #f1f1f1;\n",
       "}\n",
       "#T_c0912_row0_col5 {\n",
       "  background-color: #f59c7d;\n",
       "  color: #000000;\n",
       "}\n",
       "#T_c0912_row0_col6 {\n",
       "  background-color: #80a3fa;\n",
       "  color: #f1f1f1;\n",
       "}\n",
       "#T_c0912_row0_col7 {\n",
       "  background-color: #e1dad6;\n",
       "  color: #000000;\n",
       "}\n",
       "#T_c0912_row1_col0 {\n",
       "  background-color: #445acc;\n",
       "  color: #f1f1f1;\n",
       "}\n",
       "#T_c0912_row1_col2, #T_c0912_row5_col0 {\n",
       "  background-color: #f6a283;\n",
       "  color: #000000;\n",
       "}\n",
       "#T_c0912_row1_col3 {\n",
       "  background-color: #4f69d9;\n",
       "  color: #f1f1f1;\n",
       "}\n",
       "#T_c0912_row1_col4 {\n",
       "  background-color: #5875e1;\n",
       "  color: #f1f1f1;\n",
       "}\n",
       "#T_c0912_row1_col5 {\n",
       "  background-color: #3e51c5;\n",
       "  color: #f1f1f1;\n",
       "}\n",
       "#T_c0912_row1_col6, #T_c0912_row6_col5 {\n",
       "  background-color: #6687ed;\n",
       "  color: #f1f1f1;\n",
       "}\n",
       "#T_c0912_row1_col7 {\n",
       "  background-color: #7da0f9;\n",
       "  color: #f1f1f1;\n",
       "}\n",
       "#T_c0912_row2_col0, #T_c0912_row3_col4, #T_c0912_row4_col0 {\n",
       "  background-color: #4961d2;\n",
       "  color: #f1f1f1;\n",
       "}\n",
       "#T_c0912_row2_col1 {\n",
       "  background-color: #f7ba9f;\n",
       "  color: #000000;\n",
       "}\n",
       "#T_c0912_row2_col4 {\n",
       "  background-color: #5e7de7;\n",
       "  color: #f1f1f1;\n",
       "}\n",
       "#T_c0912_row2_col5 {\n",
       "  background-color: #3f53c6;\n",
       "  color: #f1f1f1;\n",
       "}\n",
       "#T_c0912_row2_col7, #T_c0912_row3_col0, #T_c0912_row7_col1, #T_c0912_row7_col2, #T_c0912_row7_col3, #T_c0912_row7_col4, #T_c0912_row7_col5, #T_c0912_row7_col6 {\n",
       "  background-color: #3b4cc0;\n",
       "  color: #f1f1f1;\n",
       "}\n",
       "#T_c0912_row3_col1 {\n",
       "  background-color: #6e90f2;\n",
       "  color: #f1f1f1;\n",
       "}\n",
       "#T_c0912_row3_col2 {\n",
       "  background-color: #aec9fc;\n",
       "  color: #000000;\n",
       "}\n",
       "#T_c0912_row3_col5, #T_c0912_row4_col5 {\n",
       "  background-color: #506bda;\n",
       "  color: #f1f1f1;\n",
       "}\n",
       "#T_c0912_row3_col6, #T_c0912_row5_col3 {\n",
       "  background-color: #5673e0;\n",
       "  color: #f1f1f1;\n",
       "}\n",
       "#T_c0912_row3_col7 {\n",
       "  background-color: #9abbff;\n",
       "  color: #000000;\n",
       "}\n",
       "#T_c0912_row4_col1 {\n",
       "  background-color: #7ea1fa;\n",
       "  color: #f1f1f1;\n",
       "}\n",
       "#T_c0912_row4_col2 {\n",
       "  background-color: #bbd1f8;\n",
       "  color: #000000;\n",
       "}\n",
       "#T_c0912_row4_col3 {\n",
       "  background-color: #516ddb;\n",
       "  color: #f1f1f1;\n",
       "}\n",
       "#T_c0912_row4_col6, #T_c0912_row4_col7 {\n",
       "  background-color: #a1c0ff;\n",
       "  color: #000000;\n",
       "}\n",
       "#T_c0912_row5_col1 {\n",
       "  background-color: #6384eb;\n",
       "  color: #f1f1f1;\n",
       "}\n",
       "#T_c0912_row5_col2 {\n",
       "  background-color: #a2c1ff;\n",
       "  color: #000000;\n",
       "}\n",
       "#T_c0912_row5_col4 {\n",
       "  background-color: #4e68d8;\n",
       "  color: #f1f1f1;\n",
       "}\n",
       "#T_c0912_row5_col6 {\n",
       "  background-color: #6788ee;\n",
       "  color: #f1f1f1;\n",
       "}\n",
       "#T_c0912_row5_col7, #T_c0912_row6_col4, #T_c0912_row6_col7 {\n",
       "  background-color: #9ebeff;\n",
       "  color: #000000;\n",
       "}\n",
       "#T_c0912_row6_col0 {\n",
       "  background-color: #6c8ff1;\n",
       "  color: #f1f1f1;\n",
       "}\n",
       "#T_c0912_row6_col1 {\n",
       "  background-color: #89acfd;\n",
       "  color: #000000;\n",
       "}\n",
       "#T_c0912_row6_col2 {\n",
       "  background-color: #ccd9ed;\n",
       "  color: #000000;\n",
       "}\n",
       "#T_c0912_row6_col3 {\n",
       "  background-color: #5b7ae5;\n",
       "  color: #f1f1f1;\n",
       "}\n",
       "#T_c0912_row7_col0 {\n",
       "  background-color: #92b4fe;\n",
       "  color: #000000;\n",
       "}\n",
       "</style>\n",
       "<table id=\"T_c0912\">\n",
       "  <thead>\n",
       "    <tr>\n",
       "      <th class=\"blank level0\" >&nbsp;</th>\n",
       "      <th id=\"T_c0912_level0_col0\" class=\"col_heading level0 col0\" >service_price</th>\n",
       "      <th id=\"T_c0912_level0_col1\" class=\"col_heading level0 col1\" >service_child_cnt</th>\n",
       "      <th id=\"T_c0912_level0_col2\" class=\"col_heading level0 col2\" >service_people_cnt</th>\n",
       "      <th id=\"T_c0912_level0_col3\" class=\"col_heading level0 col3\" >hotel_seasonal</th>\n",
       "      <th id=\"T_c0912_level0_col4\" class=\"col_heading level0 col4\" >service_status</th>\n",
       "      <th id=\"T_c0912_level0_col5\" class=\"col_heading level0 col5\" >length_of_stay</th>\n",
       "      <th id=\"T_c0912_level0_col6\" class=\"col_heading level0 col6\" >days_until_checkin</th>\n",
       "      <th id=\"T_c0912_level0_col7\" class=\"col_heading level0 col7\" >price_per_day_one_person</th>\n",
       "    </tr>\n",
       "  </thead>\n",
       "  <tbody>\n",
       "    <tr>\n",
       "      <th id=\"T_c0912_level0_row0\" class=\"row_heading level0 row0\" >service_price</th>\n",
       "      <td id=\"T_c0912_row0_col0\" class=\"data row0 col0\" >1.000000</td>\n",
       "      <td id=\"T_c0912_row0_col1\" class=\"data row0 col1\" >0.076665</td>\n",
       "      <td id=\"T_c0912_row0_col2\" class=\"data row0 col2\" >0.091180</td>\n",
       "      <td id=\"T_c0912_row0_col3\" class=\"data row0 col3\" >0.044226</td>\n",
       "      <td id=\"T_c0912_row0_col4\" class=\"data row0 col4\" >0.092662</td>\n",
       "      <td id=\"T_c0912_row0_col5\" class=\"data row0 col5\" >0.738780</td>\n",
       "      <td id=\"T_c0912_row0_col6\" class=\"data row0 col6\" >0.194638</td>\n",
       "      <td id=\"T_c0912_row0_col7\" class=\"data row0 col7\" >0.296229</td>\n",
       "    </tr>\n",
       "    <tr>\n",
       "      <th id=\"T_c0912_level0_row1\" class=\"row_heading level0 row1\" >service_child_cnt</th>\n",
       "      <td id=\"T_c0912_row1_col0\" class=\"data row1 col0\" >0.076665</td>\n",
       "      <td id=\"T_c0912_row1_col1\" class=\"data row1 col1\" >1.000000</td>\n",
       "      <td id=\"T_c0912_row1_col2\" class=\"data row1 col2\" >0.605698</td>\n",
       "      <td id=\"T_c0912_row1_col3\" class=\"data row1 col3\" >0.031721</td>\n",
       "      <td id=\"T_c0912_row1_col4\" class=\"data row1 col4\" >0.086579</td>\n",
       "      <td id=\"T_c0912_row1_col5\" class=\"data row1 col5\" >-0.003578</td>\n",
       "      <td id=\"T_c0912_row1_col6\" class=\"data row1 col6\" >0.119873</td>\n",
       "      <td id=\"T_c0912_row1_col7\" class=\"data row1 col7\" >-0.156482</td>\n",
       "    </tr>\n",
       "    <tr>\n",
       "      <th id=\"T_c0912_level0_row2\" class=\"row_heading level0 row2\" >service_people_cnt</th>\n",
       "      <td id=\"T_c0912_row2_col0\" class=\"data row2 col0\" >0.091180</td>\n",
       "      <td id=\"T_c0912_row2_col1\" class=\"data row2 col1\" >0.605698</td>\n",
       "      <td id=\"T_c0912_row2_col2\" class=\"data row2 col2\" >1.000000</td>\n",
       "      <td id=\"T_c0912_row2_col3\" class=\"data row2 col3\" >0.047013</td>\n",
       "      <td id=\"T_c0912_row2_col4\" class=\"data row2 col4\" >0.105504</td>\n",
       "      <td id=\"T_c0912_row2_col5\" class=\"data row2 col5\" >-0.002278</td>\n",
       "      <td id=\"T_c0912_row2_col6\" class=\"data row2 col6\" >0.184606</td>\n",
       "      <td id=\"T_c0912_row2_col7\" class=\"data row2 col7\" >-0.456198</td>\n",
       "    </tr>\n",
       "    <tr>\n",
       "      <th id=\"T_c0912_level0_row3\" class=\"row_heading level0 row3\" >hotel_seasonal</th>\n",
       "      <td id=\"T_c0912_row3_col0\" class=\"data row3 col0\" >0.044226</td>\n",
       "      <td id=\"T_c0912_row3_col1\" class=\"data row3 col1\" >0.031721</td>\n",
       "      <td id=\"T_c0912_row3_col2\" class=\"data row3 col2\" >0.047013</td>\n",
       "      <td id=\"T_c0912_row3_col3\" class=\"data row3 col3\" >1.000000</td>\n",
       "      <td id=\"T_c0912_row3_col4\" class=\"data row3 col4\" >0.040351</td>\n",
       "      <td id=\"T_c0912_row3_col5\" class=\"data row3 col5\" >0.055761</td>\n",
       "      <td id=\"T_c0912_row3_col6\" class=\"data row3 col6\" >0.071967</td>\n",
       "      <td id=\"T_c0912_row3_col7\" class=\"data row3 col7\" >-0.037655</td>\n",
       "    </tr>\n",
       "    <tr>\n",
       "      <th id=\"T_c0912_level0_row4\" class=\"row_heading level0 row4\" >service_status</th>\n",
       "      <td id=\"T_c0912_row4_col0\" class=\"data row4 col0\" >0.092662</td>\n",
       "      <td id=\"T_c0912_row4_col1\" class=\"data row4 col1\" >0.086579</td>\n",
       "      <td id=\"T_c0912_row4_col2\" class=\"data row4 col2\" >0.105504</td>\n",
       "      <td id=\"T_c0912_row4_col3\" class=\"data row4 col3\" >0.040351</td>\n",
       "      <td id=\"T_c0912_row4_col4\" class=\"data row4 col4\" >1.000000</td>\n",
       "      <td id=\"T_c0912_row4_col5\" class=\"data row4 col5\" >0.056797</td>\n",
       "      <td id=\"T_c0912_row4_col6\" class=\"data row4 col6\" >0.293291</td>\n",
       "      <td id=\"T_c0912_row4_col7\" class=\"data row4 col7\" >-0.009894</td>\n",
       "    </tr>\n",
       "    <tr>\n",
       "      <th id=\"T_c0912_level0_row5\" class=\"row_heading level0 row5\" >length_of_stay</th>\n",
       "      <td id=\"T_c0912_row5_col0\" class=\"data row5 col0\" >0.738780</td>\n",
       "      <td id=\"T_c0912_row5_col1\" class=\"data row5 col1\" >-0.003578</td>\n",
       "      <td id=\"T_c0912_row5_col2\" class=\"data row5 col2\" >-0.002278</td>\n",
       "      <td id=\"T_c0912_row5_col3\" class=\"data row5 col3\" >0.055761</td>\n",
       "      <td id=\"T_c0912_row5_col4\" class=\"data row5 col4\" >0.056797</td>\n",
       "      <td id=\"T_c0912_row5_col5\" class=\"data row5 col5\" >1.000000</td>\n",
       "      <td id=\"T_c0912_row5_col6\" class=\"data row5 col6\" >0.124551</td>\n",
       "      <td id=\"T_c0912_row5_col7\" class=\"data row5 col7\" >-0.018405</td>\n",
       "    </tr>\n",
       "    <tr>\n",
       "      <th id=\"T_c0912_level0_row6\" class=\"row_heading level0 row6\" >days_until_checkin</th>\n",
       "      <td id=\"T_c0912_row6_col0\" class=\"data row6 col0\" >0.194638</td>\n",
       "      <td id=\"T_c0912_row6_col1\" class=\"data row6 col1\" >0.119873</td>\n",
       "      <td id=\"T_c0912_row6_col2\" class=\"data row6 col2\" >0.184606</td>\n",
       "      <td id=\"T_c0912_row6_col3\" class=\"data row6 col3\" >0.071967</td>\n",
       "      <td id=\"T_c0912_row6_col4\" class=\"data row6 col4\" >0.293291</td>\n",
       "      <td id=\"T_c0912_row6_col5\" class=\"data row6 col5\" >0.124551</td>\n",
       "      <td id=\"T_c0912_row6_col6\" class=\"data row6 col6\" >1.000000</td>\n",
       "      <td id=\"T_c0912_row6_col7\" class=\"data row6 col7\" >-0.021849</td>\n",
       "    </tr>\n",
       "    <tr>\n",
       "      <th id=\"T_c0912_level0_row7\" class=\"row_heading level0 row7\" >price_per_day_one_person</th>\n",
       "      <td id=\"T_c0912_row7_col0\" class=\"data row7 col0\" >0.296229</td>\n",
       "      <td id=\"T_c0912_row7_col1\" class=\"data row7 col1\" >-0.156482</td>\n",
       "      <td id=\"T_c0912_row7_col2\" class=\"data row7 col2\" >-0.456198</td>\n",
       "      <td id=\"T_c0912_row7_col3\" class=\"data row7 col3\" >-0.037655</td>\n",
       "      <td id=\"T_c0912_row7_col4\" class=\"data row7 col4\" >-0.009894</td>\n",
       "      <td id=\"T_c0912_row7_col5\" class=\"data row7 col5\" >-0.018405</td>\n",
       "      <td id=\"T_c0912_row7_col6\" class=\"data row7 col6\" >-0.021849</td>\n",
       "      <td id=\"T_c0912_row7_col7\" class=\"data row7 col7\" >1.000000</td>\n",
       "    </tr>\n",
       "  </tbody>\n",
       "</table>\n"
      ],
      "text/plain": [
       "<pandas.io.formats.style.Styler at 0x1f23eb85dd0>"
      ]
     },
     "execution_count": 71,
     "metadata": {},
     "output_type": "execute_result"
    }
   ],
   "source": [
    "train_.corr(numeric_only=True).style.background_gradient(cmap='coolwarm')"
   ]
  },
  {
   "cell_type": "code",
   "execution_count": 72,
   "id": "8f11b41c",
   "metadata": {},
   "outputs": [],
   "source": [
    "train_ = train_.drop(columns='service_price')"
   ]
  },
  {
   "cell_type": "code",
   "execution_count": 73,
   "id": "62edd515",
   "metadata": {},
   "outputs": [],
   "source": [
    "public_test_ = public_test_.drop(columns='service_price')\n",
    "private_test_ = private_test_.drop(columns='service_price')"
   ]
  },
  {
   "cell_type": "markdown",
   "id": "f0751255",
   "metadata": {},
   "source": [
    "# Приведение категориальных признаков к типу object"
   ]
  },
  {
   "cell_type": "code",
   "execution_count": 74,
   "id": "ed609a76",
   "metadata": {},
   "outputs": [
    {
     "name": "stdout",
     "output_type": "stream",
     "text": [
      "<class 'pandas.core.frame.DataFrame'>\n",
      "Index: 2832552 entries, 0 to 2832809\n",
      "Data columns (total 14 columns):\n",
      " #   Column                    Dtype  \n",
      "---  ------                    -----  \n",
      " 0   service_child_cnt         float64\n",
      " 1   service_people_cnt        float64\n",
      " 2   client_segment            object \n",
      " 3   country_name              object \n",
      " 4   city_name                 object \n",
      " 5   category_star             object \n",
      " 6   hotel_type                object \n",
      " 7   hotel_seasonal            int32  \n",
      " 8   room_category             object \n",
      " 9   service_status            int32  \n",
      " 10  length_of_stay            int64  \n",
      " 11  days_until_checkin        int64  \n",
      " 12  price_per_day_one_person  float64\n",
      " 13  has_children              object \n",
      "dtypes: float64(3), int32(2), int64(2), object(7)\n",
      "memory usage: 302.5+ MB\n"
     ]
    }
   ],
   "source": [
    "train_.info()"
   ]
  },
  {
   "cell_type": "code",
   "execution_count": 75,
   "id": "fe117148",
   "metadata": {},
   "outputs": [],
   "source": [
    "train_['hotel_seasonal'] = train_['hotel_seasonal'].astype(object)\n",
    "public_test_['hotel_seasonal'] = public_test_['hotel_seasonal'].astype(object)\n",
    "private_test_['hotel_seasonal'] = private_test_['hotel_seasonal'].astype(object)"
   ]
  },
  {
   "cell_type": "code",
   "execution_count": 76,
   "id": "a871a21c",
   "metadata": {},
   "outputs": [],
   "source": [
    "cat_features.append('has_children')"
   ]
  },
  {
   "cell_type": "code",
   "execution_count": 77,
   "id": "3cc1ab71",
   "metadata": {},
   "outputs": [
    {
     "data": {
      "text/plain": [
       "['client_segment',\n",
       " 'country_name',\n",
       " 'city_name',\n",
       " 'category_star',\n",
       " 'hotel_type',\n",
       " 'hotel_seasonal',\n",
       " 'room_category',\n",
       " 'has_children']"
      ]
     },
     "execution_count": 77,
     "metadata": {},
     "output_type": "execute_result"
    }
   ],
   "source": [
    "cat_features"
   ]
  },
  {
   "cell_type": "code",
   "execution_count": 80,
   "id": "a6b8000b",
   "metadata": {},
   "outputs": [],
   "source": [
    "train_temp = train_.copy()\n",
    "public_test_temp = public_test_.copy()\n",
    "private_test_temp = private_test_.copy()"
   ]
  },
  {
   "cell_type": "markdown",
   "id": "b4b1807a",
   "metadata": {},
   "source": [
    "# Обучение и тестирование модели XGBClassifier"
   ]
  },
  {
   "cell_type": "code",
   "execution_count": 83,
   "id": "263e72b3",
   "metadata": {},
   "outputs": [],
   "source": [
    "train_temp[cat_features] = train_temp[cat_features].astype(\"category\")\n",
    "public_test_temp[cat_features] = public_test_temp[cat_features].astype(\"category\")\n",
    "private_test_temp[cat_features] = private_test_temp[cat_features].astype(\"category\")"
   ]
  },
  {
   "cell_type": "code",
   "execution_count": 84,
   "id": "58a4f063",
   "metadata": {},
   "outputs": [],
   "source": [
    "X = train_temp.drop(columns=['service_status'])\n",
    "y = train_temp['service_status']"
   ]
  },
  {
   "cell_type": "code",
   "execution_count": 85,
   "id": "25b70be7",
   "metadata": {},
   "outputs": [],
   "source": [
    "X_train, X_val, y_train, y_val = train_test_split(X, y, test_size=0.2, random_state=42, stratify=y)"
   ]
  },
  {
   "cell_type": "code",
   "execution_count": 86,
   "id": "69f717f3",
   "metadata": {},
   "outputs": [],
   "source": [
    "model = xgb.XGBClassifier(random_state=42, \n",
    "                       objective='binary:logistic', \n",
    "                       enable_categorical=True, \n",
    "                       early_stopping_rounds=50, \n",
    "                       n_estimators=500)"
   ]
  },
  {
   "cell_type": "code",
   "execution_count": 87,
   "id": "f5d8a67a",
   "metadata": {
    "scrolled": true
   },
   "outputs": [
    {
     "name": "stdout",
     "output_type": "stream",
     "text": [
      "[0]\tvalidation_0-logloss:0.38151\tvalidation_1-logloss:0.38152\n",
      "[1]\tvalidation_0-logloss:0.36496\tvalidation_1-logloss:0.36495\n",
      "[2]\tvalidation_0-logloss:0.35528\tvalidation_1-logloss:0.35526\n",
      "[3]\tvalidation_0-logloss:0.34942\tvalidation_1-logloss:0.34942\n",
      "[4]\tvalidation_0-logloss:0.34579\tvalidation_1-logloss:0.34580\n",
      "[5]\tvalidation_0-logloss:0.34356\tvalidation_1-logloss:0.34361\n",
      "[6]\tvalidation_0-logloss:0.34216\tvalidation_1-logloss:0.34226\n",
      "[7]\tvalidation_0-logloss:0.34126\tvalidation_1-logloss:0.34140\n",
      "[8]\tvalidation_0-logloss:0.34065\tvalidation_1-logloss:0.34084\n",
      "[9]\tvalidation_0-logloss:0.34021\tvalidation_1-logloss:0.34043\n",
      "[10]\tvalidation_0-logloss:0.33987\tvalidation_1-logloss:0.34012\n",
      "[11]\tvalidation_0-logloss:0.33964\tvalidation_1-logloss:0.33991\n",
      "[12]\tvalidation_0-logloss:0.33940\tvalidation_1-logloss:0.33972\n",
      "[13]\tvalidation_0-logloss:0.33924\tvalidation_1-logloss:0.33959\n",
      "[14]\tvalidation_0-logloss:0.33913\tvalidation_1-logloss:0.33951\n",
      "[15]\tvalidation_0-logloss:0.33899\tvalidation_1-logloss:0.33941\n",
      "[16]\tvalidation_0-logloss:0.33890\tvalidation_1-logloss:0.33933\n",
      "[17]\tvalidation_0-logloss:0.33880\tvalidation_1-logloss:0.33924\n",
      "[18]\tvalidation_0-logloss:0.33866\tvalidation_1-logloss:0.33914\n",
      "[19]\tvalidation_0-logloss:0.33859\tvalidation_1-logloss:0.33909\n",
      "[20]\tvalidation_0-logloss:0.33849\tvalidation_1-logloss:0.33902\n",
      "[21]\tvalidation_0-logloss:0.33840\tvalidation_1-logloss:0.33896\n",
      "[22]\tvalidation_0-logloss:0.33833\tvalidation_1-logloss:0.33892\n",
      "[23]\tvalidation_0-logloss:0.33824\tvalidation_1-logloss:0.33886\n",
      "[24]\tvalidation_0-logloss:0.33818\tvalidation_1-logloss:0.33883\n",
      "[25]\tvalidation_0-logloss:0.33805\tvalidation_1-logloss:0.33872\n",
      "[26]\tvalidation_0-logloss:0.33800\tvalidation_1-logloss:0.33869\n",
      "[27]\tvalidation_0-logloss:0.33792\tvalidation_1-logloss:0.33864\n",
      "[28]\tvalidation_0-logloss:0.33783\tvalidation_1-logloss:0.33858\n",
      "[29]\tvalidation_0-logloss:0.33775\tvalidation_1-logloss:0.33852\n",
      "[30]\tvalidation_0-logloss:0.33772\tvalidation_1-logloss:0.33850\n",
      "[31]\tvalidation_0-logloss:0.33768\tvalidation_1-logloss:0.33848\n",
      "[32]\tvalidation_0-logloss:0.33762\tvalidation_1-logloss:0.33843\n",
      "[33]\tvalidation_0-logloss:0.33757\tvalidation_1-logloss:0.33840\n",
      "[34]\tvalidation_0-logloss:0.33753\tvalidation_1-logloss:0.33839\n",
      "[35]\tvalidation_0-logloss:0.33748\tvalidation_1-logloss:0.33835\n",
      "[36]\tvalidation_0-logloss:0.33737\tvalidation_1-logloss:0.33828\n",
      "[37]\tvalidation_0-logloss:0.33732\tvalidation_1-logloss:0.33826\n",
      "[38]\tvalidation_0-logloss:0.33730\tvalidation_1-logloss:0.33825\n",
      "[39]\tvalidation_0-logloss:0.33728\tvalidation_1-logloss:0.33824\n",
      "[40]\tvalidation_0-logloss:0.33720\tvalidation_1-logloss:0.33820\n",
      "[41]\tvalidation_0-logloss:0.33716\tvalidation_1-logloss:0.33818\n",
      "[42]\tvalidation_0-logloss:0.33713\tvalidation_1-logloss:0.33817\n",
      "[43]\tvalidation_0-logloss:0.33710\tvalidation_1-logloss:0.33816\n",
      "[44]\tvalidation_0-logloss:0.33706\tvalidation_1-logloss:0.33815\n",
      "[45]\tvalidation_0-logloss:0.33697\tvalidation_1-logloss:0.33810\n",
      "[46]\tvalidation_0-logloss:0.33687\tvalidation_1-logloss:0.33803\n",
      "[47]\tvalidation_0-logloss:0.33679\tvalidation_1-logloss:0.33801\n",
      "[48]\tvalidation_0-logloss:0.33674\tvalidation_1-logloss:0.33800\n",
      "[49]\tvalidation_0-logloss:0.33667\tvalidation_1-logloss:0.33797\n",
      "[50]\tvalidation_0-logloss:0.33666\tvalidation_1-logloss:0.33797\n",
      "[51]\tvalidation_0-logloss:0.33661\tvalidation_1-logloss:0.33795\n",
      "[52]\tvalidation_0-logloss:0.33654\tvalidation_1-logloss:0.33791\n",
      "[53]\tvalidation_0-logloss:0.33648\tvalidation_1-logloss:0.33788\n",
      "[54]\tvalidation_0-logloss:0.33642\tvalidation_1-logloss:0.33786\n",
      "[55]\tvalidation_0-logloss:0.33638\tvalidation_1-logloss:0.33784\n",
      "[56]\tvalidation_0-logloss:0.33633\tvalidation_1-logloss:0.33783\n",
      "[57]\tvalidation_0-logloss:0.33625\tvalidation_1-logloss:0.33777\n",
      "[58]\tvalidation_0-logloss:0.33619\tvalidation_1-logloss:0.33775\n",
      "[59]\tvalidation_0-logloss:0.33614\tvalidation_1-logloss:0.33775\n",
      "[60]\tvalidation_0-logloss:0.33610\tvalidation_1-logloss:0.33773\n",
      "[61]\tvalidation_0-logloss:0.33606\tvalidation_1-logloss:0.33771\n",
      "[62]\tvalidation_0-logloss:0.33601\tvalidation_1-logloss:0.33769\n",
      "[63]\tvalidation_0-logloss:0.33597\tvalidation_1-logloss:0.33768\n",
      "[64]\tvalidation_0-logloss:0.33592\tvalidation_1-logloss:0.33767\n",
      "[65]\tvalidation_0-logloss:0.33591\tvalidation_1-logloss:0.33766\n",
      "[66]\tvalidation_0-logloss:0.33585\tvalidation_1-logloss:0.33765\n",
      "[67]\tvalidation_0-logloss:0.33581\tvalidation_1-logloss:0.33763\n",
      "[68]\tvalidation_0-logloss:0.33576\tvalidation_1-logloss:0.33761\n",
      "[69]\tvalidation_0-logloss:0.33575\tvalidation_1-logloss:0.33761\n",
      "[70]\tvalidation_0-logloss:0.33572\tvalidation_1-logloss:0.33758\n",
      "[71]\tvalidation_0-logloss:0.33567\tvalidation_1-logloss:0.33754\n",
      "[72]\tvalidation_0-logloss:0.33562\tvalidation_1-logloss:0.33752\n",
      "[73]\tvalidation_0-logloss:0.33557\tvalidation_1-logloss:0.33749\n",
      "[74]\tvalidation_0-logloss:0.33552\tvalidation_1-logloss:0.33749\n",
      "[75]\tvalidation_0-logloss:0.33546\tvalidation_1-logloss:0.33746\n",
      "[76]\tvalidation_0-logloss:0.33542\tvalidation_1-logloss:0.33745\n",
      "[77]\tvalidation_0-logloss:0.33537\tvalidation_1-logloss:0.33744\n",
      "[78]\tvalidation_0-logloss:0.33534\tvalidation_1-logloss:0.33743\n",
      "[79]\tvalidation_0-logloss:0.33531\tvalidation_1-logloss:0.33742\n",
      "[80]\tvalidation_0-logloss:0.33528\tvalidation_1-logloss:0.33741\n",
      "[81]\tvalidation_0-logloss:0.33522\tvalidation_1-logloss:0.33740\n",
      "[82]\tvalidation_0-logloss:0.33519\tvalidation_1-logloss:0.33739\n",
      "[83]\tvalidation_0-logloss:0.33514\tvalidation_1-logloss:0.33737\n",
      "[84]\tvalidation_0-logloss:0.33512\tvalidation_1-logloss:0.33737\n",
      "[85]\tvalidation_0-logloss:0.33509\tvalidation_1-logloss:0.33736\n",
      "[86]\tvalidation_0-logloss:0.33505\tvalidation_1-logloss:0.33735\n",
      "[87]\tvalidation_0-logloss:0.33499\tvalidation_1-logloss:0.33733\n",
      "[88]\tvalidation_0-logloss:0.33493\tvalidation_1-logloss:0.33732\n",
      "[89]\tvalidation_0-logloss:0.33489\tvalidation_1-logloss:0.33731\n",
      "[90]\tvalidation_0-logloss:0.33487\tvalidation_1-logloss:0.33730\n",
      "[91]\tvalidation_0-logloss:0.33486\tvalidation_1-logloss:0.33730\n",
      "[92]\tvalidation_0-logloss:0.33485\tvalidation_1-logloss:0.33730\n",
      "[93]\tvalidation_0-logloss:0.33482\tvalidation_1-logloss:0.33729\n",
      "[94]\tvalidation_0-logloss:0.33479\tvalidation_1-logloss:0.33728\n",
      "[95]\tvalidation_0-logloss:0.33476\tvalidation_1-logloss:0.33727\n",
      "[96]\tvalidation_0-logloss:0.33471\tvalidation_1-logloss:0.33726\n",
      "[97]\tvalidation_0-logloss:0.33466\tvalidation_1-logloss:0.33724\n",
      "[98]\tvalidation_0-logloss:0.33461\tvalidation_1-logloss:0.33722\n",
      "[99]\tvalidation_0-logloss:0.33456\tvalidation_1-logloss:0.33721\n",
      "[100]\tvalidation_0-logloss:0.33453\tvalidation_1-logloss:0.33720\n",
      "[101]\tvalidation_0-logloss:0.33451\tvalidation_1-logloss:0.33719\n",
      "[102]\tvalidation_0-logloss:0.33448\tvalidation_1-logloss:0.33719\n",
      "[103]\tvalidation_0-logloss:0.33445\tvalidation_1-logloss:0.33719\n",
      "[104]\tvalidation_0-logloss:0.33441\tvalidation_1-logloss:0.33719\n",
      "[105]\tvalidation_0-logloss:0.33441\tvalidation_1-logloss:0.33719\n",
      "[106]\tvalidation_0-logloss:0.33440\tvalidation_1-logloss:0.33719\n",
      "[107]\tvalidation_0-logloss:0.33438\tvalidation_1-logloss:0.33718\n",
      "[108]\tvalidation_0-logloss:0.33435\tvalidation_1-logloss:0.33718\n",
      "[109]\tvalidation_0-logloss:0.33432\tvalidation_1-logloss:0.33718\n",
      "[110]\tvalidation_0-logloss:0.33429\tvalidation_1-logloss:0.33717\n",
      "[111]\tvalidation_0-logloss:0.33424\tvalidation_1-logloss:0.33716\n",
      "[112]\tvalidation_0-logloss:0.33422\tvalidation_1-logloss:0.33716\n",
      "[113]\tvalidation_0-logloss:0.33417\tvalidation_1-logloss:0.33715\n",
      "[114]\tvalidation_0-logloss:0.33413\tvalidation_1-logloss:0.33714\n",
      "[115]\tvalidation_0-logloss:0.33410\tvalidation_1-logloss:0.33714\n",
      "[116]\tvalidation_0-logloss:0.33408\tvalidation_1-logloss:0.33714\n",
      "[117]\tvalidation_0-logloss:0.33404\tvalidation_1-logloss:0.33713\n",
      "[118]\tvalidation_0-logloss:0.33400\tvalidation_1-logloss:0.33712\n",
      "[119]\tvalidation_0-logloss:0.33396\tvalidation_1-logloss:0.33710\n",
      "[120]\tvalidation_0-logloss:0.33393\tvalidation_1-logloss:0.33710\n",
      "[121]\tvalidation_0-logloss:0.33390\tvalidation_1-logloss:0.33711\n",
      "[122]\tvalidation_0-logloss:0.33387\tvalidation_1-logloss:0.33710\n",
      "[123]\tvalidation_0-logloss:0.33383\tvalidation_1-logloss:0.33709\n",
      "[124]\tvalidation_0-logloss:0.33380\tvalidation_1-logloss:0.33708\n",
      "[125]\tvalidation_0-logloss:0.33375\tvalidation_1-logloss:0.33706\n",
      "[126]\tvalidation_0-logloss:0.33371\tvalidation_1-logloss:0.33705\n",
      "[127]\tvalidation_0-logloss:0.33366\tvalidation_1-logloss:0.33703\n",
      "[128]\tvalidation_0-logloss:0.33362\tvalidation_1-logloss:0.33702\n",
      "[129]\tvalidation_0-logloss:0.33359\tvalidation_1-logloss:0.33700\n",
      "[130]\tvalidation_0-logloss:0.33356\tvalidation_1-logloss:0.33699\n",
      "[131]\tvalidation_0-logloss:0.33354\tvalidation_1-logloss:0.33699\n",
      "[132]\tvalidation_0-logloss:0.33351\tvalidation_1-logloss:0.33698\n",
      "[133]\tvalidation_0-logloss:0.33350\tvalidation_1-logloss:0.33698\n",
      "[134]\tvalidation_0-logloss:0.33346\tvalidation_1-logloss:0.33697\n",
      "[135]\tvalidation_0-logloss:0.33344\tvalidation_1-logloss:0.33696\n",
      "[136]\tvalidation_0-logloss:0.33342\tvalidation_1-logloss:0.33696\n",
      "[137]\tvalidation_0-logloss:0.33338\tvalidation_1-logloss:0.33695\n",
      "[138]\tvalidation_0-logloss:0.33336\tvalidation_1-logloss:0.33694\n",
      "[139]\tvalidation_0-logloss:0.33332\tvalidation_1-logloss:0.33693\n",
      "[140]\tvalidation_0-logloss:0.33330\tvalidation_1-logloss:0.33693\n",
      "[141]\tvalidation_0-logloss:0.33326\tvalidation_1-logloss:0.33692\n",
      "[142]\tvalidation_0-logloss:0.33323\tvalidation_1-logloss:0.33691\n",
      "[143]\tvalidation_0-logloss:0.33320\tvalidation_1-logloss:0.33689\n",
      "[144]\tvalidation_0-logloss:0.33317\tvalidation_1-logloss:0.33689\n",
      "[145]\tvalidation_0-logloss:0.33314\tvalidation_1-logloss:0.33689\n",
      "[146]\tvalidation_0-logloss:0.33311\tvalidation_1-logloss:0.33689\n",
      "[147]\tvalidation_0-logloss:0.33308\tvalidation_1-logloss:0.33688\n",
      "[148]\tvalidation_0-logloss:0.33306\tvalidation_1-logloss:0.33687\n",
      "[149]\tvalidation_0-logloss:0.33303\tvalidation_1-logloss:0.33687\n",
      "[150]\tvalidation_0-logloss:0.33298\tvalidation_1-logloss:0.33686\n",
      "[151]\tvalidation_0-logloss:0.33295\tvalidation_1-logloss:0.33686\n",
      "[152]\tvalidation_0-logloss:0.33292\tvalidation_1-logloss:0.33685\n",
      "[153]\tvalidation_0-logloss:0.33290\tvalidation_1-logloss:0.33685\n",
      "[154]\tvalidation_0-logloss:0.33287\tvalidation_1-logloss:0.33685\n",
      "[155]\tvalidation_0-logloss:0.33285\tvalidation_1-logloss:0.33685\n",
      "[156]\tvalidation_0-logloss:0.33282\tvalidation_1-logloss:0.33685\n",
      "[157]\tvalidation_0-logloss:0.33280\tvalidation_1-logloss:0.33685\n",
      "[158]\tvalidation_0-logloss:0.33277\tvalidation_1-logloss:0.33685\n",
      "[159]\tvalidation_0-logloss:0.33274\tvalidation_1-logloss:0.33683\n",
      "[160]\tvalidation_0-logloss:0.33271\tvalidation_1-logloss:0.33683\n",
      "[161]\tvalidation_0-logloss:0.33269\tvalidation_1-logloss:0.33682\n",
      "[162]\tvalidation_0-logloss:0.33265\tvalidation_1-logloss:0.33680\n",
      "[163]\tvalidation_0-logloss:0.33261\tvalidation_1-logloss:0.33680\n",
      "[164]\tvalidation_0-logloss:0.33258\tvalidation_1-logloss:0.33679\n",
      "[165]\tvalidation_0-logloss:0.33255\tvalidation_1-logloss:0.33678\n",
      "[166]\tvalidation_0-logloss:0.33251\tvalidation_1-logloss:0.33678\n",
      "[167]\tvalidation_0-logloss:0.33249\tvalidation_1-logloss:0.33678\n",
      "[168]\tvalidation_0-logloss:0.33246\tvalidation_1-logloss:0.33677\n",
      "[169]\tvalidation_0-logloss:0.33244\tvalidation_1-logloss:0.33677\n",
      "[170]\tvalidation_0-logloss:0.33242\tvalidation_1-logloss:0.33676\n",
      "[171]\tvalidation_0-logloss:0.33240\tvalidation_1-logloss:0.33677\n",
      "[172]\tvalidation_0-logloss:0.33239\tvalidation_1-logloss:0.33676\n",
      "[173]\tvalidation_0-logloss:0.33236\tvalidation_1-logloss:0.33676\n",
      "[174]\tvalidation_0-logloss:0.33234\tvalidation_1-logloss:0.33676\n",
      "[175]\tvalidation_0-logloss:0.33233\tvalidation_1-logloss:0.33676\n",
      "[176]\tvalidation_0-logloss:0.33230\tvalidation_1-logloss:0.33675\n",
      "[177]\tvalidation_0-logloss:0.33226\tvalidation_1-logloss:0.33674\n",
      "[178]\tvalidation_0-logloss:0.33223\tvalidation_1-logloss:0.33673\n",
      "[179]\tvalidation_0-logloss:0.33220\tvalidation_1-logloss:0.33672\n",
      "[180]\tvalidation_0-logloss:0.33216\tvalidation_1-logloss:0.33671\n",
      "[181]\tvalidation_0-logloss:0.33213\tvalidation_1-logloss:0.33671\n",
      "[182]\tvalidation_0-logloss:0.33209\tvalidation_1-logloss:0.33670\n",
      "[183]\tvalidation_0-logloss:0.33205\tvalidation_1-logloss:0.33668\n",
      "[184]\tvalidation_0-logloss:0.33203\tvalidation_1-logloss:0.33668\n",
      "[185]\tvalidation_0-logloss:0.33201\tvalidation_1-logloss:0.33668\n",
      "[186]\tvalidation_0-logloss:0.33199\tvalidation_1-logloss:0.33668\n",
      "[187]\tvalidation_0-logloss:0.33196\tvalidation_1-logloss:0.33668\n",
      "[188]\tvalidation_0-logloss:0.33194\tvalidation_1-logloss:0.33667\n",
      "[189]\tvalidation_0-logloss:0.33190\tvalidation_1-logloss:0.33665\n",
      "[190]\tvalidation_0-logloss:0.33188\tvalidation_1-logloss:0.33666\n",
      "[191]\tvalidation_0-logloss:0.33184\tvalidation_1-logloss:0.33665\n",
      "[192]\tvalidation_0-logloss:0.33180\tvalidation_1-logloss:0.33665\n",
      "[193]\tvalidation_0-logloss:0.33177\tvalidation_1-logloss:0.33664\n",
      "[194]\tvalidation_0-logloss:0.33175\tvalidation_1-logloss:0.33663\n",
      "[195]\tvalidation_0-logloss:0.33172\tvalidation_1-logloss:0.33662\n",
      "[196]\tvalidation_0-logloss:0.33169\tvalidation_1-logloss:0.33662\n",
      "[197]\tvalidation_0-logloss:0.33167\tvalidation_1-logloss:0.33661\n",
      "[198]\tvalidation_0-logloss:0.33165\tvalidation_1-logloss:0.33661\n",
      "[199]\tvalidation_0-logloss:0.33163\tvalidation_1-logloss:0.33661\n",
      "[200]\tvalidation_0-logloss:0.33161\tvalidation_1-logloss:0.33662\n",
      "[201]\tvalidation_0-logloss:0.33159\tvalidation_1-logloss:0.33662\n",
      "[202]\tvalidation_0-logloss:0.33154\tvalidation_1-logloss:0.33661\n",
      "[203]\tvalidation_0-logloss:0.33152\tvalidation_1-logloss:0.33661\n",
      "[204]\tvalidation_0-logloss:0.33149\tvalidation_1-logloss:0.33661\n",
      "[205]\tvalidation_0-logloss:0.33145\tvalidation_1-logloss:0.33661\n",
      "[206]\tvalidation_0-logloss:0.33144\tvalidation_1-logloss:0.33661\n",
      "[207]\tvalidation_0-logloss:0.33141\tvalidation_1-logloss:0.33660\n",
      "[208]\tvalidation_0-logloss:0.33137\tvalidation_1-logloss:0.33659\n",
      "[209]\tvalidation_0-logloss:0.33133\tvalidation_1-logloss:0.33659\n",
      "[210]\tvalidation_0-logloss:0.33131\tvalidation_1-logloss:0.33659\n",
      "[211]\tvalidation_0-logloss:0.33127\tvalidation_1-logloss:0.33658\n",
      "[212]\tvalidation_0-logloss:0.33124\tvalidation_1-logloss:0.33658\n",
      "[213]\tvalidation_0-logloss:0.33124\tvalidation_1-logloss:0.33658\n",
      "[214]\tvalidation_0-logloss:0.33121\tvalidation_1-logloss:0.33659\n",
      "[215]\tvalidation_0-logloss:0.33118\tvalidation_1-logloss:0.33659\n",
      "[216]\tvalidation_0-logloss:0.33117\tvalidation_1-logloss:0.33659\n",
      "[217]\tvalidation_0-logloss:0.33114\tvalidation_1-logloss:0.33658\n",
      "[218]\tvalidation_0-logloss:0.33111\tvalidation_1-logloss:0.33658\n",
      "[219]\tvalidation_0-logloss:0.33108\tvalidation_1-logloss:0.33657\n",
      "[220]\tvalidation_0-logloss:0.33106\tvalidation_1-logloss:0.33657\n",
      "[221]\tvalidation_0-logloss:0.33105\tvalidation_1-logloss:0.33657\n",
      "[222]\tvalidation_0-logloss:0.33102\tvalidation_1-logloss:0.33657\n",
      "[223]\tvalidation_0-logloss:0.33101\tvalidation_1-logloss:0.33657\n",
      "[224]\tvalidation_0-logloss:0.33099\tvalidation_1-logloss:0.33657\n",
      "[225]\tvalidation_0-logloss:0.33095\tvalidation_1-logloss:0.33656\n",
      "[226]\tvalidation_0-logloss:0.33091\tvalidation_1-logloss:0.33654\n",
      "[227]\tvalidation_0-logloss:0.33089\tvalidation_1-logloss:0.33654\n",
      "[228]\tvalidation_0-logloss:0.33087\tvalidation_1-logloss:0.33654\n",
      "[229]\tvalidation_0-logloss:0.33085\tvalidation_1-logloss:0.33654\n",
      "[230]\tvalidation_0-logloss:0.33083\tvalidation_1-logloss:0.33653\n",
      "[231]\tvalidation_0-logloss:0.33081\tvalidation_1-logloss:0.33653\n",
      "[232]\tvalidation_0-logloss:0.33079\tvalidation_1-logloss:0.33653\n",
      "[233]\tvalidation_0-logloss:0.33075\tvalidation_1-logloss:0.33653\n",
      "[234]\tvalidation_0-logloss:0.33073\tvalidation_1-logloss:0.33652\n",
      "[235]\tvalidation_0-logloss:0.33070\tvalidation_1-logloss:0.33652\n",
      "[236]\tvalidation_0-logloss:0.33068\tvalidation_1-logloss:0.33652\n",
      "[237]\tvalidation_0-logloss:0.33066\tvalidation_1-logloss:0.33652\n",
      "[238]\tvalidation_0-logloss:0.33063\tvalidation_1-logloss:0.33651\n",
      "[239]\tvalidation_0-logloss:0.33060\tvalidation_1-logloss:0.33651\n",
      "[240]\tvalidation_0-logloss:0.33057\tvalidation_1-logloss:0.33651\n",
      "[241]\tvalidation_0-logloss:0.33055\tvalidation_1-logloss:0.33650\n",
      "[242]\tvalidation_0-logloss:0.33054\tvalidation_1-logloss:0.33650\n",
      "[243]\tvalidation_0-logloss:0.33052\tvalidation_1-logloss:0.33650\n",
      "[244]\tvalidation_0-logloss:0.33051\tvalidation_1-logloss:0.33650\n",
      "[245]\tvalidation_0-logloss:0.33049\tvalidation_1-logloss:0.33650\n",
      "[246]\tvalidation_0-logloss:0.33047\tvalidation_1-logloss:0.33649\n",
      "[247]\tvalidation_0-logloss:0.33044\tvalidation_1-logloss:0.33649\n",
      "[248]\tvalidation_0-logloss:0.33042\tvalidation_1-logloss:0.33648\n",
      "[249]\tvalidation_0-logloss:0.33041\tvalidation_1-logloss:0.33649\n",
      "[250]\tvalidation_0-logloss:0.33039\tvalidation_1-logloss:0.33648\n",
      "[251]\tvalidation_0-logloss:0.33037\tvalidation_1-logloss:0.33647\n",
      "[252]\tvalidation_0-logloss:0.33033\tvalidation_1-logloss:0.33647\n",
      "[253]\tvalidation_0-logloss:0.33031\tvalidation_1-logloss:0.33647\n",
      "[254]\tvalidation_0-logloss:0.33029\tvalidation_1-logloss:0.33648\n",
      "[255]\tvalidation_0-logloss:0.33029\tvalidation_1-logloss:0.33648\n",
      "[256]\tvalidation_0-logloss:0.33028\tvalidation_1-logloss:0.33648\n",
      "[257]\tvalidation_0-logloss:0.33027\tvalidation_1-logloss:0.33647\n",
      "[258]\tvalidation_0-logloss:0.33024\tvalidation_1-logloss:0.33647\n",
      "[259]\tvalidation_0-logloss:0.33022\tvalidation_1-logloss:0.33647\n",
      "[260]\tvalidation_0-logloss:0.33020\tvalidation_1-logloss:0.33647\n",
      "[261]\tvalidation_0-logloss:0.33019\tvalidation_1-logloss:0.33647\n",
      "[262]\tvalidation_0-logloss:0.33017\tvalidation_1-logloss:0.33647\n",
      "[263]\tvalidation_0-logloss:0.33015\tvalidation_1-logloss:0.33647\n",
      "[264]\tvalidation_0-logloss:0.33014\tvalidation_1-logloss:0.33647\n",
      "[265]\tvalidation_0-logloss:0.33011\tvalidation_1-logloss:0.33646\n",
      "[266]\tvalidation_0-logloss:0.33011\tvalidation_1-logloss:0.33646\n",
      "[267]\tvalidation_0-logloss:0.33010\tvalidation_1-logloss:0.33646\n",
      "[268]\tvalidation_0-logloss:0.33009\tvalidation_1-logloss:0.33646\n",
      "[269]\tvalidation_0-logloss:0.33005\tvalidation_1-logloss:0.33645\n",
      "[270]\tvalidation_0-logloss:0.33004\tvalidation_1-logloss:0.33645\n",
      "[271]\tvalidation_0-logloss:0.33002\tvalidation_1-logloss:0.33645\n",
      "[272]\tvalidation_0-logloss:0.33000\tvalidation_1-logloss:0.33644\n",
      "[273]\tvalidation_0-logloss:0.32998\tvalidation_1-logloss:0.33644\n",
      "[274]\tvalidation_0-logloss:0.32995\tvalidation_1-logloss:0.33643\n",
      "[275]\tvalidation_0-logloss:0.32993\tvalidation_1-logloss:0.33643\n",
      "[276]\tvalidation_0-logloss:0.32991\tvalidation_1-logloss:0.33643\n",
      "[277]\tvalidation_0-logloss:0.32989\tvalidation_1-logloss:0.33642\n",
      "[278]\tvalidation_0-logloss:0.32986\tvalidation_1-logloss:0.33643\n",
      "[279]\tvalidation_0-logloss:0.32983\tvalidation_1-logloss:0.33642\n",
      "[280]\tvalidation_0-logloss:0.32982\tvalidation_1-logloss:0.33642\n",
      "[281]\tvalidation_0-logloss:0.32979\tvalidation_1-logloss:0.33641\n",
      "[282]\tvalidation_0-logloss:0.32977\tvalidation_1-logloss:0.33641\n",
      "[283]\tvalidation_0-logloss:0.32975\tvalidation_1-logloss:0.33640\n",
      "[284]\tvalidation_0-logloss:0.32973\tvalidation_1-logloss:0.33640\n",
      "[285]\tvalidation_0-logloss:0.32969\tvalidation_1-logloss:0.33639\n",
      "[286]\tvalidation_0-logloss:0.32967\tvalidation_1-logloss:0.33639\n",
      "[287]\tvalidation_0-logloss:0.32965\tvalidation_1-logloss:0.33639\n",
      "[288]\tvalidation_0-logloss:0.32962\tvalidation_1-logloss:0.33639\n",
      "[289]\tvalidation_0-logloss:0.32960\tvalidation_1-logloss:0.33639\n",
      "[290]\tvalidation_0-logloss:0.32958\tvalidation_1-logloss:0.33639\n",
      "[291]\tvalidation_0-logloss:0.32957\tvalidation_1-logloss:0.33639\n",
      "[292]\tvalidation_0-logloss:0.32956\tvalidation_1-logloss:0.33638\n",
      "[293]\tvalidation_0-logloss:0.32953\tvalidation_1-logloss:0.33638\n",
      "[294]\tvalidation_0-logloss:0.32952\tvalidation_1-logloss:0.33638\n",
      "[295]\tvalidation_0-logloss:0.32951\tvalidation_1-logloss:0.33638\n",
      "[296]\tvalidation_0-logloss:0.32951\tvalidation_1-logloss:0.33638\n",
      "[297]\tvalidation_0-logloss:0.32950\tvalidation_1-logloss:0.33638\n",
      "[298]\tvalidation_0-logloss:0.32948\tvalidation_1-logloss:0.33638\n",
      "[299]\tvalidation_0-logloss:0.32945\tvalidation_1-logloss:0.33638\n",
      "[300]\tvalidation_0-logloss:0.32944\tvalidation_1-logloss:0.33638\n",
      "[301]\tvalidation_0-logloss:0.32943\tvalidation_1-logloss:0.33638\n",
      "[302]\tvalidation_0-logloss:0.32940\tvalidation_1-logloss:0.33638\n",
      "[303]\tvalidation_0-logloss:0.32939\tvalidation_1-logloss:0.33639\n",
      "[304]\tvalidation_0-logloss:0.32937\tvalidation_1-logloss:0.33639\n",
      "[305]\tvalidation_0-logloss:0.32934\tvalidation_1-logloss:0.33638\n",
      "[306]\tvalidation_0-logloss:0.32931\tvalidation_1-logloss:0.33638\n",
      "[307]\tvalidation_0-logloss:0.32930\tvalidation_1-logloss:0.33638\n",
      "[308]\tvalidation_0-logloss:0.32928\tvalidation_1-logloss:0.33638\n",
      "[309]\tvalidation_0-logloss:0.32925\tvalidation_1-logloss:0.33638\n",
      "[310]\tvalidation_0-logloss:0.32923\tvalidation_1-logloss:0.33638\n",
      "[311]\tvalidation_0-logloss:0.32921\tvalidation_1-logloss:0.33638\n",
      "[312]\tvalidation_0-logloss:0.32919\tvalidation_1-logloss:0.33637\n",
      "[313]\tvalidation_0-logloss:0.32916\tvalidation_1-logloss:0.33637\n",
      "[314]\tvalidation_0-logloss:0.32913\tvalidation_1-logloss:0.33637\n",
      "[315]\tvalidation_0-logloss:0.32912\tvalidation_1-logloss:0.33637\n",
      "[316]\tvalidation_0-logloss:0.32910\tvalidation_1-logloss:0.33637\n",
      "[317]\tvalidation_0-logloss:0.32907\tvalidation_1-logloss:0.33637\n",
      "[318]\tvalidation_0-logloss:0.32904\tvalidation_1-logloss:0.33636\n",
      "[319]\tvalidation_0-logloss:0.32902\tvalidation_1-logloss:0.33636\n",
      "[320]\tvalidation_0-logloss:0.32900\tvalidation_1-logloss:0.33635\n",
      "[321]\tvalidation_0-logloss:0.32898\tvalidation_1-logloss:0.33635\n",
      "[322]\tvalidation_0-logloss:0.32896\tvalidation_1-logloss:0.33636\n",
      "[323]\tvalidation_0-logloss:0.32894\tvalidation_1-logloss:0.33635\n",
      "[324]\tvalidation_0-logloss:0.32892\tvalidation_1-logloss:0.33636\n",
      "[325]\tvalidation_0-logloss:0.32891\tvalidation_1-logloss:0.33636\n",
      "[326]\tvalidation_0-logloss:0.32889\tvalidation_1-logloss:0.33636\n",
      "[327]\tvalidation_0-logloss:0.32887\tvalidation_1-logloss:0.33636\n",
      "[328]\tvalidation_0-logloss:0.32884\tvalidation_1-logloss:0.33636\n",
      "[329]\tvalidation_0-logloss:0.32880\tvalidation_1-logloss:0.33635\n",
      "[330]\tvalidation_0-logloss:0.32879\tvalidation_1-logloss:0.33635\n",
      "[331]\tvalidation_0-logloss:0.32878\tvalidation_1-logloss:0.33636\n",
      "[332]\tvalidation_0-logloss:0.32875\tvalidation_1-logloss:0.33635\n",
      "[333]\tvalidation_0-logloss:0.32874\tvalidation_1-logloss:0.33635\n",
      "[334]\tvalidation_0-logloss:0.32873\tvalidation_1-logloss:0.33635\n",
      "[335]\tvalidation_0-logloss:0.32872\tvalidation_1-logloss:0.33635\n",
      "[336]\tvalidation_0-logloss:0.32870\tvalidation_1-logloss:0.33635\n",
      "[337]\tvalidation_0-logloss:0.32870\tvalidation_1-logloss:0.33635\n",
      "[338]\tvalidation_0-logloss:0.32867\tvalidation_1-logloss:0.33636\n",
      "[339]\tvalidation_0-logloss:0.32866\tvalidation_1-logloss:0.33636\n",
      "[340]\tvalidation_0-logloss:0.32864\tvalidation_1-logloss:0.33636\n",
      "[341]\tvalidation_0-logloss:0.32861\tvalidation_1-logloss:0.33635\n",
      "[342]\tvalidation_0-logloss:0.32859\tvalidation_1-logloss:0.33635\n",
      "[343]\tvalidation_0-logloss:0.32855\tvalidation_1-logloss:0.33635\n",
      "[344]\tvalidation_0-logloss:0.32853\tvalidation_1-logloss:0.33634\n",
      "[345]\tvalidation_0-logloss:0.32850\tvalidation_1-logloss:0.33634\n",
      "[346]\tvalidation_0-logloss:0.32848\tvalidation_1-logloss:0.33634\n",
      "[347]\tvalidation_0-logloss:0.32846\tvalidation_1-logloss:0.33634\n",
      "[348]\tvalidation_0-logloss:0.32844\tvalidation_1-logloss:0.33634\n",
      "[349]\tvalidation_0-logloss:0.32840\tvalidation_1-logloss:0.33634\n",
      "[350]\tvalidation_0-logloss:0.32838\tvalidation_1-logloss:0.33633\n",
      "[351]\tvalidation_0-logloss:0.32835\tvalidation_1-logloss:0.33634\n",
      "[352]\tvalidation_0-logloss:0.32834\tvalidation_1-logloss:0.33634\n",
      "[353]\tvalidation_0-logloss:0.32831\tvalidation_1-logloss:0.33634\n",
      "[354]\tvalidation_0-logloss:0.32829\tvalidation_1-logloss:0.33633\n",
      "[355]\tvalidation_0-logloss:0.32827\tvalidation_1-logloss:0.33633\n",
      "[356]\tvalidation_0-logloss:0.32826\tvalidation_1-logloss:0.33633\n",
      "[357]\tvalidation_0-logloss:0.32823\tvalidation_1-logloss:0.33633\n",
      "[358]\tvalidation_0-logloss:0.32822\tvalidation_1-logloss:0.33633\n",
      "[359]\tvalidation_0-logloss:0.32819\tvalidation_1-logloss:0.33632\n",
      "[360]\tvalidation_0-logloss:0.32818\tvalidation_1-logloss:0.33632\n",
      "[361]\tvalidation_0-logloss:0.32816\tvalidation_1-logloss:0.33632\n",
      "[362]\tvalidation_0-logloss:0.32815\tvalidation_1-logloss:0.33632\n",
      "[363]\tvalidation_0-logloss:0.32813\tvalidation_1-logloss:0.33632\n",
      "[364]\tvalidation_0-logloss:0.32813\tvalidation_1-logloss:0.33632\n",
      "[365]\tvalidation_0-logloss:0.32811\tvalidation_1-logloss:0.33632\n",
      "[366]\tvalidation_0-logloss:0.32809\tvalidation_1-logloss:0.33632\n",
      "[367]\tvalidation_0-logloss:0.32807\tvalidation_1-logloss:0.33633\n",
      "[368]\tvalidation_0-logloss:0.32805\tvalidation_1-logloss:0.33633\n",
      "[369]\tvalidation_0-logloss:0.32802\tvalidation_1-logloss:0.33634\n",
      "[370]\tvalidation_0-logloss:0.32800\tvalidation_1-logloss:0.33634\n",
      "[371]\tvalidation_0-logloss:0.32797\tvalidation_1-logloss:0.33634\n",
      "[372]\tvalidation_0-logloss:0.32795\tvalidation_1-logloss:0.33633\n",
      "[373]\tvalidation_0-logloss:0.32794\tvalidation_1-logloss:0.33633\n",
      "[374]\tvalidation_0-logloss:0.32792\tvalidation_1-logloss:0.33633\n",
      "[375]\tvalidation_0-logloss:0.32790\tvalidation_1-logloss:0.33632\n",
      "[376]\tvalidation_0-logloss:0.32788\tvalidation_1-logloss:0.33633\n",
      "[377]\tvalidation_0-logloss:0.32785\tvalidation_1-logloss:0.33633\n",
      "[378]\tvalidation_0-logloss:0.32785\tvalidation_1-logloss:0.33633\n",
      "[379]\tvalidation_0-logloss:0.32783\tvalidation_1-logloss:0.33633\n",
      "[380]\tvalidation_0-logloss:0.32781\tvalidation_1-logloss:0.33633\n",
      "[381]\tvalidation_0-logloss:0.32779\tvalidation_1-logloss:0.33633\n",
      "[382]\tvalidation_0-logloss:0.32777\tvalidation_1-logloss:0.33634\n",
      "[383]\tvalidation_0-logloss:0.32775\tvalidation_1-logloss:0.33634\n",
      "[384]\tvalidation_0-logloss:0.32773\tvalidation_1-logloss:0.33633\n",
      "[385]\tvalidation_0-logloss:0.32771\tvalidation_1-logloss:0.33633\n",
      "[386]\tvalidation_0-logloss:0.32768\tvalidation_1-logloss:0.33633\n",
      "[387]\tvalidation_0-logloss:0.32766\tvalidation_1-logloss:0.33632\n",
      "[388]\tvalidation_0-logloss:0.32765\tvalidation_1-logloss:0.33632\n",
      "[389]\tvalidation_0-logloss:0.32763\tvalidation_1-logloss:0.33632\n",
      "[390]\tvalidation_0-logloss:0.32761\tvalidation_1-logloss:0.33633\n",
      "[391]\tvalidation_0-logloss:0.32760\tvalidation_1-logloss:0.33633\n",
      "[392]\tvalidation_0-logloss:0.32759\tvalidation_1-logloss:0.33633\n",
      "[393]\tvalidation_0-logloss:0.32759\tvalidation_1-logloss:0.33633\n",
      "[394]\tvalidation_0-logloss:0.32756\tvalidation_1-logloss:0.33633\n",
      "[395]\tvalidation_0-logloss:0.32755\tvalidation_1-logloss:0.33633\n",
      "[396]\tvalidation_0-logloss:0.32753\tvalidation_1-logloss:0.33633\n",
      "[397]\tvalidation_0-logloss:0.32751\tvalidation_1-logloss:0.33632\n",
      "[398]\tvalidation_0-logloss:0.32749\tvalidation_1-logloss:0.33632\n",
      "[399]\tvalidation_0-logloss:0.32748\tvalidation_1-logloss:0.33632\n",
      "[400]\tvalidation_0-logloss:0.32746\tvalidation_1-logloss:0.33632\n",
      "[401]\tvalidation_0-logloss:0.32743\tvalidation_1-logloss:0.33632\n",
      "[402]\tvalidation_0-logloss:0.32741\tvalidation_1-logloss:0.33632\n",
      "[403]\tvalidation_0-logloss:0.32739\tvalidation_1-logloss:0.33632\n",
      "[404]\tvalidation_0-logloss:0.32736\tvalidation_1-logloss:0.33631\n",
      "[405]\tvalidation_0-logloss:0.32735\tvalidation_1-logloss:0.33631\n",
      "[406]\tvalidation_0-logloss:0.32733\tvalidation_1-logloss:0.33631\n",
      "[407]\tvalidation_0-logloss:0.32732\tvalidation_1-logloss:0.33631\n",
      "[408]\tvalidation_0-logloss:0.32730\tvalidation_1-logloss:0.33630\n",
      "[409]\tvalidation_0-logloss:0.32728\tvalidation_1-logloss:0.33630\n",
      "[410]\tvalidation_0-logloss:0.32725\tvalidation_1-logloss:0.33629\n",
      "[411]\tvalidation_0-logloss:0.32723\tvalidation_1-logloss:0.33629\n",
      "[412]\tvalidation_0-logloss:0.32721\tvalidation_1-logloss:0.33629\n",
      "[413]\tvalidation_0-logloss:0.32719\tvalidation_1-logloss:0.33629\n",
      "[414]\tvalidation_0-logloss:0.32717\tvalidation_1-logloss:0.33629\n",
      "[415]\tvalidation_0-logloss:0.32715\tvalidation_1-logloss:0.33629\n",
      "[416]\tvalidation_0-logloss:0.32714\tvalidation_1-logloss:0.33629\n",
      "[417]\tvalidation_0-logloss:0.32712\tvalidation_1-logloss:0.33629\n",
      "[418]\tvalidation_0-logloss:0.32710\tvalidation_1-logloss:0.33629\n",
      "[419]\tvalidation_0-logloss:0.32708\tvalidation_1-logloss:0.33629\n",
      "[420]\tvalidation_0-logloss:0.32708\tvalidation_1-logloss:0.33629\n",
      "[421]\tvalidation_0-logloss:0.32707\tvalidation_1-logloss:0.33629\n",
      "[422]\tvalidation_0-logloss:0.32706\tvalidation_1-logloss:0.33629\n",
      "[423]\tvalidation_0-logloss:0.32706\tvalidation_1-logloss:0.33629\n",
      "[424]\tvalidation_0-logloss:0.32705\tvalidation_1-logloss:0.33629\n",
      "[425]\tvalidation_0-logloss:0.32704\tvalidation_1-logloss:0.33629\n",
      "[426]\tvalidation_0-logloss:0.32702\tvalidation_1-logloss:0.33630\n",
      "[427]\tvalidation_0-logloss:0.32699\tvalidation_1-logloss:0.33629\n",
      "[428]\tvalidation_0-logloss:0.32698\tvalidation_1-logloss:0.33629\n",
      "[429]\tvalidation_0-logloss:0.32697\tvalidation_1-logloss:0.33630\n",
      "[430]\tvalidation_0-logloss:0.32693\tvalidation_1-logloss:0.33630\n",
      "[431]\tvalidation_0-logloss:0.32692\tvalidation_1-logloss:0.33630\n",
      "[432]\tvalidation_0-logloss:0.32690\tvalidation_1-logloss:0.33630\n",
      "[433]\tvalidation_0-logloss:0.32688\tvalidation_1-logloss:0.33630\n",
      "[434]\tvalidation_0-logloss:0.32686\tvalidation_1-logloss:0.33630\n",
      "[435]\tvalidation_0-logloss:0.32683\tvalidation_1-logloss:0.33629\n",
      "[436]\tvalidation_0-logloss:0.32682\tvalidation_1-logloss:0.33628\n",
      "[437]\tvalidation_0-logloss:0.32680\tvalidation_1-logloss:0.33628\n",
      "[438]\tvalidation_0-logloss:0.32679\tvalidation_1-logloss:0.33628\n",
      "[439]\tvalidation_0-logloss:0.32677\tvalidation_1-logloss:0.33628\n",
      "[440]\tvalidation_0-logloss:0.32676\tvalidation_1-logloss:0.33628\n",
      "[441]\tvalidation_0-logloss:0.32676\tvalidation_1-logloss:0.33629\n",
      "[442]\tvalidation_0-logloss:0.32673\tvalidation_1-logloss:0.33629\n",
      "[443]\tvalidation_0-logloss:0.32671\tvalidation_1-logloss:0.33629\n",
      "[444]\tvalidation_0-logloss:0.32669\tvalidation_1-logloss:0.33628\n",
      "[445]\tvalidation_0-logloss:0.32666\tvalidation_1-logloss:0.33628\n",
      "[446]\tvalidation_0-logloss:0.32665\tvalidation_1-logloss:0.33628\n",
      "[447]\tvalidation_0-logloss:0.32662\tvalidation_1-logloss:0.33629\n",
      "[448]\tvalidation_0-logloss:0.32660\tvalidation_1-logloss:0.33629\n",
      "[449]\tvalidation_0-logloss:0.32659\tvalidation_1-logloss:0.33629\n",
      "[450]\tvalidation_0-logloss:0.32657\tvalidation_1-logloss:0.33628\n",
      "[451]\tvalidation_0-logloss:0.32654\tvalidation_1-logloss:0.33628\n",
      "[452]\tvalidation_0-logloss:0.32653\tvalidation_1-logloss:0.33628\n",
      "[453]\tvalidation_0-logloss:0.32651\tvalidation_1-logloss:0.33628\n",
      "[454]\tvalidation_0-logloss:0.32651\tvalidation_1-logloss:0.33629\n",
      "[455]\tvalidation_0-logloss:0.32649\tvalidation_1-logloss:0.33629\n",
      "[456]\tvalidation_0-logloss:0.32648\tvalidation_1-logloss:0.33628\n",
      "[457]\tvalidation_0-logloss:0.32646\tvalidation_1-logloss:0.33628\n",
      "[458]\tvalidation_0-logloss:0.32645\tvalidation_1-logloss:0.33628\n",
      "[459]\tvalidation_0-logloss:0.32643\tvalidation_1-logloss:0.33628\n",
      "[460]\tvalidation_0-logloss:0.32642\tvalidation_1-logloss:0.33628\n",
      "[461]\tvalidation_0-logloss:0.32641\tvalidation_1-logloss:0.33628\n",
      "[462]\tvalidation_0-logloss:0.32640\tvalidation_1-logloss:0.33628\n",
      "[463]\tvalidation_0-logloss:0.32639\tvalidation_1-logloss:0.33628\n",
      "[464]\tvalidation_0-logloss:0.32638\tvalidation_1-logloss:0.33628\n",
      "[465]\tvalidation_0-logloss:0.32636\tvalidation_1-logloss:0.33628\n",
      "[466]\tvalidation_0-logloss:0.32636\tvalidation_1-logloss:0.33628\n",
      "[467]\tvalidation_0-logloss:0.32634\tvalidation_1-logloss:0.33628\n",
      "[468]\tvalidation_0-logloss:0.32632\tvalidation_1-logloss:0.33627\n",
      "[469]\tvalidation_0-logloss:0.32630\tvalidation_1-logloss:0.33627\n",
      "[470]\tvalidation_0-logloss:0.32629\tvalidation_1-logloss:0.33627\n",
      "[471]\tvalidation_0-logloss:0.32628\tvalidation_1-logloss:0.33626\n",
      "[472]\tvalidation_0-logloss:0.32626\tvalidation_1-logloss:0.33626\n",
      "[473]\tvalidation_0-logloss:0.32624\tvalidation_1-logloss:0.33626\n",
      "[474]\tvalidation_0-logloss:0.32623\tvalidation_1-logloss:0.33626\n",
      "[475]\tvalidation_0-logloss:0.32621\tvalidation_1-logloss:0.33627\n",
      "[476]\tvalidation_0-logloss:0.32620\tvalidation_1-logloss:0.33627\n",
      "[477]\tvalidation_0-logloss:0.32619\tvalidation_1-logloss:0.33627\n",
      "[478]\tvalidation_0-logloss:0.32617\tvalidation_1-logloss:0.33627\n",
      "[479]\tvalidation_0-logloss:0.32615\tvalidation_1-logloss:0.33626\n",
      "[480]\tvalidation_0-logloss:0.32613\tvalidation_1-logloss:0.33627\n",
      "[481]\tvalidation_0-logloss:0.32611\tvalidation_1-logloss:0.33627\n",
      "[482]\tvalidation_0-logloss:0.32610\tvalidation_1-logloss:0.33627\n",
      "[483]\tvalidation_0-logloss:0.32608\tvalidation_1-logloss:0.33627\n",
      "[484]\tvalidation_0-logloss:0.32606\tvalidation_1-logloss:0.33628\n",
      "[485]\tvalidation_0-logloss:0.32604\tvalidation_1-logloss:0.33628\n",
      "[486]\tvalidation_0-logloss:0.32604\tvalidation_1-logloss:0.33628\n",
      "[487]\tvalidation_0-logloss:0.32602\tvalidation_1-logloss:0.33628\n",
      "[488]\tvalidation_0-logloss:0.32600\tvalidation_1-logloss:0.33628\n",
      "[489]\tvalidation_0-logloss:0.32599\tvalidation_1-logloss:0.33628\n",
      "[490]\tvalidation_0-logloss:0.32596\tvalidation_1-logloss:0.33628\n",
      "[491]\tvalidation_0-logloss:0.32593\tvalidation_1-logloss:0.33627\n",
      "[492]\tvalidation_0-logloss:0.32592\tvalidation_1-logloss:0.33627\n",
      "[493]\tvalidation_0-logloss:0.32589\tvalidation_1-logloss:0.33627\n",
      "[494]\tvalidation_0-logloss:0.32587\tvalidation_1-logloss:0.33627\n",
      "[495]\tvalidation_0-logloss:0.32584\tvalidation_1-logloss:0.33627\n",
      "[496]\tvalidation_0-logloss:0.32583\tvalidation_1-logloss:0.33627\n",
      "[497]\tvalidation_0-logloss:0.32580\tvalidation_1-logloss:0.33627\n",
      "[498]\tvalidation_0-logloss:0.32578\tvalidation_1-logloss:0.33626\n",
      "[499]\tvalidation_0-logloss:0.32575\tvalidation_1-logloss:0.33627\n"
     ]
    }
   ],
   "source": [
    "model.fit(X_train, y_train,\n",
    "          eval_set=[(X_train, y_train), (X_val, y_val)], \n",
    "          verbose=True);"
   ]
  },
  {
   "cell_type": "code",
   "execution_count": 88,
   "id": "34dc2b77",
   "metadata": {},
   "outputs": [
    {
     "name": "stdout",
     "output_type": "stream",
     "text": [
      "Лучшая Итерация: 471\n"
     ]
    }
   ],
   "source": [
    "print(\"Лучшая Итерация: {}\".format(model.get_booster().best_iteration))"
   ]
  },
  {
   "cell_type": "code",
   "execution_count": 89,
   "id": "c948f6be",
   "metadata": {},
   "outputs": [],
   "source": [
    "results = model.evals_result()"
   ]
  },
  {
   "cell_type": "code",
   "execution_count": 90,
   "id": "658d2f78",
   "metadata": {},
   "outputs": [
    {
     "data": {
      "image/png": "[encoded data removed]",
      "text/plain": [
       "<Figure size 1000x700 with 1 Axes>"
      ]
     },
     "metadata": {},
     "output_type": "display_data"
    }
   ],
   "source": [
    "plt.figure(figsize=(10,7))\n",
    "plt.plot(results[\"validation_0\"][\"logloss\"], label=\"Потери на Тренировочных данных\")\n",
    "plt.plot(results[\"validation_1\"][\"logloss\"], label=\"Потери на Валидационных данных\")\n",
    "plt.xlabel(\"Количество Деревьев\")\n",
    "plt.ylabel(\"Потери\")\n",
    "plt.xlim(0, 50)\n",
    "plt.legend();"
   ]
  },
  {
   "cell_type": "markdown",
   "id": "4138b933",
   "metadata": {},
   "source": [
    "График выше демонстрирует, что начиная с 10, количество деревьев не приводит к существенному уменьшению функции потерь."
   ]
  },
  {
   "cell_type": "code",
   "execution_count": 91,
   "id": "87aa427e",
   "metadata": {},
   "outputs": [],
   "source": [
    "def calculate_metric(model_pipe, X, y, metric = f1_score):\n",
    "    \"\"\"Расчет метрики.\n",
    "    Параметры:\n",
    "    ===========\n",
    "    model_pipe: модель или pipeline\n",
    "    X: признаки\n",
    "    y: истинные значения\n",
    "    metric: метрика\n",
    "    \"\"\"\n",
    "    y_model = model_pipe.predict(X)\n",
    "    return metric(y, y_model, average='macro')"
   ]
  },
  {
   "cell_type": "code",
   "execution_count": 92,
   "id": "c90c25b6",
   "metadata": {},
   "outputs": [
    {
     "name": "stdout",
     "output_type": "stream",
     "text": [
      "f1_macro на тренировочной выборке: 0.5853\n",
      "f1_macro на валидационной выборке: 0.5668\n"
     ]
    }
   ],
   "source": [
    "print(f\"f1_macro на тренировочной выборке: {calculate_metric(model, X_train, y_train):.4f}\")\n",
    "print(f\"f1_macro на валидационной выборке: {calculate_metric(model, X_val, y_val):.4f}\")"
   ]
  },
  {
   "cell_type": "markdown",
   "id": "2dedf46e",
   "metadata": {},
   "source": [
    "# Настройка гиперпараметров"
   ]
  },
  {
   "cell_type": "markdown",
   "id": "0b6019f6",
   "metadata": {},
   "source": [
    "Для поиска оптимальных гиперпараметров воспользуемся Optuna."
   ]
  },
  {
   "cell_type": "code",
   "execution_count": 93,
   "id": "bfc31da1",
   "metadata": {},
   "outputs": [],
   "source": [
    "def f1_macro(preds, dtrain):\n",
    "    labels = dtrain.get_label()\n",
    "    preds = np.argmax(preds, axis=1)\n",
    "    f1 = f1_score(labels, preds, average='macro')\n",
    "    return 'f1_macro', f1"
   ]
  },
  {
   "cell_type": "code",
   "execution_count": 95,
   "id": "0976287c",
   "metadata": {},
   "outputs": [],
   "source": [
    "def objective(trial):\n",
    "\n",
    "    params = {\n",
    "        'max_depth': trial.suggest_int('max_depth', 1, 9),\n",
    "        'learning_rate': trial.suggest_loguniform('learning_rate', 0.01, 1.0),\n",
    "        'n_estimators': trial.suggest_int('n_estimators', 10, 100),\n",
    "        'min_child_weight': trial.suggest_int('min_child_weight', 1, 10),\n",
    "        'gamma': trial.suggest_loguniform('gamma', 1e-8, 1.0),\n",
    "        'subsample': trial.suggest_loguniform('subsample', 0.01, 1.0),\n",
    "        'colsample_bytree': trial.suggest_loguniform('colsample_bytree', 0.01, 1.0),\n",
    "        'reg_alpha': trial.suggest_loguniform('reg_alpha', 1e-8, 1.0),\n",
    "        'reg_lambda': trial.suggest_loguniform('reg_lambda', 1e-8, 1.0),\n",
    "        'scale_pos_weight': trial.suggest_int('scale_pos_weight', 1, 3),\n",
    "\n",
    "    }\n",
    "\n",
    "    estimator = xgb.XGBClassifier(**params, random_state=42, eval_metric=f1_macro,\n",
    "                                  objective='binary:logistic',\n",
    "                                    enable_categorical=True)\n",
    "\n",
    "    # -- Указываем тип кросс-валидации\n",
    "    cv=ShuffleSplit(n_splits=5, #на сколько разбиваем\n",
    "                    random_state=42)\n",
    "\n",
    "    # -- Оцениваем по кросс-валидации\n",
    "    score = cross_val_score(estimator,\n",
    "                            X, y,\n",
    "                            scoring='f1_macro',\n",
    "                            cv = cv,\n",
    "                            n_jobs=-1\n",
    "                            )\n",
    "\n",
    "    final_score = score.mean() # усредняем по этапам кросс-валидации\n",
    "\n",
    "    return final_score"
   ]
  },
  {
   "cell_type": "code",
   "execution_count": 96,
   "id": "fe8952cc",
   "metadata": {
    "scrolled": true
   },
   "outputs": [
    {
     "name": "stderr",
     "output_type": "stream",
     "text": [
      "[I 2024-05-28 22:45:10,149] A new study created in memory with name: study_XGB_final\n",
      "[I 2024-05-28 22:53:53,605] Trial 2 finished with value: 0.4632214629142946 and parameters: {'max_depth': 3, 'learning_rate': 0.13396583817341437, 'n_estimators': 34, 'min_child_weight': 9, 'gamma': 0.04043655099817147, 'subsample': 0.03436897913141207, 'colsample_bytree': 0.012932925578921886, 'reg_alpha': 0.00033729988120883756, 'reg_lambda': 0.33268965236704856, 'scale_pos_weight': 1}. Best is trial 2 with value: 0.4632214629142946.\n",
      "[I 2024-05-28 22:54:55,285] Trial 1 finished with value: 0.46247415163731026 and parameters: {'max_depth': 7, 'learning_rate': 0.06636482784061794, 'n_estimators': 29, 'min_child_weight': 7, 'gamma': 0.015692519004890108, 'subsample': 0.46278178870711395, 'colsample_bytree': 0.022223190080194487, 'reg_alpha': 0.0036922719032135413, 'reg_lambda': 1.5703596414327742e-06, 'scale_pos_weight': 1}. Best is trial 2 with value: 0.4632214629142946.\n",
      "[I 2024-05-28 22:58:00,747] Trial 0 finished with value: 0.4861105501173439 and parameters: {'max_depth': 5, 'learning_rate': 0.02414550348945094, 'n_estimators': 90, 'min_child_weight': 4, 'gamma': 5.439299155391325e-07, 'subsample': 0.12529930802123598, 'colsample_bytree': 0.43069554861538506, 'reg_alpha': 0.00013379794409231225, 'reg_lambda': 1.6228877427112496e-08, 'scale_pos_weight': 1}. Best is trial 0 with value: 0.4861105501173439.\n",
      "[I 2024-05-28 22:59:11,593] Trial 3 finished with value: 0.6376499910918878 and parameters: {'max_depth': 8, 'learning_rate': 0.17471752840397256, 'n_estimators': 97, 'min_child_weight': 1, 'gamma': 0.012614421124405318, 'subsample': 0.014005630246706745, 'colsample_bytree': 0.4151210884603935, 'reg_alpha': 4.2434692020118876e-08, 'reg_lambda': 1.1640539994244711e-08, 'scale_pos_weight': 2}. Best is trial 3 with value: 0.6376499910918878.\n",
      "[I 2024-05-28 23:00:27,382] Trial 4 finished with value: 0.6515730170945451 and parameters: {'max_depth': 4, 'learning_rate': 0.15126817708922538, 'n_estimators': 71, 'min_child_weight': 6, 'gamma': 9.838994509976136e-06, 'subsample': 0.014649594761876843, 'colsample_bytree': 0.6307657373227402, 'reg_alpha': 0.0005078120274967305, 'reg_lambda': 8.387737764101252e-08, 'scale_pos_weight': 4}. Best is trial 4 with value: 0.6515730170945451.\n",
      "[I 2024-05-28 23:00:52,618] Trial 5 finished with value: 0.46247415163731026 and parameters: {'max_depth': 5, 'learning_rate': 0.03603950023187946, 'n_estimators': 14, 'min_child_weight': 3, 'gamma': 3.667450650047761e-06, 'subsample': 0.016979898367611074, 'colsample_bytree': 0.12441677545408608, 'reg_alpha': 0.031971666708666226, 'reg_lambda': 0.020235505475542793, 'scale_pos_weight': 4}. Best is trial 4 with value: 0.6515730170945451.\n",
      "[I 2024-05-28 23:05:01,099] Trial 6 finished with value: 0.46247415163731026 and parameters: {'max_depth': 6, 'learning_rate': 0.016550514686367264, 'n_estimators': 99, 'min_child_weight': 6, 'gamma': 6.606692977010771e-06, 'subsample': 0.27263692049393035, 'colsample_bytree': 0.048009960449592895, 'reg_alpha': 2.8571010230361195e-07, 'reg_lambda': 0.5390641290564169, 'scale_pos_weight': 1}. Best is trial 4 with value: 0.6515730170945451.\n",
      "[I 2024-05-28 23:06:55,588] Trial 7 finished with value: 0.6537412815030176 and parameters: {'max_depth': 6, 'learning_rate': 0.5158504017834238, 'n_estimators': 82, 'min_child_weight': 5, 'gamma': 9.36642284602028e-05, 'subsample': 0.1291350249353908, 'colsample_bytree': 0.012926685086057084, 'reg_alpha': 0.08660442481839414, 'reg_lambda': 2.1037965593482394e-06, 'scale_pos_weight': 4}. Best is trial 7 with value: 0.6537412815030176.\n",
      "[I 2024-05-28 23:09:20,604] Trial 8 finished with value: 0.5392437568332921 and parameters: {'max_depth': 8, 'learning_rate': 0.015354273780585303, 'n_estimators': 65, 'min_child_weight': 7, 'gamma': 0.0015252357427323017, 'subsample': 0.6260507902174474, 'colsample_bytree': 0.1688420561279611, 'reg_alpha': 2.2792124698113636e-05, 'reg_lambda': 1.4008183321792025e-06, 'scale_pos_weight': 4}. Best is trial 7 with value: 0.6537412815030176.\n",
      "[I 2024-05-28 23:11:40,470] Trial 9 finished with value: 0.6274302358970777 and parameters: {'max_depth': 2, 'learning_rate': 0.021164501673293565, 'n_estimators': 92, 'min_child_weight': 1, 'gamma': 1.0095499848673902e-05, 'subsample': 0.05297012287252951, 'colsample_bytree': 0.3101578613704421, 'reg_alpha': 0.001953809784916466, 'reg_lambda': 5.683704031575127e-08, 'scale_pos_weight': 3}. Best is trial 7 with value: 0.6537412815030176.\n",
      "[I 2024-05-28 23:13:12,462] Trial 10 finished with value: 0.4625106289359227 and parameters: {'max_depth': 5, 'learning_rate': 0.18240487331052618, 'n_estimators': 23, 'min_child_weight': 5, 'gamma': 2.5763351088099546e-08, 'subsample': 0.013335817227201903, 'colsample_bytree': 0.026696228698737556, 'reg_alpha': 1.2272867066108797e-06, 'reg_lambda': 5.07890246701507e-08, 'scale_pos_weight': 1}. Best is trial 7 with value: 0.6537412815030176.\n",
      "[I 2024-05-28 23:15:06,554] Trial 11 finished with value: 0.6586225109854491 and parameters: {'max_depth': 2, 'learning_rate': 0.3719060025550559, 'n_estimators': 58, 'min_child_weight': 3, 'gamma': 0.000665243928620635, 'subsample': 0.07920798579009282, 'colsample_bytree': 0.9861471153072046, 'reg_alpha': 5.213715226984494e-06, 'reg_lambda': 4.608970489777019e-06, 'scale_pos_weight': 3}. Best is trial 11 with value: 0.6586225109854491.\n",
      "[I 2024-05-28 23:17:13,697] Trial 12 finished with value: 0.4691176845562808 and parameters: {'max_depth': 3, 'learning_rate': 0.01573737931467779, 'n_estimators': 67, 'min_child_weight': 5, 'gamma': 1.234870577688501e-05, 'subsample': 0.03762098927192484, 'colsample_bytree': 0.22948048381976455, 'reg_alpha': 7.691057964536955e-05, 'reg_lambda': 0.0005122533347744867, 'scale_pos_weight': 3}. Best is trial 11 with value: 0.6586225109854491.\n",
      "[I 2024-05-28 23:18:22,093] Trial 13 finished with value: 0.6390867459284644 and parameters: {'max_depth': 1, 'learning_rate': 0.9217219032689169, 'n_estimators': 53, 'min_child_weight': 9, 'gamma': 0.7299662539513989, 'subsample': 0.13674151506718996, 'colsample_bytree': 0.0458944171222226, 'reg_alpha': 0.8922982486747519, 'reg_lambda': 0.0004306547313595244, 'scale_pos_weight': 5}. Best is trial 11 with value: 0.6586225109854491.\n",
      "[I 2024-05-28 23:20:43,903] Trial 14 finished with value: 0.6394287058018883 and parameters: {'max_depth': 3, 'learning_rate': 0.7393220274989776, 'n_estimators': 69, 'min_child_weight': 10, 'gamma': 0.0002609111835062965, 'subsample': 0.15239691645046108, 'colsample_bytree': 0.769308783133649, 'reg_alpha': 0.325419402374457, 'reg_lambda': 6.233111553932692e-05, 'scale_pos_weight': 5}. Best is trial 11 with value: 0.6586225109854491.\n",
      "[I 2024-05-28 23:21:38,465] Trial 15 finished with value: 0.6344132140712515 and parameters: {'max_depth': 1, 'learning_rate': 0.48672634374079327, 'n_estimators': 47, 'min_child_weight': 3, 'gamma': 0.0004218449187852608, 'subsample': 0.1116205533090731, 'colsample_bytree': 0.0679338745478122, 'reg_alpha': 0.14851335562085177, 'reg_lambda': 7.739382634177766e-05, 'scale_pos_weight': 5}. Best is trial 11 with value: 0.6586225109854491.\n",
      "[I 2024-05-28 23:22:39,728] Trial 16 finished with value: 0.6323152313891258 and parameters: {'max_depth': 1, 'learning_rate': 0.6426102916848238, 'n_estimators': 44, 'min_child_weight': 3, 'gamma': 0.0006132987507512858, 'subsample': 0.13535676113469208, 'colsample_bytree': 0.060947494647746195, 'reg_alpha': 0.44957395897822083, 'reg_lambda': 2.8857654542286726e-05, 'scale_pos_weight': 5}. Best is trial 11 with value: 0.6586225109854491.\n",
      "[I 2024-05-28 23:24:12,404] Trial 17 finished with value: 0.6405350442169423 and parameters: {'max_depth': 9, 'learning_rate': 0.5103085218982105, 'n_estimators': 45, 'min_child_weight': 3, 'gamma': 0.00041591732769825576, 'subsample': 0.07360583464562756, 'colsample_bytree': 0.06832753430136768, 'reg_alpha': 5.12730629274733e-06, 'reg_lambda': 1.358005460989886e-05, 'scale_pos_weight': 5}. Best is trial 11 with value: 0.6586225109854491.\n",
      "[I 2024-05-28 23:25:53,689] Trial 18 finished with value: 0.6285027570937352 and parameters: {'max_depth': 9, 'learning_rate': 0.38493090384305717, 'n_estimators': 49, 'min_child_weight': 3, 'gamma': 0.00028859397541812054, 'subsample': 0.08218999807956852, 'colsample_bytree': 0.08275199922151824, 'reg_alpha': 5.749162819171097e-06, 'reg_lambda': 1.8815421654531605e-05, 'scale_pos_weight': 2}. Best is trial 11 with value: 0.6586225109854491.\n",
      "[I 2024-05-28 23:28:34,526] Trial 19 finished with value: 0.6369594550835503 and parameters: {'max_depth': 9, 'learning_rate': 0.308599539358841, 'n_estimators': 82, 'min_child_weight': 3, 'gamma': 0.00263096585681272, 'subsample': 0.060681002984349225, 'colsample_bytree': 0.011262539452575219, 'reg_alpha': 1.237749088676061e-05, 'reg_lambda': 4.3914053686444565e-06, 'scale_pos_weight': 2}. Best is trial 11 with value: 0.6586225109854491.\n",
      "[I 2024-05-28 23:30:31,773] Trial 20 finished with value: 0.6386416894475412 and parameters: {'max_depth': 9, 'learning_rate': 0.3737256346375358, 'n_estimators': 80, 'min_child_weight': 2, 'gamma': 6.880673617482606e-05, 'subsample': 0.06311370128443197, 'colsample_bytree': 0.018130746084969125, 'reg_alpha': 7.754382785912932e-06, 'reg_lambda': 1.7463500428740554e-06, 'scale_pos_weight': 2}. Best is trial 11 with value: 0.6586225109854491.\n",
      "[I 2024-05-28 23:32:48,745] Trial 21 finished with value: 0.6369637342845069 and parameters: {'max_depth': 6, 'learning_rate': 0.3176710600532432, 'n_estimators': 80, 'min_child_weight': 2, 'gamma': 5.937003483395669e-05, 'subsample': 0.29927352134314417, 'colsample_bytree': 0.014020522849923693, 'reg_alpha': 0.018910520429221797, 'reg_lambda': 1.3625594838096322e-06, 'scale_pos_weight': 2}. Best is trial 11 with value: 0.6586225109854491.\n",
      "[I 2024-05-28 23:35:14,363] Trial 22 finished with value: 0.6361359432397918 and parameters: {'max_depth': 6, 'learning_rate': 0.3015916204663173, 'n_estimators': 81, 'min_child_weight': 2, 'gamma': 0.0037639613288848292, 'subsample': 0.2749360185906584, 'colsample_bytree': 0.011373150992312488, 'reg_alpha': 0.018852299723651808, 'reg_lambda': 1.095770747386245e-06, 'scale_pos_weight': 2}. Best is trial 11 with value: 0.6586225109854491.\n",
      "[I 2024-05-28 23:37:43,044] Trial 23 finished with value: 0.6565955724996668 and parameters: {'max_depth': 6, 'learning_rate': 0.27453128123508297, 'n_estimators': 80, 'min_child_weight': 2, 'gamma': 6.13630185416992e-05, 'subsample': 0.2806451780098282, 'colsample_bytree': 0.02381586166955545, 'reg_alpha': 0.022356271083411955, 'reg_lambda': 4.6135922060325324e-07, 'scale_pos_weight': 3}. Best is trial 11 with value: 0.6586225109854491.\n",
      "[I 2024-05-28 23:39:29,889] Trial 24 finished with value: 0.6527232947247021 and parameters: {'max_depth': 6, 'learning_rate': 0.234232302352456, 'n_estimators': 61, 'min_child_weight': 6, 'gamma': 3.674131548199053e-05, 'subsample': 0.2744533804255863, 'colsample_bytree': 0.8800711762632613, 'reg_alpha': 0.00911170166454482, 'reg_lambda': 2.4875791238981696e-07, 'scale_pos_weight': 4}. Best is trial 11 with value: 0.6586225109854491.\n",
      "[I 2024-05-28 23:41:49,119] Trial 25 finished with value: 0.6521198580693979 and parameters: {'max_depth': 4, 'learning_rate': 0.05890724294250544, 'n_estimators': 64, 'min_child_weight': 6, 'gamma': 5.981272945286166e-07, 'subsample': 0.023927450699897008, 'colsample_bytree': 0.8884257274943762, 'reg_alpha': 0.0018394241856082667, 'reg_lambda': 1.22718652781999e-07, 'scale_pos_weight': 4}. Best is trial 11 with value: 0.6586225109854491.\n",
      "[I 2024-05-28 23:44:08,208] Trial 26 finished with value: 0.6517383908706209 and parameters: {'max_depth': 4, 'learning_rate': 0.07948634749822803, 'n_estimators': 60, 'min_child_weight': 6, 'gamma': 1.036844108703761e-06, 'subsample': 0.021542383467341813, 'colsample_bytree': 0.9742524395978401, 'reg_alpha': 0.0010619946059941174, 'reg_lambda': 1.9885597967156933e-07, 'scale_pos_weight': 4}. Best is trial 11 with value: 0.6586225109854491.\n",
      "[I 2024-05-28 23:46:22,559] Trial 27 finished with value: 0.6502012922150979 and parameters: {'max_depth': 7, 'learning_rate': 0.2193342684368927, 'n_estimators': 61, 'min_child_weight': 4, 'gamma': 8.476382854347077e-07, 'subsample': 0.19995240899448086, 'colsample_bytree': 0.03295930908635255, 'reg_alpha': 0.005091296163877311, 'reg_lambda': 2.460779188017681e-07, 'scale_pos_weight': 3}. Best is trial 11 with value: 0.6586225109854491.\n",
      "[I 2024-05-28 23:48:07,205] Trial 28 finished with value: 0.6309864818905961 and parameters: {'max_depth': 4, 'learning_rate': 0.08537915089088667, 'n_estimators': 75, 'min_child_weight': 4, 'gamma': 4.0595272837075336e-07, 'subsample': 0.9101968998562664, 'colsample_bytree': 0.0337171253675295, 'reg_alpha': 0.07701202367987468, 'reg_lambda': 2.492256699369744e-07, 'scale_pos_weight': 3}. Best is trial 11 with value: 0.6586225109854491.\n",
      "[I 2024-05-28 23:49:58,459] Trial 29 finished with value: 0.6394387739024808 and parameters: {'max_depth': 7, 'learning_rate': 0.11361381183489047, 'n_estimators': 73, 'min_child_weight': 4, 'gamma': 1.10609024318936e-06, 'subsample': 0.7602394353318754, 'colsample_bytree': 0.032135973471762384, 'reg_alpha': 0.03707287131646092, 'reg_lambda': 3.3670292338009387e-07, 'scale_pos_weight': 3}. Best is trial 11 with value: 0.6586225109854491.\n",
      "[I 2024-05-28 23:52:41,460] Trial 30 finished with value: 0.6583894417730812 and parameters: {'max_depth': 7, 'learning_rate': 0.9835380887482764, 'n_estimators': 75, 'min_child_weight': 4, 'gamma': 8.574725653990474e-08, 'subsample': 0.21138550160035144, 'colsample_bytree': 0.028756560242087868, 'reg_alpha': 0.15795482491250618, 'reg_lambda': 0.0003939599206258107, 'scale_pos_weight': 3}. Best is trial 11 with value: 0.6586225109854491.\n",
      "[I 2024-05-28 23:55:28,372] Trial 31 finished with value: 0.6385166899958433 and parameters: {'max_depth': 7, 'learning_rate': 0.10816918384355141, 'n_estimators': 74, 'min_child_weight': 4, 'gamma': 0.11884884947305571, 'subsample': 0.82153541290167, 'colsample_bytree': 0.035871758902529124, 'reg_alpha': 0.09490350267927879, 'reg_lambda': 0.00040441269038331724, 'scale_pos_weight': 3}. Best is trial 11 with value: 0.6586225109854491.\n",
      "[I 2024-05-28 23:57:59,822] Trial 32 finished with value: 0.6583887391467765 and parameters: {'max_depth': 7, 'learning_rate': 0.978447066509017, 'n_estimators': 87, 'min_child_weight': 4, 'gamma': 0.10920520250650982, 'subsample': 0.17586069615311176, 'colsample_bytree': 0.01770965639080595, 'reg_alpha': 6.533841067526074e-05, 'reg_lambda': 6.246911618940678e-06, 'scale_pos_weight': 3}. Best is trial 11 with value: 0.6586225109854491.\n",
      "[I 2024-05-29 00:00:06,958] Trial 33 finished with value: 0.6580487442705782 and parameters: {'max_depth': 2, 'learning_rate': 0.9830334047059563, 'n_estimators': 85, 'min_child_weight': 1, 'gamma': 0.16951838272111283, 'subsample': 0.3999227659759596, 'colsample_bytree': 0.017083335973472114, 'reg_alpha': 7.953415037969531e-05, 'reg_lambda': 0.0007046966750568418, 'scale_pos_weight': 3}. Best is trial 11 with value: 0.6586225109854491.\n",
      "[I 2024-05-29 00:03:05,347] Trial 34 finished with value: 0.658254809798101 and parameters: {'max_depth': 7, 'learning_rate': 0.9984817366751565, 'n_estimators': 89, 'min_child_weight': 4, 'gamma': 2.9002968194068147e-08, 'subsample': 0.19520697660278402, 'colsample_bytree': 0.017803621540210667, 'reg_alpha': 6.111668166015585e-05, 'reg_lambda': 0.0007422607960791073, 'scale_pos_weight': 3}. Best is trial 11 with value: 0.6586225109854491.\n",
      "[I 2024-05-29 00:05:47,194] Trial 35 finished with value: 0.6587381578479001 and parameters: {'max_depth': 8, 'learning_rate': 0.988836073234163, 'n_estimators': 90, 'min_child_weight': 5, 'gamma': 1.0188316517445095e-07, 'subsample': 0.38715799024501824, 'colsample_bytree': 0.020084847344957864, 'reg_alpha': 0.00010280129416845192, 'reg_lambda': 0.004073337664026676, 'scale_pos_weight': 3}. Best is trial 35 with value: 0.6587381578479001.\n",
      "[I 2024-05-29 00:08:08,977] Trial 36 finished with value: 0.6583914746733353 and parameters: {'max_depth': 8, 'learning_rate': 0.9979007643264056, 'n_estimators': 88, 'min_child_weight': 2, 'gamma': 4.8791032293685606e-08, 'subsample': 0.1795736265708086, 'colsample_bytree': 0.019625236498153183, 'reg_alpha': 6.225092049411651e-05, 'reg_lambda': 0.01427843361782944, 'scale_pos_weight': 3}. Best is trial 35 with value: 0.6587381578479001.\n",
      "[I 2024-05-29 00:10:04,361] Trial 37 finished with value: 0.658369794565622 and parameters: {'max_depth': 2, 'learning_rate': 0.9849068151679969, 'n_estimators': 89, 'min_child_weight': 1, 'gamma': 0.41781439634425666, 'subsample': 0.45669233447300395, 'colsample_bytree': 0.01867524932216362, 'reg_alpha': 8.179999872568021e-05, 'reg_lambda': 0.0024270567872451635, 'scale_pos_weight': 3}. Best is trial 35 with value: 0.6587381578479001.\n",
      "[I 2024-05-29 00:13:45,256] Trial 38 finished with value: 0.6585874879678685 and parameters: {'max_depth': 8, 'learning_rate': 0.743450144568044, 'n_estimators': 89, 'min_child_weight': 5, 'gamma': 1.4140899719981315e-08, 'subsample': 0.2067525640346144, 'colsample_bytree': 0.020063442929001845, 'reg_alpha': 1.3721641563470056e-06, 'reg_lambda': 0.0042583837020906765, 'scale_pos_weight': 3}. Best is trial 35 with value: 0.6587381578479001.\n",
      "[I 2024-05-29 00:17:07,811] Trial 39 finished with value: 0.6587355266362043 and parameters: {'max_depth': 8, 'learning_rate': 0.6693680681756172, 'n_estimators': 93, 'min_child_weight': 7, 'gamma': 1.0807455768931839e-08, 'subsample': 0.4435597334665182, 'colsample_bytree': 0.10225826707721426, 'reg_alpha': 1.9860764254648884e-08, 'reg_lambda': 0.004818031267854245, 'scale_pos_weight': 3}. Best is trial 35 with value: 0.6587381578479001.\n",
      "[I 2024-05-29 00:20:03,689] Trial 40 finished with value: 0.639977691980387 and parameters: {'max_depth': 8, 'learning_rate': 0.6846744863192185, 'n_estimators': 95, 'min_child_weight': 7, 'gamma': 1.1235355773949224e-07, 'subsample': 0.4416440200964915, 'colsample_bytree': 0.1199060467530235, 'reg_alpha': 3.1164537245057394e-08, 'reg_lambda': 0.009600860625309512, 'scale_pos_weight': 2}. Best is trial 35 with value: 0.6587381578479001.\n",
      "[I 2024-05-29 00:22:51,357] Trial 41 finished with value: 0.640081031692039 and parameters: {'max_depth': 8, 'learning_rate': 0.6651690798025592, 'n_estimators': 95, 'min_child_weight': 7, 'gamma': 1.6944398222410004e-07, 'subsample': 0.37391181196457646, 'colsample_bytree': 0.11577444400586791, 'reg_alpha': 5.1901513026330506e-08, 'reg_lambda': 0.14253281204912982, 'scale_pos_weight': 2}. Best is trial 35 with value: 0.6587381578479001.\n",
      "[I 2024-05-29 00:26:27,102] Trial 42 finished with value: 0.6397677189267883 and parameters: {'max_depth': 8, 'learning_rate': 0.7318937021377645, 'n_estimators': 95, 'min_child_weight': 7, 'gamma': 8.990248636495681e-08, 'subsample': 0.09508232726919266, 'colsample_bytree': 0.11387988164566865, 'reg_alpha': 2.1744940188515412e-08, 'reg_lambda': 0.06076222277743341, 'scale_pos_weight': 2}. Best is trial 35 with value: 0.6587381578479001.\n",
      "[I 2024-05-29 00:33:27,652] Trial 43 finished with value: 0.6529520949121264 and parameters: {'max_depth': 8, 'learning_rate': 0.6636447898190886, 'n_estimators': 93, 'min_child_weight': 7, 'gamma': 2.3223121470069892e-07, 'subsample': 0.5757254013793417, 'colsample_bytree': 0.45503959553118073, 'reg_alpha': 1.5835886614783928e-08, 'reg_lambda': 0.15057959246995417, 'scale_pos_weight': 4}. Best is trial 35 with value: 0.6587381578479001.\n",
      "[I 2024-05-29 00:38:41,744] Trial 44 finished with value: 0.6530968737631543 and parameters: {'max_depth': 8, 'learning_rate': 0.6449560675160533, 'n_estimators': 98, 'min_child_weight': 8, 'gamma': 1.0869889145458543e-08, 'subsample': 0.6154829829511345, 'colsample_bytree': 0.48435137224325253, 'reg_alpha': 1.431503541356302e-07, 'reg_lambda': 0.11142718519179105, 'scale_pos_weight': 4}. Best is trial 35 with value: 0.6587381578479001.\n",
      "[I 2024-05-29 00:42:37,980] Trial 45 finished with value: 0.6443161061347056 and parameters: {'max_depth': 8, 'learning_rate': 0.5383212872146605, 'n_estimators': 98, 'min_child_weight': 8, 'gamma': 2.094389061533048e-08, 'subsample': 0.09864712852104612, 'colsample_bytree': 0.38653928362015194, 'reg_alpha': 1.1890368098209214e-06, 'reg_lambda': 0.08013700620259316, 'scale_pos_weight': 4}. Best is trial 35 with value: 0.6587381578479001.\n",
      "[I 2024-05-29 00:47:59,221] Trial 46 finished with value: 0.6532384636330016 and parameters: {'max_depth': 8, 'learning_rate': 0.5314757763363293, 'n_estimators': 99, 'min_child_weight': 8, 'gamma': 1.547042096175102e-08, 'subsample': 0.5295977336662062, 'colsample_bytree': 0.4933301814768481, 'reg_alpha': 1.7111230861690973e-06, 'reg_lambda': 0.006995000077015275, 'scale_pos_weight': 4}. Best is trial 35 with value: 0.6587381578479001.\n",
      "[I 2024-05-29 00:48:50,599] Trial 47 finished with value: 0.6460266588398422 and parameters: {'max_depth': 8, 'learning_rate': 0.42589084555546214, 'n_estimators': 35, 'min_child_weight': 8, 'gamma': 1.0559046608389728e-08, 'subsample': 0.587257160324807, 'colsample_bytree': 0.04304477698236439, 'reg_alpha': 1.0412718552148433e-06, 'reg_lambda': 0.0034172017972803025, 'scale_pos_weight': 3}. Best is trial 35 with value: 0.6587381578479001.\n",
      "[I 2024-05-29 00:50:59,994] Trial 48 finished with value: 0.6588761581895374 and parameters: {'max_depth': 9, 'learning_rate': 0.44473556268768877, 'n_estimators': 36, 'min_child_weight': 5, 'gamma': 3.3298165827109615e-08, 'subsample': 0.3349734264685365, 'colsample_bytree': 0.1810377603591532, 'reg_alpha': 1.7694773484506907e-06, 'reg_lambda': 0.009869344631907417, 'scale_pos_weight': 3}. Best is trial 48 with value: 0.6588761581895374.\n",
      "[I 2024-05-29 00:53:01,670] Trial 49 finished with value: 0.6609834321654664 and parameters: {'max_depth': 9, 'learning_rate': 0.4142535996928089, 'n_estimators': 36, 'min_child_weight': 5, 'gamma': 4.2677778709826046e-08, 'subsample': 0.32786369479754196, 'colsample_bytree': 0.2516496916145146, 'reg_alpha': 0.00020977675567191852, 'reg_lambda': 0.005863419014015099, 'scale_pos_weight': 3}. Best is trial 49 with value: 0.6609834321654664.\n"
     ]
    }
   ],
   "source": [
    "study_XGB_final = optuna.create_study(direction=\"maximize\",\n",
    "                            study_name=\"study_XGB_final\",\n",
    "                            sampler=optuna.samplers.TPESampler(),\n",
    "                            pruner=optuna.pruners.HyperbandPruner()\n",
    "                            )\n",
    "study_XGB_final.optimize(objective,\n",
    "               n_trials=50,\n",
    "               n_jobs=-1\n",
    "               )"
   ]
  },
  {
   "cell_type": "code",
   "execution_count": 97,
   "id": "64c65e66",
   "metadata": {},
   "outputs": [
    {
     "data": {
      "application/vnd.plotly.v1+json": {
       "config": {
        "plotlyServerURL": "https://plot.ly"
       },
       "data": [
        {
         "mode": "markers",
         "name": "Objective Value",
         "type": "scatter",
         "x": [
          0,
          1,
          2,
          3,
          4,
          5,
          6,
          7,
          8,
          9,
          10,
          11,
          12,
          13,
          14,
          15,
          16,
          17,
          18,
          19,
          20,
          21,
          22,
          23,
          24,
          25,
          26,
          27,
          28,
          29,
          30,
          31,
          32,
          33,
          34,
          35,
          36,
          37,
          38,
          39,
          40,
          41,
          42,
          43,
          44,
          45,
          46,
          47,
          48,
          49
         ],
         "y": [
          0.4861105501173439,
          0.46247415163731026,
          0.4632214629142946,
          0.6376499910918878,
          0.6515730170945451,
          0.46247415163731026,
          0.46247415163731026,
          0.6537412815030176,
          0.5392437568332921,
          0.6274302358970777,
          0.4625106289359227,
          0.6586225109854491,
          0.4691176845562808,
          0.6390867459284644,
          0.6394287058018883,
          0.6344132140712515,
          0.6323152313891258,
          0.6405350442169423,
          0.6285027570937352,
          0.6369594550835503,
          0.6386416894475412,
          0.6369637342845069,
          0.6361359432397918,
          0.6565955724996668,
          0.6527232947247021,
          0.6521198580693979,
          0.6517383908706209,
          0.6502012922150979,
          0.6309864818905961,
          0.6394387739024808,
          0.6583894417730812,
          0.6385166899958433,
          0.6583887391467765,
          0.6580487442705782,
          0.658254809798101,
          0.6587381578479001,
          0.6583914746733353,
          0.658369794565622,
          0.6585874879678685,
          0.6587355266362043,
          0.639977691980387,
          0.640081031692039,
          0.6397677189267883,
          0.6529520949121264,
          0.6530968737631543,
          0.6443161061347056,
          0.6532384636330016,
          0.6460266588398422,
          0.6588761581895374,
          0.6609834321654664
         ]
        },
        {
         "mode": "lines",
         "name": "Best Value",
         "type": "scatter",
         "x": [
          0,
          1,
          2,
          3,
          4,
          5,
          6,
          7,
          8,
          9,
          10,
          11,
          12,
          13,
          14,
          15,
          16,
          17,
          18,
          19,
          20,
          21,
          22,
          23,
          24,
          25,
          26,
          27,
          28,
          29,
          30,
          31,
          32,
          33,
          34,
          35,
          36,
          37,
          38,
          39,
          40,
          41,
          42,
          43,
          44,
          45,
          46,
          47,
          48,
          49
         ],
         "y": [
          0.4861105501173439,
          0.4861105501173439,
          0.4861105501173439,
          0.6376499910918878,
          0.6515730170945451,
          0.6515730170945451,
          0.6515730170945451,
          0.6537412815030176,
          0.6537412815030176,
          0.6537412815030176,
          0.6537412815030176,
          0.6586225109854491,
          0.6586225109854491,
          0.6586225109854491,
          0.6586225109854491,
          0.6586225109854491,
          0.6586225109854491,
          0.6586225109854491,
          0.6586225109854491,
          0.6586225109854491,
          0.6586225109854491,
          0.6586225109854491,
          0.6586225109854491,
          0.6586225109854491,
          0.6586225109854491,
          0.6586225109854491,
          0.6586225109854491,
          0.6586225109854491,
          0.6586225109854491,
          0.6586225109854491,
          0.6586225109854491,
          0.6586225109854491,
          0.6586225109854491,
          0.6586225109854491,
          0.6586225109854491,
          0.6587381578479001,
          0.6587381578479001,
          0.6587381578479001,
          0.6587381578479001,
          0.6587381578479001,
          0.6587381578479001,
          0.6587381578479001,
          0.6587381578479001,
          0.6587381578479001,
          0.6587381578479001,
          0.6587381578479001,
          0.6587381578479001,
          0.6587381578479001,
          0.6588761581895374,
          0.6609834321654664
         ]
        },
        {
         "marker": {
          "color": "#cccccc"
         },
         "mode": "markers",
         "name": "Infeasible Trial",
         "showlegend": false,
         "type": "scatter",
         "x": [],
         "y": []
        }
       ],
       "layout": {
        "template": {
         "data": {
          "bar": [
           {
            "error_x": {
             "color": "#2a3f5f"
            },
            "error_y": {
             "color": "#2a3f5f"
            },
            "marker": {
             "line": {
              "color": "#E5ECF6",
              "width": 0.5
             },
             "pattern": {
              "fillmode": "overlay",
              "size": 10,
              "solidity": 0.2
             }
            },
            "type": "bar"
           }
          ],
          "barpolar": [
           {
            "marker": {
             "line": {
              "color": "#E5ECF6",
              "width": 0.5
             },
             "pattern": {
              "fillmode": "overlay",
              "size": 10,
              "solidity": 0.2
             }
            },
            "type": "barpolar"
           }
          ],
          "carpet": [
           {
            "aaxis": {
             "endlinecolor": "#2a3f5f",
             "gridcolor": "white",
             "linecolor": "white",
             "minorgridcolor": "white",
             "startlinecolor": "#2a3f5f"
            },
            "baxis": {
             "endlinecolor": "#2a3f5f",
             "gridcolor": "white",
             "linecolor": "white",
             "minorgridcolor": "white",
             "startlinecolor": "#2a3f5f"
            },
            "type": "carpet"
           }
          ],
          "choropleth": [
           {
            "colorbar": {
             "outlinewidth": 0,
             "ticks": ""
            },
            "type": "choropleth"
           }
          ],
          "contour": [
           {
            "colorbar": {
             "outlinewidth": 0,
             "ticks": ""
            },
            "colorscale": [
             [
              0,
              "#0d0887"
             ],
             [
              0.1111111111111111,
              "#46039f"
             ],
             [
              0.2222222222222222,
              "#7201a8"
             ],
             [
              0.3333333333333333,
              "#9c179e"
             ],
             [
              0.4444444444444444,
              "#bd3786"
             ],
             [
              0.5555555555555556,
              "#d8576b"
             ],
             [
              0.6666666666666666,
              "#ed7953"
             ],
             [
              0.7777777777777778,
              "#fb9f3a"
             ],
             [
              0.8888888888888888,
              "#fdca26"
             ],
             [
              1,
              "#f0f921"
             ]
            ],
            "type": "contour"
           }
          ],
          "contourcarpet": [
           {
            "colorbar": {
             "outlinewidth": 0,
             "ticks": ""
            },
            "type": "contourcarpet"
           }
          ],
          "heatmap": [
           {
            "colorbar": {
             "outlinewidth": 0,
             "ticks": ""
            },
            "colorscale": [
             [
              0,
              "#0d0887"
             ],
             [
              0.1111111111111111,
              "#46039f"
             ],
             [
              0.2222222222222222,
              "#7201a8"
             ],
             [
              0.3333333333333333,
              "#9c179e"
             ],
             [
              0.4444444444444444,
              "#bd3786"
             ],
             [
              0.5555555555555556,
              "#d8576b"
             ],
             [
              0.6666666666666666,
              "#ed7953"
             ],
             [
              0.7777777777777778,
              "#fb9f3a"
             ],
             [
              0.8888888888888888,
              "#fdca26"
             ],
             [
              1,
              "#f0f921"
             ]
            ],
            "type": "heatmap"
           }
          ],
          "heatmapgl": [
           {
            "colorbar": {
             "outlinewidth": 0,
             "ticks": ""
            },
            "colorscale": [
             [
              0,
              "#0d0887"
             ],
             [
              0.1111111111111111,
              "#46039f"
             ],
             [
              0.2222222222222222,
              "#7201a8"
             ],
             [
              0.3333333333333333,
              "#9c179e"
             ],
             [
              0.4444444444444444,
              "#bd3786"
             ],
             [
              0.5555555555555556,
              "#d8576b"
             ],
             [
              0.6666666666666666,
              "#ed7953"
             ],
             [
              0.7777777777777778,
              "#fb9f3a"
             ],
             [
              0.8888888888888888,
              "#fdca26"
             ],
             [
              1,
              "#f0f921"
             ]
            ],
            "type": "heatmapgl"
           }
          ],
          "histogram": [
           {
            "marker": {
             "pattern": {
              "fillmode": "overlay",
              "size": 10,
              "solidity": 0.2
             }
            },
            "type": "histogram"
           }
          ],
          "histogram2d": [
           {
            "colorbar": {
             "outlinewidth": 0,
             "ticks": ""
            },
            "colorscale": [
             [
              0,
              "#0d0887"
             ],
             [
              0.1111111111111111,
              "#46039f"
             ],
             [
              0.2222222222222222,
              "#7201a8"
             ],
             [
              0.3333333333333333,
              "#9c179e"
             ],
             [
              0.4444444444444444,
              "#bd3786"
             ],
             [
              0.5555555555555556,
              "#d8576b"
             ],
             [
              0.6666666666666666,
              "#ed7953"
             ],
             [
              0.7777777777777778,
              "#fb9f3a"
             ],
             [
              0.8888888888888888,
              "#fdca26"
             ],
             [
              1,
              "#f0f921"
             ]
            ],
            "type": "histogram2d"
           }
          ],
          "histogram2dcontour": [
           {
            "colorbar": {
             "outlinewidth": 0,
             "ticks": ""
            },
            "colorscale": [
             [
              0,
              "#0d0887"
             ],
             [
              0.1111111111111111,
              "#46039f"
             ],
             [
              0.2222222222222222,
              "#7201a8"
             ],
             [
              0.3333333333333333,
              "#9c179e"
             ],
             [
              0.4444444444444444,
              "#bd3786"
             ],
             [
              0.5555555555555556,
              "#d8576b"
             ],
             [
              0.6666666666666666,
              "#ed7953"
             ],
             [
              0.7777777777777778,
              "#fb9f3a"
             ],
             [
              0.8888888888888888,
              "#fdca26"
             ],
             [
              1,
              "#f0f921"
             ]
            ],
            "type": "histogram2dcontour"
           }
          ],
          "mesh3d": [
           {
            "colorbar": {
             "outlinewidth": 0,
             "ticks": ""
            },
            "type": "mesh3d"
           }
          ],
          "parcoords": [
           {
            "line": {
             "colorbar": {
              "outlinewidth": 0,
              "ticks": ""
             }
            },
            "type": "parcoords"
           }
          ],
          "pie": [
           {
            "automargin": true,
            "type": "pie"
           }
          ],
          "scatter": [
           {
            "fillpattern": {
             "fillmode": "overlay",
             "size": 10,
             "solidity": 0.2
            },
            "type": "scatter"
           }
          ],
          "scatter3d": [
           {
            "line": {
             "colorbar": {
              "outlinewidth": 0,
              "ticks": ""
             }
            },
            "marker": {
             "colorbar": {
              "outlinewidth": 0,
              "ticks": ""
             }
            },
            "type": "scatter3d"
           }
          ],
          "scattercarpet": [
           {
            "marker": {
             "colorbar": {
              "outlinewidth": 0,
              "ticks": ""
             }
            },
            "type": "scattercarpet"
           }
          ],
          "scattergeo": [
           {
            "marker": {
             "colorbar": {
              "outlinewidth": 0,
              "ticks": ""
             }
            },
            "type": "scattergeo"
           }
          ],
          "scattergl": [
           {
            "marker": {
             "colorbar": {
              "outlinewidth": 0,
              "ticks": ""
             }
            },
            "type": "scattergl"
           }
          ],
          "scattermapbox": [
           {
            "marker": {
             "colorbar": {
              "outlinewidth": 0,
              "ticks": ""
             }
            },
            "type": "scattermapbox"
           }
          ],
          "scatterpolar": [
           {
            "marker": {
             "colorbar": {
              "outlinewidth": 0,
              "ticks": ""
             }
            },
            "type": "scatterpolar"
           }
          ],
          "scatterpolargl": [
           {
            "marker": {
             "colorbar": {
              "outlinewidth": 0,
              "ticks": ""
             }
            },
            "type": "scatterpolargl"
           }
          ],
          "scatterternary": [
           {
            "marker": {
             "colorbar": {
              "outlinewidth": 0,
              "ticks": ""
             }
            },
            "type": "scatterternary"
           }
          ],
          "surface": [
           {
            "colorbar": {
             "outlinewidth": 0,
             "ticks": ""
            },
            "colorscale": [
             [
              0,
              "#0d0887"
             ],
             [
              0.1111111111111111,
              "#46039f"
             ],
             [
              0.2222222222222222,
              "#7201a8"
             ],
             [
              0.3333333333333333,
              "#9c179e"
             ],
             [
              0.4444444444444444,
              "#bd3786"
             ],
             [
              0.5555555555555556,
              "#d8576b"
             ],
             [
              0.6666666666666666,
              "#ed7953"
             ],
             [
              0.7777777777777778,
              "#fb9f3a"
             ],
             [
              0.8888888888888888,
              "#fdca26"
             ],
             [
              1,
              "#f0f921"
             ]
            ],
            "type": "surface"
           }
          ],
          "table": [
           {
            "cells": {
             "fill": {
              "color": "#EBF0F8"
             },
             "line": {
              "color": "white"
             }
            },
            "header": {
             "fill": {
              "color": "#C8D4E3"
             },
             "line": {
              "color": "white"
             }
            },
            "type": "table"
           }
          ]
         },
         "layout": {
          "annotationdefaults": {
           "arrowcolor": "#2a3f5f",
           "arrowhead": 0,
           "arrowwidth": 1
          },
          "autotypenumbers": "strict",
          "coloraxis": {
           "colorbar": {
            "outlinewidth": 0,
            "ticks": ""
           }
          },
          "colorscale": {
           "diverging": [
            [
             0,
             "#8e0152"
            ],
            [
             0.1,
             "#c51b7d"
            ],
            [
             0.2,
             "#de77ae"
            ],
            [
             0.3,
             "#f1b6da"
            ],
            [
             0.4,
             "#fde0ef"
            ],
            [
             0.5,
             "#f7f7f7"
            ],
            [
             0.6,
             "#e6f5d0"
            ],
            [
             0.7,
             "#b8e186"
            ],
            [
             0.8,
             "#7fbc41"
            ],
            [
             0.9,
             "#4d9221"
            ],
            [
             1,
             "#276419"
            ]
           ],
           "sequential": [
            [
             0,
             "#0d0887"
            ],
            [
             0.1111111111111111,
             "#46039f"
            ],
            [
             0.2222222222222222,
             "#7201a8"
            ],
            [
             0.3333333333333333,
             "#9c179e"
            ],
            [
             0.4444444444444444,
             "#bd3786"
            ],
            [
             0.5555555555555556,
             "#d8576b"
            ],
            [
             0.6666666666666666,
             "#ed7953"
            ],
            [
             0.7777777777777778,
             "#fb9f3a"
            ],
            [
             0.8888888888888888,
             "#fdca26"
            ],
            [
             1,
             "#f0f921"
            ]
           ],
           "sequentialminus": [
            [
             0,
             "#0d0887"
            ],
            [
             0.1111111111111111,
             "#46039f"
            ],
            [
             0.2222222222222222,
             "#7201a8"
            ],
            [
             0.3333333333333333,
             "#9c179e"
            ],
            [
             0.4444444444444444,
             "#bd3786"
            ],
            [
             0.5555555555555556,
             "#d8576b"
            ],
            [
             0.6666666666666666,
             "#ed7953"
            ],
            [
             0.7777777777777778,
             "#fb9f3a"
            ],
            [
             0.8888888888888888,
             "#fdca26"
            ],
            [
             1,
             "#f0f921"
            ]
           ]
          },
          "colorway": [
           "#636efa",
           "#EF553B",
           "#00cc96",
           "#ab63fa",
           "#FFA15A",
           "#19d3f3",
           "#FF6692",
           "#B6E880",
           "#FF97FF",
           "#FECB52"
          ],
          "font": {
           "color": "#2a3f5f"
          },
          "geo": {
           "bgcolor": "white",
           "lakecolor": "white",
           "landcolor": "#E5ECF6",
           "showlakes": true,
           "showland": true,
           "subunitcolor": "white"
          },
          "hoverlabel": {
           "align": "left"
          },
          "hovermode": "closest",
          "mapbox": {
           "style": "light"
          },
          "paper_bgcolor": "white",
          "plot_bgcolor": "#E5ECF6",
          "polar": {
           "angularaxis": {
            "gridcolor": "white",
            "linecolor": "white",
            "ticks": ""
           },
           "bgcolor": "#E5ECF6",
           "radialaxis": {
            "gridcolor": "white",
            "linecolor": "white",
            "ticks": ""
           }
          },
          "scene": {
           "xaxis": {
            "backgroundcolor": "#E5ECF6",
            "gridcolor": "white",
            "gridwidth": 2,
            "linecolor": "white",
            "showbackground": true,
            "ticks": "",
            "zerolinecolor": "white"
           },
           "yaxis": {
            "backgroundcolor": "#E5ECF6",
            "gridcolor": "white",
            "gridwidth": 2,
            "linecolor": "white",
            "showbackground": true,
            "ticks": "",
            "zerolinecolor": "white"
           },
           "zaxis": {
            "backgroundcolor": "#E5ECF6",
            "gridcolor": "white",
            "gridwidth": 2,
            "linecolor": "white",
            "showbackground": true,
            "ticks": "",
            "zerolinecolor": "white"
           }
          },
          "shapedefaults": {
           "line": {
            "color": "#2a3f5f"
           }
          },
          "ternary": {
           "aaxis": {
            "gridcolor": "white",
            "linecolor": "white",
            "ticks": ""
           },
           "baxis": {
            "gridcolor": "white",
            "linecolor": "white",
            "ticks": ""
           },
           "bgcolor": "#E5ECF6",
           "caxis": {
            "gridcolor": "white",
            "linecolor": "white",
            "ticks": ""
           }
          },
          "title": {
           "x": 0.05
          },
          "xaxis": {
           "automargin": true,
           "gridcolor": "white",
           "linecolor": "white",
           "ticks": "",
           "title": {
            "standoff": 15
           },
           "zerolinecolor": "white",
           "zerolinewidth": 2
          },
          "yaxis": {
           "automargin": true,
           "gridcolor": "white",
           "linecolor": "white",
           "ticks": "",
           "title": {
            "standoff": 15
           },
           "zerolinecolor": "white",
           "zerolinewidth": 2
          }
         }
        },
        "title": {
         "text": "Optimization History Plot"
        },
        "xaxis": {
         "title": {
          "text": "Trial"
         }
        },
        "yaxis": {
         "title": {
          "text": "Objective Value"
         }
        }
       }
      }
     },
     "metadata": {},
     "output_type": "display_data"
    }
   ],
   "source": [
    "optuna.visualization.plot_optimization_history(study_XGB_final)"
   ]
  },
  {
   "cell_type": "code",
   "execution_count": 98,
   "id": "7764ac93",
   "metadata": {},
   "outputs": [
    {
     "data": {
      "application/vnd.plotly.v1+json": {
       "config": {
        "plotlyServerURL": "https://plot.ly"
       },
       "data": [
        {
         "cliponaxis": false,
         "hovertemplate": [
          "gamma (FloatDistribution): 0.00011402219782363416<extra></extra>",
          "reg_alpha (FloatDistribution): 0.00042304941023594227<extra></extra>",
          "max_depth (IntDistribution): 0.000527344654294252<extra></extra>",
          "min_child_weight (IntDistribution): 0.001070182351446947<extra></extra>",
          "colsample_bytree (FloatDistribution): 0.005384887641028801<extra></extra>",
          "subsample (FloatDistribution): 0.01885267090332664<extra></extra>",
          "reg_lambda (FloatDistribution): 0.04750445089215262<extra></extra>",
          "learning_rate (FloatDistribution): 0.15365439012691376<extra></extra>",
          "n_estimators (IntDistribution): 0.3791250441616161<extra></extra>",
          "scale_pos_weight (IntDistribution): 0.3933439576611613<extra></extra>"
         ],
         "name": "Objective Value",
         "orientation": "h",
         "text": [
          "<0.01",
          "<0.01",
          "<0.01",
          "<0.01",
          "<0.01",
          "0.02",
          "0.05",
          "0.15",
          "0.38",
          "0.39"
         ],
         "textposition": "outside",
         "type": "bar",
         "x": [
          0.00011402219782363416,
          0.00042304941023594227,
          0.000527344654294252,
          0.001070182351446947,
          0.005384887641028801,
          0.01885267090332664,
          0.04750445089215262,
          0.15365439012691376,
          0.3791250441616161,
          0.3933439576611613
         ],
         "y": [
          "gamma",
          "reg_alpha",
          "max_depth",
          "min_child_weight",
          "colsample_bytree",
          "subsample",
          "reg_lambda",
          "learning_rate",
          "n_estimators",
          "scale_pos_weight"
         ]
        }
       ],
       "layout": {
        "template": {
         "data": {
          "bar": [
           {
            "error_x": {
             "color": "#2a3f5f"
            },
            "error_y": {
             "color": "#2a3f5f"
            },
            "marker": {
             "line": {
              "color": "#E5ECF6",
              "width": 0.5
             },
             "pattern": {
              "fillmode": "overlay",
              "size": 10,
              "solidity": 0.2
             }
            },
            "type": "bar"
           }
          ],
          "barpolar": [
           {
            "marker": {
             "line": {
              "color": "#E5ECF6",
              "width": 0.5
             },
             "pattern": {
              "fillmode": "overlay",
              "size": 10,
              "solidity": 0.2
             }
            },
            "type": "barpolar"
           }
          ],
          "carpet": [
           {
            "aaxis": {
             "endlinecolor": "#2a3f5f",
             "gridcolor": "white",
             "linecolor": "white",
             "minorgridcolor": "white",
             "startlinecolor": "#2a3f5f"
            },
            "baxis": {
             "endlinecolor": "#2a3f5f",
             "gridcolor": "white",
             "linecolor": "white",
             "minorgridcolor": "white",
             "startlinecolor": "#2a3f5f"
            },
            "type": "carpet"
           }
          ],
          "choropleth": [
           {
            "colorbar": {
             "outlinewidth": 0,
             "ticks": ""
            },
            "type": "choropleth"
           }
          ],
          "contour": [
           {
            "colorbar": {
             "outlinewidth": 0,
             "ticks": ""
            },
            "colorscale": [
             [
              0,
              "#0d0887"
             ],
             [
              0.1111111111111111,
              "#46039f"
             ],
             [
              0.2222222222222222,
              "#7201a8"
             ],
             [
              0.3333333333333333,
              "#9c179e"
             ],
             [
              0.4444444444444444,
              "#bd3786"
             ],
             [
              0.5555555555555556,
              "#d8576b"
             ],
             [
              0.6666666666666666,
              "#ed7953"
             ],
             [
              0.7777777777777778,
              "#fb9f3a"
             ],
             [
              0.8888888888888888,
              "#fdca26"
             ],
             [
              1,
              "#f0f921"
             ]
            ],
            "type": "contour"
           }
          ],
          "contourcarpet": [
           {
            "colorbar": {
             "outlinewidth": 0,
             "ticks": ""
            },
            "type": "contourcarpet"
           }
          ],
          "heatmap": [
           {
            "colorbar": {
             "outlinewidth": 0,
             "ticks": ""
            },
            "colorscale": [
             [
              0,
              "#0d0887"
             ],
             [
              0.1111111111111111,
              "#46039f"
             ],
             [
              0.2222222222222222,
              "#7201a8"
             ],
             [
              0.3333333333333333,
              "#9c179e"
             ],
             [
              0.4444444444444444,
              "#bd3786"
             ],
             [
              0.5555555555555556,
              "#d8576b"
             ],
             [
              0.6666666666666666,
              "#ed7953"
             ],
             [
              0.7777777777777778,
              "#fb9f3a"
             ],
             [
              0.8888888888888888,
              "#fdca26"
             ],
             [
              1,
              "#f0f921"
             ]
            ],
            "type": "heatmap"
           }
          ],
          "heatmapgl": [
           {
            "colorbar": {
             "outlinewidth": 0,
             "ticks": ""
            },
            "colorscale": [
             [
              0,
              "#0d0887"
             ],
             [
              0.1111111111111111,
              "#46039f"
             ],
             [
              0.2222222222222222,
              "#7201a8"
             ],
             [
              0.3333333333333333,
              "#9c179e"
             ],
             [
              0.4444444444444444,
              "#bd3786"
             ],
             [
              0.5555555555555556,
              "#d8576b"
             ],
             [
              0.6666666666666666,
              "#ed7953"
             ],
             [
              0.7777777777777778,
              "#fb9f3a"
             ],
             [
              0.8888888888888888,
              "#fdca26"
             ],
             [
              1,
              "#f0f921"
             ]
            ],
            "type": "heatmapgl"
           }
          ],
          "histogram": [
           {
            "marker": {
             "pattern": {
              "fillmode": "overlay",
              "size": 10,
              "solidity": 0.2
             }
            },
            "type": "histogram"
           }
          ],
          "histogram2d": [
           {
            "colorbar": {
             "outlinewidth": 0,
             "ticks": ""
            },
            "colorscale": [
             [
              0,
              "#0d0887"
             ],
             [
              0.1111111111111111,
              "#46039f"
             ],
             [
              0.2222222222222222,
              "#7201a8"
             ],
             [
              0.3333333333333333,
              "#9c179e"
             ],
             [
              0.4444444444444444,
              "#bd3786"
             ],
             [
              0.5555555555555556,
              "#d8576b"
             ],
             [
              0.6666666666666666,
              "#ed7953"
             ],
             [
              0.7777777777777778,
              "#fb9f3a"
             ],
             [
              0.8888888888888888,
              "#fdca26"
             ],
             [
              1,
              "#f0f921"
             ]
            ],
            "type": "histogram2d"
           }
          ],
          "histogram2dcontour": [
           {
            "colorbar": {
             "outlinewidth": 0,
             "ticks": ""
            },
            "colorscale": [
             [
              0,
              "#0d0887"
             ],
             [
              0.1111111111111111,
              "#46039f"
             ],
             [
              0.2222222222222222,
              "#7201a8"
             ],
             [
              0.3333333333333333,
              "#9c179e"
             ],
             [
              0.4444444444444444,
              "#bd3786"
             ],
             [
              0.5555555555555556,
              "#d8576b"
             ],
             [
              0.6666666666666666,
              "#ed7953"
             ],
             [
              0.7777777777777778,
              "#fb9f3a"
             ],
             [
              0.8888888888888888,
              "#fdca26"
             ],
             [
              1,
              "#f0f921"
             ]
            ],
            "type": "histogram2dcontour"
           }
          ],
          "mesh3d": [
           {
            "colorbar": {
             "outlinewidth": 0,
             "ticks": ""
            },
            "type": "mesh3d"
           }
          ],
          "parcoords": [
           {
            "line": {
             "colorbar": {
              "outlinewidth": 0,
              "ticks": ""
             }
            },
            "type": "parcoords"
           }
          ],
          "pie": [
           {
            "automargin": true,
            "type": "pie"
           }
          ],
          "scatter": [
           {
            "fillpattern": {
             "fillmode": "overlay",
             "size": 10,
             "solidity": 0.2
            },
            "type": "scatter"
           }
          ],
          "scatter3d": [
           {
            "line": {
             "colorbar": {
              "outlinewidth": 0,
              "ticks": ""
             }
            },
            "marker": {
             "colorbar": {
              "outlinewidth": 0,
              "ticks": ""
             }
            },
            "type": "scatter3d"
           }
          ],
          "scattercarpet": [
           {
            "marker": {
             "colorbar": {
              "outlinewidth": 0,
              "ticks": ""
             }
            },
            "type": "scattercarpet"
           }
          ],
          "scattergeo": [
           {
            "marker": {
             "colorbar": {
              "outlinewidth": 0,
              "ticks": ""
             }
            },
            "type": "scattergeo"
           }
          ],
          "scattergl": [
           {
            "marker": {
             "colorbar": {
              "outlinewidth": 0,
              "ticks": ""
             }
            },
            "type": "scattergl"
           }
          ],
          "scattermapbox": [
           {
            "marker": {
             "colorbar": {
              "outlinewidth": 0,
              "ticks": ""
             }
            },
            "type": "scattermapbox"
           }
          ],
          "scatterpolar": [
           {
            "marker": {
             "colorbar": {
              "outlinewidth": 0,
              "ticks": ""
             }
            },
            "type": "scatterpolar"
           }
          ],
          "scatterpolargl": [
           {
            "marker": {
             "colorbar": {
              "outlinewidth": 0,
              "ticks": ""
             }
            },
            "type": "scatterpolargl"
           }
          ],
          "scatterternary": [
           {
            "marker": {
             "colorbar": {
              "outlinewidth": 0,
              "ticks": ""
             }
            },
            "type": "scatterternary"
           }
          ],
          "surface": [
           {
            "colorbar": {
             "outlinewidth": 0,
             "ticks": ""
            },
            "colorscale": [
             [
              0,
              "#0d0887"
             ],
             [
              0.1111111111111111,
              "#46039f"
             ],
             [
              0.2222222222222222,
              "#7201a8"
             ],
             [
              0.3333333333333333,
              "#9c179e"
             ],
             [
              0.4444444444444444,
              "#bd3786"
             ],
             [
              0.5555555555555556,
              "#d8576b"
             ],
             [
              0.6666666666666666,
              "#ed7953"
             ],
             [
              0.7777777777777778,
              "#fb9f3a"
             ],
             [
              0.8888888888888888,
              "#fdca26"
             ],
             [
              1,
              "#f0f921"
             ]
            ],
            "type": "surface"
           }
          ],
          "table": [
           {
            "cells": {
             "fill": {
              "color": "#EBF0F8"
             },
             "line": {
              "color": "white"
             }
            },
            "header": {
             "fill": {
              "color": "#C8D4E3"
             },
             "line": {
              "color": "white"
             }
            },
            "type": "table"
           }
          ]
         },
         "layout": {
          "annotationdefaults": {
           "arrowcolor": "#2a3f5f",
           "arrowhead": 0,
           "arrowwidth": 1
          },
          "autotypenumbers": "strict",
          "coloraxis": {
           "colorbar": {
            "outlinewidth": 0,
            "ticks": ""
           }
          },
          "colorscale": {
           "diverging": [
            [
             0,
             "#8e0152"
            ],
            [
             0.1,
             "#c51b7d"
            ],
            [
             0.2,
             "#de77ae"
            ],
            [
             0.3,
             "#f1b6da"
            ],
            [
             0.4,
             "#fde0ef"
            ],
            [
             0.5,
             "#f7f7f7"
            ],
            [
             0.6,
             "#e6f5d0"
            ],
            [
             0.7,
             "#b8e186"
            ],
            [
             0.8,
             "#7fbc41"
            ],
            [
             0.9,
             "#4d9221"
            ],
            [
             1,
             "#276419"
            ]
           ],
           "sequential": [
            [
             0,
             "#0d0887"
            ],
            [
             0.1111111111111111,
             "#46039f"
            ],
            [
             0.2222222222222222,
             "#7201a8"
            ],
            [
             0.3333333333333333,
             "#9c179e"
            ],
            [
             0.4444444444444444,
             "#bd3786"
            ],
            [
             0.5555555555555556,
             "#d8576b"
            ],
            [
             0.6666666666666666,
             "#ed7953"
            ],
            [
             0.7777777777777778,
             "#fb9f3a"
            ],
            [
             0.8888888888888888,
             "#fdca26"
            ],
            [
             1,
             "#f0f921"
            ]
           ],
           "sequentialminus": [
            [
             0,
             "#0d0887"
            ],
            [
             0.1111111111111111,
             "#46039f"
            ],
            [
             0.2222222222222222,
             "#7201a8"
            ],
            [
             0.3333333333333333,
             "#9c179e"
            ],
            [
             0.4444444444444444,
             "#bd3786"
            ],
            [
             0.5555555555555556,
             "#d8576b"
            ],
            [
             0.6666666666666666,
             "#ed7953"
            ],
            [
             0.7777777777777778,
             "#fb9f3a"
            ],
            [
             0.8888888888888888,
             "#fdca26"
            ],
            [
             1,
             "#f0f921"
            ]
           ]
          },
          "colorway": [
           "#636efa",
           "#EF553B",
           "#00cc96",
           "#ab63fa",
           "#FFA15A",
           "#19d3f3",
           "#FF6692",
           "#B6E880",
           "#FF97FF",
           "#FECB52"
          ],
          "font": {
           "color": "#2a3f5f"
          },
          "geo": {
           "bgcolor": "white",
           "lakecolor": "white",
           "landcolor": "#E5ECF6",
           "showlakes": true,
           "showland": true,
           "subunitcolor": "white"
          },
          "hoverlabel": {
           "align": "left"
          },
          "hovermode": "closest",
          "mapbox": {
           "style": "light"
          },
          "paper_bgcolor": "white",
          "plot_bgcolor": "#E5ECF6",
          "polar": {
           "angularaxis": {
            "gridcolor": "white",
            "linecolor": "white",
            "ticks": ""
           },
           "bgcolor": "#E5ECF6",
           "radialaxis": {
            "gridcolor": "white",
            "linecolor": "white",
            "ticks": ""
           }
          },
          "scene": {
           "xaxis": {
            "backgroundcolor": "#E5ECF6",
            "gridcolor": "white",
            "gridwidth": 2,
            "linecolor": "white",
            "showbackground": true,
            "ticks": "",
            "zerolinecolor": "white"
           },
           "yaxis": {
            "backgroundcolor": "#E5ECF6",
            "gridcolor": "white",
            "gridwidth": 2,
            "linecolor": "white",
            "showbackground": true,
            "ticks": "",
            "zerolinecolor": "white"
           },
           "zaxis": {
            "backgroundcolor": "#E5ECF6",
            "gridcolor": "white",
            "gridwidth": 2,
            "linecolor": "white",
            "showbackground": true,
            "ticks": "",
            "zerolinecolor": "white"
           }
          },
          "shapedefaults": {
           "line": {
            "color": "#2a3f5f"
           }
          },
          "ternary": {
           "aaxis": {
            "gridcolor": "white",
            "linecolor": "white",
            "ticks": ""
           },
           "baxis": {
            "gridcolor": "white",
            "linecolor": "white",
            "ticks": ""
           },
           "bgcolor": "#E5ECF6",
           "caxis": {
            "gridcolor": "white",
            "linecolor": "white",
            "ticks": ""
           }
          },
          "title": {
           "x": 0.05
          },
          "xaxis": {
           "automargin": true,
           "gridcolor": "white",
           "linecolor": "white",
           "ticks": "",
           "title": {
            "standoff": 15
           },
           "zerolinecolor": "white",
           "zerolinewidth": 2
          },
          "yaxis": {
           "automargin": true,
           "gridcolor": "white",
           "linecolor": "white",
           "ticks": "",
           "title": {
            "standoff": 15
           },
           "zerolinecolor": "white",
           "zerolinewidth": 2
          }
         }
        },
        "title": {
         "text": "Hyperparameter Importances"
        },
        "xaxis": {
         "title": {
          "text": "Hyperparameter Importance"
         }
        },
        "yaxis": {
         "title": {
          "text": "Hyperparameter"
         }
        }
       }
      }
     },
     "metadata": {},
     "output_type": "display_data"
    }
   ],
   "source": [
    "optuna.visualization.plot_param_importances(study_XGB_final)"
   ]
  },
  {
   "cell_type": "markdown",
   "id": "5a5eb816",
   "metadata": {},
   "source": [
    "Можно увидеть, что найденные гиперпараметры при помощи Optuna позволили увеличить значение метрики f1_macro с 0.56 до 0.66.  \n",
    "Данное значение можно считать хорошим, так данные в датасете являются очень несбалансированными и достичь каких-то   \n",
    "высоких значений достаточно тяжело.  \n",
    "Наиболее важным для предсказаний оказался гиперпараметр - *scale_pos_weight*, так как именно он отвечает за увеличение весов  \n",
    "предсказаний для объектов менее распространенного класса."
   ]
  },
  {
   "cell_type": "code",
   "execution_count": 100,
   "id": "11729492",
   "metadata": {},
   "outputs": [
    {
     "data": {
      "text/plain": [
       "{'max_depth': 9,\n",
       " 'learning_rate': 0.4142535996928089,\n",
       " 'n_estimators': 36,\n",
       " 'min_child_weight': 5,\n",
       " 'gamma': 4.2677778709826046e-08,\n",
       " 'subsample': 0.32786369479754196,\n",
       " 'colsample_bytree': 0.2516496916145146,\n",
       " 'reg_alpha': 0.00020977675567191852,\n",
       " 'reg_lambda': 0.005863419014015099,\n",
       " 'scale_pos_weight': 3}"
      ]
     },
     "execution_count": 100,
     "metadata": {},
     "output_type": "execute_result"
    }
   ],
   "source": [
    "study_XGB_final.best_params"
   ]
  },
  {
   "cell_type": "code",
   "execution_count": 101,
   "id": "d16d4403",
   "metadata": {},
   "outputs": [],
   "source": [
    "final_model = xgb.XGBClassifier(**study_XGB_final.best_params, random_state=42, eval_metric=f1_macro,\n",
    "                                  objective='binary:logistic',\n",
    "                                  enable_categorical=True)"
   ]
  },
  {
   "cell_type": "code",
   "execution_count": 102,
   "id": "561bdf5e",
   "metadata": {},
   "outputs": [
    {
     "data": {
      "text/html": [
       "<style>#sk-container-id-1 {color: black;background-color: white;}#sk-container-id-1 pre{padding: 0;}#sk-container-id-1 div.sk-toggleable {background-color: white;}#sk-container-id-1 label.sk-toggleable__label {cursor: pointer;display: block;width: 100%;margin-bottom: 0;padding: 0.3em;box-sizing: border-box;text-align: center;}#sk-container-id-1 label.sk-toggleable__label-arrow:before {content: \"▸\";float: left;margin-right: 0.25em;color: #696969;}#sk-container-id-1 label.sk-toggleable__label-arrow:hover:before {color: black;}#sk-container-id-1 div.sk-estimator:hover label.sk-toggleable__label-arrow:before {color: black;}#sk-container-id-1 div.sk-toggleable__content {max-height: 0;max-width: 0;overflow: hidden;text-align: left;background-color: #f0f8ff;}#sk-container-id-1 div.sk-toggleable__content pre {margin: 0.2em;color: black;border-radius: 0.25em;background-color: #f0f8ff;}#sk-container-id-1 input.sk-toggleable__control:checked~div.sk-toggleable__content {max-height: 200px;max-width: 100%;overflow: auto;}#sk-container-id-1 input.sk-toggleable__control:checked~label.sk-toggleable__label-arrow:before {content: \"▾\";}#sk-container-id-1 div.sk-estimator input.sk-toggleable__control:checked~label.sk-toggleable__label {background-color: #d4ebff;}#sk-container-id-1 div.sk-label input.sk-toggleable__control:checked~label.sk-toggleable__label {background-color: #d4ebff;}#sk-container-id-1 input.sk-hidden--visually {border: 0;clip: rect(1px 1px 1px 1px);clip: rect(1px, 1px, 1px, 1px);height: 1px;margin: -1px;overflow: hidden;padding: 0;position: absolute;width: 1px;}#sk-container-id-1 div.sk-estimator {font-family: monospace;background-color: #f0f8ff;border: 1px dotted black;border-radius: 0.25em;box-sizing: border-box;margin-bottom: 0.5em;}#sk-container-id-1 div.sk-estimator:hover {background-color: #d4ebff;}#sk-container-id-1 div.sk-parallel-item::after {content: \"\";width: 100%;border-bottom: 1px solid gray;flex-grow: 1;}#sk-container-id-1 div.sk-label:hover label.sk-toggleable__label {background-color: #d4ebff;}#sk-container-id-1 div.sk-serial::before {content: \"\";position: absolute;border-left: 1px solid gray;box-sizing: border-box;top: 0;bottom: 0;left: 50%;z-index: 0;}#sk-container-id-1 div.sk-serial {display: flex;flex-direction: column;align-items: center;background-color: white;padding-right: 0.2em;padding-left: 0.2em;position: relative;}#sk-container-id-1 div.sk-item {position: relative;z-index: 1;}#sk-container-id-1 div.sk-parallel {display: flex;align-items: stretch;justify-content: center;background-color: white;position: relative;}#sk-container-id-1 div.sk-item::before, #sk-container-id-1 div.sk-parallel-item::before {content: \"\";position: absolute;border-left: 1px solid gray;box-sizing: border-box;top: 0;bottom: 0;left: 50%;z-index: -1;}#sk-container-id-1 div.sk-parallel-item {display: flex;flex-direction: column;z-index: 1;position: relative;background-color: white;}#sk-container-id-1 div.sk-parallel-item:first-child::after {align-self: flex-end;width: 50%;}#sk-container-id-1 div.sk-parallel-item:last-child::after {align-self: flex-start;width: 50%;}#sk-container-id-1 div.sk-parallel-item:only-child::after {width: 0;}#sk-container-id-1 div.sk-dashed-wrapped {border: 1px dashed gray;margin: 0 0.4em 0.5em 0.4em;box-sizing: border-box;padding-bottom: 0.4em;background-color: white;}#sk-container-id-1 div.sk-label label {font-family: monospace;font-weight: bold;display: inline-block;line-height: 1.2em;}#sk-container-id-1 div.sk-label-container {text-align: center;}#sk-container-id-1 div.sk-container {/* jupyter's `normalize.less` sets `[hidden] { display: none; }` but bootstrap.min.css set `[hidden] { display: none !important; }` so we also need the `!important` here to be able to override the default hidden behavior on the sphinx rendered scikit-learn.org. See: https://github.com/scikit-learn/scikit-learn/issues/21755 */display: inline-block !important;position: relative;}#sk-container-id-1 div.sk-text-repr-fallback {display: none;}</style><div id=\"sk-container-id-1\" class=\"sk-top-container\"><div class=\"sk-text-repr-fallback\"><pre>XGBClassifier(base_score=None, booster=None, callbacks=None,\n",
       "              colsample_bylevel=None, colsample_bynode=None,\n",
       "              colsample_bytree=0.2516496916145146, device=None,\n",
       "              early_stopping_rounds=None, enable_categorical=True,\n",
       "              eval_metric=&lt;function f1_macro at 0x000001F1D8C32660&gt;,\n",
       "              feature_types=None, gamma=4.2677778709826046e-08,\n",
       "              grow_policy=None, importance_type=None,\n",
       "              interaction_constraints=None, learning_rate=0.4142535996928089,\n",
       "              max_bin=None, max_cat_threshold=None, max_cat_to_onehot=None,\n",
       "              max_delta_step=None, max_depth=9, max_leaves=None,\n",
       "              min_child_weight=5, missing=nan, monotone_constraints=None,\n",
       "              multi_strategy=None, n_estimators=36, n_jobs=None,\n",
       "              num_parallel_tree=None, random_state=42, ...)</pre><b>In a Jupyter environment, please rerun this cell to show the HTML representation or trust the notebook. <br />On GitHub, the HTML representation is unable to render, please try loading this page with nbviewer.org.</b></div><div class=\"sk-container\" hidden><div class=\"sk-item\"><div class=\"sk-estimator sk-toggleable\"><input class=\"sk-toggleable__control sk-hidden--visually\" id=\"sk-estimator-id-1\" type=\"checkbox\" checked><label for=\"sk-estimator-id-1\" class=\"sk-toggleable__label sk-toggleable__label-arrow\">XGBClassifier</label><div class=\"sk-toggleable__content\"><pre>XGBClassifier(base_score=None, booster=None, callbacks=None,\n",
       "              colsample_bylevel=None, colsample_bynode=None,\n",
       "              colsample_bytree=0.2516496916145146, device=None,\n",
       "              early_stopping_rounds=None, enable_categorical=True,\n",
       "              eval_metric=&lt;function f1_macro at 0x000001F1D8C32660&gt;,\n",
       "              feature_types=None, gamma=4.2677778709826046e-08,\n",
       "              grow_policy=None, importance_type=None,\n",
       "              interaction_constraints=None, learning_rate=0.4142535996928089,\n",
       "              max_bin=None, max_cat_threshold=None, max_cat_to_onehot=None,\n",
       "              max_delta_step=None, max_depth=9, max_leaves=None,\n",
       "              min_child_weight=5, missing=nan, monotone_constraints=None,\n",
       "              multi_strategy=None, n_estimators=36, n_jobs=None,\n",
       "              num_parallel_tree=None, random_state=42, ...)</pre></div></div></div></div></div>"
      ],
      "text/plain": [
       "XGBClassifier(base_score=None, booster=None, callbacks=None,\n",
       "              colsample_bylevel=None, colsample_bynode=None,\n",
       "              colsample_bytree=0.2516496916145146, device=None,\n",
       "              early_stopping_rounds=None, enable_categorical=True,\n",
       "              eval_metric=<function f1_macro at 0x000001F1D8C32660>,\n",
       "              feature_types=None, gamma=4.2677778709826046e-08,\n",
       "              grow_policy=None, importance_type=None,\n",
       "              interaction_constraints=None, learning_rate=0.4142535996928089,\n",
       "              max_bin=None, max_cat_threshold=None, max_cat_to_onehot=None,\n",
       "              max_delta_step=None, max_depth=9, max_leaves=None,\n",
       "              min_child_weight=5, missing=nan, monotone_constraints=None,\n",
       "              multi_strategy=None, n_estimators=36, n_jobs=None,\n",
       "              num_parallel_tree=None, random_state=42, ...)"
      ]
     },
     "execution_count": 102,
     "metadata": {},
     "output_type": "execute_result"
    }
   ],
   "source": [
    "final_model.fit(X, y)"
   ]
  },
  {
   "cell_type": "code",
   "execution_count": 103,
   "id": "030f3153",
   "metadata": {},
   "outputs": [],
   "source": [
    "X_public_test = public_test_temp\n",
    "X_private_test = private_test_temp"
   ]
  },
  {
   "cell_type": "code",
   "execution_count": 104,
   "id": "579d4b7b",
   "metadata": {},
   "outputs": [],
   "source": [
    "pred_public_test = np.round(final_model.predict(X_public_test))\n",
    "np.savetxt(\"submission_pub.csv\", pred_public_test, fmt=\"%d\", delimiter=\"\")"
   ]
  },
  {
   "cell_type": "code",
   "execution_count": 105,
   "id": "f36ace86",
   "metadata": {},
   "outputs": [],
   "source": [
    "pred_private_test = np.round(final_model.predict(X_private_test))\n",
    "np.savetxt(\"submission_pr.csv\", pred_private_test, fmt=\"%d\", delimiter=\"\")"
   ]
  },
  {
   "cell_type": "markdown",
   "id": "0f5af139",
   "metadata": {},
   "source": [
    "# Сохранение модели"
   ]
  },
  {
   "cell_type": "code",
   "execution_count": 106,
   "id": "dbf92e26",
   "metadata": {},
   "outputs": [
    {
     "data": {
      "text/plain": [
       "['final_model.joblib']"
      ]
     },
     "execution_count": 106,
     "metadata": {},
     "output_type": "execute_result"
    }
   ],
   "source": [
    "from joblib import dump\n",
    "\n",
    "dump(final_model, 'final_model.joblib')"
   ]
  }
 ],
 "metadata": {
  "kernelspec": {
   "display_name": "Python 3 (ipykernel)",
   "language": "python",
   "name": "python3"
  },
  "language_info": {
   "codemirror_mode": {
    "name": "ipython",
    "version": 3
   },
   "file_extension": ".py",
   "mimetype": "text/x-python",
   "name": "python",
   "nbconvert_exporter": "python",
   "pygments_lexer": "ipython3",
   "version": "3.11.7"
  }
 },
 "nbformat": 4,
 "nbformat_minor": 5
}
